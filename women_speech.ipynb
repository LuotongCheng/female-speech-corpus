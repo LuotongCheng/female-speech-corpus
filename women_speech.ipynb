{
 "cells": [
  {
   "cell_type": "markdown",
   "id": "e4857fac-2e12-4979-a01a-7e48ecd84c0f",
   "metadata": {},
   "source": [
    "# Notebook for Analysis and Annotations\n",
    "## Exploring the Power of Female American Political Speeches in the 20th Century\n",
    "Female American political speeches of the 20th century have played a crucial role in shaping political discourse, challenging gender norms, and contributing to gender equality. This research aims to analyze and explore the most significant speeches by female political figures during this era.\n",
    "\n",
    "What are the key semantic features present in these speeches?\n",
    "What were the popular political topics during the 20th century?\n",
    "How did these speeches by females contribute to shaping political discourse?\n",
    "What role did these speeches play in advancing women's rights and influencing societal change?"
   ]
  },
  {
   "cell_type": "markdown",
   "id": "3696ab6f-7085-49ad-b08a-ffffe536000f",
   "metadata": {},
   "source": [
    "## Installing, Importing and Preprocessing spaCy"
   ]
  },
  {
   "cell_type": "code",
   "execution_count": 97,
   "id": "4709148c-da1c-4f29-83bf-bbe767ebd58a",
   "metadata": {},
   "outputs": [
    {
     "name": "stdout",
     "output_type": "stream",
     "text": [
      "Requirement already satisfied: spaCy in /Users/chengluotong/anaconda3/lib/python3.11/site-packages (3.7.2)\n",
      "Requirement already satisfied: spacy-legacy<3.1.0,>=3.0.11 in /Users/chengluotong/anaconda3/lib/python3.11/site-packages (from spaCy) (3.0.12)\n",
      "Requirement already satisfied: spacy-loggers<2.0.0,>=1.0.0 in /Users/chengluotong/anaconda3/lib/python3.11/site-packages (from spaCy) (1.0.5)\n",
      "Requirement already satisfied: murmurhash<1.1.0,>=0.28.0 in /Users/chengluotong/anaconda3/lib/python3.11/site-packages (from spaCy) (1.0.10)\n",
      "Requirement already satisfied: cymem<2.1.0,>=2.0.2 in /Users/chengluotong/anaconda3/lib/python3.11/site-packages (from spaCy) (2.0.8)\n",
      "Requirement already satisfied: preshed<3.1.0,>=3.0.2 in /Users/chengluotong/anaconda3/lib/python3.11/site-packages (from spaCy) (3.0.9)\n",
      "Requirement already satisfied: thinc<8.3.0,>=8.1.8 in /Users/chengluotong/anaconda3/lib/python3.11/site-packages (from spaCy) (8.2.1)\n",
      "Requirement already satisfied: wasabi<1.2.0,>=0.9.1 in /Users/chengluotong/anaconda3/lib/python3.11/site-packages (from spaCy) (1.1.2)\n",
      "Requirement already satisfied: srsly<3.0.0,>=2.4.3 in /Users/chengluotong/anaconda3/lib/python3.11/site-packages (from spaCy) (2.4.8)\n",
      "Requirement already satisfied: catalogue<2.1.0,>=2.0.6 in /Users/chengluotong/anaconda3/lib/python3.11/site-packages (from spaCy) (2.0.10)\n",
      "Requirement already satisfied: weasel<0.4.0,>=0.1.0 in /Users/chengluotong/anaconda3/lib/python3.11/site-packages (from spaCy) (0.3.4)\n",
      "Requirement already satisfied: typer<0.10.0,>=0.3.0 in /Users/chengluotong/anaconda3/lib/python3.11/site-packages (from spaCy) (0.9.0)\n",
      "Requirement already satisfied: smart-open<7.0.0,>=5.2.1 in /Users/chengluotong/anaconda3/lib/python3.11/site-packages (from spaCy) (5.2.1)\n",
      "Requirement already satisfied: tqdm<5.0.0,>=4.38.0 in /Users/chengluotong/anaconda3/lib/python3.11/site-packages (from spaCy) (4.65.0)\n",
      "Requirement already satisfied: requests<3.0.0,>=2.13.0 in /Users/chengluotong/anaconda3/lib/python3.11/site-packages (from spaCy) (2.31.0)\n",
      "Requirement already satisfied: pydantic!=1.8,!=1.8.1,<3.0.0,>=1.7.4 in /Users/chengluotong/anaconda3/lib/python3.11/site-packages (from spaCy) (1.10.12)\n",
      "Requirement already satisfied: jinja2 in /Users/chengluotong/anaconda3/lib/python3.11/site-packages (from spaCy) (3.1.2)\n",
      "Requirement already satisfied: setuptools in /Users/chengluotong/anaconda3/lib/python3.11/site-packages (from spaCy) (68.0.0)\n",
      "Requirement already satisfied: packaging>=20.0 in /Users/chengluotong/anaconda3/lib/python3.11/site-packages (from spaCy) (23.1)\n",
      "Requirement already satisfied: langcodes<4.0.0,>=3.2.0 in /Users/chengluotong/anaconda3/lib/python3.11/site-packages (from spaCy) (3.3.0)\n",
      "Requirement already satisfied: numpy>=1.19.0 in /Users/chengluotong/anaconda3/lib/python3.11/site-packages (from spaCy) (1.26.2)\n",
      "Requirement already satisfied: typing-extensions>=4.2.0 in /Users/chengluotong/anaconda3/lib/python3.11/site-packages (from pydantic!=1.8,!=1.8.1,<3.0.0,>=1.7.4->spaCy) (4.7.1)\n",
      "Requirement already satisfied: charset-normalizer<4,>=2 in /Users/chengluotong/anaconda3/lib/python3.11/site-packages (from requests<3.0.0,>=2.13.0->spaCy) (2.0.4)\n",
      "Requirement already satisfied: idna<4,>=2.5 in /Users/chengluotong/anaconda3/lib/python3.11/site-packages (from requests<3.0.0,>=2.13.0->spaCy) (3.4)\n",
      "Requirement already satisfied: urllib3<3,>=1.21.1 in /Users/chengluotong/anaconda3/lib/python3.11/site-packages (from requests<3.0.0,>=2.13.0->spaCy) (1.26.18)\n",
      "Requirement already satisfied: certifi>=2017.4.17 in /Users/chengluotong/anaconda3/lib/python3.11/site-packages (from requests<3.0.0,>=2.13.0->spaCy) (2023.11.17)\n",
      "Requirement already satisfied: blis<0.8.0,>=0.7.8 in /Users/chengluotong/anaconda3/lib/python3.11/site-packages (from thinc<8.3.0,>=8.1.8->spaCy) (0.7.11)\n",
      "Requirement already satisfied: confection<1.0.0,>=0.0.1 in /Users/chengluotong/anaconda3/lib/python3.11/site-packages (from thinc<8.3.0,>=8.1.8->spaCy) (0.1.4)\n",
      "Requirement already satisfied: click<9.0.0,>=7.1.1 in /Users/chengluotong/anaconda3/lib/python3.11/site-packages (from typer<0.10.0,>=0.3.0->spaCy) (8.1.7)\n",
      "Requirement already satisfied: cloudpathlib<0.17.0,>=0.7.0 in /Users/chengluotong/anaconda3/lib/python3.11/site-packages (from weasel<0.4.0,>=0.1.0->spaCy) (0.16.0)\n",
      "Requirement already satisfied: MarkupSafe>=2.0 in /Users/chengluotong/anaconda3/lib/python3.11/site-packages (from jinja2->spaCy) (2.1.1)\n",
      "Requirement already satisfied: plotly in /Users/chengluotong/anaconda3/lib/python3.11/site-packages (5.9.0)\n",
      "Requirement already satisfied: tenacity>=6.2.0 in /Users/chengluotong/anaconda3/lib/python3.11/site-packages (from plotly) (8.2.2)\n",
      "Requirement already satisfied: nbformat==5.1.2 in /Users/chengluotong/anaconda3/lib/python3.11/site-packages (5.1.2)\n",
      "Requirement already satisfied: ipython-genutils in /Users/chengluotong/anaconda3/lib/python3.11/site-packages (from nbformat==5.1.2) (0.2.0)\n",
      "Requirement already satisfied: traitlets>=4.1 in /Users/chengluotong/anaconda3/lib/python3.11/site-packages (from nbformat==5.1.2) (5.7.1)\n",
      "Requirement already satisfied: jsonschema!=2.5.0,>=2.4 in /Users/chengluotong/anaconda3/lib/python3.11/site-packages (from nbformat==5.1.2) (4.19.2)\n",
      "Requirement already satisfied: jupyter-core in /Users/chengluotong/anaconda3/lib/python3.11/site-packages (from nbformat==5.1.2) (5.5.0)\n",
      "Requirement already satisfied: attrs>=22.2.0 in /Users/chengluotong/anaconda3/lib/python3.11/site-packages (from jsonschema!=2.5.0,>=2.4->nbformat==5.1.2) (23.1.0)\n",
      "Requirement already satisfied: jsonschema-specifications>=2023.03.6 in /Users/chengluotong/anaconda3/lib/python3.11/site-packages (from jsonschema!=2.5.0,>=2.4->nbformat==5.1.2) (2023.7.1)\n",
      "Requirement already satisfied: referencing>=0.28.4 in /Users/chengluotong/anaconda3/lib/python3.11/site-packages (from jsonschema!=2.5.0,>=2.4->nbformat==5.1.2) (0.30.2)\n",
      "Requirement already satisfied: rpds-py>=0.7.1 in /Users/chengluotong/anaconda3/lib/python3.11/site-packages (from jsonschema!=2.5.0,>=2.4->nbformat==5.1.2) (0.10.6)\n",
      "Requirement already satisfied: platformdirs>=2.5 in /Users/chengluotong/anaconda3/lib/python3.11/site-packages (from jupyter-core->nbformat==5.1.2) (3.10.0)\n"
     ]
    }
   ],
   "source": [
    "# Install and import spacy and plotly.\n",
    "!pip install spaCy\n",
    "!pip install plotly\n",
    "!pip install nbformat==5.1.2"
   ]
  },
  {
   "cell_type": "code",
   "execution_count": 98,
   "id": "3af52ad9-bae2-426d-879d-45fde9a65ba1",
   "metadata": {},
   "outputs": [
    {
     "name": "stdout",
     "output_type": "stream",
     "text": [
      "Collecting en-core-web-sm==3.7.1\n",
      "  Downloading https://github.com/explosion/spacy-models/releases/download/en_core_web_sm-3.7.1/en_core_web_sm-3.7.1-py3-none-any.whl (12.8 MB)\n",
      "\u001b[2K     \u001b[90m━━━━━━━━━━━━━━━━━━━━━━━━━━━━━━━━━━━━━━━━\u001b[0m \u001b[32m12.8/12.8 MB\u001b[0m \u001b[31m14.6 MB/s\u001b[0m eta \u001b[36m0:00:00\u001b[0m00:01\u001b[0m00:01\u001b[0m\n",
      "\u001b[?25hRequirement already satisfied: spacy<3.8.0,>=3.7.2 in /Users/chengluotong/anaconda3/lib/python3.11/site-packages (from en-core-web-sm==3.7.1) (3.7.2)\n",
      "Requirement already satisfied: spacy-legacy<3.1.0,>=3.0.11 in /Users/chengluotong/anaconda3/lib/python3.11/site-packages (from spacy<3.8.0,>=3.7.2->en-core-web-sm==3.7.1) (3.0.12)\n",
      "Requirement already satisfied: spacy-loggers<2.0.0,>=1.0.0 in /Users/chengluotong/anaconda3/lib/python3.11/site-packages (from spacy<3.8.0,>=3.7.2->en-core-web-sm==3.7.1) (1.0.5)\n",
      "Requirement already satisfied: murmurhash<1.1.0,>=0.28.0 in /Users/chengluotong/anaconda3/lib/python3.11/site-packages (from spacy<3.8.0,>=3.7.2->en-core-web-sm==3.7.1) (1.0.10)\n",
      "Requirement already satisfied: cymem<2.1.0,>=2.0.2 in /Users/chengluotong/anaconda3/lib/python3.11/site-packages (from spacy<3.8.0,>=3.7.2->en-core-web-sm==3.7.1) (2.0.8)\n",
      "Requirement already satisfied: preshed<3.1.0,>=3.0.2 in /Users/chengluotong/anaconda3/lib/python3.11/site-packages (from spacy<3.8.0,>=3.7.2->en-core-web-sm==3.7.1) (3.0.9)\n",
      "Requirement already satisfied: thinc<8.3.0,>=8.1.8 in /Users/chengluotong/anaconda3/lib/python3.11/site-packages (from spacy<3.8.0,>=3.7.2->en-core-web-sm==3.7.1) (8.2.1)\n",
      "Requirement already satisfied: wasabi<1.2.0,>=0.9.1 in /Users/chengluotong/anaconda3/lib/python3.11/site-packages (from spacy<3.8.0,>=3.7.2->en-core-web-sm==3.7.1) (1.1.2)\n",
      "Requirement already satisfied: srsly<3.0.0,>=2.4.3 in /Users/chengluotong/anaconda3/lib/python3.11/site-packages (from spacy<3.8.0,>=3.7.2->en-core-web-sm==3.7.1) (2.4.8)\n",
      "Requirement already satisfied: catalogue<2.1.0,>=2.0.6 in /Users/chengluotong/anaconda3/lib/python3.11/site-packages (from spacy<3.8.0,>=3.7.2->en-core-web-sm==3.7.1) (2.0.10)\n",
      "Requirement already satisfied: weasel<0.4.0,>=0.1.0 in /Users/chengluotong/anaconda3/lib/python3.11/site-packages (from spacy<3.8.0,>=3.7.2->en-core-web-sm==3.7.1) (0.3.4)\n",
      "Requirement already satisfied: typer<0.10.0,>=0.3.0 in /Users/chengluotong/anaconda3/lib/python3.11/site-packages (from spacy<3.8.0,>=3.7.2->en-core-web-sm==3.7.1) (0.9.0)\n",
      "Requirement already satisfied: smart-open<7.0.0,>=5.2.1 in /Users/chengluotong/anaconda3/lib/python3.11/site-packages (from spacy<3.8.0,>=3.7.2->en-core-web-sm==3.7.1) (5.2.1)\n",
      "Requirement already satisfied: tqdm<5.0.0,>=4.38.0 in /Users/chengluotong/anaconda3/lib/python3.11/site-packages (from spacy<3.8.0,>=3.7.2->en-core-web-sm==3.7.1) (4.65.0)\n",
      "Requirement already satisfied: requests<3.0.0,>=2.13.0 in /Users/chengluotong/anaconda3/lib/python3.11/site-packages (from spacy<3.8.0,>=3.7.2->en-core-web-sm==3.7.1) (2.31.0)\n",
      "Requirement already satisfied: pydantic!=1.8,!=1.8.1,<3.0.0,>=1.7.4 in /Users/chengluotong/anaconda3/lib/python3.11/site-packages (from spacy<3.8.0,>=3.7.2->en-core-web-sm==3.7.1) (1.10.12)\n",
      "Requirement already satisfied: jinja2 in /Users/chengluotong/anaconda3/lib/python3.11/site-packages (from spacy<3.8.0,>=3.7.2->en-core-web-sm==3.7.1) (3.1.2)\n",
      "Requirement already satisfied: setuptools in /Users/chengluotong/anaconda3/lib/python3.11/site-packages (from spacy<3.8.0,>=3.7.2->en-core-web-sm==3.7.1) (68.0.0)\n",
      "Requirement already satisfied: packaging>=20.0 in /Users/chengluotong/anaconda3/lib/python3.11/site-packages (from spacy<3.8.0,>=3.7.2->en-core-web-sm==3.7.1) (23.1)\n",
      "Requirement already satisfied: langcodes<4.0.0,>=3.2.0 in /Users/chengluotong/anaconda3/lib/python3.11/site-packages (from spacy<3.8.0,>=3.7.2->en-core-web-sm==3.7.1) (3.3.0)\n",
      "Requirement already satisfied: numpy>=1.19.0 in /Users/chengluotong/anaconda3/lib/python3.11/site-packages (from spacy<3.8.0,>=3.7.2->en-core-web-sm==3.7.1) (1.26.2)\n",
      "Requirement already satisfied: typing-extensions>=4.2.0 in /Users/chengluotong/anaconda3/lib/python3.11/site-packages (from pydantic!=1.8,!=1.8.1,<3.0.0,>=1.7.4->spacy<3.8.0,>=3.7.2->en-core-web-sm==3.7.1) (4.7.1)\n",
      "Requirement already satisfied: charset-normalizer<4,>=2 in /Users/chengluotong/anaconda3/lib/python3.11/site-packages (from requests<3.0.0,>=2.13.0->spacy<3.8.0,>=3.7.2->en-core-web-sm==3.7.1) (2.0.4)\n",
      "Requirement already satisfied: idna<4,>=2.5 in /Users/chengluotong/anaconda3/lib/python3.11/site-packages (from requests<3.0.0,>=2.13.0->spacy<3.8.0,>=3.7.2->en-core-web-sm==3.7.1) (3.4)\n",
      "Requirement already satisfied: urllib3<3,>=1.21.1 in /Users/chengluotong/anaconda3/lib/python3.11/site-packages (from requests<3.0.0,>=2.13.0->spacy<3.8.0,>=3.7.2->en-core-web-sm==3.7.1) (1.26.18)\n",
      "Requirement already satisfied: certifi>=2017.4.17 in /Users/chengluotong/anaconda3/lib/python3.11/site-packages (from requests<3.0.0,>=2.13.0->spacy<3.8.0,>=3.7.2->en-core-web-sm==3.7.1) (2023.11.17)\n",
      "Requirement already satisfied: blis<0.8.0,>=0.7.8 in /Users/chengluotong/anaconda3/lib/python3.11/site-packages (from thinc<8.3.0,>=8.1.8->spacy<3.8.0,>=3.7.2->en-core-web-sm==3.7.1) (0.7.11)\n",
      "Requirement already satisfied: confection<1.0.0,>=0.0.1 in /Users/chengluotong/anaconda3/lib/python3.11/site-packages (from thinc<8.3.0,>=8.1.8->spacy<3.8.0,>=3.7.2->en-core-web-sm==3.7.1) (0.1.4)\n",
      "Requirement already satisfied: click<9.0.0,>=7.1.1 in /Users/chengluotong/anaconda3/lib/python3.11/site-packages (from typer<0.10.0,>=0.3.0->spacy<3.8.0,>=3.7.2->en-core-web-sm==3.7.1) (8.1.7)\n",
      "Requirement already satisfied: cloudpathlib<0.17.0,>=0.7.0 in /Users/chengluotong/anaconda3/lib/python3.11/site-packages (from weasel<0.4.0,>=0.1.0->spacy<3.8.0,>=3.7.2->en-core-web-sm==3.7.1) (0.16.0)\n",
      "Requirement already satisfied: MarkupSafe>=2.0 in /Users/chengluotong/anaconda3/lib/python3.11/site-packages (from jinja2->spacy<3.8.0,>=3.7.2->en-core-web-sm==3.7.1) (2.1.1)\n",
      "\u001b[38;5;2m✔ Download and installation successful\u001b[0m\n",
      "You can now load the package via spacy.load('en_core_web_sm')\n"
     ]
    }
   ],
   "source": [
    "# Import spacy\n",
    "import spacy\n",
    "\n",
    "# Install English language model\n",
    "!spacy download en_core_web_sm\n",
    "\n",
    "# Import os to upload documents and metadata\n",
    "import os\n",
    "\n",
    "# Load spaCy visualizer\n",
    "from spacy import displacy\n",
    "\n",
    "from spacy.matcher import Matcher\n",
    "\n",
    "# Import pandas DataFrame packages\n",
    "import pandas as pd\n",
    "pd.options.mode.chained_assignment = None  # default='warn'\n",
    "\n",
    "# Import graphing package\n",
    "import plotly.graph_objects as go\n",
    "import plotly.express as px"
   ]
  },
  {
   "cell_type": "code",
   "execution_count": 99,
   "id": "63ef877a-ecf7-4703-b7f0-7b254e0d4c06",
   "metadata": {},
   "outputs": [
    {
     "name": "stdout",
     "output_type": "stream",
     "text": [
      "['tok2vec', 'tagger', 'parser', 'attribute_ruler', 'lemmatizer', 'ner']\n"
     ]
    }
   ],
   "source": [
    "# Load nlp pipeline\n",
    "nlp = spacy.load('en_core_web_sm')\n",
    "\n",
    "# Check what functions it performs\n",
    "print(nlp.pipe_names)"
   ]
  },
  {
   "cell_type": "markdown",
   "id": "59727690-2c82-43e8-9476-548f83174119",
   "metadata": {},
   "source": [
    "## Importing necessary libraries"
   ]
  },
  {
   "cell_type": "code",
   "execution_count": 100,
   "id": "0472f230-398c-4457-b4a5-820510f54df8",
   "metadata": {},
   "outputs": [],
   "source": [
    "import pandas as pd\n",
    "import requests\n",
    "from bs4 import BeautifulSoup\n",
    "from datetime import datetime\n",
    "from urllib.parse import urljoin\n",
    "import re\n",
    "import string\n",
    "import nltk\n",
    "import string \n",
    "from collections import Counter\n",
    "import nltk\n",
    "import string \n",
    "from nltk.corpus import stopwords\n",
    "import csv"
   ]
  },
  {
   "cell_type": "code",
   "execution_count": 101,
   "id": "1fb68281-3119-46bc-931e-beb66b97550f",
   "metadata": {},
   "outputs": [],
   "source": [
    "# display all columns\n",
    "pd.set_option('display.max_columns', None)"
   ]
  },
  {
   "cell_type": "markdown",
   "id": "d10346fc-ebc4-47ed-b844-142f854bf9a0",
   "metadata": {},
   "source": [
    "## Load metadata"
   ]
  },
  {
   "cell_type": "code",
   "execution_count": 102,
   "id": "1fcae489-4d5a-438c-9c4f-0844d829a9ba",
   "metadata": {},
   "outputs": [],
   "source": [
    "women_speech = pd.read_csv('women_speech.csv')"
   ]
  },
  {
   "cell_type": "code",
   "execution_count": 103,
   "id": "8b11397f-8327-485b-8792-f13dc51f6a59",
   "metadata": {},
   "outputs": [
    {
     "data": {
      "text/html": [
       "<div>\n",
       "<style scoped>\n",
       "    .dataframe tbody tr th:only-of-type {\n",
       "        vertical-align: middle;\n",
       "    }\n",
       "\n",
       "    .dataframe tbody tr th {\n",
       "        vertical-align: top;\n",
       "    }\n",
       "\n",
       "    .dataframe thead th {\n",
       "        text-align: right;\n",
       "    }\n",
       "</style>\n",
       "<table border=\"1\" class=\"dataframe\">\n",
       "  <thead>\n",
       "    <tr style=\"text-align: right;\">\n",
       "      <th></th>\n",
       "      <th>Title</th>\n",
       "      <th>Speaker</th>\n",
       "      <th>Year</th>\n",
       "      <th>Transcript</th>\n",
       "    </tr>\n",
       "  </thead>\n",
       "  <tbody>\n",
       "    <tr>\n",
       "      <th>0</th>\n",
       "      <td>1976 Democratic National Convention Keynote Ad...</td>\n",
       "      <td>Barbara Charline Jordan</td>\n",
       "      <td>1976</td>\n",
       "      <td>Thank you ladies and gentlemen for a very warm...</td>\n",
       "    </tr>\n",
       "    <tr>\n",
       "      <th>1</th>\n",
       "      <td>Statement on House Judiciary Proceedings to Im...</td>\n",
       "      <td>Barbara Charline Jordan</td>\n",
       "      <td>1974</td>\n",
       "      <td>Thank you, Mr. Chairman. Mr. Chairman, I join ...</td>\n",
       "    </tr>\n",
       "    <tr>\n",
       "      <th>2</th>\n",
       "      <td>The Fundamental Principle of a Republic</td>\n",
       "      <td>Anna Howard Shaw</td>\n",
       "      <td>1915</td>\n",
       "      <td>When I came into your hall tonight, I thought ...</td>\n",
       "    </tr>\n",
       "    <tr>\n",
       "      <th>3</th>\n",
       "      <td>United Nations 4th World Conference Speech Wo...</td>\n",
       "      <td>Hillary Rodham Clinton</td>\n",
       "      <td>1995</td>\n",
       "      <td>Thank you very much, Gertrude Mongella, for yo...</td>\n",
       "    </tr>\n",
       "    <tr>\n",
       "      <th>4</th>\n",
       "      <td>Democratic National Convention Keynote Address</td>\n",
       "      <td>Ann Richards</td>\n",
       "      <td>1988</td>\n",
       "      <td>Thank you, very much. Good evening, ladies and...</td>\n",
       "    </tr>\n",
       "    <tr>\n",
       "      <th>5</th>\n",
       "      <td>Declaration of Conscience</td>\n",
       "      <td>Margaret Chase Smith</td>\n",
       "      <td>1950</td>\n",
       "      <td>r. President: I would like to speak briefly an...</td>\n",
       "    </tr>\n",
       "    <tr>\n",
       "      <th>6</th>\n",
       "      <td>Wellesley College Commencement Speech</td>\n",
       "      <td>Barbara Pierce Bush</td>\n",
       "      <td>1990</td>\n",
       "      <td>Thank you very, very much,President Keohane. M...</td>\n",
       "    </tr>\n",
       "    <tr>\n",
       "      <th>7</th>\n",
       "      <td>1992 Republican National Convention Address A...</td>\n",
       "      <td>MaryFisher</td>\n",
       "      <td>1992</td>\n",
       "      <td>Less than three months ago at platform hearing...</td>\n",
       "    </tr>\n",
       "    <tr>\n",
       "      <th>8</th>\n",
       "      <td>The Struggle for Human Rights</td>\n",
       "      <td>Eleanor Roosevelt</td>\n",
       "      <td>1948</td>\n",
       "      <td>I have come this evening to talk with you on o...</td>\n",
       "    </tr>\n",
       "    <tr>\n",
       "      <th>9</th>\n",
       "      <td>1984 Vice Presidential Nomination Acceptance A...</td>\n",
       "      <td>Geraldine Ferraro</td>\n",
       "      <td>1984</td>\n",
       "      <td>Ladies and gentlemen of the convention: My nam...</td>\n",
       "    </tr>\n",
       "    <tr>\n",
       "      <th>10</th>\n",
       "      <td>Address to the Jury</td>\n",
       "      <td>Emma Goldman</td>\n",
       "      <td>1917</td>\n",
       "      <td>Gentlemen of the Jury: As in the case of my co...</td>\n",
       "    </tr>\n",
       "    <tr>\n",
       "      <th>11</th>\n",
       "      <td>The Crisis</td>\n",
       "      <td>Carrie Chapman Catt</td>\n",
       "      <td>1916</td>\n",
       "      <td>I have taken for my subject, \"The Crisis,\" bec...</td>\n",
       "    </tr>\n",
       "    <tr>\n",
       "      <th>12</th>\n",
       "      <td>Opening Statement to Senate Judiciary Committe...</td>\n",
       "      <td>Anita Hill</td>\n",
       "      <td>1991</td>\n",
       "      <td>Ms. Hill: Mr. Chairman, Senator Thurmond, memb...</td>\n",
       "    </tr>\n",
       "    <tr>\n",
       "      <th>13</th>\n",
       "      <td>Address to Congress on Womens Suffrage</td>\n",
       "      <td>Carrie Chapman Catt</td>\n",
       "      <td>1917</td>\n",
       "      <td>Woman suffrage is inevitable. Suffragists knew...</td>\n",
       "    </tr>\n",
       "    <tr>\n",
       "      <th>14</th>\n",
       "      <td>1992 Democratic National Convention Address</td>\n",
       "      <td>Elizabeth Glaser</td>\n",
       "      <td>1992</td>\n",
       "      <td>I'm Elizabeth Glaser. Eleven years ago, while ...</td>\n",
       "    </tr>\n",
       "    <tr>\n",
       "      <th>15</th>\n",
       "      <td>The Childrens Era Speech</td>\n",
       "      <td>Margaret Sanger</td>\n",
       "      <td>1925</td>\n",
       "      <td>Mr. Chairman, Ladies and Gentlemen: My subject...</td>\n",
       "    </tr>\n",
       "    <tr>\n",
       "      <th>16</th>\n",
       "      <td>A LeftHanded Commencement Address</td>\n",
       "      <td>Ursula K. Le Guin</td>\n",
       "      <td>1983</td>\n",
       "      <td>I want to thank the Mills College Class of '83...</td>\n",
       "    </tr>\n",
       "    <tr>\n",
       "      <th>17</th>\n",
       "      <td>Statement at the Smith Act Trial</td>\n",
       "      <td>Elizabeth Gurley Flynn</td>\n",
       "      <td>1952</td>\n",
       "      <td>Your Honor, ladies and gentlemen, myname is El...</td>\n",
       "    </tr>\n",
       "    <tr>\n",
       "      <th>18</th>\n",
       "      <td>For the Equal Rights Amendment Aug 10 1970</td>\n",
       "      <td>Shirley Anita St. Hill Chisholm</td>\n",
       "      <td>1970</td>\n",
       "      <td>Mr. Speaker, House Joint Resolution 264, befor...</td>\n",
       "    </tr>\n",
       "    <tr>\n",
       "      <th>19</th>\n",
       "      <td>On the Adoption of the Universal Declaration ...</td>\n",
       "      <td>Eleanor Roosevelt</td>\n",
       "      <td>1948</td>\n",
       "      <td>Mr. President, fellow delegates: The long and ...</td>\n",
       "    </tr>\n",
       "  </tbody>\n",
       "</table>\n",
       "</div>"
      ],
      "text/plain": [
       "                                                Title  \\\n",
       "0   1976 Democratic National Convention Keynote Ad...   \n",
       "1   Statement on House Judiciary Proceedings to Im...   \n",
       "2             The Fundamental Principle of a Republic   \n",
       "3    United Nations 4th World Conference Speech Wo...   \n",
       "4      Democratic National Convention Keynote Address   \n",
       "5                           Declaration of Conscience   \n",
       "6               Wellesley College Commencement Speech   \n",
       "7    1992 Republican National Convention Address A...   \n",
       "8                       The Struggle for Human Rights   \n",
       "9   1984 Vice Presidential Nomination Acceptance A...   \n",
       "10                                Address to the Jury   \n",
       "11                                         The Crisis   \n",
       "12  Opening Statement to Senate Judiciary Committe...   \n",
       "13             Address to Congress on Womens Suffrage   \n",
       "14        1992 Democratic National Convention Address   \n",
       "15                           The Childrens Era Speech   \n",
       "16                  A LeftHanded Commencement Address   \n",
       "17                   Statement at the Smith Act Trial   \n",
       "18         For the Equal Rights Amendment Aug 10 1970   \n",
       "19   On the Adoption of the Universal Declaration ...   \n",
       "\n",
       "                            Speaker  Year  \\\n",
       "0           Barbara Charline Jordan  1976   \n",
       "1           Barbara Charline Jordan  1974   \n",
       "2                  Anna Howard Shaw  1915   \n",
       "3            Hillary Rodham Clinton  1995   \n",
       "4                      Ann Richards  1988   \n",
       "5              Margaret Chase Smith  1950   \n",
       "6               Barbara Pierce Bush  1990   \n",
       "7                        MaryFisher  1992   \n",
       "8                 Eleanor Roosevelt  1948   \n",
       "9                 Geraldine Ferraro  1984   \n",
       "10                     Emma Goldman  1917   \n",
       "11              Carrie Chapman Catt  1916   \n",
       "12                       Anita Hill  1991   \n",
       "13              Carrie Chapman Catt  1917   \n",
       "14                 Elizabeth Glaser  1992   \n",
       "15                  Margaret Sanger  1925   \n",
       "16                Ursula K. Le Guin  1983   \n",
       "17           Elizabeth Gurley Flynn  1952   \n",
       "18  Shirley Anita St. Hill Chisholm  1970   \n",
       "19                Eleanor Roosevelt  1948   \n",
       "\n",
       "                                           Transcript  \n",
       "0   Thank you ladies and gentlemen for a very warm...  \n",
       "1   Thank you, Mr. Chairman. Mr. Chairman, I join ...  \n",
       "2   When I came into your hall tonight, I thought ...  \n",
       "3   Thank you very much, Gertrude Mongella, for yo...  \n",
       "4   Thank you, very much. Good evening, ladies and...  \n",
       "5   r. President: I would like to speak briefly an...  \n",
       "6   Thank you very, very much,President Keohane. M...  \n",
       "7   Less than three months ago at platform hearing...  \n",
       "8   I have come this evening to talk with you on o...  \n",
       "9   Ladies and gentlemen of the convention: My nam...  \n",
       "10  Gentlemen of the Jury: As in the case of my co...  \n",
       "11  I have taken for my subject, \"The Crisis,\" bec...  \n",
       "12  Ms. Hill: Mr. Chairman, Senator Thurmond, memb...  \n",
       "13  Woman suffrage is inevitable. Suffragists knew...  \n",
       "14  I'm Elizabeth Glaser. Eleven years ago, while ...  \n",
       "15  Mr. Chairman, Ladies and Gentlemen: My subject...  \n",
       "16  I want to thank the Mills College Class of '83...  \n",
       "17  Your Honor, ladies and gentlemen, myname is El...  \n",
       "18  Mr. Speaker, House Joint Resolution 264, befor...  \n",
       "19  Mr. President, fellow delegates: The long and ...  "
      ]
     },
     "execution_count": 103,
     "metadata": {},
     "output_type": "execute_result"
    }
   ],
   "source": [
    "women_speech"
   ]
  },
  {
   "cell_type": "markdown",
   "id": "65284fe6-1e46-438d-a5d6-76bd7af93d58",
   "metadata": {},
   "source": [
    "## Clean the data"
   ]
  },
  {
   "cell_type": "code",
   "execution_count": 104,
   "id": "3b7f5c9f-427e-4597-bd5b-d3e44973fca4",
   "metadata": {},
   "outputs": [],
   "source": [
    "# We define a function to remove non-alphanumeric characters, newlines, carriage returns, and multiple consecutive spaces.\n",
    "def clean_text(text):\n",
    "    # Remove non-alphanumeric characters\n",
    "    cleaned_text = re.sub(r'[^a-zA-Z0-9\\s]', '', text)\n",
    "    # Remove newlines and carriage returns\n",
    "    cleaned_text = cleaned_text.replace('\\n', '').replace('\\r', '')\n",
    "    # Remove multiple consecutive spaces\n",
    "    cleaned_text = re.sub(r'\\s+', ' ', cleaned_text)\n",
    "    return cleaned_text\n",
    "# Then, we apply the cleaning function to a DataFrame column (Transcript)\n",
    "women_speech['clean_transcript'] = women_speech['Transcript'].apply(clean_text)"
   ]
  },
  {
   "cell_type": "markdown",
   "id": "02d0c814-8679-4821-9847-c3b0d54a8278",
   "metadata": {},
   "source": [
    "## Runs the nlp pipeline"
   ]
  },
  {
   "cell_type": "code",
   "execution_count": 105,
   "id": "d0fba085-6a56-4d55-bccc-b187cb0140d3",
   "metadata": {},
   "outputs": [],
   "source": [
    "# Define a function that runs the nlp pipeline on any given input text\n",
    "def process_text(text):\n",
    "    return nlp(text)"
   ]
  },
  {
   "cell_type": "code",
   "execution_count": 106,
   "id": "77b8be91-30f5-4c7c-944d-0ddf00ff2b3e",
   "metadata": {},
   "outputs": [],
   "source": [
    "# Apply the function to the \"Transcript\" column, so that the nlp pipeline is called on each speech\n",
    "women_speech['Doc'] = women_speech['clean_transcript'].apply(process_text)"
   ]
  },
  {
   "cell_type": "markdown",
   "id": "858a793f-a80f-4ddf-939b-7ea4fb772297",
   "metadata": {},
   "source": [
    "## Text reduction - Tokenization"
   ]
  },
  {
   "cell_type": "code",
   "execution_count": 107,
   "id": "34793f36-cd93-4e15-a66e-3ec8f0f8ec44",
   "metadata": {},
   "outputs": [],
   "source": [
    "# Define a function to retrieve tokens from a doc object\n",
    "def get_token(doc):\n",
    "    return [(token.text) for token in doc]"
   ]
  },
  {
   "cell_type": "code",
   "execution_count": 108,
   "id": "bc57957a-a38d-4a43-a2c1-5de7f02bef6d",
   "metadata": {},
   "outputs": [
    {
     "data": {
      "text/html": [
       "<div>\n",
       "<style scoped>\n",
       "    .dataframe tbody tr th:only-of-type {\n",
       "        vertical-align: middle;\n",
       "    }\n",
       "\n",
       "    .dataframe tbody tr th {\n",
       "        vertical-align: top;\n",
       "    }\n",
       "\n",
       "    .dataframe thead th {\n",
       "        text-align: right;\n",
       "    }\n",
       "</style>\n",
       "<table border=\"1\" class=\"dataframe\">\n",
       "  <thead>\n",
       "    <tr style=\"text-align: right;\">\n",
       "      <th></th>\n",
       "      <th>Title</th>\n",
       "      <th>Speaker</th>\n",
       "      <th>Year</th>\n",
       "      <th>Transcript</th>\n",
       "      <th>clean_transcript</th>\n",
       "      <th>Doc</th>\n",
       "      <th>Tokens</th>\n",
       "    </tr>\n",
       "  </thead>\n",
       "  <tbody>\n",
       "    <tr>\n",
       "      <th>0</th>\n",
       "      <td>1976 Democratic National Convention Keynote Ad...</td>\n",
       "      <td>Barbara Charline Jordan</td>\n",
       "      <td>1976</td>\n",
       "      <td>Thank you ladies and gentlemen for a very warm...</td>\n",
       "      <td>Thank you ladies and gentlemen for a very warm...</td>\n",
       "      <td>(Thank, you, ladies, and, gentlemen, for, a, v...</td>\n",
       "      <td>[Thank, you, ladies, and, gentlemen, for, a, v...</td>\n",
       "    </tr>\n",
       "  </tbody>\n",
       "</table>\n",
       "</div>"
      ],
      "text/plain": [
       "                                               Title                  Speaker  \\\n",
       "0  1976 Democratic National Convention Keynote Ad...  Barbara Charline Jordan   \n",
       "\n",
       "   Year                                         Transcript  \\\n",
       "0  1976  Thank you ladies and gentlemen for a very warm...   \n",
       "\n",
       "                                    clean_transcript  \\\n",
       "0  Thank you ladies and gentlemen for a very warm...   \n",
       "\n",
       "                                                 Doc  \\\n",
       "0  (Thank, you, ladies, and, gentlemen, for, a, v...   \n",
       "\n",
       "                                              Tokens  \n",
       "0  [Thank, you, ladies, and, gentlemen, for, a, v...  "
      ]
     },
     "execution_count": 108,
     "metadata": {},
     "output_type": "execute_result"
    }
   ],
   "source": [
    "# Run the token retrieval function on the doc objects in the dataframe\n",
    "women_speech['Tokens'] = women_speech['Doc'].apply(get_token)\n",
    "women_speech.head(1)"
   ]
  },
  {
   "cell_type": "markdown",
   "id": "f3cda23c-7578-4b37-93a6-f7e35d880580",
   "metadata": {},
   "source": [
    "## Text reduction - Lemmatization"
   ]
  },
  {
   "cell_type": "code",
   "execution_count": 109,
   "id": "6b972875-2eda-4380-89b7-c4629ec9c1be",
   "metadata": {},
   "outputs": [
    {
     "data": {
      "text/html": [
       "<div>\n",
       "<style scoped>\n",
       "    .dataframe tbody tr th:only-of-type {\n",
       "        vertical-align: middle;\n",
       "    }\n",
       "\n",
       "    .dataframe tbody tr th {\n",
       "        vertical-align: top;\n",
       "    }\n",
       "\n",
       "    .dataframe thead th {\n",
       "        text-align: right;\n",
       "    }\n",
       "</style>\n",
       "<table border=\"1\" class=\"dataframe\">\n",
       "  <thead>\n",
       "    <tr style=\"text-align: right;\">\n",
       "      <th></th>\n",
       "      <th>Title</th>\n",
       "      <th>Speaker</th>\n",
       "      <th>Year</th>\n",
       "      <th>Transcript</th>\n",
       "      <th>clean_transcript</th>\n",
       "      <th>Doc</th>\n",
       "      <th>Tokens</th>\n",
       "      <th>Lemmas</th>\n",
       "    </tr>\n",
       "  </thead>\n",
       "  <tbody>\n",
       "    <tr>\n",
       "      <th>0</th>\n",
       "      <td>1976 Democratic National Convention Keynote Ad...</td>\n",
       "      <td>Barbara Charline Jordan</td>\n",
       "      <td>1976</td>\n",
       "      <td>Thank you ladies and gentlemen for a very warm...</td>\n",
       "      <td>Thank you ladies and gentlemen for a very warm...</td>\n",
       "      <td>(Thank, you, ladies, and, gentlemen, for, a, v...</td>\n",
       "      <td>[Thank, you, ladies, and, gentlemen, for, a, v...</td>\n",
       "      <td>[thank, you, lady, and, gentleman, for, a, ver...</td>\n",
       "    </tr>\n",
       "  </tbody>\n",
       "</table>\n",
       "</div>"
      ],
      "text/plain": [
       "                                               Title                  Speaker  \\\n",
       "0  1976 Democratic National Convention Keynote Ad...  Barbara Charline Jordan   \n",
       "\n",
       "   Year                                         Transcript  \\\n",
       "0  1976  Thank you ladies and gentlemen for a very warm...   \n",
       "\n",
       "                                    clean_transcript  \\\n",
       "0  Thank you ladies and gentlemen for a very warm...   \n",
       "\n",
       "                                                 Doc  \\\n",
       "0  (Thank, you, ladies, and, gentlemen, for, a, v...   \n",
       "\n",
       "                                              Tokens  \\\n",
       "0  [Thank, you, ladies, and, gentlemen, for, a, v...   \n",
       "\n",
       "                                              Lemmas  \n",
       "0  [thank, you, lady, and, gentleman, for, a, ver...  "
      ]
     },
     "execution_count": 109,
     "metadata": {},
     "output_type": "execute_result"
    }
   ],
   "source": [
    "# Define a function to retrieve lemmas from a doc object\n",
    "def get_lemma(doc):\n",
    "    return [(token.lemma_) for token in doc]\n",
    "\n",
    "# Run the lemma retrieval function on the doc objects in the dataframe\n",
    "women_speech['Lemmas'] = women_speech['Doc'].apply(get_lemma)\n",
    "women_speech.head(1)"
   ]
  },
  {
   "cell_type": "markdown",
   "id": "0747ed9c-9ece-44a0-bd71-12bb14765bc1",
   "metadata": {},
   "source": [
    "### ❓ What are the most frequent words used in female American political speeches of the 20th century? How do these words reflect the emphasis on gender equality?"
   ]
  },
  {
   "cell_type": "code",
   "execution_count": 110,
   "id": "427b5c76-2517-4c74-acd8-27cea55e7f9d",
   "metadata": {},
   "outputs": [
    {
     "name": "stderr",
     "output_type": "stream",
     "text": [
      "[nltk_data] Downloading package stopwords to\n",
      "[nltk_data]     /Users/chengluotong/nltk_data...\n",
      "[nltk_data]   Package stopwords is already up-to-date!\n"
     ]
    }
   ],
   "source": [
    "# download NLTK stopwords\n",
    "nltk.download('stopwords')\n",
    "from nltk.corpus import stopwords\n",
    "# Get the English stop words\n",
    "stop_words = stopwords.words('english')"
   ]
  },
  {
   "cell_type": "code",
   "execution_count": 111,
   "id": "d1b8c6d6-6db0-477d-839c-2cdbc43c74d3",
   "metadata": {},
   "outputs": [
    {
     "name": "stdout",
     "output_type": "stream",
     "text": [
      "woman: 372\n",
      "man: 263\n",
      "would: 223\n",
      "people: 216\n",
      "right: 182\n",
      "say: 177\n",
      "one: 165\n",
      "know: 139\n",
      "go: 135\n",
      "make: 134\n",
      "time: 126\n",
      "world: 122\n",
      "must: 116\n",
      "work: 115\n",
      "human: 113\n",
      "country: 111\n",
      "vote: 111\n",
      "great: 110\n",
      "come: 109\n",
      "year: 105\n"
     ]
    }
   ],
   "source": [
    "# Combine all lemmas into a single list and remove stop words\n",
    "all_lemmas = [lemma for lemmas in women_speech['Lemmas'] for lemma in lemmas if lemma.lower() not in stop_words and lemma not in string.punctuation and not lemma.isspace()]\n",
    "\n",
    "# clean punctuation in all_lemmas\n",
    "# Function to clean punctuation from lemmas and remove empty strings\n",
    "def clean_punctuation(lemmas):\n",
    "    cleaned_lemmas = []\n",
    "    for lemma in lemmas:\n",
    "        # Remove punctuation using regular expression\n",
    "        cleaned_lemma = re.sub(r'[^\\w\\s]', '', lemma)\n",
    "        if cleaned_lemma:  # Check if the cleaned lemma is not an empty string\n",
    "            cleaned_lemmas.append(cleaned_lemma)\n",
    "    return cleaned_lemmas\n",
    "\n",
    "# Clean the punctuation from all_lemmas and remove empty strings\n",
    "cleaned_lemmas = clean_punctuation(all_lemmas)\n",
    "\n",
    "\n",
    "# Calculate word frequencies\n",
    "word_freq = Counter(cleaned_lemmas)\n",
    "\n",
    "# Get the most frequent words\n",
    "most_common_words = word_freq.most_common(20)  # Change the number to get more or fewer words\n",
    "\n",
    "# Print the most frequent words\n",
    "for word, freq in most_common_words:\n",
    "    print(f\"{word}: {freq}\")"
   ]
  },
  {
   "cell_type": "markdown",
   "id": "604c1d11-9239-4cff-8928-9bfeb755df30",
   "metadata": {},
   "source": [
    "The most frequent words in these speeches are related to gender, political and social issues, activism, and advocacy. Words like \"woman,\" \"man,\" \"rights,\" \"vote,\" and \"country\" suggests an emphasis on gender equality and civil rights. These speeches might address the challenges and aspirations of the 20th-century women in the political sphere."
   ]
  },
  {
   "cell_type": "markdown",
   "id": "b0bd85a7-3cf8-4680-b3ac-7a74465a00cc",
   "metadata": {},
   "source": [
    "## Text annotation - Part of Speech Tagging (POS)"
   ]
  },
  {
   "cell_type": "code",
   "execution_count": 112,
   "id": "77d11125-8cc3-4067-abe0-b70aedb68013",
   "metadata": {},
   "outputs": [],
   "source": [
    "# Define a function to extract the coarse- and fine-grained part-of-speech (POS) tags for each token in the \"doc\" object\n",
    "def get_pos(doc):\n",
    "    return [(token.pos_, token.tag_) for token in doc]\n",
    "\n",
    "women_speech['POS'] = women_speech['Doc'].apply(get_pos)"
   ]
  },
  {
   "cell_type": "code",
   "execution_count": 113,
   "id": "4fe472dc-1d06-42f2-a6d4-3faf8f1dc916",
   "metadata": {},
   "outputs": [
    {
     "data": {
      "text/html": [
       "<div>\n",
       "<style scoped>\n",
       "    .dataframe tbody tr th:only-of-type {\n",
       "        vertical-align: middle;\n",
       "    }\n",
       "\n",
       "    .dataframe tbody tr th {\n",
       "        vertical-align: top;\n",
       "    }\n",
       "\n",
       "    .dataframe thead th {\n",
       "        text-align: right;\n",
       "    }\n",
       "</style>\n",
       "<table border=\"1\" class=\"dataframe\">\n",
       "  <thead>\n",
       "    <tr style=\"text-align: right;\">\n",
       "      <th></th>\n",
       "      <th>Title</th>\n",
       "      <th>Speaker</th>\n",
       "      <th>Year</th>\n",
       "      <th>Transcript</th>\n",
       "      <th>clean_transcript</th>\n",
       "      <th>Doc</th>\n",
       "      <th>Tokens</th>\n",
       "      <th>Lemmas</th>\n",
       "      <th>POS</th>\n",
       "    </tr>\n",
       "  </thead>\n",
       "  <tbody>\n",
       "    <tr>\n",
       "      <th>0</th>\n",
       "      <td>1976 Democratic National Convention Keynote Ad...</td>\n",
       "      <td>Barbara Charline Jordan</td>\n",
       "      <td>1976</td>\n",
       "      <td>Thank you ladies and gentlemen for a very warm...</td>\n",
       "      <td>Thank you ladies and gentlemen for a very warm...</td>\n",
       "      <td>(Thank, you, ladies, and, gentlemen, for, a, v...</td>\n",
       "      <td>[Thank, you, ladies, and, gentlemen, for, a, v...</td>\n",
       "      <td>[thank, you, lady, and, gentleman, for, a, ver...</td>\n",
       "      <td>[(VERB, VBP), (PRON, PRP), (NOUN, NNS), (CCONJ...</td>\n",
       "    </tr>\n",
       "  </tbody>\n",
       "</table>\n",
       "</div>"
      ],
      "text/plain": [
       "                                               Title                  Speaker  \\\n",
       "0  1976 Democratic National Convention Keynote Ad...  Barbara Charline Jordan   \n",
       "\n",
       "   Year                                         Transcript  \\\n",
       "0  1976  Thank you ladies and gentlemen for a very warm...   \n",
       "\n",
       "                                    clean_transcript  \\\n",
       "0  Thank you ladies and gentlemen for a very warm...   \n",
       "\n",
       "                                                 Doc  \\\n",
       "0  (Thank, you, ladies, and, gentlemen, for, a, v...   \n",
       "\n",
       "                                              Tokens  \\\n",
       "0  [Thank, you, ladies, and, gentlemen, for, a, v...   \n",
       "\n",
       "                                              Lemmas  \\\n",
       "0  [thank, you, lady, and, gentleman, for, a, ver...   \n",
       "\n",
       "                                                 POS  \n",
       "0  [(VERB, VBP), (PRON, PRP), (NOUN, NNS), (CCONJ...  "
      ]
     },
     "execution_count": 113,
     "metadata": {},
     "output_type": "execute_result"
    }
   ],
   "source": [
    "women_speech.head(1)"
   ]
  },
  {
   "cell_type": "markdown",
   "id": "482fae3c-77cc-4f0d-adbe-f5dee095d572",
   "metadata": {},
   "source": [
    "### Extract proper nouns"
   ]
  },
  {
   "cell_type": "code",
   "execution_count": 114,
   "id": "b324d244-40ef-4370-b7b7-6300bce3a9a5",
   "metadata": {},
   "outputs": [],
   "source": [
    "# Define function to extract proper nouns from Doc object\n",
    "def extract_proper_nouns(doc):\n",
    "    return [token.text for token in doc if token.pos_ == 'PROPN']\n",
    "\n",
    "# Apply function to Doc column and store resulting proper nouns in new column\n",
    "women_speech['Proper_Nouns'] = women_speech['Doc'].apply(extract_proper_nouns)"
   ]
  },
  {
   "cell_type": "code",
   "execution_count": 115,
   "id": "d6d5fd21-be42-4670-9385-c9501cce01b1",
   "metadata": {},
   "outputs": [
    {
     "data": {
      "text/plain": [
       "0     [(VERB, VBP), (PRON, PRP), (NOUN, NNS), (CCONJ...\n",
       "1     [(VERB, VBP), (PRON, PRP), (PROPN, NNP), (PROP...\n",
       "2     [(SCONJ, WRB), (PRON, PRP), (VERB, VBD), (ADP,...\n",
       "3     [(VERB, VBP), (PRON, PRP), (ADV, RB), (ADV, RB...\n",
       "4     [(VERB, VBP), (PRON, PRP), (ADV, RB), (ADV, RB...\n",
       "5     [(NOUN, NN), (PROPN, NNP), (PRON, PRP), (AUX, ...\n",
       "6     [(VERB, VBP), (PRON, PRP), (ADV, RB), (ADV, RB...\n",
       "7     [(ADJ, JJR), (ADP, IN), (NUM, CD), (NOUN, NNS)...\n",
       "8     [(PRON, PRP), (AUX, VBP), (VERB, VBN), (DET, D...\n",
       "9     [(NOUN, NNS), (CCONJ, CC), (NOUN, NNS), (ADP, ...\n",
       "10    [(NOUN, NNS), (ADP, IN), (DET, DT), (PROPN, NN...\n",
       "11    [(PRON, PRP), (AUX, VBP), (VERB, VBN), (ADP, I...\n",
       "12    [(PROPN, NNP), (PROPN, NNP), (PROPN, NNP), (PR...\n",
       "13    [(NOUN, NN), (NOUN, NN), (AUX, VBZ), (ADJ, JJ)...\n",
       "14    [(PRON, PRP), (VERB, VBP), (PROPN, NNP), (PROP...\n",
       "15    [(PROPN, NNP), (PROPN, NNP), (PROPN, NNPS), (C...\n",
       "16    [(PRON, PRP), (VERB, VBP), (PART, TO), (VERB, ...\n",
       "17    [(PRON, PRP$), (PROPN, NNP), (NOUN, NNS), (CCO...\n",
       "18    [(PROPN, NNP), (PROPN, NNP), (PROPN, NNP), (PR...\n",
       "19    [(PROPN, NNP), (PROPN, NNP), (NOUN, NN), (NOUN...\n",
       "Name: POS, dtype: object"
      ]
     },
     "execution_count": 115,
     "metadata": {},
     "output_type": "execute_result"
    }
   ],
   "source": [
    "women_speech[\"POS\"]"
   ]
  },
  {
   "cell_type": "markdown",
   "id": "e953b205-4b4e-4827-9e6d-4b20415d4a0c",
   "metadata": {},
   "source": [
    "### ❓ What is the most frequently mentioned proper nouns across all the speeches by different female speakers in the 20th century?"
   ]
  },
  {
   "cell_type": "code",
   "execution_count": 116,
   "id": "c64b6c9c-34b8-4e81-b7b1-3ea823c9d5ca",
   "metadata": {},
   "outputs": [
    {
     "data": {
      "text/plain": [
       "Party           67\n",
       "America         67\n",
       "United          56\n",
       "President       50\n",
       "States          42\n",
       "Communist       35\n",
       "Mr              35\n",
       "Declaration     34\n",
       "Republic        33\n",
       "Rights          31\n",
       "New             28\n",
       "Americans       26\n",
       "Government      25\n",
       "Thomas          23\n",
       "Constitution    21\n",
       "Name: count, dtype: int64"
      ]
     },
     "execution_count": 116,
     "metadata": {},
     "output_type": "execute_result"
    }
   ],
   "source": [
    "# Concatenate all proper nouns into a single Series\n",
    "all_proper_nouns = pd.Series([noun for sublist in women_speech['Proper_Nouns'] for noun in sublist])\n",
    "\n",
    "# Count the frequency of each proper noun\n",
    "frequency = all_proper_nouns.value_counts()\n",
    "\n",
    "# Sort the frequencies in descending order\n",
    "most_frequent_proper_nouns = frequency.sort_values(ascending=False)\n",
    "\n",
    "# top 15 frequently mentioned proper nouns \n",
    "most_frequent_proper_nouns.head(15)"
   ]
  },
  {
   "cell_type": "markdown",
   "id": "b96ddf2f-8208-4af3-ac55-f86f0b8c5c87",
   "metadata": {},
   "source": [
    "The most frequently mentioned proper nouns across all the speeches shows that these speeches cover topics such as American society, politics, and ideologies. For instance, the mention of \"Party\" perhaps indicates that these speeches concerned political party ideologies such as Communist Party, and women's involvement in political parties. The mention of \"Government\" and \"Declaration\" implies that the speeches may discuss women's contributions to government policies, and the principles in the Declaration of Independence. \"Rights\" and \"Constitution\" indicate that the speeches likely address women's rights, gender equality, and civil liberties. \"New\" is mentioned frequently, which could suggest discussions about new ideas or developments during the 20th century."
   ]
  },
  {
   "cell_type": "markdown",
   "id": "c19d938b-47a4-4c55-b2e2-041d45c54b69",
   "metadata": {},
   "source": [
    "### ❓ What is the most frequently mentioned nouns in the 20th-century speeches by women?"
   ]
  },
  {
   "cell_type": "code",
   "execution_count": 117,
   "id": "5fdf3033-7da9-4900-b8d9-5a3decfd55b9",
   "metadata": {},
   "outputs": [
    {
     "data": {
      "text/plain": [
       "women         292\n",
       "people        201\n",
       "men           166\n",
       "time          110\n",
       "world         110\n",
       "country        93\n",
       "man            90\n",
       "rights         88\n",
       "years          86\n",
       "children       81\n",
       "government     79\n",
       "life           73\n",
       "woman          69\n",
       "right          63\n",
       "war            57\n",
       "Name: count, dtype: int64"
      ]
     },
     "execution_count": 117,
     "metadata": {},
     "output_type": "execute_result"
    }
   ],
   "source": [
    "# Define function to extract nouns from Doc object\n",
    "def extract_proper_nouns(doc):\n",
    "    return [token.text for token in doc if token.pos_ == 'NOUN']\n",
    "\n",
    "# Apply function to Doc column and store resulting nouns in new column\n",
    "women_speech['NOUN'] = women_speech['Doc'].apply(extract_proper_nouns)\n",
    "\n",
    "# Concatenate all nouns into a single Series\n",
    "all_proper_nouns = pd.Series([noun for sublist in women_speech['NOUN'] for noun in sublist])\n",
    "\n",
    "# Count the frequency of each noun\n",
    "frequency = all_proper_nouns.value_counts()\n",
    "\n",
    "# Sort the frequencies in descending order\n",
    "most_frequent_proper_nouns = frequency.sort_values(ascending=False)\n",
    "\n",
    "# top 15 frequently mentioned nouns \n",
    "most_frequent_proper_nouns.head(15)"
   ]
  },
  {
   "cell_type": "markdown",
   "id": "3cf688fa-f1a0-46d2-96e4-ff09ee9a4952",
   "metadata": {},
   "source": [
    "Words like \"women,\" \"men,\" \"right,\" \"children,\"war\" suggest that the speeches likely focus on women's issues, gender dynamics, human rights, historical contexts, global perspectives, national contexts, governance, personal experiences, and the impact of war on society. The speeches may also touch upon topics such as children's welfare, individual liberties, and the pursuit of fairness and equality."
   ]
  },
  {
   "cell_type": "markdown",
   "id": "2a07e30f-b2a0-43c2-8c69-0716dd395941",
   "metadata": {},
   "source": [
    "### ❓ What is the most frequently mentioned adjectives in the 20th-century speeches by women?"
   ]
  },
  {
   "cell_type": "code",
   "execution_count": 118,
   "id": "778c34c7-d604-45aa-b9b1-876588110707",
   "metadata": {},
   "outputs": [
    {
     "data": {
      "text/plain": [
       "human        106\n",
       "other         91\n",
       "great         84\n",
       "political     73\n",
       "own           64\n",
       "American      64\n",
       "many          51\n",
       "new           50\n",
       "public        47\n",
       "more          42\n",
       "first         39\n",
       "same          38\n",
       "good          37\n",
       "social        35\n",
       "free          35\n",
       "Name: count, dtype: int64"
      ]
     },
     "execution_count": 118,
     "metadata": {},
     "output_type": "execute_result"
    }
   ],
   "source": [
    "# Define function to extract proper nouns from Doc object\n",
    "def extract_proper_nouns(doc):\n",
    "    return [token.text for token in doc if token.pos_ == 'ADJ']\n",
    "\n",
    "# Apply function to Doc column and store resulting proper nouns in new column\n",
    "women_speech['Adjectives'] = women_speech['Doc'].apply(extract_proper_nouns)\n",
    "\n",
    "# Concatenate all proper nouns into a single Series\n",
    "all_proper_nouns = pd.Series([adj for sublist in women_speech['Adjectives'] for adj in sublist])\n",
    "\n",
    "# Count the frequency of each proper noun\n",
    "frequency = all_proper_nouns.value_counts()\n",
    "\n",
    "# Sort the frequencies in descending order\n",
    "most_frequent_proper_nouns = frequency.sort_values(ascending=False)\n",
    "\n",
    "# top 15 frequently mentioned proper nouns \n",
    "most_frequent_proper_nouns.head(15)"
   ]
  },
  {
   "cell_type": "markdown",
   "id": "3c666ffc-65bd-4512-97cb-1b4ec68946ad",
   "metadata": {},
   "source": [
    "\"Human\" perhaps suggests that the speeches focus on the universal experiences and rights of all individuals, emphasizing the shared humanity among people. \"Political\" might suggest that the speeches address matters related to governance, policies, and power dynamics, emphasizing the political nature of the issues being discussed. \"Own\" perhaps implies personal responsibility and agency, suggesting that the speeches emphasize individual empowerment and the importance of taking ownership of one's actions and choices. \"Public\" might indicate that the speeches emphasize the involvement and participation of the general public in the issues being discussed, highlighting the importance of a collective effort.\n",
    "\"Free\" may reveals a strong emphasis on personal liberty, autonomy, and the removal of barriers or constraints."
   ]
  },
  {
   "cell_type": "markdown",
   "id": "24843ebb-3620-40be-b560-4267c674abc2",
   "metadata": {},
   "source": [
    "### ❓ How does the frequency of proper nouns vary across different speakers?"
   ]
  },
  {
   "cell_type": "code",
   "execution_count": 119,
   "id": "5223d659-fbd6-4c65-bc20-f14b40cb4372",
   "metadata": {},
   "outputs": [
    {
     "data": {
      "text/html": [
       "<div>\n",
       "<style scoped>\n",
       "    .dataframe tbody tr th:only-of-type {\n",
       "        vertical-align: middle;\n",
       "    }\n",
       "\n",
       "    .dataframe tbody tr th {\n",
       "        vertical-align: top;\n",
       "    }\n",
       "\n",
       "    .dataframe thead th {\n",
       "        text-align: right;\n",
       "    }\n",
       "</style>\n",
       "<table border=\"1\" class=\"dataframe\">\n",
       "  <thead>\n",
       "    <tr style=\"text-align: right;\">\n",
       "      <th></th>\n",
       "      <th>Speaker</th>\n",
       "      <th>Proper_Nouns_counts</th>\n",
       "      <th>Frequency</th>\n",
       "    </tr>\n",
       "  </thead>\n",
       "  <tbody>\n",
       "    <tr>\n",
       "      <th>0</th>\n",
       "      <td>Anita Hill</td>\n",
       "      <td>Thomas</td>\n",
       "      <td>20</td>\n",
       "    </tr>\n",
       "    <tr>\n",
       "      <th>1</th>\n",
       "      <td>Ann Richards</td>\n",
       "      <td>America</td>\n",
       "      <td>16</td>\n",
       "    </tr>\n",
       "    <tr>\n",
       "      <th>2</th>\n",
       "      <td>Anna Howard Shaw</td>\n",
       "      <td>Republic</td>\n",
       "      <td>28</td>\n",
       "    </tr>\n",
       "    <tr>\n",
       "      <th>3</th>\n",
       "      <td>Barbara Charline Jordan</td>\n",
       "      <td>President</td>\n",
       "      <td>28</td>\n",
       "    </tr>\n",
       "    <tr>\n",
       "      <th>4</th>\n",
       "      <td>Barbara Pierce Bush</td>\n",
       "      <td>Wellesley</td>\n",
       "      <td>6</td>\n",
       "    </tr>\n",
       "    <tr>\n",
       "      <th>5</th>\n",
       "      <td>Carrie Chapman Catt</td>\n",
       "      <td>American</td>\n",
       "      <td>6</td>\n",
       "    </tr>\n",
       "    <tr>\n",
       "      <th>6</th>\n",
       "      <td>Eleanor Roosevelt</td>\n",
       "      <td>Declaration</td>\n",
       "      <td>27</td>\n",
       "    </tr>\n",
       "    <tr>\n",
       "      <th>7</th>\n",
       "      <td>Elizabeth Glaser</td>\n",
       "      <td>America</td>\n",
       "      <td>13</td>\n",
       "    </tr>\n",
       "    <tr>\n",
       "      <th>8</th>\n",
       "      <td>Elizabeth Gurley Flynn</td>\n",
       "      <td>Party</td>\n",
       "      <td>46</td>\n",
       "    </tr>\n",
       "    <tr>\n",
       "      <th>9</th>\n",
       "      <td>Emma Goldman</td>\n",
       "      <td>Attorney</td>\n",
       "      <td>15</td>\n",
       "    </tr>\n",
       "    <tr>\n",
       "      <th>10</th>\n",
       "      <td>Geraldine Ferraro</td>\n",
       "      <td>America</td>\n",
       "      <td>12</td>\n",
       "    </tr>\n",
       "    <tr>\n",
       "      <th>11</th>\n",
       "      <td>Hillary Rodham Clinton</td>\n",
       "      <td>Women</td>\n",
       "      <td>3</td>\n",
       "    </tr>\n",
       "    <tr>\n",
       "      <th>12</th>\n",
       "      <td>Margaret Chase Smith</td>\n",
       "      <td>Senate</td>\n",
       "      <td>13</td>\n",
       "    </tr>\n",
       "    <tr>\n",
       "      <th>13</th>\n",
       "      <td>Margaret Sanger</td>\n",
       "      <td>Childrens</td>\n",
       "      <td>5</td>\n",
       "    </tr>\n",
       "    <tr>\n",
       "      <th>14</th>\n",
       "      <td>MaryFisher</td>\n",
       "      <td>AIDS</td>\n",
       "      <td>8</td>\n",
       "    </tr>\n",
       "    <tr>\n",
       "      <th>15</th>\n",
       "      <td>Shirley Anita St. Hill Chisholm</td>\n",
       "      <td>State</td>\n",
       "      <td>11</td>\n",
       "    </tr>\n",
       "    <tr>\n",
       "      <th>16</th>\n",
       "      <td>Ursula K. Le Guin</td>\n",
       "      <td>Greek</td>\n",
       "      <td>3</td>\n",
       "    </tr>\n",
       "  </tbody>\n",
       "</table>\n",
       "</div>"
      ],
      "text/plain": [
       "                            Speaker Proper_Nouns_counts  Frequency\n",
       "0                        Anita Hill              Thomas         20\n",
       "1                      Ann Richards             America         16\n",
       "2                  Anna Howard Shaw            Republic         28\n",
       "3           Barbara Charline Jordan           President         28\n",
       "4               Barbara Pierce Bush           Wellesley          6\n",
       "5               Carrie Chapman Catt            American          6\n",
       "6                 Eleanor Roosevelt         Declaration         27\n",
       "7                  Elizabeth Glaser             America         13\n",
       "8            Elizabeth Gurley Flynn               Party         46\n",
       "9                      Emma Goldman            Attorney         15\n",
       "10                Geraldine Ferraro             America         12\n",
       "11           Hillary Rodham Clinton               Women          3\n",
       "12             Margaret Chase Smith              Senate         13\n",
       "13                  Margaret Sanger           Childrens          5\n",
       "14                       MaryFisher                AIDS          8\n",
       "15  Shirley Anita St. Hill Chisholm               State         11\n",
       "16                Ursula K. Le Guin               Greek          3"
      ]
     },
     "execution_count": 119,
     "metadata": {},
     "output_type": "execute_result"
    }
   ],
   "source": [
    "# Group the speeches by speakers and count the occurrence of each Proper Noun\n",
    "grouped_speeches3 = women_speech.groupby('Speaker')['Proper_Nouns'].sum().apply(pd.Series).stack().reset_index(level=1, drop=True).reset_index(name='Proper_Nouns_counts')\n",
    "\n",
    "# Calculate the frequency of each word for each speaker\n",
    "word_frequency3 = grouped_speeches3.groupby(['Speaker', 'Proper_Nouns_counts']).size().reset_index(name='Frequency')\n",
    "\n",
    "# Sort the word frequencies in descending order for each speaker\n",
    "word_frequency3 = word_frequency3.sort_values(['Speaker', 'Frequency'], ascending=[True, False])\n",
    "\n",
    "# Get the most frequently mentioned word for each speaker\n",
    "most_frequent_words3 = word_frequency3.groupby('Speaker').first().reset_index()\n",
    "\n",
    "most_frequent_words3"
   ]
  },
  {
   "cell_type": "code",
   "execution_count": 120,
   "id": "2cf46597-300b-4199-a521-faed95f4ec8b",
   "metadata": {},
   "outputs": [],
   "source": [
    "grouped_speeches3 = women_speech.groupby('Speaker')['Adjectives'].sum().apply(pd.Series).stack().reset_index(level=1, drop=True).reset_index(name='Proper_Noun_Count')\n"
   ]
  },
  {
   "cell_type": "markdown",
   "id": "e96eb687-e10e-43c3-b936-513d9962aa1b",
   "metadata": {},
   "source": [
    "\"America\" and \"State\" were frequently mentioned by many speakers (Ann Richards, Elizabeth Glaser, etc.), indicating a common focus on the country and perhpas their participation in American politics. Barbara Jordan mentioned \"President\" frequently, suggesting a focus on the presidency. Elizabeth Flynn frequently mentioned \"Party,\" indicating a focus on political parties. Mary Fisher mentioned \"AIDS\" multiple times, indicating a focus on health issue."
   ]
  },
  {
   "cell_type": "markdown",
   "id": "00d22c9f-8617-4086-a6cb-d8af679d6d5a",
   "metadata": {},
   "source": [
    "### ❓ How does the frequency of proper nouns vary over time?"
   ]
  },
  {
   "cell_type": "code",
   "execution_count": 121,
   "id": "d42dcb59-1534-4cb2-8f85-352ad84fb82b",
   "metadata": {},
   "outputs": [
    {
     "data": {
      "text/html": [
       "<div>\n",
       "<style scoped>\n",
       "    .dataframe tbody tr th:only-of-type {\n",
       "        vertical-align: middle;\n",
       "    }\n",
       "\n",
       "    .dataframe tbody tr th {\n",
       "        vertical-align: top;\n",
       "    }\n",
       "\n",
       "    .dataframe thead th {\n",
       "        text-align: right;\n",
       "    }\n",
       "</style>\n",
       "<table border=\"1\" class=\"dataframe\">\n",
       "  <thead>\n",
       "    <tr style=\"text-align: right;\">\n",
       "      <th></th>\n",
       "      <th>Year</th>\n",
       "      <th>Proper_Noun_Count</th>\n",
       "      <th>Frequency</th>\n",
       "    </tr>\n",
       "  </thead>\n",
       "  <tbody>\n",
       "    <tr>\n",
       "      <th>0</th>\n",
       "      <td>1915</td>\n",
       "      <td>Republic</td>\n",
       "      <td>28</td>\n",
       "    </tr>\n",
       "    <tr>\n",
       "      <th>1</th>\n",
       "      <td>1916</td>\n",
       "      <td>Hour</td>\n",
       "      <td>6</td>\n",
       "    </tr>\n",
       "    <tr>\n",
       "      <th>2</th>\n",
       "      <td>1917</td>\n",
       "      <td>Attorney</td>\n",
       "      <td>15</td>\n",
       "    </tr>\n",
       "    <tr>\n",
       "      <th>3</th>\n",
       "      <td>1925</td>\n",
       "      <td>Childrens</td>\n",
       "      <td>5</td>\n",
       "    </tr>\n",
       "    <tr>\n",
       "      <th>4</th>\n",
       "      <td>1948</td>\n",
       "      <td>Declaration</td>\n",
       "      <td>27</td>\n",
       "    </tr>\n",
       "    <tr>\n",
       "      <th>5</th>\n",
       "      <td>1950</td>\n",
       "      <td>Senate</td>\n",
       "      <td>13</td>\n",
       "    </tr>\n",
       "    <tr>\n",
       "      <th>6</th>\n",
       "      <td>1952</td>\n",
       "      <td>Party</td>\n",
       "      <td>46</td>\n",
       "    </tr>\n",
       "    <tr>\n",
       "      <th>7</th>\n",
       "      <td>1970</td>\n",
       "      <td>State</td>\n",
       "      <td>11</td>\n",
       "    </tr>\n",
       "    <tr>\n",
       "      <th>8</th>\n",
       "      <td>1974</td>\n",
       "      <td>President</td>\n",
       "      <td>26</td>\n",
       "    </tr>\n",
       "    <tr>\n",
       "      <th>9</th>\n",
       "      <td>1976</td>\n",
       "      <td>America</td>\n",
       "      <td>8</td>\n",
       "    </tr>\n",
       "    <tr>\n",
       "      <th>10</th>\n",
       "      <td>1983</td>\n",
       "      <td>Greek</td>\n",
       "      <td>3</td>\n",
       "    </tr>\n",
       "    <tr>\n",
       "      <th>11</th>\n",
       "      <td>1984</td>\n",
       "      <td>America</td>\n",
       "      <td>12</td>\n",
       "    </tr>\n",
       "    <tr>\n",
       "      <th>12</th>\n",
       "      <td>1988</td>\n",
       "      <td>America</td>\n",
       "      <td>16</td>\n",
       "    </tr>\n",
       "    <tr>\n",
       "      <th>13</th>\n",
       "      <td>1990</td>\n",
       "      <td>Wellesley</td>\n",
       "      <td>6</td>\n",
       "    </tr>\n",
       "    <tr>\n",
       "      <th>14</th>\n",
       "      <td>1991</td>\n",
       "      <td>Thomas</td>\n",
       "      <td>20</td>\n",
       "    </tr>\n",
       "    <tr>\n",
       "      <th>15</th>\n",
       "      <td>1992</td>\n",
       "      <td>America</td>\n",
       "      <td>15</td>\n",
       "    </tr>\n",
       "    <tr>\n",
       "      <th>16</th>\n",
       "      <td>1995</td>\n",
       "      <td>Women</td>\n",
       "      <td>3</td>\n",
       "    </tr>\n",
       "  </tbody>\n",
       "</table>\n",
       "</div>"
      ],
      "text/plain": [
       "    Year Proper_Noun_Count  Frequency\n",
       "0   1915          Republic         28\n",
       "1   1916              Hour          6\n",
       "2   1917          Attorney         15\n",
       "3   1925         Childrens          5\n",
       "4   1948       Declaration         27\n",
       "5   1950            Senate         13\n",
       "6   1952             Party         46\n",
       "7   1970             State         11\n",
       "8   1974         President         26\n",
       "9   1976           America          8\n",
       "10  1983             Greek          3\n",
       "11  1984           America         12\n",
       "12  1988           America         16\n",
       "13  1990         Wellesley          6\n",
       "14  1991            Thomas         20\n",
       "15  1992           America         15\n",
       "16  1995             Women          3"
      ]
     },
     "execution_count": 121,
     "metadata": {},
     "output_type": "execute_result"
    }
   ],
   "source": [
    "# Group the speeches by decade and count the occurrence of each proper noun\n",
    "grouped_speeches2 = women_speech.groupby('Year')['Proper_Nouns'].sum().apply(pd.Series).stack().reset_index(level=1, drop=True).reset_index(name='Proper_Noun_Count')\n",
    "\n",
    "# Calculate the frequency of each word for each decade\n",
    "word_frequency2 = grouped_speeches2.groupby(['Year', 'Proper_Noun_Count']).size().reset_index(name='Frequency')\n",
    "\n",
    "# Sort the word frequencies in descending order for each decade\n",
    "word_frequency2 = word_frequency2.sort_values(['Year', 'Frequency'], ascending=[True, False])\n",
    "\n",
    "# Get the most frequently mentioned word for each decade\n",
    "most_frequent_words2 = word_frequency2.groupby('Year').first().reset_index()\n",
    "\n",
    "# Print the top 10 most frequently mentioned words for each decade\n",
    "most_frequent_words2"
   ]
  },
  {
   "cell_type": "code",
   "execution_count": 122,
   "id": "2de05b5f-282a-4bc6-8875-ddd4edbeb2ab",
   "metadata": {},
   "outputs": [
    {
     "data": {
      "text/html": [
       "<div>\n",
       "<style scoped>\n",
       "    .dataframe tbody tr th:only-of-type {\n",
       "        vertical-align: middle;\n",
       "    }\n",
       "\n",
       "    .dataframe tbody tr th {\n",
       "        vertical-align: top;\n",
       "    }\n",
       "\n",
       "    .dataframe thead th {\n",
       "        text-align: right;\n",
       "    }\n",
       "</style>\n",
       "<table border=\"1\" class=\"dataframe\">\n",
       "  <thead>\n",
       "    <tr style=\"text-align: right;\">\n",
       "      <th></th>\n",
       "      <th>Decade</th>\n",
       "      <th>Proper_Noun_Count</th>\n",
       "      <th>Frequency</th>\n",
       "    </tr>\n",
       "  </thead>\n",
       "  <tbody>\n",
       "    <tr>\n",
       "      <th>0</th>\n",
       "      <td>1910</td>\n",
       "      <td>Republic</td>\n",
       "      <td>30</td>\n",
       "    </tr>\n",
       "    <tr>\n",
       "      <th>1</th>\n",
       "      <td>1920</td>\n",
       "      <td>Childrens</td>\n",
       "      <td>5</td>\n",
       "    </tr>\n",
       "    <tr>\n",
       "      <th>2</th>\n",
       "      <td>1940</td>\n",
       "      <td>Declaration</td>\n",
       "      <td>27</td>\n",
       "    </tr>\n",
       "    <tr>\n",
       "      <th>3</th>\n",
       "      <td>1950</td>\n",
       "      <td>Party</td>\n",
       "      <td>57</td>\n",
       "    </tr>\n",
       "    <tr>\n",
       "      <th>4</th>\n",
       "      <td>1970</td>\n",
       "      <td>President</td>\n",
       "      <td>28</td>\n",
       "    </tr>\n",
       "    <tr>\n",
       "      <th>5</th>\n",
       "      <td>1980</td>\n",
       "      <td>America</td>\n",
       "      <td>28</td>\n",
       "    </tr>\n",
       "    <tr>\n",
       "      <th>6</th>\n",
       "      <td>1990</td>\n",
       "      <td>Thomas</td>\n",
       "      <td>20</td>\n",
       "    </tr>\n",
       "  </tbody>\n",
       "</table>\n",
       "</div>"
      ],
      "text/plain": [
       "   Decade Proper_Noun_Count  Frequency\n",
       "0    1910          Republic         30\n",
       "1    1920         Childrens          5\n",
       "2    1940       Declaration         27\n",
       "3    1950             Party         57\n",
       "4    1970         President         28\n",
       "5    1980           America         28\n",
       "6    1990            Thomas         20"
      ]
     },
     "execution_count": 122,
     "metadata": {},
     "output_type": "execute_result"
    }
   ],
   "source": [
    "# Create a new column 'Decade' based on the 'Year' column\n",
    "women_speech['Decade'] = women_speech['Year'] // 10 * 10\n",
    "\n",
    "# Group the speeches by decade and count the occurrence of each proper noun\n",
    "grouped_speeches2 = women_speech.groupby('Decade')['Proper_Nouns'].sum().apply(pd.Series).stack().reset_index(level=1, drop=True).reset_index(name='Proper_Noun_Count')\n",
    "\n",
    "# Calculate the frequency of each word for each decade\n",
    "word_frequency2 = grouped_speeches2.groupby(['Decade', 'Proper_Noun_Count']).size().reset_index(name='Frequency')\n",
    "\n",
    "# Sort the word frequencies in descending order for each decade\n",
    "word_frequency2 = word_frequency2.sort_values(['Decade', 'Frequency'], ascending=[True, False])\n",
    "\n",
    "# Get the most frequently mentioned word for each decade\n",
    "most_frequent_words2 = word_frequency2.groupby('Decade').first().reset_index()\n",
    "\n",
    "# Print the top 10 most frequently mentioned words for each decade\n",
    "most_frequent_words2.head(10)\n"
   ]
  },
  {
   "cell_type": "markdown",
   "id": "191e6529-4f83-46ec-8878-2dc7ba2b7f36",
   "metadata": {},
   "source": [
    "In the 1910s, \"Republic\" was the most commonly mentioned. This suggests that during this time, women were likely advocating for the principles and ideals associated with a republic, such as democracy and individual rights. Moving forward to the 1940s, \"Declaration\" was mentioned most frequently. This could indicate that women were focusing on the Declaration of Independence, which outlines fundamental rights and principles of the United States. In the 1950s, \"Party\" was mentioned most. This might suggest that women were actively involved in political parties and were discussing party-related matters. In the 1980s, the keyword \"American\" was mentioned most frequently. This could imply that women were emphasizing their American identity. It is possible that women were discussing issues related to national identity, patriotism, or advocating for specific policies that they believed aligned with American values."
   ]
  },
  {
   "cell_type": "markdown",
   "id": "4e78f477-6ef0-47f5-a60f-d8ddbd96ce9d",
   "metadata": {},
   "source": [
    "### ❓ How does the frequency of nouns vary over time?"
   ]
  },
  {
   "cell_type": "code",
   "execution_count": 123,
   "id": "542dbe9e-55b3-42a9-bda3-0091b0b9b304",
   "metadata": {},
   "outputs": [
    {
     "data": {
      "text/html": [
       "<div>\n",
       "<style scoped>\n",
       "    .dataframe tbody tr th:only-of-type {\n",
       "        vertical-align: middle;\n",
       "    }\n",
       "\n",
       "    .dataframe tbody tr th {\n",
       "        vertical-align: top;\n",
       "    }\n",
       "\n",
       "    .dataframe thead th {\n",
       "        text-align: right;\n",
       "    }\n",
       "</style>\n",
       "<table border=\"1\" class=\"dataframe\">\n",
       "  <thead>\n",
       "    <tr style=\"text-align: right;\">\n",
       "      <th></th>\n",
       "      <th>Decade</th>\n",
       "      <th>Noun_Count</th>\n",
       "      <th>Frequency</th>\n",
       "    </tr>\n",
       "  </thead>\n",
       "  <tbody>\n",
       "    <tr>\n",
       "      <th>0</th>\n",
       "      <td>1910</td>\n",
       "      <td>women</td>\n",
       "      <td>165</td>\n",
       "    </tr>\n",
       "    <tr>\n",
       "      <th>1</th>\n",
       "      <td>1920</td>\n",
       "      <td>children</td>\n",
       "      <td>20</td>\n",
       "    </tr>\n",
       "    <tr>\n",
       "      <th>2</th>\n",
       "      <td>1940</td>\n",
       "      <td>rights</td>\n",
       "      <td>44</td>\n",
       "    </tr>\n",
       "    <tr>\n",
       "      <th>3</th>\n",
       "      <td>1950</td>\n",
       "      <td>people</td>\n",
       "      <td>48</td>\n",
       "    </tr>\n",
       "    <tr>\n",
       "      <th>4</th>\n",
       "      <td>1970</td>\n",
       "      <td>people</td>\n",
       "      <td>27</td>\n",
       "    </tr>\n",
       "    <tr>\n",
       "      <th>5</th>\n",
       "      <td>1980</td>\n",
       "      <td>country</td>\n",
       "      <td>21</td>\n",
       "    </tr>\n",
       "    <tr>\n",
       "      <th>6</th>\n",
       "      <td>1990</td>\n",
       "      <td>women</td>\n",
       "      <td>60</td>\n",
       "    </tr>\n",
       "  </tbody>\n",
       "</table>\n",
       "</div>"
      ],
      "text/plain": [
       "   Decade Noun_Count  Frequency\n",
       "0    1910      women        165\n",
       "1    1920   children         20\n",
       "2    1940     rights         44\n",
       "3    1950     people         48\n",
       "4    1970     people         27\n",
       "5    1980    country         21\n",
       "6    1990      women         60"
      ]
     },
     "execution_count": 123,
     "metadata": {},
     "output_type": "execute_result"
    }
   ],
   "source": [
    "# Group the speeches by decade and count the occurrence of each noun\n",
    "grouped_speeches2 = women_speech.groupby('Decade')['NOUN'].sum().apply(pd.Series).stack().reset_index(level=1, drop=True).reset_index(name='Noun_Count')\n",
    "\n",
    "# Calculate the frequency of each word for each decade\n",
    "word_frequency2 = grouped_speeches2.groupby(['Decade', 'Noun_Count']).size().reset_index(name='Frequency')\n",
    "\n",
    "# Sort the word frequencies in descending order for each decade\n",
    "word_frequency2 = word_frequency2.sort_values(['Decade', 'Frequency'], ascending=[True, False])\n",
    "\n",
    "# Get the most frequently mentioned word for each decade\n",
    "most_frequent_words2 = word_frequency2.groupby('Decade').first().reset_index()\n",
    "\n",
    "# Print the top 10 most frequently mentioned words for each decade\n",
    "most_frequent_words2.head(10)"
   ]
  },
  {
   "cell_type": "markdown",
   "id": "cc67e4b8-b8a5-4cb8-8c56-139ded712f4f",
   "metadata": {},
   "source": [
    "These results suggest that the focus of women's speeches varied across different decades. In the early 20th century (1910), the emphasis was on women's rights and empowerment. In the 1920s, there was a focus on children's issues. In the 1940s, women's rights remained a prominent topic. In the 1950s and 1970s, the speeches highlighted broader societal issues and the rights and well-being of people in general. The 1980s saw a focus on the nation and country-related topics. Finally, in the 1990s, women's rights and empowerment regained attention."
   ]
  },
  {
   "cell_type": "code",
   "execution_count": 124,
   "id": "267f2b4c-1e51-4778-b8f8-a7a94ed81f58",
   "metadata": {},
   "outputs": [],
   "source": [
    "# Delete the 'Decade' column after analyzing\n",
    "women_speech = women_speech.drop('Decade', axis=1)"
   ]
  },
  {
   "cell_type": "markdown",
   "id": "239abe1d-7a4f-46f6-b8b0-733d0ee914db",
   "metadata": {},
   "source": [
    "## Analyzing the distribution of POS in each speech"
   ]
  },
  {
   "cell_type": "code",
   "execution_count": 125,
   "id": "1e586772-18d8-43be-ad9a-57d276af93cd",
   "metadata": {},
   "outputs": [],
   "source": [
    "# Create new DataFrame for analysis purposes\n",
    "pos_analysis_df = women_speech[['Title','Speaker', 'Doc']]\n",
    "\n",
    "# Create list to store each dictionary\n",
    "num_list = []\n",
    "\n",
    "# Define a function to get part of speech tags and counts and append them to a new dictionary\n",
    "def get_pos_tags(doc):\n",
    "    dictionary = {}\n",
    "    num_pos = doc.count_by(spacy.attrs.POS)\n",
    "    for k,v in sorted(num_pos.items()):\n",
    "        dictionary[doc.vocab[k].text] = v\n",
    "    num_list.append(dictionary)\n",
    "\n",
    "# Apply function to each doc object in DataFrame\n",
    "pos_analysis_df.loc['C_POS'] = pos_analysis_df['Doc'].apply(get_pos_tags)\n",
    "\n",
    "# Create new dataframe with part of speech counts\n",
    "pos_counts = pd.DataFrame(num_list)\n",
    "columns = list(pos_counts.columns)\n",
    "\n",
    "# Add speaker of each speech as new column to dataframe\n",
    "idx = 0\n",
    "new_col = pos_analysis_df['Speaker']\n",
    "pos_counts.insert(loc=idx, column='Speaker', value=new_col)"
   ]
  },
  {
   "cell_type": "code",
   "execution_count": 126,
   "id": "eaaa3d5c-348e-406c-9dae-40e9cb23a994",
   "metadata": {},
   "outputs": [
    {
     "data": {
      "text/html": [
       "<div>\n",
       "<style scoped>\n",
       "    .dataframe tbody tr th:only-of-type {\n",
       "        vertical-align: middle;\n",
       "    }\n",
       "\n",
       "    .dataframe tbody tr th {\n",
       "        vertical-align: top;\n",
       "    }\n",
       "\n",
       "    .dataframe thead th {\n",
       "        text-align: right;\n",
       "    }\n",
       "</style>\n",
       "<table border=\"1\" class=\"dataframe\">\n",
       "  <thead>\n",
       "    <tr style=\"text-align: right;\">\n",
       "      <th></th>\n",
       "      <th>Speaker</th>\n",
       "      <th>ADJ</th>\n",
       "      <th>ADP</th>\n",
       "      <th>ADV</th>\n",
       "      <th>AUX</th>\n",
       "      <th>CCONJ</th>\n",
       "      <th>DET</th>\n",
       "      <th>INTJ</th>\n",
       "      <th>NOUN</th>\n",
       "      <th>NUM</th>\n",
       "      <th>PART</th>\n",
       "      <th>PRON</th>\n",
       "      <th>PROPN</th>\n",
       "      <th>SCONJ</th>\n",
       "      <th>VERB</th>\n",
       "      <th>PUNCT</th>\n",
       "      <th>X</th>\n",
       "    </tr>\n",
       "  </thead>\n",
       "  <tbody>\n",
       "    <tr>\n",
       "      <th>0</th>\n",
       "      <td>Anita Hill</td>\n",
       "      <td>145.0</td>\n",
       "      <td>345.0</td>\n",
       "      <td>99.0</td>\n",
       "      <td>158.0</td>\n",
       "      <td>81.0</td>\n",
       "      <td>215.0</td>\n",
       "      <td>2.0</td>\n",
       "      <td>396.0</td>\n",
       "      <td>31.0</td>\n",
       "      <td>67.0</td>\n",
       "      <td>372.0</td>\n",
       "      <td>159.0</td>\n",
       "      <td>79.0</td>\n",
       "      <td>309.0</td>\n",
       "      <td>NaN</td>\n",
       "      <td>NaN</td>\n",
       "    </tr>\n",
       "    <tr>\n",
       "      <th>1</th>\n",
       "      <td>Ann Richards</td>\n",
       "      <td>158.0</td>\n",
       "      <td>245.0</td>\n",
       "      <td>104.0</td>\n",
       "      <td>217.0</td>\n",
       "      <td>157.0</td>\n",
       "      <td>215.0</td>\n",
       "      <td>8.0</td>\n",
       "      <td>458.0</td>\n",
       "      <td>19.0</td>\n",
       "      <td>101.0</td>\n",
       "      <td>438.0</td>\n",
       "      <td>129.0</td>\n",
       "      <td>107.0</td>\n",
       "      <td>411.0</td>\n",
       "      <td>NaN</td>\n",
       "      <td>NaN</td>\n",
       "    </tr>\n",
       "    <tr>\n",
       "      <th>2</th>\n",
       "      <td>Anna Howard Shaw</td>\n",
       "      <td>501.0</td>\n",
       "      <td>991.0</td>\n",
       "      <td>448.0</td>\n",
       "      <td>796.0</td>\n",
       "      <td>480.0</td>\n",
       "      <td>1036.0</td>\n",
       "      <td>12.0</td>\n",
       "      <td>1660.0</td>\n",
       "      <td>70.0</td>\n",
       "      <td>352.0</td>\n",
       "      <td>1287.0</td>\n",
       "      <td>244.0</td>\n",
       "      <td>422.0</td>\n",
       "      <td>1252.0</td>\n",
       "      <td>NaN</td>\n",
       "      <td>NaN</td>\n",
       "    </tr>\n",
       "    <tr>\n",
       "      <th>3</th>\n",
       "      <td>Barbara Charline Jordan</td>\n",
       "      <td>110.0</td>\n",
       "      <td>166.0</td>\n",
       "      <td>48.0</td>\n",
       "      <td>144.0</td>\n",
       "      <td>52.0</td>\n",
       "      <td>212.0</td>\n",
       "      <td>2.0</td>\n",
       "      <td>307.0</td>\n",
       "      <td>12.0</td>\n",
       "      <td>61.0</td>\n",
       "      <td>182.0</td>\n",
       "      <td>106.0</td>\n",
       "      <td>60.0</td>\n",
       "      <td>218.0</td>\n",
       "      <td>NaN</td>\n",
       "      <td>NaN</td>\n",
       "    </tr>\n",
       "    <tr>\n",
       "      <th>4</th>\n",
       "      <td>Barbara Pierce Bush</td>\n",
       "      <td>77.0</td>\n",
       "      <td>106.0</td>\n",
       "      <td>62.0</td>\n",
       "      <td>95.0</td>\n",
       "      <td>54.0</td>\n",
       "      <td>98.0</td>\n",
       "      <td>3.0</td>\n",
       "      <td>208.0</td>\n",
       "      <td>14.0</td>\n",
       "      <td>40.0</td>\n",
       "      <td>159.0</td>\n",
       "      <td>56.0</td>\n",
       "      <td>26.0</td>\n",
       "      <td>158.0</td>\n",
       "      <td>1.0</td>\n",
       "      <td>NaN</td>\n",
       "    </tr>\n",
       "    <tr>\n",
       "      <th>5</th>\n",
       "      <td>Carrie Chapman Catt</td>\n",
       "      <td>255.0</td>\n",
       "      <td>436.0</td>\n",
       "      <td>128.0</td>\n",
       "      <td>275.0</td>\n",
       "      <td>152.0</td>\n",
       "      <td>396.0</td>\n",
       "      <td>1.0</td>\n",
       "      <td>782.0</td>\n",
       "      <td>29.0</td>\n",
       "      <td>78.0</td>\n",
       "      <td>322.0</td>\n",
       "      <td>131.0</td>\n",
       "      <td>89.0</td>\n",
       "      <td>420.0</td>\n",
       "      <td>NaN</td>\n",
       "      <td>NaN</td>\n",
       "    </tr>\n",
       "    <tr>\n",
       "      <th>6</th>\n",
       "      <td>Eleanor Roosevelt</td>\n",
       "      <td>222.0</td>\n",
       "      <td>376.0</td>\n",
       "      <td>86.0</td>\n",
       "      <td>172.0</td>\n",
       "      <td>101.0</td>\n",
       "      <td>322.0</td>\n",
       "      <td>1.0</td>\n",
       "      <td>576.0</td>\n",
       "      <td>17.0</td>\n",
       "      <td>80.0</td>\n",
       "      <td>233.0</td>\n",
       "      <td>144.0</td>\n",
       "      <td>58.0</td>\n",
       "      <td>272.0</td>\n",
       "      <td>NaN</td>\n",
       "      <td>NaN</td>\n",
       "    </tr>\n",
       "    <tr>\n",
       "      <th>7</th>\n",
       "      <td>Elizabeth Glaser</td>\n",
       "      <td>46.0</td>\n",
       "      <td>93.0</td>\n",
       "      <td>46.0</td>\n",
       "      <td>87.0</td>\n",
       "      <td>48.0</td>\n",
       "      <td>81.0</td>\n",
       "      <td>1.0</td>\n",
       "      <td>184.0</td>\n",
       "      <td>10.0</td>\n",
       "      <td>58.0</td>\n",
       "      <td>174.0</td>\n",
       "      <td>65.0</td>\n",
       "      <td>41.0</td>\n",
       "      <td>160.0</td>\n",
       "      <td>1.0</td>\n",
       "      <td>NaN</td>\n",
       "    </tr>\n",
       "    <tr>\n",
       "      <th>8</th>\n",
       "      <td>Elizabeth Gurley Flynn</td>\n",
       "      <td>526.0</td>\n",
       "      <td>998.0</td>\n",
       "      <td>271.0</td>\n",
       "      <td>488.0</td>\n",
       "      <td>329.0</td>\n",
       "      <td>765.0</td>\n",
       "      <td>6.0</td>\n",
       "      <td>1575.0</td>\n",
       "      <td>95.0</td>\n",
       "      <td>195.0</td>\n",
       "      <td>866.0</td>\n",
       "      <td>640.0</td>\n",
       "      <td>190.0</td>\n",
       "      <td>891.0</td>\n",
       "      <td>1.0</td>\n",
       "      <td>2.0</td>\n",
       "    </tr>\n",
       "    <tr>\n",
       "      <th>9</th>\n",
       "      <td>Emma Goldman</td>\n",
       "      <td>319.0</td>\n",
       "      <td>602.0</td>\n",
       "      <td>199.0</td>\n",
       "      <td>409.0</td>\n",
       "      <td>214.0</td>\n",
       "      <td>554.0</td>\n",
       "      <td>5.0</td>\n",
       "      <td>968.0</td>\n",
       "      <td>33.0</td>\n",
       "      <td>185.0</td>\n",
       "      <td>568.0</td>\n",
       "      <td>244.0</td>\n",
       "      <td>181.0</td>\n",
       "      <td>578.0</td>\n",
       "      <td>NaN</td>\n",
       "      <td>NaN</td>\n",
       "    </tr>\n",
       "    <tr>\n",
       "      <th>10</th>\n",
       "      <td>Geraldine Ferraro</td>\n",
       "      <td>99.0</td>\n",
       "      <td>179.0</td>\n",
       "      <td>40.0</td>\n",
       "      <td>119.0</td>\n",
       "      <td>57.0</td>\n",
       "      <td>158.0</td>\n",
       "      <td>NaN</td>\n",
       "      <td>322.0</td>\n",
       "      <td>9.0</td>\n",
       "      <td>45.0</td>\n",
       "      <td>216.0</td>\n",
       "      <td>146.0</td>\n",
       "      <td>48.0</td>\n",
       "      <td>214.0</td>\n",
       "      <td>1.0</td>\n",
       "      <td>NaN</td>\n",
       "    </tr>\n",
       "    <tr>\n",
       "      <th>11</th>\n",
       "      <td>Hillary Rodham Clinton</td>\n",
       "      <td>143.0</td>\n",
       "      <td>268.0</td>\n",
       "      <td>102.0</td>\n",
       "      <td>157.0</td>\n",
       "      <td>137.0</td>\n",
       "      <td>201.0</td>\n",
       "      <td>NaN</td>\n",
       "      <td>567.0</td>\n",
       "      <td>11.0</td>\n",
       "      <td>83.0</td>\n",
       "      <td>228.0</td>\n",
       "      <td>48.0</td>\n",
       "      <td>59.0</td>\n",
       "      <td>311.0</td>\n",
       "      <td>NaN</td>\n",
       "      <td>NaN</td>\n",
       "    </tr>\n",
       "    <tr>\n",
       "      <th>12</th>\n",
       "      <td>Margaret Chase Smith</td>\n",
       "      <td>152.0</td>\n",
       "      <td>221.0</td>\n",
       "      <td>92.0</td>\n",
       "      <td>129.0</td>\n",
       "      <td>71.0</td>\n",
       "      <td>190.0</td>\n",
       "      <td>NaN</td>\n",
       "      <td>312.0</td>\n",
       "      <td>7.0</td>\n",
       "      <td>48.0</td>\n",
       "      <td>193.0</td>\n",
       "      <td>145.0</td>\n",
       "      <td>45.0</td>\n",
       "      <td>192.0</td>\n",
       "      <td>NaN</td>\n",
       "      <td>NaN</td>\n",
       "    </tr>\n",
       "    <tr>\n",
       "      <th>13</th>\n",
       "      <td>Margaret Sanger</td>\n",
       "      <td>137.0</td>\n",
       "      <td>180.0</td>\n",
       "      <td>61.0</td>\n",
       "      <td>119.0</td>\n",
       "      <td>54.0</td>\n",
       "      <td>189.0</td>\n",
       "      <td>4.0</td>\n",
       "      <td>347.0</td>\n",
       "      <td>14.0</td>\n",
       "      <td>58.0</td>\n",
       "      <td>157.0</td>\n",
       "      <td>52.0</td>\n",
       "      <td>45.0</td>\n",
       "      <td>195.0</td>\n",
       "      <td>NaN</td>\n",
       "      <td>NaN</td>\n",
       "    </tr>\n",
       "    <tr>\n",
       "      <th>14</th>\n",
       "      <td>MaryFisher</td>\n",
       "      <td>89.0</td>\n",
       "      <td>121.0</td>\n",
       "      <td>54.0</td>\n",
       "      <td>139.0</td>\n",
       "      <td>67.0</td>\n",
       "      <td>110.0</td>\n",
       "      <td>NaN</td>\n",
       "      <td>250.0</td>\n",
       "      <td>19.0</td>\n",
       "      <td>72.0</td>\n",
       "      <td>237.0</td>\n",
       "      <td>61.0</td>\n",
       "      <td>43.0</td>\n",
       "      <td>182.0</td>\n",
       "      <td>NaN</td>\n",
       "      <td>NaN</td>\n",
       "    </tr>\n",
       "    <tr>\n",
       "      <th>15</th>\n",
       "      <td>Shirley Anita St. Hill Chisholm</td>\n",
       "      <td>161.0</td>\n",
       "      <td>208.0</td>\n",
       "      <td>51.0</td>\n",
       "      <td>138.0</td>\n",
       "      <td>69.0</td>\n",
       "      <td>135.0</td>\n",
       "      <td>NaN</td>\n",
       "      <td>399.0</td>\n",
       "      <td>17.0</td>\n",
       "      <td>52.0</td>\n",
       "      <td>90.0</td>\n",
       "      <td>88.0</td>\n",
       "      <td>26.0</td>\n",
       "      <td>171.0</td>\n",
       "      <td>NaN</td>\n",
       "      <td>2.0</td>\n",
       "    </tr>\n",
       "    <tr>\n",
       "      <th>16</th>\n",
       "      <td>Ursula K. Le Guin</td>\n",
       "      <td>86.0</td>\n",
       "      <td>133.0</td>\n",
       "      <td>57.0</td>\n",
       "      <td>93.0</td>\n",
       "      <td>63.0</td>\n",
       "      <td>86.0</td>\n",
       "      <td>5.0</td>\n",
       "      <td>211.0</td>\n",
       "      <td>3.0</td>\n",
       "      <td>44.0</td>\n",
       "      <td>188.0</td>\n",
       "      <td>32.0</td>\n",
       "      <td>43.0</td>\n",
       "      <td>171.0</td>\n",
       "      <td>NaN</td>\n",
       "      <td>1.0</td>\n",
       "    </tr>\n",
       "  </tbody>\n",
       "</table>\n",
       "</div>"
      ],
      "text/plain": [
       "                            Speaker    ADJ    ADP    ADV    AUX  CCONJ  \\\n",
       "0                        Anita Hill  145.0  345.0   99.0  158.0   81.0   \n",
       "1                      Ann Richards  158.0  245.0  104.0  217.0  157.0   \n",
       "2                  Anna Howard Shaw  501.0  991.0  448.0  796.0  480.0   \n",
       "3           Barbara Charline Jordan  110.0  166.0   48.0  144.0   52.0   \n",
       "4               Barbara Pierce Bush   77.0  106.0   62.0   95.0   54.0   \n",
       "5               Carrie Chapman Catt  255.0  436.0  128.0  275.0  152.0   \n",
       "6                 Eleanor Roosevelt  222.0  376.0   86.0  172.0  101.0   \n",
       "7                  Elizabeth Glaser   46.0   93.0   46.0   87.0   48.0   \n",
       "8            Elizabeth Gurley Flynn  526.0  998.0  271.0  488.0  329.0   \n",
       "9                      Emma Goldman  319.0  602.0  199.0  409.0  214.0   \n",
       "10                Geraldine Ferraro   99.0  179.0   40.0  119.0   57.0   \n",
       "11           Hillary Rodham Clinton  143.0  268.0  102.0  157.0  137.0   \n",
       "12             Margaret Chase Smith  152.0  221.0   92.0  129.0   71.0   \n",
       "13                  Margaret Sanger  137.0  180.0   61.0  119.0   54.0   \n",
       "14                       MaryFisher   89.0  121.0   54.0  139.0   67.0   \n",
       "15  Shirley Anita St. Hill Chisholm  161.0  208.0   51.0  138.0   69.0   \n",
       "16                Ursula K. Le Guin   86.0  133.0   57.0   93.0   63.0   \n",
       "\n",
       "       DET  INTJ    NOUN   NUM   PART    PRON  PROPN  SCONJ    VERB  PUNCT  \\\n",
       "0    215.0   2.0   396.0  31.0   67.0   372.0  159.0   79.0   309.0    NaN   \n",
       "1    215.0   8.0   458.0  19.0  101.0   438.0  129.0  107.0   411.0    NaN   \n",
       "2   1036.0  12.0  1660.0  70.0  352.0  1287.0  244.0  422.0  1252.0    NaN   \n",
       "3    212.0   2.0   307.0  12.0   61.0   182.0  106.0   60.0   218.0    NaN   \n",
       "4     98.0   3.0   208.0  14.0   40.0   159.0   56.0   26.0   158.0    1.0   \n",
       "5    396.0   1.0   782.0  29.0   78.0   322.0  131.0   89.0   420.0    NaN   \n",
       "6    322.0   1.0   576.0  17.0   80.0   233.0  144.0   58.0   272.0    NaN   \n",
       "7     81.0   1.0   184.0  10.0   58.0   174.0   65.0   41.0   160.0    1.0   \n",
       "8    765.0   6.0  1575.0  95.0  195.0   866.0  640.0  190.0   891.0    1.0   \n",
       "9    554.0   5.0   968.0  33.0  185.0   568.0  244.0  181.0   578.0    NaN   \n",
       "10   158.0   NaN   322.0   9.0   45.0   216.0  146.0   48.0   214.0    1.0   \n",
       "11   201.0   NaN   567.0  11.0   83.0   228.0   48.0   59.0   311.0    NaN   \n",
       "12   190.0   NaN   312.0   7.0   48.0   193.0  145.0   45.0   192.0    NaN   \n",
       "13   189.0   4.0   347.0  14.0   58.0   157.0   52.0   45.0   195.0    NaN   \n",
       "14   110.0   NaN   250.0  19.0   72.0   237.0   61.0   43.0   182.0    NaN   \n",
       "15   135.0   NaN   399.0  17.0   52.0    90.0   88.0   26.0   171.0    NaN   \n",
       "16    86.0   5.0   211.0   3.0   44.0   188.0   32.0   43.0   171.0    NaN   \n",
       "\n",
       "      X  \n",
       "0   NaN  \n",
       "1   NaN  \n",
       "2   NaN  \n",
       "3   NaN  \n",
       "4   NaN  \n",
       "5   NaN  \n",
       "6   NaN  \n",
       "7   NaN  \n",
       "8   2.0  \n",
       "9   NaN  \n",
       "10  NaN  \n",
       "11  NaN  \n",
       "12  NaN  \n",
       "13  NaN  \n",
       "14  NaN  \n",
       "15  2.0  \n",
       "16  1.0  "
      ]
     },
     "execution_count": 126,
     "metadata": {},
     "output_type": "execute_result"
    }
   ],
   "source": [
    "# Get average part of speech counts used in speech of each speaker\n",
    "average_pos_df = pos_counts.groupby(['Speaker']).mean()\n",
    "\n",
    "# Round calculations to the nearest whole number\n",
    "average_pos_df = average_pos_df.round(0)\n",
    "\n",
    "# Reset index to improve DataFrame readability\n",
    "average_pos_df = average_pos_df.reset_index()\n",
    "\n",
    "# Show dataframe\n",
    "average_pos_df"
   ]
  },
  {
   "cell_type": "code",
   "execution_count": 127,
   "id": "6a67ccbd-4183-494b-bd14-d98c6eb31f10",
   "metadata": {},
   "outputs": [
    {
     "data": {
      "application/vnd.plotly.v1+json": {
       "config": {
        "plotlyServerURL": "https://plot.ly"
       },
       "data": [
        {
         "alignmentgroup": "True",
         "hovertemplate": "variable=ADJ<br>Speaker=%{x}<br>value=%{y}<extra></extra>",
         "legendgroup": "ADJ",
         "marker": {
          "color": "#636efa",
          "pattern": {
           "shape": ""
          }
         },
         "name": "ADJ",
         "offsetgroup": "ADJ",
         "orientation": "v",
         "showlegend": true,
         "textposition": "auto",
         "type": "bar",
         "x": [
          "Anita Hill",
          "Ann Richards",
          "Anna Howard Shaw",
          "Barbara Charline Jordan",
          "Barbara Pierce Bush",
          "Carrie Chapman Catt",
          "Eleanor Roosevelt",
          "Elizabeth Glaser",
          "Elizabeth Gurley Flynn",
          "Emma Goldman",
          "Geraldine Ferraro",
          "Hillary Rodham Clinton",
          "Margaret Chase Smith",
          "Margaret Sanger",
          "MaryFisher",
          "Shirley Anita St. Hill Chisholm",
          "Ursula K. Le Guin"
         ],
         "xaxis": "x",
         "y": [
          145,
          158,
          501,
          110,
          77,
          255,
          222,
          46,
          526,
          319,
          99,
          143,
          152,
          137,
          89,
          161,
          86
         ],
         "yaxis": "y"
        },
        {
         "alignmentgroup": "True",
         "hovertemplate": "variable=VERB<br>Speaker=%{x}<br>value=%{y}<extra></extra>",
         "legendgroup": "VERB",
         "marker": {
          "color": "#EF553B",
          "pattern": {
           "shape": ""
          }
         },
         "name": "VERB",
         "offsetgroup": "VERB",
         "orientation": "v",
         "showlegend": true,
         "textposition": "auto",
         "type": "bar",
         "x": [
          "Anita Hill",
          "Ann Richards",
          "Anna Howard Shaw",
          "Barbara Charline Jordan",
          "Barbara Pierce Bush",
          "Carrie Chapman Catt",
          "Eleanor Roosevelt",
          "Elizabeth Glaser",
          "Elizabeth Gurley Flynn",
          "Emma Goldman",
          "Geraldine Ferraro",
          "Hillary Rodham Clinton",
          "Margaret Chase Smith",
          "Margaret Sanger",
          "MaryFisher",
          "Shirley Anita St. Hill Chisholm",
          "Ursula K. Le Guin"
         ],
         "xaxis": "x",
         "y": [
          309,
          411,
          1252,
          218,
          158,
          420,
          272,
          160,
          891,
          578,
          214,
          311,
          192,
          195,
          182,
          171,
          171
         ],
         "yaxis": "y"
        },
        {
         "alignmentgroup": "True",
         "hovertemplate": "variable=NOUN<br>Speaker=%{x}<br>value=%{y}<extra></extra>",
         "legendgroup": "NOUN",
         "marker": {
          "color": "#00cc96",
          "pattern": {
           "shape": ""
          }
         },
         "name": "NOUN",
         "offsetgroup": "NOUN",
         "orientation": "v",
         "showlegend": true,
         "textposition": "auto",
         "type": "bar",
         "x": [
          "Anita Hill",
          "Ann Richards",
          "Anna Howard Shaw",
          "Barbara Charline Jordan",
          "Barbara Pierce Bush",
          "Carrie Chapman Catt",
          "Eleanor Roosevelt",
          "Elizabeth Glaser",
          "Elizabeth Gurley Flynn",
          "Emma Goldman",
          "Geraldine Ferraro",
          "Hillary Rodham Clinton",
          "Margaret Chase Smith",
          "Margaret Sanger",
          "MaryFisher",
          "Shirley Anita St. Hill Chisholm",
          "Ursula K. Le Guin"
         ],
         "xaxis": "x",
         "y": [
          396,
          458,
          1660,
          307,
          208,
          782,
          576,
          184,
          1575,
          968,
          322,
          567,
          312,
          347,
          250,
          399,
          211
         ],
         "yaxis": "y"
        },
        {
         "alignmentgroup": "True",
         "hovertemplate": "variable=PRON<br>Speaker=%{x}<br>value=%{y}<extra></extra>",
         "legendgroup": "PRON",
         "marker": {
          "color": "#ab63fa",
          "pattern": {
           "shape": ""
          }
         },
         "name": "PRON",
         "offsetgroup": "PRON",
         "orientation": "v",
         "showlegend": true,
         "textposition": "auto",
         "type": "bar",
         "x": [
          "Anita Hill",
          "Ann Richards",
          "Anna Howard Shaw",
          "Barbara Charline Jordan",
          "Barbara Pierce Bush",
          "Carrie Chapman Catt",
          "Eleanor Roosevelt",
          "Elizabeth Glaser",
          "Elizabeth Gurley Flynn",
          "Emma Goldman",
          "Geraldine Ferraro",
          "Hillary Rodham Clinton",
          "Margaret Chase Smith",
          "Margaret Sanger",
          "MaryFisher",
          "Shirley Anita St. Hill Chisholm",
          "Ursula K. Le Guin"
         ],
         "xaxis": "x",
         "y": [
          372,
          438,
          1287,
          182,
          159,
          322,
          233,
          174,
          866,
          568,
          216,
          228,
          193,
          157,
          237,
          90,
          188
         ],
         "yaxis": "y"
        }
       ],
       "layout": {
        "autosize": true,
        "barmode": "group",
        "legend": {
         "title": {
          "text": "variable"
         },
         "tracegroupgap": 0
        },
        "template": {
         "data": {
          "bar": [
           {
            "error_x": {
             "color": "#2a3f5f"
            },
            "error_y": {
             "color": "#2a3f5f"
            },
            "marker": {
             "line": {
              "color": "#E5ECF6",
              "width": 0.5
             },
             "pattern": {
              "fillmode": "overlay",
              "size": 10,
              "solidity": 0.2
             }
            },
            "type": "bar"
           }
          ],
          "barpolar": [
           {
            "marker": {
             "line": {
              "color": "#E5ECF6",
              "width": 0.5
             },
             "pattern": {
              "fillmode": "overlay",
              "size": 10,
              "solidity": 0.2
             }
            },
            "type": "barpolar"
           }
          ],
          "carpet": [
           {
            "aaxis": {
             "endlinecolor": "#2a3f5f",
             "gridcolor": "white",
             "linecolor": "white",
             "minorgridcolor": "white",
             "startlinecolor": "#2a3f5f"
            },
            "baxis": {
             "endlinecolor": "#2a3f5f",
             "gridcolor": "white",
             "linecolor": "white",
             "minorgridcolor": "white",
             "startlinecolor": "#2a3f5f"
            },
            "type": "carpet"
           }
          ],
          "choropleth": [
           {
            "colorbar": {
             "outlinewidth": 0,
             "ticks": ""
            },
            "type": "choropleth"
           }
          ],
          "contour": [
           {
            "colorbar": {
             "outlinewidth": 0,
             "ticks": ""
            },
            "colorscale": [
             [
              0,
              "#0d0887"
             ],
             [
              0.1111111111111111,
              "#46039f"
             ],
             [
              0.2222222222222222,
              "#7201a8"
             ],
             [
              0.3333333333333333,
              "#9c179e"
             ],
             [
              0.4444444444444444,
              "#bd3786"
             ],
             [
              0.5555555555555556,
              "#d8576b"
             ],
             [
              0.6666666666666666,
              "#ed7953"
             ],
             [
              0.7777777777777778,
              "#fb9f3a"
             ],
             [
              0.8888888888888888,
              "#fdca26"
             ],
             [
              1,
              "#f0f921"
             ]
            ],
            "type": "contour"
           }
          ],
          "contourcarpet": [
           {
            "colorbar": {
             "outlinewidth": 0,
             "ticks": ""
            },
            "type": "contourcarpet"
           }
          ],
          "heatmap": [
           {
            "colorbar": {
             "outlinewidth": 0,
             "ticks": ""
            },
            "colorscale": [
             [
              0,
              "#0d0887"
             ],
             [
              0.1111111111111111,
              "#46039f"
             ],
             [
              0.2222222222222222,
              "#7201a8"
             ],
             [
              0.3333333333333333,
              "#9c179e"
             ],
             [
              0.4444444444444444,
              "#bd3786"
             ],
             [
              0.5555555555555556,
              "#d8576b"
             ],
             [
              0.6666666666666666,
              "#ed7953"
             ],
             [
              0.7777777777777778,
              "#fb9f3a"
             ],
             [
              0.8888888888888888,
              "#fdca26"
             ],
             [
              1,
              "#f0f921"
             ]
            ],
            "type": "heatmap"
           }
          ],
          "heatmapgl": [
           {
            "colorbar": {
             "outlinewidth": 0,
             "ticks": ""
            },
            "colorscale": [
             [
              0,
              "#0d0887"
             ],
             [
              0.1111111111111111,
              "#46039f"
             ],
             [
              0.2222222222222222,
              "#7201a8"
             ],
             [
              0.3333333333333333,
              "#9c179e"
             ],
             [
              0.4444444444444444,
              "#bd3786"
             ],
             [
              0.5555555555555556,
              "#d8576b"
             ],
             [
              0.6666666666666666,
              "#ed7953"
             ],
             [
              0.7777777777777778,
              "#fb9f3a"
             ],
             [
              0.8888888888888888,
              "#fdca26"
             ],
             [
              1,
              "#f0f921"
             ]
            ],
            "type": "heatmapgl"
           }
          ],
          "histogram": [
           {
            "marker": {
             "pattern": {
              "fillmode": "overlay",
              "size": 10,
              "solidity": 0.2
             }
            },
            "type": "histogram"
           }
          ],
          "histogram2d": [
           {
            "colorbar": {
             "outlinewidth": 0,
             "ticks": ""
            },
            "colorscale": [
             [
              0,
              "#0d0887"
             ],
             [
              0.1111111111111111,
              "#46039f"
             ],
             [
              0.2222222222222222,
              "#7201a8"
             ],
             [
              0.3333333333333333,
              "#9c179e"
             ],
             [
              0.4444444444444444,
              "#bd3786"
             ],
             [
              0.5555555555555556,
              "#d8576b"
             ],
             [
              0.6666666666666666,
              "#ed7953"
             ],
             [
              0.7777777777777778,
              "#fb9f3a"
             ],
             [
              0.8888888888888888,
              "#fdca26"
             ],
             [
              1,
              "#f0f921"
             ]
            ],
            "type": "histogram2d"
           }
          ],
          "histogram2dcontour": [
           {
            "colorbar": {
             "outlinewidth": 0,
             "ticks": ""
            },
            "colorscale": [
             [
              0,
              "#0d0887"
             ],
             [
              0.1111111111111111,
              "#46039f"
             ],
             [
              0.2222222222222222,
              "#7201a8"
             ],
             [
              0.3333333333333333,
              "#9c179e"
             ],
             [
              0.4444444444444444,
              "#bd3786"
             ],
             [
              0.5555555555555556,
              "#d8576b"
             ],
             [
              0.6666666666666666,
              "#ed7953"
             ],
             [
              0.7777777777777778,
              "#fb9f3a"
             ],
             [
              0.8888888888888888,
              "#fdca26"
             ],
             [
              1,
              "#f0f921"
             ]
            ],
            "type": "histogram2dcontour"
           }
          ],
          "mesh3d": [
           {
            "colorbar": {
             "outlinewidth": 0,
             "ticks": ""
            },
            "type": "mesh3d"
           }
          ],
          "parcoords": [
           {
            "line": {
             "colorbar": {
              "outlinewidth": 0,
              "ticks": ""
             }
            },
            "type": "parcoords"
           }
          ],
          "pie": [
           {
            "automargin": true,
            "type": "pie"
           }
          ],
          "scatter": [
           {
            "fillpattern": {
             "fillmode": "overlay",
             "size": 10,
             "solidity": 0.2
            },
            "type": "scatter"
           }
          ],
          "scatter3d": [
           {
            "line": {
             "colorbar": {
              "outlinewidth": 0,
              "ticks": ""
             }
            },
            "marker": {
             "colorbar": {
              "outlinewidth": 0,
              "ticks": ""
             }
            },
            "type": "scatter3d"
           }
          ],
          "scattercarpet": [
           {
            "marker": {
             "colorbar": {
              "outlinewidth": 0,
              "ticks": ""
             }
            },
            "type": "scattercarpet"
           }
          ],
          "scattergeo": [
           {
            "marker": {
             "colorbar": {
              "outlinewidth": 0,
              "ticks": ""
             }
            },
            "type": "scattergeo"
           }
          ],
          "scattergl": [
           {
            "marker": {
             "colorbar": {
              "outlinewidth": 0,
              "ticks": ""
             }
            },
            "type": "scattergl"
           }
          ],
          "scattermapbox": [
           {
            "marker": {
             "colorbar": {
              "outlinewidth": 0,
              "ticks": ""
             }
            },
            "type": "scattermapbox"
           }
          ],
          "scatterpolar": [
           {
            "marker": {
             "colorbar": {
              "outlinewidth": 0,
              "ticks": ""
             }
            },
            "type": "scatterpolar"
           }
          ],
          "scatterpolargl": [
           {
            "marker": {
             "colorbar": {
              "outlinewidth": 0,
              "ticks": ""
             }
            },
            "type": "scatterpolargl"
           }
          ],
          "scatterternary": [
           {
            "marker": {
             "colorbar": {
              "outlinewidth": 0,
              "ticks": ""
             }
            },
            "type": "scatterternary"
           }
          ],
          "surface": [
           {
            "colorbar": {
             "outlinewidth": 0,
             "ticks": ""
            },
            "colorscale": [
             [
              0,
              "#0d0887"
             ],
             [
              0.1111111111111111,
              "#46039f"
             ],
             [
              0.2222222222222222,
              "#7201a8"
             ],
             [
              0.3333333333333333,
              "#9c179e"
             ],
             [
              0.4444444444444444,
              "#bd3786"
             ],
             [
              0.5555555555555556,
              "#d8576b"
             ],
             [
              0.6666666666666666,
              "#ed7953"
             ],
             [
              0.7777777777777778,
              "#fb9f3a"
             ],
             [
              0.8888888888888888,
              "#fdca26"
             ],
             [
              1,
              "#f0f921"
             ]
            ],
            "type": "surface"
           }
          ],
          "table": [
           {
            "cells": {
             "fill": {
              "color": "#EBF0F8"
             },
             "line": {
              "color": "white"
             }
            },
            "header": {
             "fill": {
              "color": "#C8D4E3"
             },
             "line": {
              "color": "white"
             }
            },
            "type": "table"
           }
          ]
         },
         "layout": {
          "annotationdefaults": {
           "arrowcolor": "#2a3f5f",
           "arrowhead": 0,
           "arrowwidth": 1
          },
          "autotypenumbers": "strict",
          "coloraxis": {
           "colorbar": {
            "outlinewidth": 0,
            "ticks": ""
           }
          },
          "colorscale": {
           "diverging": [
            [
             0,
             "#8e0152"
            ],
            [
             0.1,
             "#c51b7d"
            ],
            [
             0.2,
             "#de77ae"
            ],
            [
             0.3,
             "#f1b6da"
            ],
            [
             0.4,
             "#fde0ef"
            ],
            [
             0.5,
             "#f7f7f7"
            ],
            [
             0.6,
             "#e6f5d0"
            ],
            [
             0.7,
             "#b8e186"
            ],
            [
             0.8,
             "#7fbc41"
            ],
            [
             0.9,
             "#4d9221"
            ],
            [
             1,
             "#276419"
            ]
           ],
           "sequential": [
            [
             0,
             "#0d0887"
            ],
            [
             0.1111111111111111,
             "#46039f"
            ],
            [
             0.2222222222222222,
             "#7201a8"
            ],
            [
             0.3333333333333333,
             "#9c179e"
            ],
            [
             0.4444444444444444,
             "#bd3786"
            ],
            [
             0.5555555555555556,
             "#d8576b"
            ],
            [
             0.6666666666666666,
             "#ed7953"
            ],
            [
             0.7777777777777778,
             "#fb9f3a"
            ],
            [
             0.8888888888888888,
             "#fdca26"
            ],
            [
             1,
             "#f0f921"
            ]
           ],
           "sequentialminus": [
            [
             0,
             "#0d0887"
            ],
            [
             0.1111111111111111,
             "#46039f"
            ],
            [
             0.2222222222222222,
             "#7201a8"
            ],
            [
             0.3333333333333333,
             "#9c179e"
            ],
            [
             0.4444444444444444,
             "#bd3786"
            ],
            [
             0.5555555555555556,
             "#d8576b"
            ],
            [
             0.6666666666666666,
             "#ed7953"
            ],
            [
             0.7777777777777778,
             "#fb9f3a"
            ],
            [
             0.8888888888888888,
             "#fdca26"
            ],
            [
             1,
             "#f0f921"
            ]
           ]
          },
          "colorway": [
           "#636efa",
           "#EF553B",
           "#00cc96",
           "#ab63fa",
           "#FFA15A",
           "#19d3f3",
           "#FF6692",
           "#B6E880",
           "#FF97FF",
           "#FECB52"
          ],
          "font": {
           "color": "#2a3f5f"
          },
          "geo": {
           "bgcolor": "white",
           "lakecolor": "white",
           "landcolor": "#E5ECF6",
           "showlakes": true,
           "showland": true,
           "subunitcolor": "white"
          },
          "hoverlabel": {
           "align": "left"
          },
          "hovermode": "closest",
          "mapbox": {
           "style": "light"
          },
          "paper_bgcolor": "white",
          "plot_bgcolor": "#E5ECF6",
          "polar": {
           "angularaxis": {
            "gridcolor": "white",
            "linecolor": "white",
            "ticks": ""
           },
           "bgcolor": "#E5ECF6",
           "radialaxis": {
            "gridcolor": "white",
            "linecolor": "white",
            "ticks": ""
           }
          },
          "scene": {
           "xaxis": {
            "backgroundcolor": "#E5ECF6",
            "gridcolor": "white",
            "gridwidth": 2,
            "linecolor": "white",
            "showbackground": true,
            "ticks": "",
            "zerolinecolor": "white"
           },
           "yaxis": {
            "backgroundcolor": "#E5ECF6",
            "gridcolor": "white",
            "gridwidth": 2,
            "linecolor": "white",
            "showbackground": true,
            "ticks": "",
            "zerolinecolor": "white"
           },
           "zaxis": {
            "backgroundcolor": "#E5ECF6",
            "gridcolor": "white",
            "gridwidth": 2,
            "linecolor": "white",
            "showbackground": true,
            "ticks": "",
            "zerolinecolor": "white"
           }
          },
          "shapedefaults": {
           "line": {
            "color": "#2a3f5f"
           }
          },
          "ternary": {
           "aaxis": {
            "gridcolor": "white",
            "linecolor": "white",
            "ticks": ""
           },
           "baxis": {
            "gridcolor": "white",
            "linecolor": "white",
            "ticks": ""
           },
           "bgcolor": "#E5ECF6",
           "caxis": {
            "gridcolor": "white",
            "linecolor": "white",
            "ticks": ""
           }
          },
          "title": {
           "x": 0.05
          },
          "xaxis": {
           "automargin": true,
           "gridcolor": "white",
           "linecolor": "white",
           "ticks": "",
           "title": {
            "standoff": 15
           },
           "zerolinecolor": "white",
           "zerolinewidth": 2
          },
          "yaxis": {
           "automargin": true,
           "gridcolor": "white",
           "linecolor": "white",
           "ticks": "",
           "title": {
            "standoff": 15
           },
           "zerolinecolor": "white",
           "zerolinewidth": 2
          }
         }
        },
        "title": {
         "text": "Average Part-of-Speech Use in different speakers"
        },
        "xaxis": {
         "anchor": "y",
         "autorange": true,
         "domain": [
          0,
          1
         ],
         "range": [
          -0.5,
          16.5
         ],
         "title": {
          "text": "Speaker"
         },
         "type": "category"
        },
        "yaxis": {
         "anchor": "x",
         "autorange": true,
         "domain": [
          0,
          1
         ],
         "range": [
          0,
          1747.3684210526317
         ],
         "title": {
          "text": "value"
         },
         "type": "linear"
        }
       }
      },
      "image/png": "[encoded data removed]",
      "text/html": [
       "<div>                            <div id=\"a123547b-3e10-4c4d-ba55-88a391356c97\" class=\"plotly-graph-div\" style=\"height:525px; width:100%;\"></div>            <script type=\"text/javascript\">                require([\"plotly\"], function(Plotly) {                    window.PLOTLYENV=window.PLOTLYENV || {};                                    if (document.getElementById(\"a123547b-3e10-4c4d-ba55-88a391356c97\")) {                    Plotly.newPlot(                        \"a123547b-3e10-4c4d-ba55-88a391356c97\",                        [{\"alignmentgroup\":\"True\",\"hovertemplate\":\"variable=ADJ<br>Speaker=%{x}<br>value=%{y}<extra></extra>\",\"legendgroup\":\"ADJ\",\"marker\":{\"color\":\"#636efa\",\"pattern\":{\"shape\":\"\"}},\"name\":\"ADJ\",\"offsetgroup\":\"ADJ\",\"orientation\":\"v\",\"showlegend\":true,\"textposition\":\"auto\",\"x\":[\"Anita Hill\",\"Ann Richards\",\"Anna Howard Shaw\",\"Barbara Charline Jordan\",\"Barbara Pierce Bush\",\"Carrie Chapman Catt\",\"Eleanor Roosevelt\",\"Elizabeth Glaser\",\"Elizabeth Gurley Flynn\",\"Emma Goldman\",\"Geraldine Ferraro\",\"Hillary Rodham Clinton\",\"Margaret Chase Smith\",\"Margaret Sanger\",\"MaryFisher\",\"Shirley Anita St. Hill Chisholm\",\"Ursula K. Le Guin\"],\"xaxis\":\"x\",\"y\":[145.0,158.0,501.0,110.0,77.0,255.0,222.0,46.0,526.0,319.0,99.0,143.0,152.0,137.0,89.0,161.0,86.0],\"yaxis\":\"y\",\"type\":\"bar\"},{\"alignmentgroup\":\"True\",\"hovertemplate\":\"variable=VERB<br>Speaker=%{x}<br>value=%{y}<extra></extra>\",\"legendgroup\":\"VERB\",\"marker\":{\"color\":\"#EF553B\",\"pattern\":{\"shape\":\"\"}},\"name\":\"VERB\",\"offsetgroup\":\"VERB\",\"orientation\":\"v\",\"showlegend\":true,\"textposition\":\"auto\",\"x\":[\"Anita Hill\",\"Ann Richards\",\"Anna Howard Shaw\",\"Barbara Charline Jordan\",\"Barbara Pierce Bush\",\"Carrie Chapman Catt\",\"Eleanor Roosevelt\",\"Elizabeth Glaser\",\"Elizabeth Gurley Flynn\",\"Emma Goldman\",\"Geraldine Ferraro\",\"Hillary Rodham Clinton\",\"Margaret Chase Smith\",\"Margaret Sanger\",\"MaryFisher\",\"Shirley Anita St. Hill Chisholm\",\"Ursula K. Le Guin\"],\"xaxis\":\"x\",\"y\":[309.0,411.0,1252.0,218.0,158.0,420.0,272.0,160.0,891.0,578.0,214.0,311.0,192.0,195.0,182.0,171.0,171.0],\"yaxis\":\"y\",\"type\":\"bar\"},{\"alignmentgroup\":\"True\",\"hovertemplate\":\"variable=NOUN<br>Speaker=%{x}<br>value=%{y}<extra></extra>\",\"legendgroup\":\"NOUN\",\"marker\":{\"color\":\"#00cc96\",\"pattern\":{\"shape\":\"\"}},\"name\":\"NOUN\",\"offsetgroup\":\"NOUN\",\"orientation\":\"v\",\"showlegend\":true,\"textposition\":\"auto\",\"x\":[\"Anita Hill\",\"Ann Richards\",\"Anna Howard Shaw\",\"Barbara Charline Jordan\",\"Barbara Pierce Bush\",\"Carrie Chapman Catt\",\"Eleanor Roosevelt\",\"Elizabeth Glaser\",\"Elizabeth Gurley Flynn\",\"Emma Goldman\",\"Geraldine Ferraro\",\"Hillary Rodham Clinton\",\"Margaret Chase Smith\",\"Margaret Sanger\",\"MaryFisher\",\"Shirley Anita St. Hill Chisholm\",\"Ursula K. Le Guin\"],\"xaxis\":\"x\",\"y\":[396.0,458.0,1660.0,307.0,208.0,782.0,576.0,184.0,1575.0,968.0,322.0,567.0,312.0,347.0,250.0,399.0,211.0],\"yaxis\":\"y\",\"type\":\"bar\"},{\"alignmentgroup\":\"True\",\"hovertemplate\":\"variable=PRON<br>Speaker=%{x}<br>value=%{y}<extra></extra>\",\"legendgroup\":\"PRON\",\"marker\":{\"color\":\"#ab63fa\",\"pattern\":{\"shape\":\"\"}},\"name\":\"PRON\",\"offsetgroup\":\"PRON\",\"orientation\":\"v\",\"showlegend\":true,\"textposition\":\"auto\",\"x\":[\"Anita Hill\",\"Ann Richards\",\"Anna Howard Shaw\",\"Barbara Charline Jordan\",\"Barbara Pierce Bush\",\"Carrie Chapman Catt\",\"Eleanor Roosevelt\",\"Elizabeth Glaser\",\"Elizabeth Gurley Flynn\",\"Emma Goldman\",\"Geraldine Ferraro\",\"Hillary Rodham Clinton\",\"Margaret Chase Smith\",\"Margaret Sanger\",\"MaryFisher\",\"Shirley Anita St. Hill Chisholm\",\"Ursula K. Le Guin\"],\"xaxis\":\"x\",\"y\":[372.0,438.0,1287.0,182.0,159.0,322.0,233.0,174.0,866.0,568.0,216.0,228.0,193.0,157.0,237.0,90.0,188.0],\"yaxis\":\"y\",\"type\":\"bar\"}],                        {\"template\":{\"data\":{\"histogram2dcontour\":[{\"type\":\"histogram2dcontour\",\"colorbar\":{\"outlinewidth\":0,\"ticks\":\"\"},\"colorscale\":[[0.0,\"#0d0887\"],[0.1111111111111111,\"#46039f\"],[0.2222222222222222,\"#7201a8\"],[0.3333333333333333,\"#9c179e\"],[0.4444444444444444,\"#bd3786\"],[0.5555555555555556,\"#d8576b\"],[0.6666666666666666,\"#ed7953\"],[0.7777777777777778,\"#fb9f3a\"],[0.8888888888888888,\"#fdca26\"],[1.0,\"#f0f921\"]]}],\"choropleth\":[{\"type\":\"choropleth\",\"colorbar\":{\"outlinewidth\":0,\"ticks\":\"\"}}],\"histogram2d\":[{\"type\":\"histogram2d\",\"colorbar\":{\"outlinewidth\":0,\"ticks\":\"\"},\"colorscale\":[[0.0,\"#0d0887\"],[0.1111111111111111,\"#46039f\"],[0.2222222222222222,\"#7201a8\"],[0.3333333333333333,\"#9c179e\"],[0.4444444444444444,\"#bd3786\"],[0.5555555555555556,\"#d8576b\"],[0.6666666666666666,\"#ed7953\"],[0.7777777777777778,\"#fb9f3a\"],[0.8888888888888888,\"#fdca26\"],[1.0,\"#f0f921\"]]}],\"heatmap\":[{\"type\":\"heatmap\",\"colorbar\":{\"outlinewidth\":0,\"ticks\":\"\"},\"colorscale\":[[0.0,\"#0d0887\"],[0.1111111111111111,\"#46039f\"],[0.2222222222222222,\"#7201a8\"],[0.3333333333333333,\"#9c179e\"],[0.4444444444444444,\"#bd3786\"],[0.5555555555555556,\"#d8576b\"],[0.6666666666666666,\"#ed7953\"],[0.7777777777777778,\"#fb9f3a\"],[0.8888888888888888,\"#fdca26\"],[1.0,\"#f0f921\"]]}],\"heatmapgl\":[{\"type\":\"heatmapgl\",\"colorbar\":{\"outlinewidth\":0,\"ticks\":\"\"},\"colorscale\":[[0.0,\"#0d0887\"],[0.1111111111111111,\"#46039f\"],[0.2222222222222222,\"#7201a8\"],[0.3333333333333333,\"#9c179e\"],[0.4444444444444444,\"#bd3786\"],[0.5555555555555556,\"#d8576b\"],[0.6666666666666666,\"#ed7953\"],[0.7777777777777778,\"#fb9f3a\"],[0.8888888888888888,\"#fdca26\"],[1.0,\"#f0f921\"]]}],\"contourcarpet\":[{\"type\":\"contourcarpet\",\"colorbar\":{\"outlinewidth\":0,\"ticks\":\"\"}}],\"contour\":[{\"type\":\"contour\",\"colorbar\":{\"outlinewidth\":0,\"ticks\":\"\"},\"colorscale\":[[0.0,\"#0d0887\"],[0.1111111111111111,\"#46039f\"],[0.2222222222222222,\"#7201a8\"],[0.3333333333333333,\"#9c179e\"],[0.4444444444444444,\"#bd3786\"],[0.5555555555555556,\"#d8576b\"],[0.6666666666666666,\"#ed7953\"],[0.7777777777777778,\"#fb9f3a\"],[0.8888888888888888,\"#fdca26\"],[1.0,\"#f0f921\"]]}],\"surface\":[{\"type\":\"surface\",\"colorbar\":{\"outlinewidth\":0,\"ticks\":\"\"},\"colorscale\":[[0.0,\"#0d0887\"],[0.1111111111111111,\"#46039f\"],[0.2222222222222222,\"#7201a8\"],[0.3333333333333333,\"#9c179e\"],[0.4444444444444444,\"#bd3786\"],[0.5555555555555556,\"#d8576b\"],[0.6666666666666666,\"#ed7953\"],[0.7777777777777778,\"#fb9f3a\"],[0.8888888888888888,\"#fdca26\"],[1.0,\"#f0f921\"]]}],\"mesh3d\":[{\"type\":\"mesh3d\",\"colorbar\":{\"outlinewidth\":0,\"ticks\":\"\"}}],\"scatter\":[{\"fillpattern\":{\"fillmode\":\"overlay\",\"size\":10,\"solidity\":0.2},\"type\":\"scatter\"}],\"parcoords\":[{\"type\":\"parcoords\",\"line\":{\"colorbar\":{\"outlinewidth\":0,\"ticks\":\"\"}}}],\"scatterpolargl\":[{\"type\":\"scatterpolargl\",\"marker\":{\"colorbar\":{\"outlinewidth\":0,\"ticks\":\"\"}}}],\"bar\":[{\"error_x\":{\"color\":\"#2a3f5f\"},\"error_y\":{\"color\":\"#2a3f5f\"},\"marker\":{\"line\":{\"color\":\"#E5ECF6\",\"width\":0.5},\"pattern\":{\"fillmode\":\"overlay\",\"size\":10,\"solidity\":0.2}},\"type\":\"bar\"}],\"scattergeo\":[{\"type\":\"scattergeo\",\"marker\":{\"colorbar\":{\"outlinewidth\":0,\"ticks\":\"\"}}}],\"scatterpolar\":[{\"type\":\"scatterpolar\",\"marker\":{\"colorbar\":{\"outlinewidth\":0,\"ticks\":\"\"}}}],\"histogram\":[{\"marker\":{\"pattern\":{\"fillmode\":\"overlay\",\"size\":10,\"solidity\":0.2}},\"type\":\"histogram\"}],\"scattergl\":[{\"type\":\"scattergl\",\"marker\":{\"colorbar\":{\"outlinewidth\":0,\"ticks\":\"\"}}}],\"scatter3d\":[{\"type\":\"scatter3d\",\"line\":{\"colorbar\":{\"outlinewidth\":0,\"ticks\":\"\"}},\"marker\":{\"colorbar\":{\"outlinewidth\":0,\"ticks\":\"\"}}}],\"scattermapbox\":[{\"type\":\"scattermapbox\",\"marker\":{\"colorbar\":{\"outlinewidth\":0,\"ticks\":\"\"}}}],\"scatterternary\":[{\"type\":\"scatterternary\",\"marker\":{\"colorbar\":{\"outlinewidth\":0,\"ticks\":\"\"}}}],\"scattercarpet\":[{\"type\":\"scattercarpet\",\"marker\":{\"colorbar\":{\"outlinewidth\":0,\"ticks\":\"\"}}}],\"carpet\":[{\"aaxis\":{\"endlinecolor\":\"#2a3f5f\",\"gridcolor\":\"white\",\"linecolor\":\"white\",\"minorgridcolor\":\"white\",\"startlinecolor\":\"#2a3f5f\"},\"baxis\":{\"endlinecolor\":\"#2a3f5f\",\"gridcolor\":\"white\",\"linecolor\":\"white\",\"minorgridcolor\":\"white\",\"startlinecolor\":\"#2a3f5f\"},\"type\":\"carpet\"}],\"table\":[{\"cells\":{\"fill\":{\"color\":\"#EBF0F8\"},\"line\":{\"color\":\"white\"}},\"header\":{\"fill\":{\"color\":\"#C8D4E3\"},\"line\":{\"color\":\"white\"}},\"type\":\"table\"}],\"barpolar\":[{\"marker\":{\"line\":{\"color\":\"#E5ECF6\",\"width\":0.5},\"pattern\":{\"fillmode\":\"overlay\",\"size\":10,\"solidity\":0.2}},\"type\":\"barpolar\"}],\"pie\":[{\"automargin\":true,\"type\":\"pie\"}]},\"layout\":{\"autotypenumbers\":\"strict\",\"colorway\":[\"#636efa\",\"#EF553B\",\"#00cc96\",\"#ab63fa\",\"#FFA15A\",\"#19d3f3\",\"#FF6692\",\"#B6E880\",\"#FF97FF\",\"#FECB52\"],\"font\":{\"color\":\"#2a3f5f\"},\"hovermode\":\"closest\",\"hoverlabel\":{\"align\":\"left\"},\"paper_bgcolor\":\"white\",\"plot_bgcolor\":\"#E5ECF6\",\"polar\":{\"bgcolor\":\"#E5ECF6\",\"angularaxis\":{\"gridcolor\":\"white\",\"linecolor\":\"white\",\"ticks\":\"\"},\"radialaxis\":{\"gridcolor\":\"white\",\"linecolor\":\"white\",\"ticks\":\"\"}},\"ternary\":{\"bgcolor\":\"#E5ECF6\",\"aaxis\":{\"gridcolor\":\"white\",\"linecolor\":\"white\",\"ticks\":\"\"},\"baxis\":{\"gridcolor\":\"white\",\"linecolor\":\"white\",\"ticks\":\"\"},\"caxis\":{\"gridcolor\":\"white\",\"linecolor\":\"white\",\"ticks\":\"\"}},\"coloraxis\":{\"colorbar\":{\"outlinewidth\":0,\"ticks\":\"\"}},\"colorscale\":{\"sequential\":[[0.0,\"#0d0887\"],[0.1111111111111111,\"#46039f\"],[0.2222222222222222,\"#7201a8\"],[0.3333333333333333,\"#9c179e\"],[0.4444444444444444,\"#bd3786\"],[0.5555555555555556,\"#d8576b\"],[0.6666666666666666,\"#ed7953\"],[0.7777777777777778,\"#fb9f3a\"],[0.8888888888888888,\"#fdca26\"],[1.0,\"#f0f921\"]],\"sequentialminus\":[[0.0,\"#0d0887\"],[0.1111111111111111,\"#46039f\"],[0.2222222222222222,\"#7201a8\"],[0.3333333333333333,\"#9c179e\"],[0.4444444444444444,\"#bd3786\"],[0.5555555555555556,\"#d8576b\"],[0.6666666666666666,\"#ed7953\"],[0.7777777777777778,\"#fb9f3a\"],[0.8888888888888888,\"#fdca26\"],[1.0,\"#f0f921\"]],\"diverging\":[[0,\"#8e0152\"],[0.1,\"#c51b7d\"],[0.2,\"#de77ae\"],[0.3,\"#f1b6da\"],[0.4,\"#fde0ef\"],[0.5,\"#f7f7f7\"],[0.6,\"#e6f5d0\"],[0.7,\"#b8e186\"],[0.8,\"#7fbc41\"],[0.9,\"#4d9221\"],[1,\"#276419\"]]},\"xaxis\":{\"gridcolor\":\"white\",\"linecolor\":\"white\",\"ticks\":\"\",\"title\":{\"standoff\":15},\"zerolinecolor\":\"white\",\"automargin\":true,\"zerolinewidth\":2},\"yaxis\":{\"gridcolor\":\"white\",\"linecolor\":\"white\",\"ticks\":\"\",\"title\":{\"standoff\":15},\"zerolinecolor\":\"white\",\"automargin\":true,\"zerolinewidth\":2},\"scene\":{\"xaxis\":{\"backgroundcolor\":\"#E5ECF6\",\"gridcolor\":\"white\",\"linecolor\":\"white\",\"showbackground\":true,\"ticks\":\"\",\"zerolinecolor\":\"white\",\"gridwidth\":2},\"yaxis\":{\"backgroundcolor\":\"#E5ECF6\",\"gridcolor\":\"white\",\"linecolor\":\"white\",\"showbackground\":true,\"ticks\":\"\",\"zerolinecolor\":\"white\",\"gridwidth\":2},\"zaxis\":{\"backgroundcolor\":\"#E5ECF6\",\"gridcolor\":\"white\",\"linecolor\":\"white\",\"showbackground\":true,\"ticks\":\"\",\"zerolinecolor\":\"white\",\"gridwidth\":2}},\"shapedefaults\":{\"line\":{\"color\":\"#2a3f5f\"}},\"annotationdefaults\":{\"arrowcolor\":\"#2a3f5f\",\"arrowhead\":0,\"arrowwidth\":1},\"geo\":{\"bgcolor\":\"white\",\"landcolor\":\"#E5ECF6\",\"subunitcolor\":\"white\",\"showland\":true,\"showlakes\":true,\"lakecolor\":\"white\"},\"title\":{\"x\":0.05},\"mapbox\":{\"style\":\"light\"}}},\"xaxis\":{\"anchor\":\"y\",\"domain\":[0.0,1.0],\"title\":{\"text\":\"Speaker\"}},\"yaxis\":{\"anchor\":\"x\",\"domain\":[0.0,1.0],\"title\":{\"text\":\"value\"}},\"legend\":{\"title\":{\"text\":\"variable\"},\"tracegroupgap\":0},\"title\":{\"text\":\"Average Part-of-Speech Use in different speakers\"},\"barmode\":\"group\"},                        {\"responsive\": true}                    ).then(function(){\n",
       "                            \n",
       "var gd = document.getElementById('a123547b-3e10-4c4d-ba55-88a391356c97');\n",
       "var x = new MutationObserver(function (mutations, observer) {{\n",
       "        var display = window.getComputedStyle(gd).display;\n",
       "        if (!display || display === 'none') {{\n",
       "            console.log([gd, 'removed!']);\n",
       "            Plotly.purge(gd);\n",
       "            observer.disconnect();\n",
       "        }}\n",
       "}});\n",
       "\n",
       "// Listen for the removal of the full notebook cells\n",
       "var notebookContainer = gd.closest('#notebook-container');\n",
       "if (notebookContainer) {{\n",
       "    x.observe(notebookContainer, {childList: true});\n",
       "}}\n",
       "\n",
       "// Listen for the clearing of the current output cell\n",
       "var outputEl = gd.closest('.output');\n",
       "if (outputEl) {{\n",
       "    x.observe(outputEl, {childList: true});\n",
       "}}\n",
       "\n",
       "                        })                };                });            </script>        </div>"
      ]
     },
     "metadata": {},
     "output_type": "display_data"
    }
   ],
   "source": [
    "# Use plotly to plot POS use per speaker\n",
    "fig = px.bar(average_pos_df, x=\"Speaker\", y=[\"ADJ\", 'VERB', \"NOUN\", \"PRON\"], title=\"Average Part-of-Speech Use in different speakers\", barmode='group')\n",
    "fig.show()"
   ]
  },
  {
   "cell_type": "markdown",
   "id": "fabdf4e6-cc8c-43af-990e-49aa65e00835",
   "metadata": {},
   "source": [
    "Using percentages of POS instead of counts can provide a more accurate representation of the distribution of POS in different speech, especially when analyzing texts of varying lengths. Percentages take into account the total number of words in a given text, which allows for a more meaningful comparison across texts of different lengths."
   ]
  },
  {
   "cell_type": "code",
   "execution_count": 128,
   "id": "1be8c403-0dc9-4812-94b9-448875882e7d",
   "metadata": {},
   "outputs": [
    {
     "data": {
      "text/html": [
       "<div>\n",
       "<style scoped>\n",
       "    .dataframe tbody tr th:only-of-type {\n",
       "        vertical-align: middle;\n",
       "    }\n",
       "\n",
       "    .dataframe tbody tr th {\n",
       "        vertical-align: top;\n",
       "    }\n",
       "\n",
       "    .dataframe thead th {\n",
       "        text-align: right;\n",
       "    }\n",
       "</style>\n",
       "<table border=\"1\" class=\"dataframe\">\n",
       "  <thead>\n",
       "    <tr style=\"text-align: right;\">\n",
       "      <th></th>\n",
       "      <th>Speaker</th>\n",
       "      <th>ADJ</th>\n",
       "      <th>ADP</th>\n",
       "      <th>ADV</th>\n",
       "      <th>AUX</th>\n",
       "      <th>CCONJ</th>\n",
       "      <th>DET</th>\n",
       "      <th>INTJ</th>\n",
       "      <th>NOUN</th>\n",
       "      <th>NUM</th>\n",
       "      <th>PART</th>\n",
       "      <th>PRON</th>\n",
       "      <th>PROPN</th>\n",
       "      <th>SCONJ</th>\n",
       "      <th>VERB</th>\n",
       "      <th>PUNCT</th>\n",
       "      <th>X</th>\n",
       "    </tr>\n",
       "  </thead>\n",
       "  <tbody>\n",
       "    <tr>\n",
       "      <th>0</th>\n",
       "      <td>Anita Hill</td>\n",
       "      <td>5.90</td>\n",
       "      <td>14.04</td>\n",
       "      <td>4.03</td>\n",
       "      <td>6.43</td>\n",
       "      <td>3.30</td>\n",
       "      <td>8.75</td>\n",
       "      <td>0.08</td>\n",
       "      <td>16.11</td>\n",
       "      <td>1.26</td>\n",
       "      <td>2.73</td>\n",
       "      <td>15.13</td>\n",
       "      <td>6.47</td>\n",
       "      <td>3.21</td>\n",
       "      <td>12.57</td>\n",
       "      <td>NaN</td>\n",
       "      <td>NaN</td>\n",
       "    </tr>\n",
       "    <tr>\n",
       "      <th>1</th>\n",
       "      <td>Ann Richards</td>\n",
       "      <td>5.71</td>\n",
       "      <td>8.85</td>\n",
       "      <td>3.76</td>\n",
       "      <td>7.84</td>\n",
       "      <td>5.67</td>\n",
       "      <td>7.77</td>\n",
       "      <td>0.29</td>\n",
       "      <td>16.55</td>\n",
       "      <td>0.69</td>\n",
       "      <td>3.65</td>\n",
       "      <td>15.83</td>\n",
       "      <td>4.66</td>\n",
       "      <td>3.87</td>\n",
       "      <td>14.85</td>\n",
       "      <td>NaN</td>\n",
       "      <td>NaN</td>\n",
       "    </tr>\n",
       "    <tr>\n",
       "      <th>2</th>\n",
       "      <td>Anna Howard Shaw</td>\n",
       "      <td>5.25</td>\n",
       "      <td>10.38</td>\n",
       "      <td>4.69</td>\n",
       "      <td>8.33</td>\n",
       "      <td>5.03</td>\n",
       "      <td>10.85</td>\n",
       "      <td>0.13</td>\n",
       "      <td>17.38</td>\n",
       "      <td>0.73</td>\n",
       "      <td>3.69</td>\n",
       "      <td>13.48</td>\n",
       "      <td>2.55</td>\n",
       "      <td>4.42</td>\n",
       "      <td>13.11</td>\n",
       "      <td>NaN</td>\n",
       "      <td>NaN</td>\n",
       "    </tr>\n",
       "    <tr>\n",
       "      <th>3</th>\n",
       "      <td>Barbara Charline Jordan</td>\n",
       "      <td>6.48</td>\n",
       "      <td>9.95</td>\n",
       "      <td>2.84</td>\n",
       "      <td>8.55</td>\n",
       "      <td>3.08</td>\n",
       "      <td>12.71</td>\n",
       "      <td>0.11</td>\n",
       "      <td>18.31</td>\n",
       "      <td>0.71</td>\n",
       "      <td>3.62</td>\n",
       "      <td>10.67</td>\n",
       "      <td>6.57</td>\n",
       "      <td>3.55</td>\n",
       "      <td>12.92</td>\n",
       "      <td>NaN</td>\n",
       "      <td>NaN</td>\n",
       "    </tr>\n",
       "    <tr>\n",
       "      <th>4</th>\n",
       "      <td>Barbara Pierce Bush</td>\n",
       "      <td>6.66</td>\n",
       "      <td>9.16</td>\n",
       "      <td>5.36</td>\n",
       "      <td>8.21</td>\n",
       "      <td>4.67</td>\n",
       "      <td>8.47</td>\n",
       "      <td>0.26</td>\n",
       "      <td>17.98</td>\n",
       "      <td>1.21</td>\n",
       "      <td>3.46</td>\n",
       "      <td>13.74</td>\n",
       "      <td>4.84</td>\n",
       "      <td>2.25</td>\n",
       "      <td>13.66</td>\n",
       "      <td>0.09</td>\n",
       "      <td>NaN</td>\n",
       "    </tr>\n",
       "    <tr>\n",
       "      <th>5</th>\n",
       "      <td>Carrie Chapman Catt</td>\n",
       "      <td>7.17</td>\n",
       "      <td>12.67</td>\n",
       "      <td>3.75</td>\n",
       "      <td>7.39</td>\n",
       "      <td>4.10</td>\n",
       "      <td>11.33</td>\n",
       "      <td>0.02</td>\n",
       "      <td>22.73</td>\n",
       "      <td>0.90</td>\n",
       "      <td>2.35</td>\n",
       "      <td>9.64</td>\n",
       "      <td>3.78</td>\n",
       "      <td>2.47</td>\n",
       "      <td>11.70</td>\n",
       "      <td>NaN</td>\n",
       "      <td>NaN</td>\n",
       "    </tr>\n",
       "    <tr>\n",
       "      <th>6</th>\n",
       "      <td>Eleanor Roosevelt</td>\n",
       "      <td>8.56</td>\n",
       "      <td>14.48</td>\n",
       "      <td>3.40</td>\n",
       "      <td>6.20</td>\n",
       "      <td>3.80</td>\n",
       "      <td>12.30</td>\n",
       "      <td>0.05</td>\n",
       "      <td>21.39</td>\n",
       "      <td>0.77</td>\n",
       "      <td>2.96</td>\n",
       "      <td>8.39</td>\n",
       "      <td>5.64</td>\n",
       "      <td>2.16</td>\n",
       "      <td>9.90</td>\n",
       "      <td>NaN</td>\n",
       "      <td>NaN</td>\n",
       "    </tr>\n",
       "    <tr>\n",
       "      <th>7</th>\n",
       "      <td>Elizabeth Glaser</td>\n",
       "      <td>4.20</td>\n",
       "      <td>8.49</td>\n",
       "      <td>4.20</td>\n",
       "      <td>7.95</td>\n",
       "      <td>4.38</td>\n",
       "      <td>7.40</td>\n",
       "      <td>0.09</td>\n",
       "      <td>16.80</td>\n",
       "      <td>0.91</td>\n",
       "      <td>5.30</td>\n",
       "      <td>15.89</td>\n",
       "      <td>5.94</td>\n",
       "      <td>3.74</td>\n",
       "      <td>14.61</td>\n",
       "      <td>0.09</td>\n",
       "      <td>NaN</td>\n",
       "    </tr>\n",
       "    <tr>\n",
       "      <th>8</th>\n",
       "      <td>Elizabeth Gurley Flynn</td>\n",
       "      <td>6.71</td>\n",
       "      <td>12.73</td>\n",
       "      <td>3.46</td>\n",
       "      <td>6.23</td>\n",
       "      <td>4.20</td>\n",
       "      <td>9.76</td>\n",
       "      <td>0.08</td>\n",
       "      <td>20.09</td>\n",
       "      <td>1.21</td>\n",
       "      <td>2.49</td>\n",
       "      <td>11.05</td>\n",
       "      <td>8.17</td>\n",
       "      <td>2.42</td>\n",
       "      <td>11.37</td>\n",
       "      <td>0.01</td>\n",
       "      <td>0.03</td>\n",
       "    </tr>\n",
       "    <tr>\n",
       "      <th>9</th>\n",
       "      <td>Emma Goldman</td>\n",
       "      <td>6.31</td>\n",
       "      <td>11.90</td>\n",
       "      <td>3.93</td>\n",
       "      <td>8.08</td>\n",
       "      <td>4.23</td>\n",
       "      <td>10.95</td>\n",
       "      <td>0.10</td>\n",
       "      <td>19.13</td>\n",
       "      <td>0.65</td>\n",
       "      <td>3.66</td>\n",
       "      <td>11.23</td>\n",
       "      <td>4.82</td>\n",
       "      <td>3.58</td>\n",
       "      <td>11.43</td>\n",
       "      <td>NaN</td>\n",
       "      <td>NaN</td>\n",
       "    </tr>\n",
       "    <tr>\n",
       "      <th>10</th>\n",
       "      <td>Geraldine Ferraro</td>\n",
       "      <td>5.99</td>\n",
       "      <td>10.83</td>\n",
       "      <td>2.42</td>\n",
       "      <td>7.20</td>\n",
       "      <td>3.45</td>\n",
       "      <td>9.56</td>\n",
       "      <td>NaN</td>\n",
       "      <td>19.48</td>\n",
       "      <td>0.54</td>\n",
       "      <td>2.72</td>\n",
       "      <td>13.07</td>\n",
       "      <td>8.83</td>\n",
       "      <td>2.90</td>\n",
       "      <td>12.95</td>\n",
       "      <td>0.06</td>\n",
       "      <td>NaN</td>\n",
       "    </tr>\n",
       "    <tr>\n",
       "      <th>11</th>\n",
       "      <td>Hillary Rodham Clinton</td>\n",
       "      <td>6.18</td>\n",
       "      <td>11.58</td>\n",
       "      <td>4.41</td>\n",
       "      <td>6.78</td>\n",
       "      <td>5.92</td>\n",
       "      <td>8.68</td>\n",
       "      <td>NaN</td>\n",
       "      <td>24.49</td>\n",
       "      <td>0.48</td>\n",
       "      <td>3.59</td>\n",
       "      <td>9.85</td>\n",
       "      <td>2.07</td>\n",
       "      <td>2.55</td>\n",
       "      <td>13.43</td>\n",
       "      <td>NaN</td>\n",
       "      <td>NaN</td>\n",
       "    </tr>\n",
       "    <tr>\n",
       "      <th>12</th>\n",
       "      <td>Margaret Chase Smith</td>\n",
       "      <td>8.46</td>\n",
       "      <td>12.30</td>\n",
       "      <td>5.12</td>\n",
       "      <td>7.18</td>\n",
       "      <td>3.95</td>\n",
       "      <td>10.57</td>\n",
       "      <td>NaN</td>\n",
       "      <td>17.36</td>\n",
       "      <td>0.39</td>\n",
       "      <td>2.67</td>\n",
       "      <td>10.74</td>\n",
       "      <td>8.07</td>\n",
       "      <td>2.50</td>\n",
       "      <td>10.68</td>\n",
       "      <td>NaN</td>\n",
       "      <td>NaN</td>\n",
       "    </tr>\n",
       "    <tr>\n",
       "      <th>13</th>\n",
       "      <td>Margaret Sanger</td>\n",
       "      <td>8.50</td>\n",
       "      <td>11.17</td>\n",
       "      <td>3.78</td>\n",
       "      <td>7.38</td>\n",
       "      <td>3.35</td>\n",
       "      <td>11.72</td>\n",
       "      <td>0.25</td>\n",
       "      <td>21.53</td>\n",
       "      <td>0.87</td>\n",
       "      <td>3.60</td>\n",
       "      <td>9.74</td>\n",
       "      <td>3.23</td>\n",
       "      <td>2.79</td>\n",
       "      <td>12.10</td>\n",
       "      <td>NaN</td>\n",
       "      <td>NaN</td>\n",
       "    </tr>\n",
       "    <tr>\n",
       "      <th>14</th>\n",
       "      <td>MaryFisher</td>\n",
       "      <td>6.16</td>\n",
       "      <td>8.38</td>\n",
       "      <td>3.74</td>\n",
       "      <td>9.63</td>\n",
       "      <td>4.64</td>\n",
       "      <td>7.62</td>\n",
       "      <td>NaN</td>\n",
       "      <td>17.31</td>\n",
       "      <td>1.32</td>\n",
       "      <td>4.99</td>\n",
       "      <td>16.41</td>\n",
       "      <td>4.22</td>\n",
       "      <td>2.98</td>\n",
       "      <td>12.60</td>\n",
       "      <td>NaN</td>\n",
       "      <td>NaN</td>\n",
       "    </tr>\n",
       "    <tr>\n",
       "      <th>15</th>\n",
       "      <td>Shirley Anita St. Hill Chisholm</td>\n",
       "      <td>10.02</td>\n",
       "      <td>12.94</td>\n",
       "      <td>3.17</td>\n",
       "      <td>8.59</td>\n",
       "      <td>4.29</td>\n",
       "      <td>8.40</td>\n",
       "      <td>NaN</td>\n",
       "      <td>24.83</td>\n",
       "      <td>1.06</td>\n",
       "      <td>3.24</td>\n",
       "      <td>5.60</td>\n",
       "      <td>5.48</td>\n",
       "      <td>1.62</td>\n",
       "      <td>10.64</td>\n",
       "      <td>NaN</td>\n",
       "      <td>0.12</td>\n",
       "    </tr>\n",
       "    <tr>\n",
       "      <th>16</th>\n",
       "      <td>Ursula K. Le Guin</td>\n",
       "      <td>7.07</td>\n",
       "      <td>10.94</td>\n",
       "      <td>4.69</td>\n",
       "      <td>7.65</td>\n",
       "      <td>5.18</td>\n",
       "      <td>7.07</td>\n",
       "      <td>0.41</td>\n",
       "      <td>17.35</td>\n",
       "      <td>0.25</td>\n",
       "      <td>3.62</td>\n",
       "      <td>15.46</td>\n",
       "      <td>2.63</td>\n",
       "      <td>3.54</td>\n",
       "      <td>14.06</td>\n",
       "      <td>NaN</td>\n",
       "      <td>0.08</td>\n",
       "    </tr>\n",
       "  </tbody>\n",
       "</table>\n",
       "</div>"
      ],
      "text/plain": [
       "                            Speaker    ADJ    ADP   ADV   AUX  CCONJ    DET  \\\n",
       "0                        Anita Hill   5.90  14.04  4.03  6.43   3.30   8.75   \n",
       "1                      Ann Richards   5.71   8.85  3.76  7.84   5.67   7.77   \n",
       "2                  Anna Howard Shaw   5.25  10.38  4.69  8.33   5.03  10.85   \n",
       "3           Barbara Charline Jordan   6.48   9.95  2.84  8.55   3.08  12.71   \n",
       "4               Barbara Pierce Bush   6.66   9.16  5.36  8.21   4.67   8.47   \n",
       "5               Carrie Chapman Catt   7.17  12.67  3.75  7.39   4.10  11.33   \n",
       "6                 Eleanor Roosevelt   8.56  14.48  3.40  6.20   3.80  12.30   \n",
       "7                  Elizabeth Glaser   4.20   8.49  4.20  7.95   4.38   7.40   \n",
       "8            Elizabeth Gurley Flynn   6.71  12.73  3.46  6.23   4.20   9.76   \n",
       "9                      Emma Goldman   6.31  11.90  3.93  8.08   4.23  10.95   \n",
       "10                Geraldine Ferraro   5.99  10.83  2.42  7.20   3.45   9.56   \n",
       "11           Hillary Rodham Clinton   6.18  11.58  4.41  6.78   5.92   8.68   \n",
       "12             Margaret Chase Smith   8.46  12.30  5.12  7.18   3.95  10.57   \n",
       "13                  Margaret Sanger   8.50  11.17  3.78  7.38   3.35  11.72   \n",
       "14                       MaryFisher   6.16   8.38  3.74  9.63   4.64   7.62   \n",
       "15  Shirley Anita St. Hill Chisholm  10.02  12.94  3.17  8.59   4.29   8.40   \n",
       "16                Ursula K. Le Guin   7.07  10.94  4.69  7.65   5.18   7.07   \n",
       "\n",
       "    INTJ   NOUN   NUM  PART   PRON  PROPN  SCONJ   VERB  PUNCT     X  \n",
       "0   0.08  16.11  1.26  2.73  15.13   6.47   3.21  12.57    NaN   NaN  \n",
       "1   0.29  16.55  0.69  3.65  15.83   4.66   3.87  14.85    NaN   NaN  \n",
       "2   0.13  17.38  0.73  3.69  13.48   2.55   4.42  13.11    NaN   NaN  \n",
       "3   0.11  18.31  0.71  3.62  10.67   6.57   3.55  12.92    NaN   NaN  \n",
       "4   0.26  17.98  1.21  3.46  13.74   4.84   2.25  13.66   0.09   NaN  \n",
       "5   0.02  22.73  0.90  2.35   9.64   3.78   2.47  11.70    NaN   NaN  \n",
       "6   0.05  21.39  0.77  2.96   8.39   5.64   2.16   9.90    NaN   NaN  \n",
       "7   0.09  16.80  0.91  5.30  15.89   5.94   3.74  14.61   0.09   NaN  \n",
       "8   0.08  20.09  1.21  2.49  11.05   8.17   2.42  11.37   0.01  0.03  \n",
       "9   0.10  19.13  0.65  3.66  11.23   4.82   3.58  11.43    NaN   NaN  \n",
       "10   NaN  19.48  0.54  2.72  13.07   8.83   2.90  12.95   0.06   NaN  \n",
       "11   NaN  24.49  0.48  3.59   9.85   2.07   2.55  13.43    NaN   NaN  \n",
       "12   NaN  17.36  0.39  2.67  10.74   8.07   2.50  10.68    NaN   NaN  \n",
       "13  0.25  21.53  0.87  3.60   9.74   3.23   2.79  12.10    NaN   NaN  \n",
       "14   NaN  17.31  1.32  4.99  16.41   4.22   2.98  12.60    NaN   NaN  \n",
       "15   NaN  24.83  1.06  3.24   5.60   5.48   1.62  10.64    NaN  0.12  \n",
       "16  0.41  17.35  0.25  3.62  15.46   2.63   3.54  14.06    NaN  0.08  "
      ]
     },
     "execution_count": 128,
     "metadata": {},
     "output_type": "execute_result"
    }
   ],
   "source": [
    "# Define a function to get part-of-speech tags and counts and append them to a new dictionary\n",
    "def get_pos_tags(doc):\n",
    "    dictionary = {}\n",
    "    num_pos = doc.count_by(spacy.attrs.POS)\n",
    "    total_count = sum(num_pos.values())  # Calculate total count of POS tags\n",
    "    for k, v in sorted(num_pos.items()):\n",
    "        dictionary[doc.vocab[k].text] = (v / total_count) * 100  # Calculate percentage\n",
    "    return dictionary\n",
    "\n",
    "# Convert float values in 'Doc' column to strings\n",
    "pos_analysis_df['Doc'] = pos_analysis_df['Doc'].astype(str)\n",
    "\n",
    "# Apply the function to each doc object in DataFrame\n",
    "pos_analysis_df['POS_Counts'] = pos_analysis_df['Doc'].apply(lambda doc: get_pos_tags(nlp(doc)))\n",
    "\n",
    "# Create a new dataframe with part-of-speech counts\n",
    "pos_counts = pd.DataFrame(pos_analysis_df['POS_Counts'].tolist())\n",
    "\n",
    "# Add the 'Topic' column to the dataframe from pos_analysis_df\n",
    "pos_counts['Speaker'] = pos_analysis_df['Speaker']\n",
    "\n",
    "# Get the average POS counts used in each speech\n",
    "average_pos_df = pos_counts.groupby('Speaker').mean().round(2)\n",
    "\n",
    "# Reset index to improve DataFrame readability\n",
    "average_pos_df = average_pos_df.reset_index()\n",
    "\n",
    "average_pos_df"
   ]
  },
  {
   "cell_type": "code",
   "execution_count": 129,
   "id": "68d5330a-a8b1-4bd0-bb19-6e16cc1c41c6",
   "metadata": {},
   "outputs": [
    {
     "data": {
      "application/vnd.plotly.v1+json": {
       "config": {
        "plotlyServerURL": "https://plot.ly"
       },
       "data": [
        {
         "alignmentgroup": "True",
         "hovertemplate": "variable=ADJ<br>Speaker=%{x}<br>value=%{y}<extra></extra>",
         "legendgroup": "ADJ",
         "marker": {
          "color": "#636efa",
          "pattern": {
           "shape": ""
          }
         },
         "name": "ADJ",
         "offsetgroup": "ADJ",
         "orientation": "v",
         "showlegend": true,
         "textposition": "auto",
         "type": "bar",
         "x": [
          "Anita Hill",
          "Ann Richards",
          "Anna Howard Shaw",
          "Barbara Charline Jordan",
          "Barbara Pierce Bush",
          "Carrie Chapman Catt",
          "Eleanor Roosevelt",
          "Elizabeth Glaser",
          "Elizabeth Gurley Flynn",
          "Emma Goldman",
          "Geraldine Ferraro",
          "Hillary Rodham Clinton",
          "Margaret Chase Smith",
          "Margaret Sanger",
          "MaryFisher",
          "Shirley Anita St. Hill Chisholm",
          "Ursula K. Le Guin"
         ],
         "xaxis": "x",
         "y": [
          5.9,
          5.71,
          5.25,
          6.48,
          6.66,
          7.17,
          8.56,
          4.2,
          6.71,
          6.31,
          5.99,
          6.18,
          8.46,
          8.5,
          6.16,
          10.02,
          7.07
         ],
         "yaxis": "y"
        },
        {
         "alignmentgroup": "True",
         "hovertemplate": "variable=VERB<br>Speaker=%{x}<br>value=%{y}<extra></extra>",
         "legendgroup": "VERB",
         "marker": {
          "color": "#EF553B",
          "pattern": {
           "shape": ""
          }
         },
         "name": "VERB",
         "offsetgroup": "VERB",
         "orientation": "v",
         "showlegend": true,
         "textposition": "auto",
         "type": "bar",
         "x": [
          "Anita Hill",
          "Ann Richards",
          "Anna Howard Shaw",
          "Barbara Charline Jordan",
          "Barbara Pierce Bush",
          "Carrie Chapman Catt",
          "Eleanor Roosevelt",
          "Elizabeth Glaser",
          "Elizabeth Gurley Flynn",
          "Emma Goldman",
          "Geraldine Ferraro",
          "Hillary Rodham Clinton",
          "Margaret Chase Smith",
          "Margaret Sanger",
          "MaryFisher",
          "Shirley Anita St. Hill Chisholm",
          "Ursula K. Le Guin"
         ],
         "xaxis": "x",
         "y": [
          12.57,
          14.85,
          13.11,
          12.92,
          13.66,
          11.7,
          9.9,
          14.61,
          11.37,
          11.43,
          12.95,
          13.43,
          10.68,
          12.1,
          12.6,
          10.64,
          14.06
         ],
         "yaxis": "y"
        },
        {
         "alignmentgroup": "True",
         "hovertemplate": "variable=NOUN<br>Speaker=%{x}<br>value=%{y}<extra></extra>",
         "legendgroup": "NOUN",
         "marker": {
          "color": "#00cc96",
          "pattern": {
           "shape": ""
          }
         },
         "name": "NOUN",
         "offsetgroup": "NOUN",
         "orientation": "v",
         "showlegend": true,
         "textposition": "auto",
         "type": "bar",
         "x": [
          "Anita Hill",
          "Ann Richards",
          "Anna Howard Shaw",
          "Barbara Charline Jordan",
          "Barbara Pierce Bush",
          "Carrie Chapman Catt",
          "Eleanor Roosevelt",
          "Elizabeth Glaser",
          "Elizabeth Gurley Flynn",
          "Emma Goldman",
          "Geraldine Ferraro",
          "Hillary Rodham Clinton",
          "Margaret Chase Smith",
          "Margaret Sanger",
          "MaryFisher",
          "Shirley Anita St. Hill Chisholm",
          "Ursula K. Le Guin"
         ],
         "xaxis": "x",
         "y": [
          16.11,
          16.55,
          17.38,
          18.31,
          17.98,
          22.73,
          21.39,
          16.8,
          20.09,
          19.13,
          19.48,
          24.49,
          17.36,
          21.53,
          17.31,
          24.83,
          17.35
         ],
         "yaxis": "y"
        },
        {
         "alignmentgroup": "True",
         "hovertemplate": "variable=PRON<br>Speaker=%{x}<br>value=%{y}<extra></extra>",
         "legendgroup": "PRON",
         "marker": {
          "color": "#ab63fa",
          "pattern": {
           "shape": ""
          }
         },
         "name": "PRON",
         "offsetgroup": "PRON",
         "orientation": "v",
         "showlegend": true,
         "textposition": "auto",
         "type": "bar",
         "x": [
          "Anita Hill",
          "Ann Richards",
          "Anna Howard Shaw",
          "Barbara Charline Jordan",
          "Barbara Pierce Bush",
          "Carrie Chapman Catt",
          "Eleanor Roosevelt",
          "Elizabeth Glaser",
          "Elizabeth Gurley Flynn",
          "Emma Goldman",
          "Geraldine Ferraro",
          "Hillary Rodham Clinton",
          "Margaret Chase Smith",
          "Margaret Sanger",
          "MaryFisher",
          "Shirley Anita St. Hill Chisholm",
          "Ursula K. Le Guin"
         ],
         "xaxis": "x",
         "y": [
          15.13,
          15.83,
          13.48,
          10.67,
          13.74,
          9.64,
          8.39,
          15.89,
          11.05,
          11.23,
          13.07,
          9.85,
          10.74,
          9.74,
          16.41,
          5.6,
          15.46
         ],
         "yaxis": "y"
        }
       ],
       "layout": {
        "autosize": true,
        "barmode": "group",
        "legend": {
         "title": {
          "text": "variable"
         },
         "tracegroupgap": 0
        },
        "template": {
         "data": {
          "bar": [
           {
            "error_x": {
             "color": "#2a3f5f"
            },
            "error_y": {
             "color": "#2a3f5f"
            },
            "marker": {
             "line": {
              "color": "#E5ECF6",
              "width": 0.5
             },
             "pattern": {
              "fillmode": "overlay",
              "size": 10,
              "solidity": 0.2
             }
            },
            "type": "bar"
           }
          ],
          "barpolar": [
           {
            "marker": {
             "line": {
              "color": "#E5ECF6",
              "width": 0.5
             },
             "pattern": {
              "fillmode": "overlay",
              "size": 10,
              "solidity": 0.2
             }
            },
            "type": "barpolar"
           }
          ],
          "carpet": [
           {
            "aaxis": {
             "endlinecolor": "#2a3f5f",
             "gridcolor": "white",
             "linecolor": "white",
             "minorgridcolor": "white",
             "startlinecolor": "#2a3f5f"
            },
            "baxis": {
             "endlinecolor": "#2a3f5f",
             "gridcolor": "white",
             "linecolor": "white",
             "minorgridcolor": "white",
             "startlinecolor": "#2a3f5f"
            },
            "type": "carpet"
           }
          ],
          "choropleth": [
           {
            "colorbar": {
             "outlinewidth": 0,
             "ticks": ""
            },
            "type": "choropleth"
           }
          ],
          "contour": [
           {
            "colorbar": {
             "outlinewidth": 0,
             "ticks": ""
            },
            "colorscale": [
             [
              0,
              "#0d0887"
             ],
             [
              0.1111111111111111,
              "#46039f"
             ],
             [
              0.2222222222222222,
              "#7201a8"
             ],
             [
              0.3333333333333333,
              "#9c179e"
             ],
             [
              0.4444444444444444,
              "#bd3786"
             ],
             [
              0.5555555555555556,
              "#d8576b"
             ],
             [
              0.6666666666666666,
              "#ed7953"
             ],
             [
              0.7777777777777778,
              "#fb9f3a"
             ],
             [
              0.8888888888888888,
              "#fdca26"
             ],
             [
              1,
              "#f0f921"
             ]
            ],
            "type": "contour"
           }
          ],
          "contourcarpet": [
           {
            "colorbar": {
             "outlinewidth": 0,
             "ticks": ""
            },
            "type": "contourcarpet"
           }
          ],
          "heatmap": [
           {
            "colorbar": {
             "outlinewidth": 0,
             "ticks": ""
            },
            "colorscale": [
             [
              0,
              "#0d0887"
             ],
             [
              0.1111111111111111,
              "#46039f"
             ],
             [
              0.2222222222222222,
              "#7201a8"
             ],
             [
              0.3333333333333333,
              "#9c179e"
             ],
             [
              0.4444444444444444,
              "#bd3786"
             ],
             [
              0.5555555555555556,
              "#d8576b"
             ],
             [
              0.6666666666666666,
              "#ed7953"
             ],
             [
              0.7777777777777778,
              "#fb9f3a"
             ],
             [
              0.8888888888888888,
              "#fdca26"
             ],
             [
              1,
              "#f0f921"
             ]
            ],
            "type": "heatmap"
           }
          ],
          "heatmapgl": [
           {
            "colorbar": {
             "outlinewidth": 0,
             "ticks": ""
            },
            "colorscale": [
             [
              0,
              "#0d0887"
             ],
             [
              0.1111111111111111,
              "#46039f"
             ],
             [
              0.2222222222222222,
              "#7201a8"
             ],
             [
              0.3333333333333333,
              "#9c179e"
             ],
             [
              0.4444444444444444,
              "#bd3786"
             ],
             [
              0.5555555555555556,
              "#d8576b"
             ],
             [
              0.6666666666666666,
              "#ed7953"
             ],
             [
              0.7777777777777778,
              "#fb9f3a"
             ],
             [
              0.8888888888888888,
              "#fdca26"
             ],
             [
              1,
              "#f0f921"
             ]
            ],
            "type": "heatmapgl"
           }
          ],
          "histogram": [
           {
            "marker": {
             "pattern": {
              "fillmode": "overlay",
              "size": 10,
              "solidity": 0.2
             }
            },
            "type": "histogram"
           }
          ],
          "histogram2d": [
           {
            "colorbar": {
             "outlinewidth": 0,
             "ticks": ""
            },
            "colorscale": [
             [
              0,
              "#0d0887"
             ],
             [
              0.1111111111111111,
              "#46039f"
             ],
             [
              0.2222222222222222,
              "#7201a8"
             ],
             [
              0.3333333333333333,
              "#9c179e"
             ],
             [
              0.4444444444444444,
              "#bd3786"
             ],
             [
              0.5555555555555556,
              "#d8576b"
             ],
             [
              0.6666666666666666,
              "#ed7953"
             ],
             [
              0.7777777777777778,
              "#fb9f3a"
             ],
             [
              0.8888888888888888,
              "#fdca26"
             ],
             [
              1,
              "#f0f921"
             ]
            ],
            "type": "histogram2d"
           }
          ],
          "histogram2dcontour": [
           {
            "colorbar": {
             "outlinewidth": 0,
             "ticks": ""
            },
            "colorscale": [
             [
              0,
              "#0d0887"
             ],
             [
              0.1111111111111111,
              "#46039f"
             ],
             [
              0.2222222222222222,
              "#7201a8"
             ],
             [
              0.3333333333333333,
              "#9c179e"
             ],
             [
              0.4444444444444444,
              "#bd3786"
             ],
             [
              0.5555555555555556,
              "#d8576b"
             ],
             [
              0.6666666666666666,
              "#ed7953"
             ],
             [
              0.7777777777777778,
              "#fb9f3a"
             ],
             [
              0.8888888888888888,
              "#fdca26"
             ],
             [
              1,
              "#f0f921"
             ]
            ],
            "type": "histogram2dcontour"
           }
          ],
          "mesh3d": [
           {
            "colorbar": {
             "outlinewidth": 0,
             "ticks": ""
            },
            "type": "mesh3d"
           }
          ],
          "parcoords": [
           {
            "line": {
             "colorbar": {
              "outlinewidth": 0,
              "ticks": ""
             }
            },
            "type": "parcoords"
           }
          ],
          "pie": [
           {
            "automargin": true,
            "type": "pie"
           }
          ],
          "scatter": [
           {
            "fillpattern": {
             "fillmode": "overlay",
             "size": 10,
             "solidity": 0.2
            },
            "type": "scatter"
           }
          ],
          "scatter3d": [
           {
            "line": {
             "colorbar": {
              "outlinewidth": 0,
              "ticks": ""
             }
            },
            "marker": {
             "colorbar": {
              "outlinewidth": 0,
              "ticks": ""
             }
            },
            "type": "scatter3d"
           }
          ],
          "scattercarpet": [
           {
            "marker": {
             "colorbar": {
              "outlinewidth": 0,
              "ticks": ""
             }
            },
            "type": "scattercarpet"
           }
          ],
          "scattergeo": [
           {
            "marker": {
             "colorbar": {
              "outlinewidth": 0,
              "ticks": ""
             }
            },
            "type": "scattergeo"
           }
          ],
          "scattergl": [
           {
            "marker": {
             "colorbar": {
              "outlinewidth": 0,
              "ticks": ""
             }
            },
            "type": "scattergl"
           }
          ],
          "scattermapbox": [
           {
            "marker": {
             "colorbar": {
              "outlinewidth": 0,
              "ticks": ""
             }
            },
            "type": "scattermapbox"
           }
          ],
          "scatterpolar": [
           {
            "marker": {
             "colorbar": {
              "outlinewidth": 0,
              "ticks": ""
             }
            },
            "type": "scatterpolar"
           }
          ],
          "scatterpolargl": [
           {
            "marker": {
             "colorbar": {
              "outlinewidth": 0,
              "ticks": ""
             }
            },
            "type": "scatterpolargl"
           }
          ],
          "scatterternary": [
           {
            "marker": {
             "colorbar": {
              "outlinewidth": 0,
              "ticks": ""
             }
            },
            "type": "scatterternary"
           }
          ],
          "surface": [
           {
            "colorbar": {
             "outlinewidth": 0,
             "ticks": ""
            },
            "colorscale": [
             [
              0,
              "#0d0887"
             ],
             [
              0.1111111111111111,
              "#46039f"
             ],
             [
              0.2222222222222222,
              "#7201a8"
             ],
             [
              0.3333333333333333,
              "#9c179e"
             ],
             [
              0.4444444444444444,
              "#bd3786"
             ],
             [
              0.5555555555555556,
              "#d8576b"
             ],
             [
              0.6666666666666666,
              "#ed7953"
             ],
             [
              0.7777777777777778,
              "#fb9f3a"
             ],
             [
              0.8888888888888888,
              "#fdca26"
             ],
             [
              1,
              "#f0f921"
             ]
            ],
            "type": "surface"
           }
          ],
          "table": [
           {
            "cells": {
             "fill": {
              "color": "#EBF0F8"
             },
             "line": {
              "color": "white"
             }
            },
            "header": {
             "fill": {
              "color": "#C8D4E3"
             },
             "line": {
              "color": "white"
             }
            },
            "type": "table"
           }
          ]
         },
         "layout": {
          "annotationdefaults": {
           "arrowcolor": "#2a3f5f",
           "arrowhead": 0,
           "arrowwidth": 1
          },
          "autotypenumbers": "strict",
          "coloraxis": {
           "colorbar": {
            "outlinewidth": 0,
            "ticks": ""
           }
          },
          "colorscale": {
           "diverging": [
            [
             0,
             "#8e0152"
            ],
            [
             0.1,
             "#c51b7d"
            ],
            [
             0.2,
             "#de77ae"
            ],
            [
             0.3,
             "#f1b6da"
            ],
            [
             0.4,
             "#fde0ef"
            ],
            [
             0.5,
             "#f7f7f7"
            ],
            [
             0.6,
             "#e6f5d0"
            ],
            [
             0.7,
             "#b8e186"
            ],
            [
             0.8,
             "#7fbc41"
            ],
            [
             0.9,
             "#4d9221"
            ],
            [
             1,
             "#276419"
            ]
           ],
           "sequential": [
            [
             0,
             "#0d0887"
            ],
            [
             0.1111111111111111,
             "#46039f"
            ],
            [
             0.2222222222222222,
             "#7201a8"
            ],
            [
             0.3333333333333333,
             "#9c179e"
            ],
            [
             0.4444444444444444,
             "#bd3786"
            ],
            [
             0.5555555555555556,
             "#d8576b"
            ],
            [
             0.6666666666666666,
             "#ed7953"
            ],
            [
             0.7777777777777778,
             "#fb9f3a"
            ],
            [
             0.8888888888888888,
             "#fdca26"
            ],
            [
             1,
             "#f0f921"
            ]
           ],
           "sequentialminus": [
            [
             0,
             "#0d0887"
            ],
            [
             0.1111111111111111,
             "#46039f"
            ],
            [
             0.2222222222222222,
             "#7201a8"
            ],
            [
             0.3333333333333333,
             "#9c179e"
            ],
            [
             0.4444444444444444,
             "#bd3786"
            ],
            [
             0.5555555555555556,
             "#d8576b"
            ],
            [
             0.6666666666666666,
             "#ed7953"
            ],
            [
             0.7777777777777778,
             "#fb9f3a"
            ],
            [
             0.8888888888888888,
             "#fdca26"
            ],
            [
             1,
             "#f0f921"
            ]
           ]
          },
          "colorway": [
           "#636efa",
           "#EF553B",
           "#00cc96",
           "#ab63fa",
           "#FFA15A",
           "#19d3f3",
           "#FF6692",
           "#B6E880",
           "#FF97FF",
           "#FECB52"
          ],
          "font": {
           "color": "#2a3f5f"
          },
          "geo": {
           "bgcolor": "white",
           "lakecolor": "white",
           "landcolor": "#E5ECF6",
           "showlakes": true,
           "showland": true,
           "subunitcolor": "white"
          },
          "hoverlabel": {
           "align": "left"
          },
          "hovermode": "closest",
          "mapbox": {
           "style": "light"
          },
          "paper_bgcolor": "white",
          "plot_bgcolor": "#E5ECF6",
          "polar": {
           "angularaxis": {
            "gridcolor": "white",
            "linecolor": "white",
            "ticks": ""
           },
           "bgcolor": "#E5ECF6",
           "radialaxis": {
            "gridcolor": "white",
            "linecolor": "white",
            "ticks": ""
           }
          },
          "scene": {
           "xaxis": {
            "backgroundcolor": "#E5ECF6",
            "gridcolor": "white",
            "gridwidth": 2,
            "linecolor": "white",
            "showbackground": true,
            "ticks": "",
            "zerolinecolor": "white"
           },
           "yaxis": {
            "backgroundcolor": "#E5ECF6",
            "gridcolor": "white",
            "gridwidth": 2,
            "linecolor": "white",
            "showbackground": true,
            "ticks": "",
            "zerolinecolor": "white"
           },
           "zaxis": {
            "backgroundcolor": "#E5ECF6",
            "gridcolor": "white",
            "gridwidth": 2,
            "linecolor": "white",
            "showbackground": true,
            "ticks": "",
            "zerolinecolor": "white"
           }
          },
          "shapedefaults": {
           "line": {
            "color": "#2a3f5f"
           }
          },
          "ternary": {
           "aaxis": {
            "gridcolor": "white",
            "linecolor": "white",
            "ticks": ""
           },
           "baxis": {
            "gridcolor": "white",
            "linecolor": "white",
            "ticks": ""
           },
           "bgcolor": "#E5ECF6",
           "caxis": {
            "gridcolor": "white",
            "linecolor": "white",
            "ticks": ""
           }
          },
          "title": {
           "x": 0.05
          },
          "xaxis": {
           "automargin": true,
           "gridcolor": "white",
           "linecolor": "white",
           "ticks": "",
           "title": {
            "standoff": 15
           },
           "zerolinecolor": "white",
           "zerolinewidth": 2
          },
          "yaxis": {
           "automargin": true,
           "gridcolor": "white",
           "linecolor": "white",
           "ticks": "",
           "title": {
            "standoff": 15
           },
           "zerolinecolor": "white",
           "zerolinewidth": 2
          }
         }
        },
        "title": {
         "text": "Average POS Percentage in Different Topics"
        },
        "xaxis": {
         "anchor": "y",
         "autorange": true,
         "domain": [
          0,
          1
         ],
         "range": [
          -0.5,
          16.5
         ],
         "title": {
          "text": "Speaker"
         },
         "type": "category"
        },
        "yaxis": {
         "anchor": "x",
         "autorange": true,
         "domain": [
          0,
          1
         ],
         "range": [
          0,
          26.136842105263156
         ],
         "title": {
          "text": "value"
         },
         "type": "linear"
        }
       }
      },
      "image/png": "[encoded data removed]",
      "text/html": [
       "<div>                            <div id=\"ba0b1518-0a31-4263-b2e0-6c1f72374358\" class=\"plotly-graph-div\" style=\"height:525px; width:100%;\"></div>            <script type=\"text/javascript\">                require([\"plotly\"], function(Plotly) {                    window.PLOTLYENV=window.PLOTLYENV || {};                                    if (document.getElementById(\"ba0b1518-0a31-4263-b2e0-6c1f72374358\")) {                    Plotly.newPlot(                        \"ba0b1518-0a31-4263-b2e0-6c1f72374358\",                        [{\"alignmentgroup\":\"True\",\"hovertemplate\":\"variable=ADJ<br>Speaker=%{x}<br>value=%{y}<extra></extra>\",\"legendgroup\":\"ADJ\",\"marker\":{\"color\":\"#636efa\",\"pattern\":{\"shape\":\"\"}},\"name\":\"ADJ\",\"offsetgroup\":\"ADJ\",\"orientation\":\"v\",\"showlegend\":true,\"textposition\":\"auto\",\"x\":[\"Anita Hill\",\"Ann Richards\",\"Anna Howard Shaw\",\"Barbara Charline Jordan\",\"Barbara Pierce Bush\",\"Carrie Chapman Catt\",\"Eleanor Roosevelt\",\"Elizabeth Glaser\",\"Elizabeth Gurley Flynn\",\"Emma Goldman\",\"Geraldine Ferraro\",\"Hillary Rodham Clinton\",\"Margaret Chase Smith\",\"Margaret Sanger\",\"MaryFisher\",\"Shirley Anita St. Hill Chisholm\",\"Ursula K. Le Guin\"],\"xaxis\":\"x\",\"y\":[5.9,5.71,5.25,6.48,6.66,7.17,8.56,4.2,6.71,6.31,5.99,6.18,8.46,8.5,6.16,10.02,7.07],\"yaxis\":\"y\",\"type\":\"bar\"},{\"alignmentgroup\":\"True\",\"hovertemplate\":\"variable=VERB<br>Speaker=%{x}<br>value=%{y}<extra></extra>\",\"legendgroup\":\"VERB\",\"marker\":{\"color\":\"#EF553B\",\"pattern\":{\"shape\":\"\"}},\"name\":\"VERB\",\"offsetgroup\":\"VERB\",\"orientation\":\"v\",\"showlegend\":true,\"textposition\":\"auto\",\"x\":[\"Anita Hill\",\"Ann Richards\",\"Anna Howard Shaw\",\"Barbara Charline Jordan\",\"Barbara Pierce Bush\",\"Carrie Chapman Catt\",\"Eleanor Roosevelt\",\"Elizabeth Glaser\",\"Elizabeth Gurley Flynn\",\"Emma Goldman\",\"Geraldine Ferraro\",\"Hillary Rodham Clinton\",\"Margaret Chase Smith\",\"Margaret Sanger\",\"MaryFisher\",\"Shirley Anita St. Hill Chisholm\",\"Ursula K. Le Guin\"],\"xaxis\":\"x\",\"y\":[12.57,14.85,13.11,12.92,13.66,11.7,9.9,14.61,11.37,11.43,12.95,13.43,10.68,12.1,12.6,10.64,14.06],\"yaxis\":\"y\",\"type\":\"bar\"},{\"alignmentgroup\":\"True\",\"hovertemplate\":\"variable=NOUN<br>Speaker=%{x}<br>value=%{y}<extra></extra>\",\"legendgroup\":\"NOUN\",\"marker\":{\"color\":\"#00cc96\",\"pattern\":{\"shape\":\"\"}},\"name\":\"NOUN\",\"offsetgroup\":\"NOUN\",\"orientation\":\"v\",\"showlegend\":true,\"textposition\":\"auto\",\"x\":[\"Anita Hill\",\"Ann Richards\",\"Anna Howard Shaw\",\"Barbara Charline Jordan\",\"Barbara Pierce Bush\",\"Carrie Chapman Catt\",\"Eleanor Roosevelt\",\"Elizabeth Glaser\",\"Elizabeth Gurley Flynn\",\"Emma Goldman\",\"Geraldine Ferraro\",\"Hillary Rodham Clinton\",\"Margaret Chase Smith\",\"Margaret Sanger\",\"MaryFisher\",\"Shirley Anita St. Hill Chisholm\",\"Ursula K. Le Guin\"],\"xaxis\":\"x\",\"y\":[16.11,16.55,17.38,18.31,17.98,22.73,21.39,16.8,20.09,19.13,19.48,24.49,17.36,21.53,17.31,24.83,17.35],\"yaxis\":\"y\",\"type\":\"bar\"},{\"alignmentgroup\":\"True\",\"hovertemplate\":\"variable=PRON<br>Speaker=%{x}<br>value=%{y}<extra></extra>\",\"legendgroup\":\"PRON\",\"marker\":{\"color\":\"#ab63fa\",\"pattern\":{\"shape\":\"\"}},\"name\":\"PRON\",\"offsetgroup\":\"PRON\",\"orientation\":\"v\",\"showlegend\":true,\"textposition\":\"auto\",\"x\":[\"Anita Hill\",\"Ann Richards\",\"Anna Howard Shaw\",\"Barbara Charline Jordan\",\"Barbara Pierce Bush\",\"Carrie Chapman Catt\",\"Eleanor Roosevelt\",\"Elizabeth Glaser\",\"Elizabeth Gurley Flynn\",\"Emma Goldman\",\"Geraldine Ferraro\",\"Hillary Rodham Clinton\",\"Margaret Chase Smith\",\"Margaret Sanger\",\"MaryFisher\",\"Shirley Anita St. Hill Chisholm\",\"Ursula K. Le Guin\"],\"xaxis\":\"x\",\"y\":[15.13,15.83,13.48,10.67,13.74,9.64,8.39,15.89,11.05,11.23,13.07,9.85,10.74,9.74,16.41,5.6,15.46],\"yaxis\":\"y\",\"type\":\"bar\"}],                        {\"template\":{\"data\":{\"histogram2dcontour\":[{\"type\":\"histogram2dcontour\",\"colorbar\":{\"outlinewidth\":0,\"ticks\":\"\"},\"colorscale\":[[0.0,\"#0d0887\"],[0.1111111111111111,\"#46039f\"],[0.2222222222222222,\"#7201a8\"],[0.3333333333333333,\"#9c179e\"],[0.4444444444444444,\"#bd3786\"],[0.5555555555555556,\"#d8576b\"],[0.6666666666666666,\"#ed7953\"],[0.7777777777777778,\"#fb9f3a\"],[0.8888888888888888,\"#fdca26\"],[1.0,\"#f0f921\"]]}],\"choropleth\":[{\"type\":\"choropleth\",\"colorbar\":{\"outlinewidth\":0,\"ticks\":\"\"}}],\"histogram2d\":[{\"type\":\"histogram2d\",\"colorbar\":{\"outlinewidth\":0,\"ticks\":\"\"},\"colorscale\":[[0.0,\"#0d0887\"],[0.1111111111111111,\"#46039f\"],[0.2222222222222222,\"#7201a8\"],[0.3333333333333333,\"#9c179e\"],[0.4444444444444444,\"#bd3786\"],[0.5555555555555556,\"#d8576b\"],[0.6666666666666666,\"#ed7953\"],[0.7777777777777778,\"#fb9f3a\"],[0.8888888888888888,\"#fdca26\"],[1.0,\"#f0f921\"]]}],\"heatmap\":[{\"type\":\"heatmap\",\"colorbar\":{\"outlinewidth\":0,\"ticks\":\"\"},\"colorscale\":[[0.0,\"#0d0887\"],[0.1111111111111111,\"#46039f\"],[0.2222222222222222,\"#7201a8\"],[0.3333333333333333,\"#9c179e\"],[0.4444444444444444,\"#bd3786\"],[0.5555555555555556,\"#d8576b\"],[0.6666666666666666,\"#ed7953\"],[0.7777777777777778,\"#fb9f3a\"],[0.8888888888888888,\"#fdca26\"],[1.0,\"#f0f921\"]]}],\"heatmapgl\":[{\"type\":\"heatmapgl\",\"colorbar\":{\"outlinewidth\":0,\"ticks\":\"\"},\"colorscale\":[[0.0,\"#0d0887\"],[0.1111111111111111,\"#46039f\"],[0.2222222222222222,\"#7201a8\"],[0.3333333333333333,\"#9c179e\"],[0.4444444444444444,\"#bd3786\"],[0.5555555555555556,\"#d8576b\"],[0.6666666666666666,\"#ed7953\"],[0.7777777777777778,\"#fb9f3a\"],[0.8888888888888888,\"#fdca26\"],[1.0,\"#f0f921\"]]}],\"contourcarpet\":[{\"type\":\"contourcarpet\",\"colorbar\":{\"outlinewidth\":0,\"ticks\":\"\"}}],\"contour\":[{\"type\":\"contour\",\"colorbar\":{\"outlinewidth\":0,\"ticks\":\"\"},\"colorscale\":[[0.0,\"#0d0887\"],[0.1111111111111111,\"#46039f\"],[0.2222222222222222,\"#7201a8\"],[0.3333333333333333,\"#9c179e\"],[0.4444444444444444,\"#bd3786\"],[0.5555555555555556,\"#d8576b\"],[0.6666666666666666,\"#ed7953\"],[0.7777777777777778,\"#fb9f3a\"],[0.8888888888888888,\"#fdca26\"],[1.0,\"#f0f921\"]]}],\"surface\":[{\"type\":\"surface\",\"colorbar\":{\"outlinewidth\":0,\"ticks\":\"\"},\"colorscale\":[[0.0,\"#0d0887\"],[0.1111111111111111,\"#46039f\"],[0.2222222222222222,\"#7201a8\"],[0.3333333333333333,\"#9c179e\"],[0.4444444444444444,\"#bd3786\"],[0.5555555555555556,\"#d8576b\"],[0.6666666666666666,\"#ed7953\"],[0.7777777777777778,\"#fb9f3a\"],[0.8888888888888888,\"#fdca26\"],[1.0,\"#f0f921\"]]}],\"mesh3d\":[{\"type\":\"mesh3d\",\"colorbar\":{\"outlinewidth\":0,\"ticks\":\"\"}}],\"scatter\":[{\"fillpattern\":{\"fillmode\":\"overlay\",\"size\":10,\"solidity\":0.2},\"type\":\"scatter\"}],\"parcoords\":[{\"type\":\"parcoords\",\"line\":{\"colorbar\":{\"outlinewidth\":0,\"ticks\":\"\"}}}],\"scatterpolargl\":[{\"type\":\"scatterpolargl\",\"marker\":{\"colorbar\":{\"outlinewidth\":0,\"ticks\":\"\"}}}],\"bar\":[{\"error_x\":{\"color\":\"#2a3f5f\"},\"error_y\":{\"color\":\"#2a3f5f\"},\"marker\":{\"line\":{\"color\":\"#E5ECF6\",\"width\":0.5},\"pattern\":{\"fillmode\":\"overlay\",\"size\":10,\"solidity\":0.2}},\"type\":\"bar\"}],\"scattergeo\":[{\"type\":\"scattergeo\",\"marker\":{\"colorbar\":{\"outlinewidth\":0,\"ticks\":\"\"}}}],\"scatterpolar\":[{\"type\":\"scatterpolar\",\"marker\":{\"colorbar\":{\"outlinewidth\":0,\"ticks\":\"\"}}}],\"histogram\":[{\"marker\":{\"pattern\":{\"fillmode\":\"overlay\",\"size\":10,\"solidity\":0.2}},\"type\":\"histogram\"}],\"scattergl\":[{\"type\":\"scattergl\",\"marker\":{\"colorbar\":{\"outlinewidth\":0,\"ticks\":\"\"}}}],\"scatter3d\":[{\"type\":\"scatter3d\",\"line\":{\"colorbar\":{\"outlinewidth\":0,\"ticks\":\"\"}},\"marker\":{\"colorbar\":{\"outlinewidth\":0,\"ticks\":\"\"}}}],\"scattermapbox\":[{\"type\":\"scattermapbox\",\"marker\":{\"colorbar\":{\"outlinewidth\":0,\"ticks\":\"\"}}}],\"scatterternary\":[{\"type\":\"scatterternary\",\"marker\":{\"colorbar\":{\"outlinewidth\":0,\"ticks\":\"\"}}}],\"scattercarpet\":[{\"type\":\"scattercarpet\",\"marker\":{\"colorbar\":{\"outlinewidth\":0,\"ticks\":\"\"}}}],\"carpet\":[{\"aaxis\":{\"endlinecolor\":\"#2a3f5f\",\"gridcolor\":\"white\",\"linecolor\":\"white\",\"minorgridcolor\":\"white\",\"startlinecolor\":\"#2a3f5f\"},\"baxis\":{\"endlinecolor\":\"#2a3f5f\",\"gridcolor\":\"white\",\"linecolor\":\"white\",\"minorgridcolor\":\"white\",\"startlinecolor\":\"#2a3f5f\"},\"type\":\"carpet\"}],\"table\":[{\"cells\":{\"fill\":{\"color\":\"#EBF0F8\"},\"line\":{\"color\":\"white\"}},\"header\":{\"fill\":{\"color\":\"#C8D4E3\"},\"line\":{\"color\":\"white\"}},\"type\":\"table\"}],\"barpolar\":[{\"marker\":{\"line\":{\"color\":\"#E5ECF6\",\"width\":0.5},\"pattern\":{\"fillmode\":\"overlay\",\"size\":10,\"solidity\":0.2}},\"type\":\"barpolar\"}],\"pie\":[{\"automargin\":true,\"type\":\"pie\"}]},\"layout\":{\"autotypenumbers\":\"strict\",\"colorway\":[\"#636efa\",\"#EF553B\",\"#00cc96\",\"#ab63fa\",\"#FFA15A\",\"#19d3f3\",\"#FF6692\",\"#B6E880\",\"#FF97FF\",\"#FECB52\"],\"font\":{\"color\":\"#2a3f5f\"},\"hovermode\":\"closest\",\"hoverlabel\":{\"align\":\"left\"},\"paper_bgcolor\":\"white\",\"plot_bgcolor\":\"#E5ECF6\",\"polar\":{\"bgcolor\":\"#E5ECF6\",\"angularaxis\":{\"gridcolor\":\"white\",\"linecolor\":\"white\",\"ticks\":\"\"},\"radialaxis\":{\"gridcolor\":\"white\",\"linecolor\":\"white\",\"ticks\":\"\"}},\"ternary\":{\"bgcolor\":\"#E5ECF6\",\"aaxis\":{\"gridcolor\":\"white\",\"linecolor\":\"white\",\"ticks\":\"\"},\"baxis\":{\"gridcolor\":\"white\",\"linecolor\":\"white\",\"ticks\":\"\"},\"caxis\":{\"gridcolor\":\"white\",\"linecolor\":\"white\",\"ticks\":\"\"}},\"coloraxis\":{\"colorbar\":{\"outlinewidth\":0,\"ticks\":\"\"}},\"colorscale\":{\"sequential\":[[0.0,\"#0d0887\"],[0.1111111111111111,\"#46039f\"],[0.2222222222222222,\"#7201a8\"],[0.3333333333333333,\"#9c179e\"],[0.4444444444444444,\"#bd3786\"],[0.5555555555555556,\"#d8576b\"],[0.6666666666666666,\"#ed7953\"],[0.7777777777777778,\"#fb9f3a\"],[0.8888888888888888,\"#fdca26\"],[1.0,\"#f0f921\"]],\"sequentialminus\":[[0.0,\"#0d0887\"],[0.1111111111111111,\"#46039f\"],[0.2222222222222222,\"#7201a8\"],[0.3333333333333333,\"#9c179e\"],[0.4444444444444444,\"#bd3786\"],[0.5555555555555556,\"#d8576b\"],[0.6666666666666666,\"#ed7953\"],[0.7777777777777778,\"#fb9f3a\"],[0.8888888888888888,\"#fdca26\"],[1.0,\"#f0f921\"]],\"diverging\":[[0,\"#8e0152\"],[0.1,\"#c51b7d\"],[0.2,\"#de77ae\"],[0.3,\"#f1b6da\"],[0.4,\"#fde0ef\"],[0.5,\"#f7f7f7\"],[0.6,\"#e6f5d0\"],[0.7,\"#b8e186\"],[0.8,\"#7fbc41\"],[0.9,\"#4d9221\"],[1,\"#276419\"]]},\"xaxis\":{\"gridcolor\":\"white\",\"linecolor\":\"white\",\"ticks\":\"\",\"title\":{\"standoff\":15},\"zerolinecolor\":\"white\",\"automargin\":true,\"zerolinewidth\":2},\"yaxis\":{\"gridcolor\":\"white\",\"linecolor\":\"white\",\"ticks\":\"\",\"title\":{\"standoff\":15},\"zerolinecolor\":\"white\",\"automargin\":true,\"zerolinewidth\":2},\"scene\":{\"xaxis\":{\"backgroundcolor\":\"#E5ECF6\",\"gridcolor\":\"white\",\"linecolor\":\"white\",\"showbackground\":true,\"ticks\":\"\",\"zerolinecolor\":\"white\",\"gridwidth\":2},\"yaxis\":{\"backgroundcolor\":\"#E5ECF6\",\"gridcolor\":\"white\",\"linecolor\":\"white\",\"showbackground\":true,\"ticks\":\"\",\"zerolinecolor\":\"white\",\"gridwidth\":2},\"zaxis\":{\"backgroundcolor\":\"#E5ECF6\",\"gridcolor\":\"white\",\"linecolor\":\"white\",\"showbackground\":true,\"ticks\":\"\",\"zerolinecolor\":\"white\",\"gridwidth\":2}},\"shapedefaults\":{\"line\":{\"color\":\"#2a3f5f\"}},\"annotationdefaults\":{\"arrowcolor\":\"#2a3f5f\",\"arrowhead\":0,\"arrowwidth\":1},\"geo\":{\"bgcolor\":\"white\",\"landcolor\":\"#E5ECF6\",\"subunitcolor\":\"white\",\"showland\":true,\"showlakes\":true,\"lakecolor\":\"white\"},\"title\":{\"x\":0.05},\"mapbox\":{\"style\":\"light\"}}},\"xaxis\":{\"anchor\":\"y\",\"domain\":[0.0,1.0],\"title\":{\"text\":\"Speaker\"}},\"yaxis\":{\"anchor\":\"x\",\"domain\":[0.0,1.0],\"title\":{\"text\":\"value\"}},\"legend\":{\"title\":{\"text\":\"variable\"},\"tracegroupgap\":0},\"title\":{\"text\":\"Average POS Percentage in Different Topics\"},\"barmode\":\"group\"},                        {\"responsive\": true}                    ).then(function(){\n",
       "                            \n",
       "var gd = document.getElementById('ba0b1518-0a31-4263-b2e0-6c1f72374358');\n",
       "var x = new MutationObserver(function (mutations, observer) {{\n",
       "        var display = window.getComputedStyle(gd).display;\n",
       "        if (!display || display === 'none') {{\n",
       "            console.log([gd, 'removed!']);\n",
       "            Plotly.purge(gd);\n",
       "            observer.disconnect();\n",
       "        }}\n",
       "}});\n",
       "\n",
       "// Listen for the removal of the full notebook cells\n",
       "var notebookContainer = gd.closest('#notebook-container');\n",
       "if (notebookContainer) {{\n",
       "    x.observe(notebookContainer, {childList: true});\n",
       "}}\n",
       "\n",
       "// Listen for the clearing of the current output cell\n",
       "var outputEl = gd.closest('.output');\n",
       "if (outputEl) {{\n",
       "    x.observe(outputEl, {childList: true});\n",
       "}}\n",
       "\n",
       "                        })                };                });            </script>        </div>"
      ]
     },
     "metadata": {},
     "output_type": "display_data"
    }
   ],
   "source": [
    "# Use plotly to plot POS use per speaker\n",
    "fig = px.bar(average_pos_df, x=\"Speaker\", y=[\"ADJ\", 'VERB', \"NOUN\", \"PRON\"], title=\"Average POS Percentage in Different Topics\", barmode='group')\n",
    "fig.show()"
   ]
  },
  {
   "cell_type": "markdown",
   "id": "661477c8-0fbd-4bec-bb47-834a2607fae2",
   "metadata": {},
   "source": [
    "The results show that the percentage of nouns is higher than that of adjectives, verbs, and pronouns. Different speakers have varying frequencies of different parts of speech in their speeches. Speeches by Hillary Rodham Clinton, Shirley Anita St. Hill Chisholm, and Eleanor Roosevelt have a much higher percentage of nouns. As nouns are often used to convey information, it is possible that these speakers prioritize conveying concrete information and facts in their speeches, which could be a characteristic of their speaking style or rhetorical approach.\n",
    "\n",
    "On the other hand, Ann Richards, Elizabeth Glaser, and Ursula K. Le Guin used relatively similar numbers of verbs, nouns, and pronouns. This suggests a more balanced distribution of these parts of speech in their speeches. It indicates that these speakers may employ a more diverse range of linguistic elements in their communication."
   ]
  },
  {
   "cell_type": "markdown",
   "id": "11c4c008-eb56-4565-9c37-dee14387ea76",
   "metadata": {},
   "source": [
    "## Text annotation - Named Entity Recognition"
   ]
  },
  {
   "cell_type": "code",
   "execution_count": 130,
   "id": "25029673-d9f2-4d37-ad96-37e78fe1633a",
   "metadata": {},
   "outputs": [
    {
     "name": "stdout",
     "output_type": "stream",
     "text": [
      "CARDINAL : Numerals that do not fall under another type\n",
      "DATE : Absolute or relative dates or periods\n",
      "EVENT : Named hurricanes, battles, wars, sports events, etc.\n",
      "FAC : Buildings, airports, highways, bridges, etc.\n",
      "GPE : Countries, cities, states\n",
      "LANGUAGE : Any named language\n",
      "LAW : Named documents made into laws.\n",
      "LOC : Non-GPE locations, mountain ranges, bodies of water\n",
      "MONEY : Monetary values, including unit\n",
      "NORP : Nationalities or religious or political groups\n",
      "ORDINAL : \"first\", \"second\", etc.\n",
      "ORG : Companies, agencies, institutions, etc.\n",
      "PERCENT : Percentage, including \"%\"\n",
      "PERSON : People, including fictional\n",
      "PRODUCT : Objects, vehicles, foods, etc. (not services)\n",
      "QUANTITY : Measurements, as of weight or distance\n",
      "TIME : Times smaller than a day\n",
      "WORK_OF_ART : Titles of books, songs, etc.\n"
     ]
    }
   ],
   "source": [
    "# Get all NE labels and assign to variable\n",
    "labels = nlp.get_pipe(\"ner\").labels\n",
    "\n",
    "# Print each label and its description\n",
    "for label in labels:\n",
    "    print(label + ' : ' + spacy.explain(label))"
   ]
  },
  {
   "cell_type": "code",
   "execution_count": 131,
   "id": "786d34eb-396e-4666-a754-1fff529b5482",
   "metadata": {},
   "outputs": [
    {
     "data": {
      "text/html": [
       "<div>\n",
       "<style scoped>\n",
       "    .dataframe tbody tr th:only-of-type {\n",
       "        vertical-align: middle;\n",
       "    }\n",
       "\n",
       "    .dataframe tbody tr th {\n",
       "        vertical-align: top;\n",
       "    }\n",
       "\n",
       "    .dataframe thead th {\n",
       "        text-align: right;\n",
       "    }\n",
       "</style>\n",
       "<table border=\"1\" class=\"dataframe\">\n",
       "  <thead>\n",
       "    <tr style=\"text-align: right;\">\n",
       "      <th></th>\n",
       "      <th>Title</th>\n",
       "      <th>Speaker</th>\n",
       "      <th>Year</th>\n",
       "      <th>Transcript</th>\n",
       "      <th>clean_transcript</th>\n",
       "      <th>Doc</th>\n",
       "      <th>Tokens</th>\n",
       "      <th>Lemmas</th>\n",
       "      <th>POS</th>\n",
       "      <th>Proper_Nouns</th>\n",
       "      <th>NOUN</th>\n",
       "      <th>Adjectives</th>\n",
       "      <th>Named_Entities</th>\n",
       "    </tr>\n",
       "  </thead>\n",
       "  <tbody>\n",
       "    <tr>\n",
       "      <th>0</th>\n",
       "      <td>1976 Democratic National Convention Keynote Ad...</td>\n",
       "      <td>Barbara Charline Jordan</td>\n",
       "      <td>1976</td>\n",
       "      <td>Thank you ladies and gentlemen for a very warm...</td>\n",
       "      <td>Thank you ladies and gentlemen for a very warm...</td>\n",
       "      <td>(Thank, you, ladies, and, gentlemen, for, a, v...</td>\n",
       "      <td>[Thank, you, ladies, and, gentlemen, for, a, v...</td>\n",
       "      <td>[thank, you, lady, and, gentleman, for, a, ver...</td>\n",
       "      <td>[(VERB, VBP), (PRON, PRP), (NOUN, NNS), (CCONJ...</td>\n",
       "      <td>[Democratic, Partyfirst, Democrats, Barbara, J...</td>\n",
       "      <td>[ladies, gentlemen, reception, years, members,...</td>\n",
       "      <td>[warm, fortyfour, Presidential, Presidential, ...</td>\n",
       "      <td>[CARDINAL, NORP, NORP, DATE, TIME, TIME, PERSO...</td>\n",
       "    </tr>\n",
       "    <tr>\n",
       "      <th>1</th>\n",
       "      <td>Statement on House Judiciary Proceedings to Im...</td>\n",
       "      <td>Barbara Charline Jordan</td>\n",
       "      <td>1974</td>\n",
       "      <td>Thank you, Mr. Chairman. Mr. Chairman, I join ...</td>\n",
       "      <td>Thank you Mr Chairman Mr Chairman I join my co...</td>\n",
       "      <td>(Thank, you, Mr, Chairman, Mr, Chairman, I, jo...</td>\n",
       "      <td>[Thank, you, Mr, Chairman, Mr, Chairman, I, jo...</td>\n",
       "      <td>[thank, you, Mr, Chairman, Mr, Chairman, I, jo...</td>\n",
       "      <td>[(VERB, VBP), (PRON, PRP), (PROPN, NNP), (PROP...</td>\n",
       "      <td>[Mr, Chairman, Mr, Chairman, Mr, Rangel, Mr, C...</td>\n",
       "      <td>[colleague, members, committee, opportunity, p...</td>\n",
       "      <td>[junior, glorious, strong, easy, much, possibl...</td>\n",
       "      <td>[PERSON, PERSON, TIME, WORK_OF_ART, GPE, DATE,...</td>\n",
       "    </tr>\n",
       "    <tr>\n",
       "      <th>2</th>\n",
       "      <td>The Fundamental Principle of a Republic</td>\n",
       "      <td>Anna Howard Shaw</td>\n",
       "      <td>1915</td>\n",
       "      <td>When I came into your hall tonight, I thought ...</td>\n",
       "      <td>When I came into your hall tonight I thought o...</td>\n",
       "      <td>(When, I, came, into, your, hall, tonight, I, ...</td>\n",
       "      <td>[When, I, came, into, your, hall, tonight, I, ...</td>\n",
       "      <td>[when, I, come, into, your, hall, tonight, I, ...</td>\n",
       "      <td>[(SCONJ, WRB), (PRON, PRP), (VERB, VBD), (ADP,...</td>\n",
       "      <td>[Twentyone, Susan, B, Anthony, womans, enfranc...</td>\n",
       "      <td>[hall, tonight, time, city, years, purpose, to...</td>\n",
       "      <td>[last, same, American, fundamental, fair, Repu...</td>\n",
       "      <td>[DATE, PERSON, TIME, NORP, NORP, NORP, NORP, N...</td>\n",
       "    </tr>\n",
       "    <tr>\n",
       "      <th>3</th>\n",
       "      <td>United Nations 4th World Conference Speech Wo...</td>\n",
       "      <td>Hillary Rodham Clinton</td>\n",
       "      <td>1995</td>\n",
       "      <td>Thank you very much, Gertrude Mongella, for yo...</td>\n",
       "      <td>Thank you very much Gertrude Mongella for your...</td>\n",
       "      <td>(Thank, you, very, much, Gertrude, Mongella, f...</td>\n",
       "      <td>[Thank, you, very, much, Gertrude, Mongella, f...</td>\n",
       "      <td>[thank, you, very, much, Gertrude, Mongella, f...</td>\n",
       "      <td>[(VERB, VBP), (PRON, PRP), (ADV, RB), (ADV, RB...</td>\n",
       "      <td>[Gertrude, Mongella, Secretary, General, Unite...</td>\n",
       "      <td>[work, point, delegates, guests, part, celebra...</td>\n",
       "      <td>[dedicated, distinguished, important, differen...</td>\n",
       "      <td>[PERSON, ORG, GPE, GPE, GPE, DATE, ORDINAL, TI...</td>\n",
       "    </tr>\n",
       "    <tr>\n",
       "      <th>4</th>\n",
       "      <td>Democratic National Convention Keynote Address</td>\n",
       "      <td>Ann Richards</td>\n",
       "      <td>1988</td>\n",
       "      <td>Thank you, very much. Good evening, ladies and...</td>\n",
       "      <td>Thank you very much Good evening ladies and ge...</td>\n",
       "      <td>(Thank, you, very, much, Good, evening, ladies...</td>\n",
       "      <td>[Thank, you, very, much, Good, evening, ladies...</td>\n",
       "      <td>[thank, you, very, much, good, evening, lady, ...</td>\n",
       "      <td>[(VERB, VBP), (PRON, PRP), (ADV, RB), (ADV, RB...</td>\n",
       "      <td>[Buenas, George, Bush, Texas, Barbara, Jordan,...</td>\n",
       "      <td>[evening, ladies, gentlemen, mis, amigos, even...</td>\n",
       "      <td>[Good, delighted, real, keynote, high, little,...</td>\n",
       "      <td>[TIME, PERSON, TIME, PERSON, GPE, DATE, PERSON...</td>\n",
       "    </tr>\n",
       "  </tbody>\n",
       "</table>\n",
       "</div>"
      ],
      "text/plain": [
       "                                               Title                  Speaker  \\\n",
       "0  1976 Democratic National Convention Keynote Ad...  Barbara Charline Jordan   \n",
       "1  Statement on House Judiciary Proceedings to Im...  Barbara Charline Jordan   \n",
       "2            The Fundamental Principle of a Republic         Anna Howard Shaw   \n",
       "3   United Nations 4th World Conference Speech Wo...   Hillary Rodham Clinton   \n",
       "4     Democratic National Convention Keynote Address             Ann Richards   \n",
       "\n",
       "   Year                                         Transcript  \\\n",
       "0  1976  Thank you ladies and gentlemen for a very warm...   \n",
       "1  1974  Thank you, Mr. Chairman. Mr. Chairman, I join ...   \n",
       "2  1915  When I came into your hall tonight, I thought ...   \n",
       "3  1995  Thank you very much, Gertrude Mongella, for yo...   \n",
       "4  1988  Thank you, very much. Good evening, ladies and...   \n",
       "\n",
       "                                    clean_transcript  \\\n",
       "0  Thank you ladies and gentlemen for a very warm...   \n",
       "1  Thank you Mr Chairman Mr Chairman I join my co...   \n",
       "2  When I came into your hall tonight I thought o...   \n",
       "3  Thank you very much Gertrude Mongella for your...   \n",
       "4  Thank you very much Good evening ladies and ge...   \n",
       "\n",
       "                                                 Doc  \\\n",
       "0  (Thank, you, ladies, and, gentlemen, for, a, v...   \n",
       "1  (Thank, you, Mr, Chairman, Mr, Chairman, I, jo...   \n",
       "2  (When, I, came, into, your, hall, tonight, I, ...   \n",
       "3  (Thank, you, very, much, Gertrude, Mongella, f...   \n",
       "4  (Thank, you, very, much, Good, evening, ladies...   \n",
       "\n",
       "                                              Tokens  \\\n",
       "0  [Thank, you, ladies, and, gentlemen, for, a, v...   \n",
       "1  [Thank, you, Mr, Chairman, Mr, Chairman, I, jo...   \n",
       "2  [When, I, came, into, your, hall, tonight, I, ...   \n",
       "3  [Thank, you, very, much, Gertrude, Mongella, f...   \n",
       "4  [Thank, you, very, much, Good, evening, ladies...   \n",
       "\n",
       "                                              Lemmas  \\\n",
       "0  [thank, you, lady, and, gentleman, for, a, ver...   \n",
       "1  [thank, you, Mr, Chairman, Mr, Chairman, I, jo...   \n",
       "2  [when, I, come, into, your, hall, tonight, I, ...   \n",
       "3  [thank, you, very, much, Gertrude, Mongella, f...   \n",
       "4  [thank, you, very, much, good, evening, lady, ...   \n",
       "\n",
       "                                                 POS  \\\n",
       "0  [(VERB, VBP), (PRON, PRP), (NOUN, NNS), (CCONJ...   \n",
       "1  [(VERB, VBP), (PRON, PRP), (PROPN, NNP), (PROP...   \n",
       "2  [(SCONJ, WRB), (PRON, PRP), (VERB, VBD), (ADP,...   \n",
       "3  [(VERB, VBP), (PRON, PRP), (ADV, RB), (ADV, RB...   \n",
       "4  [(VERB, VBP), (PRON, PRP), (ADV, RB), (ADV, RB...   \n",
       "\n",
       "                                        Proper_Nouns  \\\n",
       "0  [Democratic, Partyfirst, Democrats, Barbara, J...   \n",
       "1  [Mr, Chairman, Mr, Chairman, Mr, Rangel, Mr, C...   \n",
       "2  [Twentyone, Susan, B, Anthony, womans, enfranc...   \n",
       "3  [Gertrude, Mongella, Secretary, General, Unite...   \n",
       "4  [Buenas, George, Bush, Texas, Barbara, Jordan,...   \n",
       "\n",
       "                                                NOUN  \\\n",
       "0  [ladies, gentlemen, reception, years, members,...   \n",
       "1  [colleague, members, committee, opportunity, p...   \n",
       "2  [hall, tonight, time, city, years, purpose, to...   \n",
       "3  [work, point, delegates, guests, part, celebra...   \n",
       "4  [evening, ladies, gentlemen, mis, amigos, even...   \n",
       "\n",
       "                                          Adjectives  \\\n",
       "0  [warm, fortyfour, Presidential, Presidential, ...   \n",
       "1  [junior, glorious, strong, easy, much, possibl...   \n",
       "2  [last, same, American, fundamental, fair, Repu...   \n",
       "3  [dedicated, distinguished, important, differen...   \n",
       "4  [Good, delighted, real, keynote, high, little,...   \n",
       "\n",
       "                                      Named_Entities  \n",
       "0  [CARDINAL, NORP, NORP, DATE, TIME, TIME, PERSO...  \n",
       "1  [PERSON, PERSON, TIME, WORK_OF_ART, GPE, DATE,...  \n",
       "2  [DATE, PERSON, TIME, NORP, NORP, NORP, NORP, N...  \n",
       "3  [PERSON, ORG, GPE, GPE, GPE, DATE, ORDINAL, TI...  \n",
       "4  [TIME, PERSON, TIME, PERSON, GPE, DATE, PERSON...  "
      ]
     },
     "execution_count": 131,
     "metadata": {},
     "output_type": "execute_result"
    }
   ],
   "source": [
    "# Define function to extract named entities from doc objects\n",
    "def extract_named_entities(doc):\n",
    "    return [ent.label_ for ent in doc.ents]\n",
    "\n",
    "# Apply function to Doc column and store resulting named entities in new column\n",
    "women_speech['Named_Entities'] = women_speech['Doc'].apply(extract_named_entities)\n",
    "women_speech.head()"
   ]
  },
  {
   "cell_type": "code",
   "execution_count": 132,
   "id": "3eb44b2e-8057-4439-a398-21e6ae020833",
   "metadata": {},
   "outputs": [
    {
     "data": {
      "text/html": [
       "<div>\n",
       "<style scoped>\n",
       "    .dataframe tbody tr th:only-of-type {\n",
       "        vertical-align: middle;\n",
       "    }\n",
       "\n",
       "    .dataframe tbody tr th {\n",
       "        vertical-align: top;\n",
       "    }\n",
       "\n",
       "    .dataframe thead th {\n",
       "        text-align: right;\n",
       "    }\n",
       "</style>\n",
       "<table border=\"1\" class=\"dataframe\">\n",
       "  <thead>\n",
       "    <tr style=\"text-align: right;\">\n",
       "      <th></th>\n",
       "      <th>Title</th>\n",
       "      <th>Speaker</th>\n",
       "      <th>Year</th>\n",
       "      <th>Transcript</th>\n",
       "      <th>clean_transcript</th>\n",
       "      <th>Doc</th>\n",
       "      <th>Tokens</th>\n",
       "      <th>Lemmas</th>\n",
       "      <th>POS</th>\n",
       "      <th>Proper_Nouns</th>\n",
       "      <th>NOUN</th>\n",
       "      <th>Adjectives</th>\n",
       "      <th>Named_Entities</th>\n",
       "      <th>NE_Words</th>\n",
       "    </tr>\n",
       "  </thead>\n",
       "  <tbody>\n",
       "    <tr>\n",
       "      <th>0</th>\n",
       "      <td>1976 Democratic National Convention Keynote Ad...</td>\n",
       "      <td>Barbara Charline Jordan</td>\n",
       "      <td>1976</td>\n",
       "      <td>Thank you ladies and gentlemen for a very warm...</td>\n",
       "      <td>Thank you ladies and gentlemen for a very warm...</td>\n",
       "      <td>(Thank, you, ladies, and, gentlemen, for, a, v...</td>\n",
       "      <td>[Thank, you, ladies, and, gentlemen, for, a, v...</td>\n",
       "      <td>[thank, you, lady, and, gentleman, for, a, ver...</td>\n",
       "      <td>[(VERB, VBP), (PRON, PRP), (NOUN, NNS), (CCONJ...</td>\n",
       "      <td>[Democratic, Partyfirst, Democrats, Barbara, J...</td>\n",
       "      <td>[ladies, gentlemen, reception, years, members,...</td>\n",
       "      <td>[warm, fortyfour, Presidential, Presidential, ...</td>\n",
       "      <td>[CARDINAL, NORP, NORP, DATE, TIME, TIME, PERSO...</td>\n",
       "      <td>[(one, hundred, and, fortyfour, years, ago), (...</td>\n",
       "    </tr>\n",
       "    <tr>\n",
       "      <th>1</th>\n",
       "      <td>Statement on House Judiciary Proceedings to Im...</td>\n",
       "      <td>Barbara Charline Jordan</td>\n",
       "      <td>1974</td>\n",
       "      <td>Thank you, Mr. Chairman. Mr. Chairman, I join ...</td>\n",
       "      <td>Thank you Mr Chairman Mr Chairman I join my co...</td>\n",
       "      <td>(Thank, you, Mr, Chairman, Mr, Chairman, I, jo...</td>\n",
       "      <td>[Thank, you, Mr, Chairman, Mr, Chairman, I, jo...</td>\n",
       "      <td>[thank, you, Mr, Chairman, Mr, Chairman, I, jo...</td>\n",
       "      <td>[(VERB, VBP), (PRON, PRP), (PROPN, NNP), (PROP...</td>\n",
       "      <td>[Mr, Chairman, Mr, Chairman, Mr, Rangel, Mr, C...</td>\n",
       "      <td>[colleague, members, committee, opportunity, p...</td>\n",
       "      <td>[junior, glorious, strong, easy, much, possibl...</td>\n",
       "      <td>[PERSON, PERSON, TIME, WORK_OF_ART, GPE, DATE,...</td>\n",
       "      <td>[(Mr), (Rangel), (Earlier, today), (Preamble),...</td>\n",
       "    </tr>\n",
       "    <tr>\n",
       "      <th>2</th>\n",
       "      <td>The Fundamental Principle of a Republic</td>\n",
       "      <td>Anna Howard Shaw</td>\n",
       "      <td>1915</td>\n",
       "      <td>When I came into your hall tonight, I thought ...</td>\n",
       "      <td>When I came into your hall tonight I thought o...</td>\n",
       "      <td>(When, I, came, into, your, hall, tonight, I, ...</td>\n",
       "      <td>[When, I, came, into, your, hall, tonight, I, ...</td>\n",
       "      <td>[when, I, come, into, your, hall, tonight, I, ...</td>\n",
       "      <td>[(SCONJ, WRB), (PRON, PRP), (VERB, VBD), (ADP,...</td>\n",
       "      <td>[Twentyone, Susan, B, Anthony, womans, enfranc...</td>\n",
       "      <td>[hall, tonight, time, city, years, purpose, to...</td>\n",
       "      <td>[last, same, American, fundamental, fair, Repu...</td>\n",
       "      <td>[DATE, PERSON, TIME, NORP, NORP, NORP, NORP, N...</td>\n",
       "      <td>[(Twentyone, years, ago), (Susan, B, Anthony),...</td>\n",
       "    </tr>\n",
       "    <tr>\n",
       "      <th>3</th>\n",
       "      <td>United Nations 4th World Conference Speech Wo...</td>\n",
       "      <td>Hillary Rodham Clinton</td>\n",
       "      <td>1995</td>\n",
       "      <td>Thank you very much, Gertrude Mongella, for yo...</td>\n",
       "      <td>Thank you very much Gertrude Mongella for your...</td>\n",
       "      <td>(Thank, you, very, much, Gertrude, Mongella, f...</td>\n",
       "      <td>[Thank, you, very, much, Gertrude, Mongella, f...</td>\n",
       "      <td>[thank, you, very, much, Gertrude, Mongella, f...</td>\n",
       "      <td>[(VERB, VBP), (PRON, PRP), (ADV, RB), (ADV, RB...</td>\n",
       "      <td>[Gertrude, Mongella, Secretary, General, Unite...</td>\n",
       "      <td>[work, point, delegates, guests, part, celebra...</td>\n",
       "      <td>[dedicated, distinguished, important, differen...</td>\n",
       "      <td>[PERSON, ORG, GPE, GPE, GPE, DATE, ORDINAL, TI...</td>\n",
       "      <td>[(Gertrude, Mongella), (United, Nations, Fourt...</td>\n",
       "    </tr>\n",
       "    <tr>\n",
       "      <th>4</th>\n",
       "      <td>Democratic National Convention Keynote Address</td>\n",
       "      <td>Ann Richards</td>\n",
       "      <td>1988</td>\n",
       "      <td>Thank you, very much. Good evening, ladies and...</td>\n",
       "      <td>Thank you very much Good evening ladies and ge...</td>\n",
       "      <td>(Thank, you, very, much, Good, evening, ladies...</td>\n",
       "      <td>[Thank, you, very, much, Good, evening, ladies...</td>\n",
       "      <td>[thank, you, very, much, good, evening, lady, ...</td>\n",
       "      <td>[(VERB, VBP), (PRON, PRP), (ADV, RB), (ADV, RB...</td>\n",
       "      <td>[Buenas, George, Bush, Texas, Barbara, Jordan,...</td>\n",
       "      <td>[evening, ladies, gentlemen, mis, amigos, even...</td>\n",
       "      <td>[Good, delighted, real, keynote, high, little,...</td>\n",
       "      <td>[TIME, PERSON, TIME, PERSON, GPE, DATE, PERSON...</td>\n",
       "      <td>[(evening), (Buenas), (this, evening), (George...</td>\n",
       "    </tr>\n",
       "    <tr>\n",
       "      <th>5</th>\n",
       "      <td>Declaration of Conscience</td>\n",
       "      <td>Margaret Chase Smith</td>\n",
       "      <td>1950</td>\n",
       "      <td>r. President: I would like to speak briefly an...</td>\n",
       "      <td>r President I would like to speak briefly and ...</td>\n",
       "      <td>(r, President, I, would, like, to, speak, brie...</td>\n",
       "      <td>[r, President, I, would, like, to, speak, brie...</td>\n",
       "      <td>[r, President, I, would, like, to, speak, brie...</td>\n",
       "      <td>[(NOUN, NN), (PROPN, NNP), (PRON, PRP), (AUX, ...</td>\n",
       "      <td>[President, Americans, Legislative, Branch, Ex...</td>\n",
       "      <td>[r, condition, feeling, fear, frustration, sui...</td>\n",
       "      <td>[serious, national, national, national, dear, ...</td>\n",
       "      <td>[NORP, ORG, ORG, NORP, GPE, NORP, GPE, ORG, OR...</td>\n",
       "      <td>[(Americans), (the, Legislative, Branch), (the...</td>\n",
       "    </tr>\n",
       "    <tr>\n",
       "      <th>6</th>\n",
       "      <td>Wellesley College Commencement Speech</td>\n",
       "      <td>Barbara Pierce Bush</td>\n",
       "      <td>1990</td>\n",
       "      <td>Thank you very, very much,President Keohane. M...</td>\n",
       "      <td>Thank you very very muchPresident Keohane Mrs ...</td>\n",
       "      <td>(Thank, you, very, very, muchPresident, Keohan...</td>\n",
       "      <td>[Thank, you, very, very, muchPresident, Keohan...</td>\n",
       "      <td>[thank, you, very, very, muchpresident, Keohan...</td>\n",
       "      <td>[(VERB, VBP), (PRON, PRP), (ADV, RB), (ADV, RB...</td>\n",
       "      <td>[Keohane, Mrs, Gorbachev, Trustees, JuliaPorte...</td>\n",
       "      <td>[faculty, parents, class, president, friend, t...</td>\n",
       "      <td>[muchPresident, new, best, thrilled, excited, ...</td>\n",
       "      <td>[PERSON, ORG, PERSON, DATE, DATE, PERSON, GPE,...</td>\n",
       "      <td>[(Keohane, Mrs, Gorbachev, Trustees), (JuliaPo...</td>\n",
       "    </tr>\n",
       "    <tr>\n",
       "      <th>7</th>\n",
       "      <td>1992 Republican National Convention Address A...</td>\n",
       "      <td>MaryFisher</td>\n",
       "      <td>1992</td>\n",
       "      <td>Less than three months ago at platform hearing...</td>\n",
       "      <td>Less than three months ago at platform hearing...</td>\n",
       "      <td>(Less, than, three, months, ago, at, platform,...</td>\n",
       "      <td>[Less, than, three, months, ago, at, platform,...</td>\n",
       "      <td>[Less, than, three, month, ago, at, platform, ...</td>\n",
       "      <td>[(ADJ, JJR), (ADP, IN), (NUM, CD), (NOUN, NNS)...</td>\n",
       "      <td>[Salt, Lake, City, Republican, Party, HIV, AID...</td>\n",
       "      <td>[months, platform, hearings, shroud, silence, ...</td>\n",
       "      <td>[Less, positive, clear, dead, few, congression...</td>\n",
       "      <td>[DATE, GPE, ORG, TIME, CARDINAL, NORP, CARDINA...</td>\n",
       "      <td>[(Less, than, three, months, ago), (Salt, Lake...</td>\n",
       "    </tr>\n",
       "    <tr>\n",
       "      <th>8</th>\n",
       "      <td>The Struggle for Human Rights</td>\n",
       "      <td>Eleanor Roosevelt</td>\n",
       "      <td>1948</td>\n",
       "      <td>I have come this evening to talk with you on o...</td>\n",
       "      <td>I have come this evening to talk with you on o...</td>\n",
       "      <td>(I, have, come, this, evening, to, talk, with,...</td>\n",
       "      <td>[I, have, come, this, evening, to, talk, with,...</td>\n",
       "      <td>[I, have, come, this, evening, to, talk, with,...</td>\n",
       "      <td>[(PRON, PRP), (AUX, VBP), (VERB, VBN), (DET, D...</td>\n",
       "      <td>[France, Sorbonne, Rights, Man, FrenchRevoluti...</td>\n",
       "      <td>[evening, greatestissues, time, preservation, ...</td>\n",
       "      <td>[human, human, deep, great, greatest, early, h...</td>\n",
       "      <td>[TIME, CARDINAL, GPE, PERSON, ORG, LOC, DATE, ...</td>\n",
       "      <td>[(this, evening), (one), (France), (Sorbonne),...</td>\n",
       "    </tr>\n",
       "    <tr>\n",
       "      <th>9</th>\n",
       "      <td>1984 Vice Presidential Nomination Acceptance A...</td>\n",
       "      <td>Geraldine Ferraro</td>\n",
       "      <td>1984</td>\n",
       "      <td>Ladies and gentlemen of the convention: My nam...</td>\n",
       "      <td>Ladies and gentlemen of the convention My name...</td>\n",
       "      <td>(Ladies, and, gentlemen, of, the, convention, ...</td>\n",
       "      <td>[Ladies, and, gentlemen, of, the, convention, ...</td>\n",
       "      <td>[lady, and, gentleman, of, the, convention, my...</td>\n",
       "      <td>[(NOUN, NNS), (CCONJ, CC), (NOUN, NNS), (ADP, ...</td>\n",
       "      <td>[Geraldine, Ferraro, tonightAmerica, Dr, Marti...</td>\n",
       "      <td>[Ladies, gentlemen, convention, name, land, dr...</td>\n",
       "      <td>[true, American, great, stronger, free, inaudi...</td>\n",
       "      <td>[PERSON, GPE, NORP, PERSON, GPE, GPE, TIME, GP...</td>\n",
       "      <td>[(Geraldine, Ferraro), (tonightAmerica), (Amer...</td>\n",
       "    </tr>\n",
       "    <tr>\n",
       "      <th>10</th>\n",
       "      <td>Address to the Jury</td>\n",
       "      <td>Emma Goldman</td>\n",
       "      <td>1917</td>\n",
       "      <td>Gentlemen of the Jury: As in the case of my co...</td>\n",
       "      <td>Gentlemen of the Jury As in the case of my cod...</td>\n",
       "      <td>(Gentlemen, of, the, Jury, As, in, the, case, ...</td>\n",
       "      <td>[Gentlemen, of, the, Jury, As, in, the, case, ...</td>\n",
       "      <td>[gentleman, of, the, Jury, as, in, the, case, ...</td>\n",
       "      <td>[(NOUN, NNS), (ADP, IN), (DET, DT), (PROPN, NN...</td>\n",
       "      <td>[Jury, Alexander, Berkman, U, S, Marshal, Dist...</td>\n",
       "      <td>[Gentlemen, case, codefendant, time, life, jur...</td>\n",
       "      <td>[first, big, more, democratic, young, European...</td>\n",
       "      <td>[PERSON, ORDINAL, CARDINAL, DATE, ORG, ORG, OR...</td>\n",
       "      <td>[(Alexander, Berkman), (first), (three), (the,...</td>\n",
       "    </tr>\n",
       "    <tr>\n",
       "      <th>11</th>\n",
       "      <td>The Crisis</td>\n",
       "      <td>Carrie Chapman Catt</td>\n",
       "      <td>1916</td>\n",
       "      <td>I have taken for my subject, \"The Crisis,\" bec...</td>\n",
       "      <td>I have taken for my subject The Crisis because...</td>\n",
       "      <td>(I, have, taken, for, my, subject, The, Crisis...</td>\n",
       "      <td>[I, have, taken, for, my, subject, The, Crisis...</td>\n",
       "      <td>[I, have, take, for, my, subject, the, Crisis,...</td>\n",
       "      <td>[(PRON, PRP), (AUX, VBP), (VERB, VBN), (ADP, I...</td>\n",
       "      <td>[Crisis, America, Hour, united, None, First, A...</td>\n",
       "      <td>[subject, crisis, movement, opportunity, vigor...</td>\n",
       "      <td>[final, great, near, aware, present, steady, n...</td>\n",
       "      <td>[DATE, DATE, DATE, DATE, GPE, ORG, PERSON, ORD...</td>\n",
       "      <td>[(today), (yesterday), (the, year, 1916), (the...</td>\n",
       "    </tr>\n",
       "    <tr>\n",
       "      <th>12</th>\n",
       "      <td>Opening Statement to Senate Judiciary Committe...</td>\n",
       "      <td>Anita Hill</td>\n",
       "      <td>1991</td>\n",
       "      <td>Ms. Hill: Mr. Chairman, Senator Thurmond, memb...</td>\n",
       "      <td>Ms Hill Mr Chairman Senator Thurmond members o...</td>\n",
       "      <td>(Ms, Hill, Mr, Chairman, Senator, Thurmond, me...</td>\n",
       "      <td>[Ms, Hill, Mr, Chairman, Senator, Thurmond, me...</td>\n",
       "      <td>[Ms, Hill, Mr, Chairman, Senator, Thurmond, me...</td>\n",
       "      <td>[(PROPN, NNP), (PROPN, NNP), (PROPN, NNP), (PR...</td>\n",
       "      <td>[Ms, Hill, Mr, Chairman, Senator, Thurmond, An...</td>\n",
       "      <td>[members, committee, name, professor, law, far...</td>\n",
       "      <td>[youngest, early, hard, much, solid, religious...</td>\n",
       "      <td>[PERSON, PERSON, PERSON, ORG, GPE, DATE, CARDI...</td>\n",
       "      <td>[(Ms, Hill, Mr), (Thurmond), (Anita, F, Hill),...</td>\n",
       "    </tr>\n",
       "    <tr>\n",
       "      <th>13</th>\n",
       "      <td>Address to Congress on Womens Suffrage</td>\n",
       "      <td>Carrie Chapman Catt</td>\n",
       "      <td>1917</td>\n",
       "      <td>Woman suffrage is inevitable. Suffragists knew...</td>\n",
       "      <td>Woman suffrage is inevitable Suffragists knew ...</td>\n",
       "      <td>(Woman, suffrage, is, inevitable, Suffragists,...</td>\n",
       "      <td>[Woman, suffrage, is, inevitable, Suffragists,...</td>\n",
       "      <td>[woman, suffrage, be, inevitable, suffragist, ...</td>\n",
       "      <td>[(NOUN, NN), (NOUN, NN), (AUX, VBZ), (ADJ, JJ)...</td>\n",
       "      <td>[November, Ours, American, Revolutionists, Tax...</td>\n",
       "      <td>[Woman, suffrage, Suffragists, opponents, caus...</td>\n",
       "      <td>[inevitable, distinct, inevitable, human, impr...</td>\n",
       "      <td>[NORP, DATE, CARDINAL, ORDINAL, DATE, NORP, CA...</td>\n",
       "      <td>[(Suffragists), (November, 4, 1917), (Three), ...</td>\n",
       "    </tr>\n",
       "    <tr>\n",
       "      <th>14</th>\n",
       "      <td>1992 Democratic National Convention Address</td>\n",
       "      <td>Elizabeth Glaser</td>\n",
       "      <td>1992</td>\n",
       "      <td>I'm Elizabeth Glaser. Eleven years ago, while ...</td>\n",
       "      <td>Im Elizabeth Glaser Eleven years ago while giv...</td>\n",
       "      <td>(I, m, Elizabeth, Glaser, Eleven, years, ago, ...</td>\n",
       "      <td>[I, m, Elizabeth, Glaser, Eleven, years, ago, ...</td>\n",
       "      <td>[I, m, Elizabeth, Glaser, Eleven, year, ago, w...</td>\n",
       "      <td>[(PRON, PRP), (VERB, VBP), (PROPN, NNP), (PROP...</td>\n",
       "      <td>[Elizabeth, Glaser, Eleven, myfirst, laterI, A...</td>\n",
       "      <td>[years, birth, child, pints, blood, years, vir...</td>\n",
       "      <td>[more, unfair, many, many, poor, strange, well...</td>\n",
       "      <td>[PERSON, DATE, CARDINAL, DATE, PERSON, PERSON,...</td>\n",
       "      <td>[(Elizabeth, Glaser), (Eleven, years, ago), (s...</td>\n",
       "    </tr>\n",
       "    <tr>\n",
       "      <th>15</th>\n",
       "      <td>The Childrens Era Speech</td>\n",
       "      <td>Margaret Sanger</td>\n",
       "      <td>1925</td>\n",
       "      <td>Mr. Chairman, Ladies and Gentlemen: My subject...</td>\n",
       "      <td>Mr Chairman Ladies and Gentlemen My subject is...</td>\n",
       "      <td>(Mr, Chairman, Ladies, and, Gentlemen, My, sub...</td>\n",
       "      <td>[Mr, Chairman, Ladies, and, Gentlemen, My, sub...</td>\n",
       "      <td>[Mr, Chairman, Ladies, and, Gentlemen, my, sub...</td>\n",
       "      <td>[(PROPN, NNP), (PROPN, NNP), (PROPN, NNPS), (C...</td>\n",
       "      <td>[Mr, Chairman, Ladies, Gentlemen, Childrens, C...</td>\n",
       "      <td>[subject, Era, Era, book, century, century, ch...</td>\n",
       "      <td>[twentieth, twentieth, old, beautiful, twentie...</td>\n",
       "      <td>[PERSON, ORG, PERSON, WORK_OF_ART, DATE, DATE,...</td>\n",
       "      <td>[(Ladies, and, Gentlemen), (The, Childrens, Er...</td>\n",
       "    </tr>\n",
       "    <tr>\n",
       "      <th>16</th>\n",
       "      <td>A LeftHanded Commencement Address</td>\n",
       "      <td>Ursula K. Le Guin</td>\n",
       "      <td>1983</td>\n",
       "      <td>I want to thank the Mills College Class of '83...</td>\n",
       "      <td>I want to thank the Mills College Class of 83 ...</td>\n",
       "      <td>(I, want, to, thank, the, Mills, College, Clas...</td>\n",
       "      <td>[I, want, to, thank, the, Mills, College, Clas...</td>\n",
       "      <td>[I, want, to, thank, the, Mills, College, Clas...</td>\n",
       "      <td>[(PRON, PRP), (VERB, VBP), (PART, TO), (VERB, ...</td>\n",
       "      <td>[Mills, College, Class, Greek, Greek, Greek, A...</td>\n",
       "      <td>[chance, public, language, women, men, tragedy...</td>\n",
       "      <td>[rare, unspoken, male, great, pregnant, Intell...</td>\n",
       "      <td>[CARDINAL, NORP, NORP, NORP, PERSON, PERSON, P...</td>\n",
       "      <td>[(83), (Greek), (Greek), (Greek), (Anyhow), (M...</td>\n",
       "    </tr>\n",
       "    <tr>\n",
       "      <th>17</th>\n",
       "      <td>Statement at the Smith Act Trial</td>\n",
       "      <td>Elizabeth Gurley Flynn</td>\n",
       "      <td>1952</td>\n",
       "      <td>Your Honor, ladies and gentlemen, myname is El...</td>\n",
       "      <td>Your Honor ladies and gentlemen myname is Eliz...</td>\n",
       "      <td>(Your, Honor, ladies, and, gentlemen, myname, ...</td>\n",
       "      <td>[Your, Honor, ladies, and, gentlemen, myname, ...</td>\n",
       "      <td>[your, Honor, lady, and, gentleman, myname, be...</td>\n",
       "      <td>[(PRON, PRP$), (PROPN, NNP), (NOUN, NNS), (CCO...</td>\n",
       "      <td>[Honor, Elizabeth, Gurley, Flynn, Mr, Pettis, ...</td>\n",
       "      <td>[ladies, gentlemen, myname, defendant, case, o...</td>\n",
       "      <td>[Communist, whatit, ultimate, simple, nontechn...</td>\n",
       "      <td>[PERSON, PERSON, NORP, ORG, GPE, DATE, ORG, NO...</td>\n",
       "      <td>[(Elizabeth, Gurley), (Perry), (Communist), (t...</td>\n",
       "    </tr>\n",
       "    <tr>\n",
       "      <th>18</th>\n",
       "      <td>For the Equal Rights Amendment Aug 10 1970</td>\n",
       "      <td>Shirley Anita St. Hill Chisholm</td>\n",
       "      <td>1970</td>\n",
       "      <td>Mr. Speaker, House Joint Resolution 264, befor...</td>\n",
       "      <td>Mr Speaker House Joint Resolution 264 before u...</td>\n",
       "      <td>(Mr, Speaker, House, Joint, Resolution, 264, b...</td>\n",
       "      <td>[Mr, Speaker, House, Joint, Resolution, 264, b...</td>\n",
       "      <td>[Mr, Speaker, House, Joint, Resolution, 264, b...</td>\n",
       "      <td>[(PROPN, NNP), (PROPN, NNP), (PROPN, NNP), (PR...</td>\n",
       "      <td>[Mr, Speaker, House, Joint, Resolution, Consti...</td>\n",
       "      <td>[today, whichprovides, equality, law, men, wom...</td>\n",
       "      <td>[mostclearcut, likely, legal, subtle, mostperv...</td>\n",
       "      <td>[DATE, CARDINAL, LAW, PERSON, PERSON, LAW, ORD...</td>\n",
       "      <td>[(today), (one), (Constitution), (bill, asit),...</td>\n",
       "    </tr>\n",
       "    <tr>\n",
       "      <th>19</th>\n",
       "      <td>On the Adoption of the Universal Declaration ...</td>\n",
       "      <td>Eleanor Roosevelt</td>\n",
       "      <td>1948</td>\n",
       "      <td>Mr. President, fellow delegates: The long and ...</td>\n",
       "      <td>Mr President fellow delegates The long and met...</td>\n",
       "      <td>(Mr, President, fellow, delegates, The, long, ...</td>\n",
       "      <td>[Mr, President, fellow, delegates, The, long, ...</td>\n",
       "      <td>[Mr, President, fellow, delegate, the, long, a...</td>\n",
       "      <td>[(PROPN, NNP), (PROPN, NNP), (NOUN, NN), (NOUN...</td>\n",
       "      <td>[Mr, President, UniversalDeclaration, Human, R...</td>\n",
       "      <td>[fellow, delegates, study, debate, product, vi...</td>\n",
       "      <td>[long, meticulous, composite, many, norevery, ...</td>\n",
       "      <td>[ORG, GPE, GPE, WORK_OF_ART, ORG, ORG, ORG, NO...</td>\n",
       "      <td>[(this, UniversalDeclaration, of, Human, Right...</td>\n",
       "    </tr>\n",
       "  </tbody>\n",
       "</table>\n",
       "</div>"
      ],
      "text/plain": [
       "                                                Title  \\\n",
       "0   1976 Democratic National Convention Keynote Ad...   \n",
       "1   Statement on House Judiciary Proceedings to Im...   \n",
       "2             The Fundamental Principle of a Republic   \n",
       "3    United Nations 4th World Conference Speech Wo...   \n",
       "4      Democratic National Convention Keynote Address   \n",
       "5                           Declaration of Conscience   \n",
       "6               Wellesley College Commencement Speech   \n",
       "7    1992 Republican National Convention Address A...   \n",
       "8                       The Struggle for Human Rights   \n",
       "9   1984 Vice Presidential Nomination Acceptance A...   \n",
       "10                                Address to the Jury   \n",
       "11                                         The Crisis   \n",
       "12  Opening Statement to Senate Judiciary Committe...   \n",
       "13             Address to Congress on Womens Suffrage   \n",
       "14        1992 Democratic National Convention Address   \n",
       "15                           The Childrens Era Speech   \n",
       "16                  A LeftHanded Commencement Address   \n",
       "17                   Statement at the Smith Act Trial   \n",
       "18         For the Equal Rights Amendment Aug 10 1970   \n",
       "19   On the Adoption of the Universal Declaration ...   \n",
       "\n",
       "                            Speaker  Year  \\\n",
       "0           Barbara Charline Jordan  1976   \n",
       "1           Barbara Charline Jordan  1974   \n",
       "2                  Anna Howard Shaw  1915   \n",
       "3            Hillary Rodham Clinton  1995   \n",
       "4                      Ann Richards  1988   \n",
       "5              Margaret Chase Smith  1950   \n",
       "6               Barbara Pierce Bush  1990   \n",
       "7                        MaryFisher  1992   \n",
       "8                 Eleanor Roosevelt  1948   \n",
       "9                 Geraldine Ferraro  1984   \n",
       "10                     Emma Goldman  1917   \n",
       "11              Carrie Chapman Catt  1916   \n",
       "12                       Anita Hill  1991   \n",
       "13              Carrie Chapman Catt  1917   \n",
       "14                 Elizabeth Glaser  1992   \n",
       "15                  Margaret Sanger  1925   \n",
       "16                Ursula K. Le Guin  1983   \n",
       "17           Elizabeth Gurley Flynn  1952   \n",
       "18  Shirley Anita St. Hill Chisholm  1970   \n",
       "19                Eleanor Roosevelt  1948   \n",
       "\n",
       "                                           Transcript  \\\n",
       "0   Thank you ladies and gentlemen for a very warm...   \n",
       "1   Thank you, Mr. Chairman. Mr. Chairman, I join ...   \n",
       "2   When I came into your hall tonight, I thought ...   \n",
       "3   Thank you very much, Gertrude Mongella, for yo...   \n",
       "4   Thank you, very much. Good evening, ladies and...   \n",
       "5   r. President: I would like to speak briefly an...   \n",
       "6   Thank you very, very much,President Keohane. M...   \n",
       "7   Less than three months ago at platform hearing...   \n",
       "8   I have come this evening to talk with you on o...   \n",
       "9   Ladies and gentlemen of the convention: My nam...   \n",
       "10  Gentlemen of the Jury: As in the case of my co...   \n",
       "11  I have taken for my subject, \"The Crisis,\" bec...   \n",
       "12  Ms. Hill: Mr. Chairman, Senator Thurmond, memb...   \n",
       "13  Woman suffrage is inevitable. Suffragists knew...   \n",
       "14  I'm Elizabeth Glaser. Eleven years ago, while ...   \n",
       "15  Mr. Chairman, Ladies and Gentlemen: My subject...   \n",
       "16  I want to thank the Mills College Class of '83...   \n",
       "17  Your Honor, ladies and gentlemen, myname is El...   \n",
       "18  Mr. Speaker, House Joint Resolution 264, befor...   \n",
       "19  Mr. President, fellow delegates: The long and ...   \n",
       "\n",
       "                                     clean_transcript  \\\n",
       "0   Thank you ladies and gentlemen for a very warm...   \n",
       "1   Thank you Mr Chairman Mr Chairman I join my co...   \n",
       "2   When I came into your hall tonight I thought o...   \n",
       "3   Thank you very much Gertrude Mongella for your...   \n",
       "4   Thank you very much Good evening ladies and ge...   \n",
       "5   r President I would like to speak briefly and ...   \n",
       "6   Thank you very very muchPresident Keohane Mrs ...   \n",
       "7   Less than three months ago at platform hearing...   \n",
       "8   I have come this evening to talk with you on o...   \n",
       "9   Ladies and gentlemen of the convention My name...   \n",
       "10  Gentlemen of the Jury As in the case of my cod...   \n",
       "11  I have taken for my subject The Crisis because...   \n",
       "12  Ms Hill Mr Chairman Senator Thurmond members o...   \n",
       "13  Woman suffrage is inevitable Suffragists knew ...   \n",
       "14  Im Elizabeth Glaser Eleven years ago while giv...   \n",
       "15  Mr Chairman Ladies and Gentlemen My subject is...   \n",
       "16  I want to thank the Mills College Class of 83 ...   \n",
       "17  Your Honor ladies and gentlemen myname is Eliz...   \n",
       "18  Mr Speaker House Joint Resolution 264 before u...   \n",
       "19  Mr President fellow delegates The long and met...   \n",
       "\n",
       "                                                  Doc  \\\n",
       "0   (Thank, you, ladies, and, gentlemen, for, a, v...   \n",
       "1   (Thank, you, Mr, Chairman, Mr, Chairman, I, jo...   \n",
       "2   (When, I, came, into, your, hall, tonight, I, ...   \n",
       "3   (Thank, you, very, much, Gertrude, Mongella, f...   \n",
       "4   (Thank, you, very, much, Good, evening, ladies...   \n",
       "5   (r, President, I, would, like, to, speak, brie...   \n",
       "6   (Thank, you, very, very, muchPresident, Keohan...   \n",
       "7   (Less, than, three, months, ago, at, platform,...   \n",
       "8   (I, have, come, this, evening, to, talk, with,...   \n",
       "9   (Ladies, and, gentlemen, of, the, convention, ...   \n",
       "10  (Gentlemen, of, the, Jury, As, in, the, case, ...   \n",
       "11  (I, have, taken, for, my, subject, The, Crisis...   \n",
       "12  (Ms, Hill, Mr, Chairman, Senator, Thurmond, me...   \n",
       "13  (Woman, suffrage, is, inevitable, Suffragists,...   \n",
       "14  (I, m, Elizabeth, Glaser, Eleven, years, ago, ...   \n",
       "15  (Mr, Chairman, Ladies, and, Gentlemen, My, sub...   \n",
       "16  (I, want, to, thank, the, Mills, College, Clas...   \n",
       "17  (Your, Honor, ladies, and, gentlemen, myname, ...   \n",
       "18  (Mr, Speaker, House, Joint, Resolution, 264, b...   \n",
       "19  (Mr, President, fellow, delegates, The, long, ...   \n",
       "\n",
       "                                               Tokens  \\\n",
       "0   [Thank, you, ladies, and, gentlemen, for, a, v...   \n",
       "1   [Thank, you, Mr, Chairman, Mr, Chairman, I, jo...   \n",
       "2   [When, I, came, into, your, hall, tonight, I, ...   \n",
       "3   [Thank, you, very, much, Gertrude, Mongella, f...   \n",
       "4   [Thank, you, very, much, Good, evening, ladies...   \n",
       "5   [r, President, I, would, like, to, speak, brie...   \n",
       "6   [Thank, you, very, very, muchPresident, Keohan...   \n",
       "7   [Less, than, three, months, ago, at, platform,...   \n",
       "8   [I, have, come, this, evening, to, talk, with,...   \n",
       "9   [Ladies, and, gentlemen, of, the, convention, ...   \n",
       "10  [Gentlemen, of, the, Jury, As, in, the, case, ...   \n",
       "11  [I, have, taken, for, my, subject, The, Crisis...   \n",
       "12  [Ms, Hill, Mr, Chairman, Senator, Thurmond, me...   \n",
       "13  [Woman, suffrage, is, inevitable, Suffragists,...   \n",
       "14  [I, m, Elizabeth, Glaser, Eleven, years, ago, ...   \n",
       "15  [Mr, Chairman, Ladies, and, Gentlemen, My, sub...   \n",
       "16  [I, want, to, thank, the, Mills, College, Clas...   \n",
       "17  [Your, Honor, ladies, and, gentlemen, myname, ...   \n",
       "18  [Mr, Speaker, House, Joint, Resolution, 264, b...   \n",
       "19  [Mr, President, fellow, delegates, The, long, ...   \n",
       "\n",
       "                                               Lemmas  \\\n",
       "0   [thank, you, lady, and, gentleman, for, a, ver...   \n",
       "1   [thank, you, Mr, Chairman, Mr, Chairman, I, jo...   \n",
       "2   [when, I, come, into, your, hall, tonight, I, ...   \n",
       "3   [thank, you, very, much, Gertrude, Mongella, f...   \n",
       "4   [thank, you, very, much, good, evening, lady, ...   \n",
       "5   [r, President, I, would, like, to, speak, brie...   \n",
       "6   [thank, you, very, very, muchpresident, Keohan...   \n",
       "7   [Less, than, three, month, ago, at, platform, ...   \n",
       "8   [I, have, come, this, evening, to, talk, with,...   \n",
       "9   [lady, and, gentleman, of, the, convention, my...   \n",
       "10  [gentleman, of, the, Jury, as, in, the, case, ...   \n",
       "11  [I, have, take, for, my, subject, the, Crisis,...   \n",
       "12  [Ms, Hill, Mr, Chairman, Senator, Thurmond, me...   \n",
       "13  [woman, suffrage, be, inevitable, suffragist, ...   \n",
       "14  [I, m, Elizabeth, Glaser, Eleven, year, ago, w...   \n",
       "15  [Mr, Chairman, Ladies, and, Gentlemen, my, sub...   \n",
       "16  [I, want, to, thank, the, Mills, College, Clas...   \n",
       "17  [your, Honor, lady, and, gentleman, myname, be...   \n",
       "18  [Mr, Speaker, House, Joint, Resolution, 264, b...   \n",
       "19  [Mr, President, fellow, delegate, the, long, a...   \n",
       "\n",
       "                                                  POS  \\\n",
       "0   [(VERB, VBP), (PRON, PRP), (NOUN, NNS), (CCONJ...   \n",
       "1   [(VERB, VBP), (PRON, PRP), (PROPN, NNP), (PROP...   \n",
       "2   [(SCONJ, WRB), (PRON, PRP), (VERB, VBD), (ADP,...   \n",
       "3   [(VERB, VBP), (PRON, PRP), (ADV, RB), (ADV, RB...   \n",
       "4   [(VERB, VBP), (PRON, PRP), (ADV, RB), (ADV, RB...   \n",
       "5   [(NOUN, NN), (PROPN, NNP), (PRON, PRP), (AUX, ...   \n",
       "6   [(VERB, VBP), (PRON, PRP), (ADV, RB), (ADV, RB...   \n",
       "7   [(ADJ, JJR), (ADP, IN), (NUM, CD), (NOUN, NNS)...   \n",
       "8   [(PRON, PRP), (AUX, VBP), (VERB, VBN), (DET, D...   \n",
       "9   [(NOUN, NNS), (CCONJ, CC), (NOUN, NNS), (ADP, ...   \n",
       "10  [(NOUN, NNS), (ADP, IN), (DET, DT), (PROPN, NN...   \n",
       "11  [(PRON, PRP), (AUX, VBP), (VERB, VBN), (ADP, I...   \n",
       "12  [(PROPN, NNP), (PROPN, NNP), (PROPN, NNP), (PR...   \n",
       "13  [(NOUN, NN), (NOUN, NN), (AUX, VBZ), (ADJ, JJ)...   \n",
       "14  [(PRON, PRP), (VERB, VBP), (PROPN, NNP), (PROP...   \n",
       "15  [(PROPN, NNP), (PROPN, NNP), (PROPN, NNPS), (C...   \n",
       "16  [(PRON, PRP), (VERB, VBP), (PART, TO), (VERB, ...   \n",
       "17  [(PRON, PRP$), (PROPN, NNP), (NOUN, NNS), (CCO...   \n",
       "18  [(PROPN, NNP), (PROPN, NNP), (PROPN, NNP), (PR...   \n",
       "19  [(PROPN, NNP), (PROPN, NNP), (NOUN, NN), (NOUN...   \n",
       "\n",
       "                                         Proper_Nouns  \\\n",
       "0   [Democratic, Partyfirst, Democrats, Barbara, J...   \n",
       "1   [Mr, Chairman, Mr, Chairman, Mr, Rangel, Mr, C...   \n",
       "2   [Twentyone, Susan, B, Anthony, womans, enfranc...   \n",
       "3   [Gertrude, Mongella, Secretary, General, Unite...   \n",
       "4   [Buenas, George, Bush, Texas, Barbara, Jordan,...   \n",
       "5   [President, Americans, Legislative, Branch, Ex...   \n",
       "6   [Keohane, Mrs, Gorbachev, Trustees, JuliaPorte...   \n",
       "7   [Salt, Lake, City, Republican, Party, HIV, AID...   \n",
       "8   [France, Sorbonne, Rights, Man, FrenchRevoluti...   \n",
       "9   [Geraldine, Ferraro, tonightAmerica, Dr, Marti...   \n",
       "10  [Jury, Alexander, Berkman, U, S, Marshal, Dist...   \n",
       "11  [Crisis, America, Hour, united, None, First, A...   \n",
       "12  [Ms, Hill, Mr, Chairman, Senator, Thurmond, An...   \n",
       "13  [November, Ours, American, Revolutionists, Tax...   \n",
       "14  [Elizabeth, Glaser, Eleven, myfirst, laterI, A...   \n",
       "15  [Mr, Chairman, Ladies, Gentlemen, Childrens, C...   \n",
       "16  [Mills, College, Class, Greek, Greek, Greek, A...   \n",
       "17  [Honor, Elizabeth, Gurley, Flynn, Mr, Pettis, ...   \n",
       "18  [Mr, Speaker, House, Joint, Resolution, Consti...   \n",
       "19  [Mr, President, UniversalDeclaration, Human, R...   \n",
       "\n",
       "                                                 NOUN  \\\n",
       "0   [ladies, gentlemen, reception, years, members,...   \n",
       "1   [colleague, members, committee, opportunity, p...   \n",
       "2   [hall, tonight, time, city, years, purpose, to...   \n",
       "3   [work, point, delegates, guests, part, celebra...   \n",
       "4   [evening, ladies, gentlemen, mis, amigos, even...   \n",
       "5   [r, condition, feeling, fear, frustration, sui...   \n",
       "6   [faculty, parents, class, president, friend, t...   \n",
       "7   [months, platform, hearings, shroud, silence, ...   \n",
       "8   [evening, greatestissues, time, preservation, ...   \n",
       "9   [Ladies, gentlemen, convention, name, land, dr...   \n",
       "10  [Gentlemen, case, codefendant, time, life, jur...   \n",
       "11  [subject, crisis, movement, opportunity, vigor...   \n",
       "12  [members, committee, name, professor, law, far...   \n",
       "13  [Woman, suffrage, Suffragists, opponents, caus...   \n",
       "14  [years, birth, child, pints, blood, years, vir...   \n",
       "15  [subject, Era, Era, book, century, century, ch...   \n",
       "16  [chance, public, language, women, men, tragedy...   \n",
       "17  [ladies, gentlemen, myname, defendant, case, o...   \n",
       "18  [today, whichprovides, equality, law, men, wom...   \n",
       "19  [fellow, delegates, study, debate, product, vi...   \n",
       "\n",
       "                                           Adjectives  \\\n",
       "0   [warm, fortyfour, Presidential, Presidential, ...   \n",
       "1   [junior, glorious, strong, easy, much, possibl...   \n",
       "2   [last, same, American, fundamental, fair, Repu...   \n",
       "3   [dedicated, distinguished, important, differen...   \n",
       "4   [Good, delighted, real, keynote, high, little,...   \n",
       "5   [serious, national, national, national, dear, ...   \n",
       "6   [muchPresident, new, best, thrilled, excited, ...   \n",
       "7   [Less, positive, clear, dead, few, congression...   \n",
       "8   [human, human, deep, great, greatest, early, h...   \n",
       "9   [true, American, great, stronger, free, inaudi...   \n",
       "10  [first, big, more, democratic, young, European...   \n",
       "11  [final, great, near, aware, present, steady, n...   \n",
       "12  [youngest, early, hard, much, solid, religious...   \n",
       "13  [inevitable, distinct, inevitable, human, impr...   \n",
       "14  [more, unfair, many, many, poor, strange, well...   \n",
       "15  [twentieth, twentieth, old, beautiful, twentie...   \n",
       "16  [rare, unspoken, male, great, pregnant, Intell...   \n",
       "17  [Communist, whatit, ultimate, simple, nontechn...   \n",
       "18  [mostclearcut, likely, legal, subtle, mostperv...   \n",
       "19  [long, meticulous, composite, many, norevery, ...   \n",
       "\n",
       "                                       Named_Entities  \\\n",
       "0   [CARDINAL, NORP, NORP, DATE, TIME, TIME, PERSO...   \n",
       "1   [PERSON, PERSON, TIME, WORK_OF_ART, GPE, DATE,...   \n",
       "2   [DATE, PERSON, TIME, NORP, NORP, NORP, NORP, N...   \n",
       "3   [PERSON, ORG, GPE, GPE, GPE, DATE, ORDINAL, TI...   \n",
       "4   [TIME, PERSON, TIME, PERSON, GPE, DATE, PERSON...   \n",
       "5   [NORP, ORG, ORG, NORP, GPE, NORP, GPE, ORG, OR...   \n",
       "6   [PERSON, ORG, PERSON, DATE, DATE, PERSON, GPE,...   \n",
       "7   [DATE, GPE, ORG, TIME, CARDINAL, NORP, CARDINA...   \n",
       "8   [TIME, CARDINAL, GPE, PERSON, ORG, LOC, DATE, ...   \n",
       "9   [PERSON, GPE, NORP, PERSON, GPE, GPE, TIME, GP...   \n",
       "10  [PERSON, ORDINAL, CARDINAL, DATE, ORG, ORG, OR...   \n",
       "11  [DATE, DATE, DATE, DATE, GPE, ORG, PERSON, ORD...   \n",
       "12  [PERSON, PERSON, PERSON, ORG, GPE, DATE, CARDI...   \n",
       "13  [NORP, DATE, CARDINAL, ORDINAL, DATE, NORP, CA...   \n",
       "14  [PERSON, DATE, CARDINAL, DATE, PERSON, PERSON,...   \n",
       "15  [PERSON, ORG, PERSON, WORK_OF_ART, DATE, DATE,...   \n",
       "16  [CARDINAL, NORP, NORP, NORP, PERSON, PERSON, P...   \n",
       "17  [PERSON, PERSON, NORP, ORG, GPE, DATE, ORG, NO...   \n",
       "18  [DATE, CARDINAL, LAW, PERSON, PERSON, LAW, ORD...   \n",
       "19  [ORG, GPE, GPE, WORK_OF_ART, ORG, ORG, ORG, NO...   \n",
       "\n",
       "                                             NE_Words  \n",
       "0   [(one, hundred, and, fortyfour, years, ago), (...  \n",
       "1   [(Mr), (Rangel), (Earlier, today), (Preamble),...  \n",
       "2   [(Twentyone, years, ago), (Susan, B, Anthony),...  \n",
       "3   [(Gertrude, Mongella), (United, Nations, Fourt...  \n",
       "4   [(evening), (Buenas), (this, evening), (George...  \n",
       "5   [(Americans), (the, Legislative, Branch), (the...  \n",
       "6   [(Keohane, Mrs, Gorbachev, Trustees), (JuliaPo...  \n",
       "7   [(Less, than, three, months, ago), (Salt, Lake...  \n",
       "8   [(this, evening), (one), (France), (Sorbonne),...  \n",
       "9   [(Geraldine, Ferraro), (tonightAmerica), (Amer...  \n",
       "10  [(Alexander, Berkman), (first), (three), (the,...  \n",
       "11  [(today), (yesterday), (the, year, 1916), (the...  \n",
       "12  [(Ms, Hill, Mr), (Thurmond), (Anita, F, Hill),...  \n",
       "13  [(Suffragists), (November, 4, 1917), (Three), ...  \n",
       "14  [(Elizabeth, Glaser), (Eleven, years, ago), (s...  \n",
       "15  [(Ladies, and, Gentlemen), (The, Childrens, Er...  \n",
       "16  [(83), (Greek), (Greek), (Greek), (Anyhow), (M...  \n",
       "17  [(Elizabeth, Gurley), (Perry), (Communist), (t...  \n",
       "18  [(today), (one), (Constitution), (bill, asit),...  \n",
       "19  [(this, UniversalDeclaration, of, Human, Right...  "
      ]
     },
     "execution_count": 132,
     "metadata": {},
     "output_type": "execute_result"
    }
   ],
   "source": [
    "# Define function to extract text tagged with named entities from doc objects\n",
    "def extract_named_entities(doc):\n",
    "    return [ent for ent in doc.ents]\n",
    "\n",
    "# Apply function to Doc column and store resulting text in new column\n",
    "women_speech['NE_Words'] = women_speech['Doc'].apply(extract_named_entities)\n",
    "women_speech"
   ]
  },
  {
   "cell_type": "code",
   "execution_count": 133,
   "id": "c50d2baf-ed71-4767-88cb-9229cabeba1d",
   "metadata": {},
   "outputs": [],
   "source": [
    "# Save DataFrame as csv (in Google Drive)\n",
    "# Use this step only to save  csv to your computer's working directory\n",
    "women_speech.to_csv('women_speech_annotated.csv')"
   ]
  },
  {
   "cell_type": "markdown",
   "id": "8261555e-18cc-423b-b5ec-f48381f3b925",
   "metadata": {},
   "source": [
    "### ❓How frequently are different types of named entities mentioned in speeches? \n",
    "Which specific individuals (PERSON), organizations (ORG), nationalities or political groups (NORP), events (EVENT), and legal aspects (LAW) are most commonly referenced in these speeches? Are there any notable trends or patterns in the frequency of named entities over time? How do the frequencies of named entities vary across different female political leaders?"
   ]
  },
  {
   "cell_type": "markdown",
   "id": "96f21e7d-89d7-460a-8ed6-7907597a059e",
   "metadata": {},
   "source": [
    "The PERSON entities might reveal the prominent female figures discussed in the speeches, which allows us to understand the roles of influential women in American politics during that period.\n",
    "\n",
    "The ORG entities refer to the organizations and institutions mentioned in the speeches, which help to identify the political parties, advocacy groups, and other influential organizations that played a significant role in shaping the discourse and policies discussed by females.\n",
    "\n",
    "The NORP entities represent nationalities, ethnicities, or religious or political groups. It can provide insights into the diversity and inclusivity addressed in the speeches.\n",
    "\n",
    "The EVENT entities might highlight the significant historical events and political campaigns, which helps us understand the key historical issues related to gender equality.\n",
    "\n",
    "The LAW entities indicate the legal aspects in the speeches, providing insights into the efforts of female political leaders to aadvocate for female legal rights."
   ]
  },
  {
   "cell_type": "code",
   "execution_count": 134,
   "id": "9693fa05-0f2a-4fbb-902a-2d9d6df1a8f7",
   "metadata": {},
   "outputs": [],
   "source": [
    "# Create new DataFrame for analysis purposes\n",
    "ner_analysis_df = women_speech[['Title','Year', \"Speaker\",'Named_Entities', 'NE_Words']]"
   ]
  },
  {
   "cell_type": "code",
   "execution_count": 135,
   "id": "d292baa2-c9db-4e2f-93a0-260842fe82e7",
   "metadata": {},
   "outputs": [
    {
     "data": {
      "text/html": [
       "<div>\n",
       "<style scoped>\n",
       "    .dataframe tbody tr th:only-of-type {\n",
       "        vertical-align: middle;\n",
       "    }\n",
       "\n",
       "    .dataframe tbody tr th {\n",
       "        vertical-align: top;\n",
       "    }\n",
       "\n",
       "    .dataframe thead th {\n",
       "        text-align: right;\n",
       "    }\n",
       "</style>\n",
       "<table border=\"1\" class=\"dataframe\">\n",
       "  <thead>\n",
       "    <tr style=\"text-align: right;\">\n",
       "      <th></th>\n",
       "      <th>Speaker</th>\n",
       "      <th>Year</th>\n",
       "      <th>PERSON_Counts</th>\n",
       "      <th>INSTITUTION_Counts</th>\n",
       "      <th>NATION_Counts</th>\n",
       "      <th>EVENT_Counts</th>\n",
       "      <th>LAW_Counts</th>\n",
       "    </tr>\n",
       "  </thead>\n",
       "  <tbody>\n",
       "    <tr>\n",
       "      <th>0</th>\n",
       "      <td>Barbara Charline Jordan</td>\n",
       "      <td>1976</td>\n",
       "      <td>5</td>\n",
       "      <td>11</td>\n",
       "      <td>17</td>\n",
       "      <td>0</td>\n",
       "      <td>0</td>\n",
       "    </tr>\n",
       "    <tr>\n",
       "      <th>1</th>\n",
       "      <td>Barbara Charline Jordan</td>\n",
       "      <td>1974</td>\n",
       "      <td>12</td>\n",
       "      <td>21</td>\n",
       "      <td>2</td>\n",
       "      <td>3</td>\n",
       "      <td>8</td>\n",
       "    </tr>\n",
       "    <tr>\n",
       "      <th>2</th>\n",
       "      <td>Anna Howard Shaw</td>\n",
       "      <td>1915</td>\n",
       "      <td>10</td>\n",
       "      <td>14</td>\n",
       "      <td>41</td>\n",
       "      <td>3</td>\n",
       "      <td>3</td>\n",
       "    </tr>\n",
       "    <tr>\n",
       "      <th>3</th>\n",
       "      <td>Hillary Rodham Clinton</td>\n",
       "      <td>1995</td>\n",
       "      <td>3</td>\n",
       "      <td>5</td>\n",
       "      <td>1</td>\n",
       "      <td>1</td>\n",
       "      <td>0</td>\n",
       "    </tr>\n",
       "    <tr>\n",
       "      <th>4</th>\n",
       "      <td>Ann Richards</td>\n",
       "      <td>1988</td>\n",
       "      <td>27</td>\n",
       "      <td>9</td>\n",
       "      <td>20</td>\n",
       "      <td>3</td>\n",
       "      <td>0</td>\n",
       "    </tr>\n",
       "    <tr>\n",
       "      <th>5</th>\n",
       "      <td>Margaret Chase Smith</td>\n",
       "      <td>1950</td>\n",
       "      <td>8</td>\n",
       "      <td>39</td>\n",
       "      <td>50</td>\n",
       "      <td>2</td>\n",
       "      <td>2</td>\n",
       "    </tr>\n",
       "    <tr>\n",
       "      <th>6</th>\n",
       "      <td>Barbara Pierce Bush</td>\n",
       "      <td>1990</td>\n",
       "      <td>19</td>\n",
       "      <td>12</td>\n",
       "      <td>1</td>\n",
       "      <td>0</td>\n",
       "      <td>0</td>\n",
       "    </tr>\n",
       "    <tr>\n",
       "      <th>7</th>\n",
       "      <td>MaryFisher</td>\n",
       "      <td>1992</td>\n",
       "      <td>8</td>\n",
       "      <td>3</td>\n",
       "      <td>11</td>\n",
       "      <td>0</td>\n",
       "      <td>0</td>\n",
       "    </tr>\n",
       "    <tr>\n",
       "      <th>8</th>\n",
       "      <td>Eleanor Roosevelt</td>\n",
       "      <td>1948</td>\n",
       "      <td>6</td>\n",
       "      <td>36</td>\n",
       "      <td>7</td>\n",
       "      <td>1</td>\n",
       "      <td>2</td>\n",
       "    </tr>\n",
       "    <tr>\n",
       "      <th>9</th>\n",
       "      <td>Geraldine Ferraro</td>\n",
       "      <td>1984</td>\n",
       "      <td>25</td>\n",
       "      <td>13</td>\n",
       "      <td>17</td>\n",
       "      <td>0</td>\n",
       "      <td>1</td>\n",
       "    </tr>\n",
       "    <tr>\n",
       "      <th>10</th>\n",
       "      <td>Emma Goldman</td>\n",
       "      <td>1917</td>\n",
       "      <td>44</td>\n",
       "      <td>31</td>\n",
       "      <td>18</td>\n",
       "      <td>0</td>\n",
       "      <td>1</td>\n",
       "    </tr>\n",
       "    <tr>\n",
       "      <th>11</th>\n",
       "      <td>Carrie Chapman Catt</td>\n",
       "      <td>1916</td>\n",
       "      <td>32</td>\n",
       "      <td>22</td>\n",
       "      <td>22</td>\n",
       "      <td>4</td>\n",
       "      <td>1</td>\n",
       "    </tr>\n",
       "    <tr>\n",
       "      <th>12</th>\n",
       "      <td>Anita Hill</td>\n",
       "      <td>1991</td>\n",
       "      <td>37</td>\n",
       "      <td>29</td>\n",
       "      <td>1</td>\n",
       "      <td>0</td>\n",
       "      <td>0</td>\n",
       "    </tr>\n",
       "    <tr>\n",
       "      <th>13</th>\n",
       "      <td>Carrie Chapman Catt</td>\n",
       "      <td>1917</td>\n",
       "      <td>7</td>\n",
       "      <td>9</td>\n",
       "      <td>7</td>\n",
       "      <td>1</td>\n",
       "      <td>0</td>\n",
       "    </tr>\n",
       "    <tr>\n",
       "      <th>14</th>\n",
       "      <td>Elizabeth Glaser</td>\n",
       "      <td>1992</td>\n",
       "      <td>7</td>\n",
       "      <td>8</td>\n",
       "      <td>3</td>\n",
       "      <td>0</td>\n",
       "      <td>0</td>\n",
       "    </tr>\n",
       "    <tr>\n",
       "      <th>15</th>\n",
       "      <td>Margaret Sanger</td>\n",
       "      <td>1925</td>\n",
       "      <td>3</td>\n",
       "      <td>12</td>\n",
       "      <td>4</td>\n",
       "      <td>1</td>\n",
       "      <td>0</td>\n",
       "    </tr>\n",
       "    <tr>\n",
       "      <th>16</th>\n",
       "      <td>Ursula K. Le Guin</td>\n",
       "      <td>1983</td>\n",
       "      <td>8</td>\n",
       "      <td>5</td>\n",
       "      <td>7</td>\n",
       "      <td>0</td>\n",
       "      <td>0</td>\n",
       "    </tr>\n",
       "    <tr>\n",
       "      <th>17</th>\n",
       "      <td>Elizabeth Gurley Flynn</td>\n",
       "      <td>1952</td>\n",
       "      <td>69</td>\n",
       "      <td>139</td>\n",
       "      <td>74</td>\n",
       "      <td>2</td>\n",
       "      <td>9</td>\n",
       "    </tr>\n",
       "    <tr>\n",
       "      <th>18</th>\n",
       "      <td>Shirley Anita St. Hill Chisholm</td>\n",
       "      <td>1970</td>\n",
       "      <td>6</td>\n",
       "      <td>20</td>\n",
       "      <td>0</td>\n",
       "      <td>1</td>\n",
       "      <td>8</td>\n",
       "    </tr>\n",
       "    <tr>\n",
       "      <th>19</th>\n",
       "      <td>Eleanor Roosevelt</td>\n",
       "      <td>1948</td>\n",
       "      <td>6</td>\n",
       "      <td>20</td>\n",
       "      <td>14</td>\n",
       "      <td>1</td>\n",
       "      <td>10</td>\n",
       "    </tr>\n",
       "  </tbody>\n",
       "</table>\n",
       "</div>"
      ],
      "text/plain": [
       "                            Speaker  Year  PERSON_Counts  INSTITUTION_Counts  \\\n",
       "0           Barbara Charline Jordan  1976              5                  11   \n",
       "1           Barbara Charline Jordan  1974             12                  21   \n",
       "2                  Anna Howard Shaw  1915             10                  14   \n",
       "3            Hillary Rodham Clinton  1995              3                   5   \n",
       "4                      Ann Richards  1988             27                   9   \n",
       "5              Margaret Chase Smith  1950              8                  39   \n",
       "6               Barbara Pierce Bush  1990             19                  12   \n",
       "7                        MaryFisher  1992              8                   3   \n",
       "8                 Eleanor Roosevelt  1948              6                  36   \n",
       "9                 Geraldine Ferraro  1984             25                  13   \n",
       "10                     Emma Goldman  1917             44                  31   \n",
       "11              Carrie Chapman Catt  1916             32                  22   \n",
       "12                       Anita Hill  1991             37                  29   \n",
       "13              Carrie Chapman Catt  1917              7                   9   \n",
       "14                 Elizabeth Glaser  1992              7                   8   \n",
       "15                  Margaret Sanger  1925              3                  12   \n",
       "16                Ursula K. Le Guin  1983              8                   5   \n",
       "17           Elizabeth Gurley Flynn  1952             69                 139   \n",
       "18  Shirley Anita St. Hill Chisholm  1970              6                  20   \n",
       "19                Eleanor Roosevelt  1948              6                  20   \n",
       "\n",
       "    NATION_Counts  EVENT_Counts  LAW_Counts  \n",
       "0              17             0           0  \n",
       "1               2             3           8  \n",
       "2              41             3           3  \n",
       "3               1             1           0  \n",
       "4              20             3           0  \n",
       "5              50             2           2  \n",
       "6               1             0           0  \n",
       "7              11             0           0  \n",
       "8               7             1           2  \n",
       "9              17             0           1  \n",
       "10             18             0           1  \n",
       "11             22             4           1  \n",
       "12              1             0           0  \n",
       "13              7             1           0  \n",
       "14              3             0           0  \n",
       "15              4             1           0  \n",
       "16              7             0           0  \n",
       "17             74             2           9  \n",
       "18              0             1           8  \n",
       "19             14             1          10  "
      ]
     },
     "execution_count": 135,
     "metadata": {},
     "output_type": "execute_result"
    }
   ],
   "source": [
    "# Convert named entity lists to strings so we can count specific entities\n",
    "ner_analysis_df['Named_Entities'] = ner_analysis_df['Named_Entities'].apply(lambda x: ' '.join(x))\n",
    "\n",
    "# Get the number of each type of entity in each paper\n",
    "person_counts = ner_analysis_df['Named_Entities'].str.count('PERSON')\n",
    "institution_counts = ner_analysis_df['Named_Entities'].str.count('ORG')\n",
    "nation_politic_counts = ner_analysis_df['Named_Entities'].str.count('NORP')\n",
    "event_counts = ner_analysis_df['Named_Entities'].str.count('EVENT')\n",
    "law_counts = ner_analysis_df['Named_Entities'].str.count('LAW')\n",
    "\n",
    "\n",
    "# Append named entity counts to new DataFrame\n",
    "ner_counts_df = pd.DataFrame()\n",
    "ner_counts_df['Speaker'] = ner_analysis_df[\"Speaker\"]\n",
    "ner_counts_df['Year'] = ner_analysis_df[\"Year\"]\n",
    "ner_counts_df['PERSON_Counts'] = person_counts\n",
    "ner_counts_df['INSTITUTION_Counts'] = institution_counts\n",
    "ner_counts_df['NATION_Counts'] = nation_politic_counts\n",
    "ner_counts_df['EVENT_Counts'] = event_counts\n",
    "ner_counts_df['LAW_Counts'] = law_counts\n",
    "\n",
    "ner_counts_df"
   ]
  },
  {
   "cell_type": "code",
   "execution_count": 136,
   "id": "8c2e51a1-1c60-4b25-83d9-c3c74cb76528",
   "metadata": {},
   "outputs": [
    {
     "data": {
      "application/vnd.plotly.v1+json": {
       "config": {
        "plotlyServerURL": "https://plot.ly"
       },
       "data": [
        {
         "alignmentgroup": "True",
         "hovertemplate": "variable=PERSON_Counts<br>Speaker=%{x}<br>value=%{y}<extra></extra>",
         "legendgroup": "PERSON_Counts",
         "marker": {
          "color": "#636efa",
          "pattern": {
           "shape": ""
          }
         },
         "name": "PERSON_Counts",
         "offsetgroup": "PERSON_Counts",
         "orientation": "v",
         "showlegend": true,
         "textposition": "auto",
         "type": "bar",
         "x": [
          "Anita Hill",
          "Ann Richards",
          "Anna Howard Shaw",
          "Barbara Charline Jordan",
          "Barbara Pierce Bush",
          "Carrie Chapman Catt",
          "Eleanor Roosevelt",
          "Elizabeth Glaser",
          "Elizabeth Gurley Flynn",
          "Emma Goldman",
          "Geraldine Ferraro",
          "Hillary Rodham Clinton",
          "Margaret Chase Smith",
          "Margaret Sanger",
          "MaryFisher",
          "Shirley Anita St. Hill Chisholm",
          "Ursula K. Le Guin"
         ],
         "xaxis": "x",
         "y": [
          37,
          27,
          10,
          8,
          19,
          20,
          6,
          7,
          69,
          44,
          25,
          3,
          8,
          3,
          8,
          6,
          8
         ],
         "yaxis": "y"
        },
        {
         "alignmentgroup": "True",
         "hovertemplate": "variable=INSTITUTION_Counts<br>Speaker=%{x}<br>value=%{y}<extra></extra>",
         "legendgroup": "INSTITUTION_Counts",
         "marker": {
          "color": "#EF553B",
          "pattern": {
           "shape": ""
          }
         },
         "name": "INSTITUTION_Counts",
         "offsetgroup": "INSTITUTION_Counts",
         "orientation": "v",
         "showlegend": true,
         "textposition": "auto",
         "type": "bar",
         "x": [
          "Anita Hill",
          "Ann Richards",
          "Anna Howard Shaw",
          "Barbara Charline Jordan",
          "Barbara Pierce Bush",
          "Carrie Chapman Catt",
          "Eleanor Roosevelt",
          "Elizabeth Glaser",
          "Elizabeth Gurley Flynn",
          "Emma Goldman",
          "Geraldine Ferraro",
          "Hillary Rodham Clinton",
          "Margaret Chase Smith",
          "Margaret Sanger",
          "MaryFisher",
          "Shirley Anita St. Hill Chisholm",
          "Ursula K. Le Guin"
         ],
         "xaxis": "x",
         "y": [
          29,
          9,
          14,
          16,
          12,
          16,
          28,
          8,
          139,
          31,
          13,
          5,
          39,
          12,
          3,
          20,
          5
         ],
         "yaxis": "y"
        },
        {
         "alignmentgroup": "True",
         "hovertemplate": "variable=NATION_Counts<br>Speaker=%{x}<br>value=%{y}<extra></extra>",
         "legendgroup": "NATION_Counts",
         "marker": {
          "color": "#00cc96",
          "pattern": {
           "shape": ""
          }
         },
         "name": "NATION_Counts",
         "offsetgroup": "NATION_Counts",
         "orientation": "v",
         "showlegend": true,
         "textposition": "auto",
         "type": "bar",
         "x": [
          "Anita Hill",
          "Ann Richards",
          "Anna Howard Shaw",
          "Barbara Charline Jordan",
          "Barbara Pierce Bush",
          "Carrie Chapman Catt",
          "Eleanor Roosevelt",
          "Elizabeth Glaser",
          "Elizabeth Gurley Flynn",
          "Emma Goldman",
          "Geraldine Ferraro",
          "Hillary Rodham Clinton",
          "Margaret Chase Smith",
          "Margaret Sanger",
          "MaryFisher",
          "Shirley Anita St. Hill Chisholm",
          "Ursula K. Le Guin"
         ],
         "xaxis": "x",
         "y": [
          1,
          20,
          41,
          10,
          1,
          14,
          10,
          3,
          74,
          18,
          17,
          1,
          50,
          4,
          11,
          0,
          7
         ],
         "yaxis": "y"
        },
        {
         "alignmentgroup": "True",
         "hovertemplate": "variable=EVENT_Counts<br>Speaker=%{x}<br>value=%{y}<extra></extra>",
         "legendgroup": "EVENT_Counts",
         "marker": {
          "color": "#ab63fa",
          "pattern": {
           "shape": ""
          }
         },
         "name": "EVENT_Counts",
         "offsetgroup": "EVENT_Counts",
         "orientation": "v",
         "showlegend": true,
         "textposition": "auto",
         "type": "bar",
         "x": [
          "Anita Hill",
          "Ann Richards",
          "Anna Howard Shaw",
          "Barbara Charline Jordan",
          "Barbara Pierce Bush",
          "Carrie Chapman Catt",
          "Eleanor Roosevelt",
          "Elizabeth Glaser",
          "Elizabeth Gurley Flynn",
          "Emma Goldman",
          "Geraldine Ferraro",
          "Hillary Rodham Clinton",
          "Margaret Chase Smith",
          "Margaret Sanger",
          "MaryFisher",
          "Shirley Anita St. Hill Chisholm",
          "Ursula K. Le Guin"
         ],
         "xaxis": "x",
         "y": [
          0,
          3,
          3,
          2,
          0,
          2,
          1,
          0,
          2,
          0,
          0,
          1,
          2,
          1,
          0,
          1,
          0
         ],
         "yaxis": "y"
        },
        {
         "alignmentgroup": "True",
         "hovertemplate": "variable=LAW_Counts<br>Speaker=%{x}<br>value=%{y}<extra></extra>",
         "legendgroup": "LAW_Counts",
         "marker": {
          "color": "#FFA15A",
          "pattern": {
           "shape": ""
          }
         },
         "name": "LAW_Counts",
         "offsetgroup": "LAW_Counts",
         "orientation": "v",
         "showlegend": true,
         "textposition": "auto",
         "type": "bar",
         "x": [
          "Anita Hill",
          "Ann Richards",
          "Anna Howard Shaw",
          "Barbara Charline Jordan",
          "Barbara Pierce Bush",
          "Carrie Chapman Catt",
          "Eleanor Roosevelt",
          "Elizabeth Glaser",
          "Elizabeth Gurley Flynn",
          "Emma Goldman",
          "Geraldine Ferraro",
          "Hillary Rodham Clinton",
          "Margaret Chase Smith",
          "Margaret Sanger",
          "MaryFisher",
          "Shirley Anita St. Hill Chisholm",
          "Ursula K. Le Guin"
         ],
         "xaxis": "x",
         "y": [
          0,
          0,
          3,
          4,
          0,
          0,
          6,
          0,
          9,
          1,
          1,
          0,
          2,
          0,
          0,
          8,
          0
         ],
         "yaxis": "y"
        }
       ],
       "layout": {
        "autosize": true,
        "barmode": "group",
        "legend": {
         "title": {
          "text": "variable"
         },
         "tracegroupgap": 0
        },
        "template": {
         "data": {
          "bar": [
           {
            "error_x": {
             "color": "#2a3f5f"
            },
            "error_y": {
             "color": "#2a3f5f"
            },
            "marker": {
             "line": {
              "color": "#E5ECF6",
              "width": 0.5
             },
             "pattern": {
              "fillmode": "overlay",
              "size": 10,
              "solidity": 0.2
             }
            },
            "type": "bar"
           }
          ],
          "barpolar": [
           {
            "marker": {
             "line": {
              "color": "#E5ECF6",
              "width": 0.5
             },
             "pattern": {
              "fillmode": "overlay",
              "size": 10,
              "solidity": 0.2
             }
            },
            "type": "barpolar"
           }
          ],
          "carpet": [
           {
            "aaxis": {
             "endlinecolor": "#2a3f5f",
             "gridcolor": "white",
             "linecolor": "white",
             "minorgridcolor": "white",
             "startlinecolor": "#2a3f5f"
            },
            "baxis": {
             "endlinecolor": "#2a3f5f",
             "gridcolor": "white",
             "linecolor": "white",
             "minorgridcolor": "white",
             "startlinecolor": "#2a3f5f"
            },
            "type": "carpet"
           }
          ],
          "choropleth": [
           {
            "colorbar": {
             "outlinewidth": 0,
             "ticks": ""
            },
            "type": "choropleth"
           }
          ],
          "contour": [
           {
            "colorbar": {
             "outlinewidth": 0,
             "ticks": ""
            },
            "colorscale": [
             [
              0,
              "#0d0887"
             ],
             [
              0.1111111111111111,
              "#46039f"
             ],
             [
              0.2222222222222222,
              "#7201a8"
             ],
             [
              0.3333333333333333,
              "#9c179e"
             ],
             [
              0.4444444444444444,
              "#bd3786"
             ],
             [
              0.5555555555555556,
              "#d8576b"
             ],
             [
              0.6666666666666666,
              "#ed7953"
             ],
             [
              0.7777777777777778,
              "#fb9f3a"
             ],
             [
              0.8888888888888888,
              "#fdca26"
             ],
             [
              1,
              "#f0f921"
             ]
            ],
            "type": "contour"
           }
          ],
          "contourcarpet": [
           {
            "colorbar": {
             "outlinewidth": 0,
             "ticks": ""
            },
            "type": "contourcarpet"
           }
          ],
          "heatmap": [
           {
            "colorbar": {
             "outlinewidth": 0,
             "ticks": ""
            },
            "colorscale": [
             [
              0,
              "#0d0887"
             ],
             [
              0.1111111111111111,
              "#46039f"
             ],
             [
              0.2222222222222222,
              "#7201a8"
             ],
             [
              0.3333333333333333,
              "#9c179e"
             ],
             [
              0.4444444444444444,
              "#bd3786"
             ],
             [
              0.5555555555555556,
              "#d8576b"
             ],
             [
              0.6666666666666666,
              "#ed7953"
             ],
             [
              0.7777777777777778,
              "#fb9f3a"
             ],
             [
              0.8888888888888888,
              "#fdca26"
             ],
             [
              1,
              "#f0f921"
             ]
            ],
            "type": "heatmap"
           }
          ],
          "heatmapgl": [
           {
            "colorbar": {
             "outlinewidth": 0,
             "ticks": ""
            },
            "colorscale": [
             [
              0,
              "#0d0887"
             ],
             [
              0.1111111111111111,
              "#46039f"
             ],
             [
              0.2222222222222222,
              "#7201a8"
             ],
             [
              0.3333333333333333,
              "#9c179e"
             ],
             [
              0.4444444444444444,
              "#bd3786"
             ],
             [
              0.5555555555555556,
              "#d8576b"
             ],
             [
              0.6666666666666666,
              "#ed7953"
             ],
             [
              0.7777777777777778,
              "#fb9f3a"
             ],
             [
              0.8888888888888888,
              "#fdca26"
             ],
             [
              1,
              "#f0f921"
             ]
            ],
            "type": "heatmapgl"
           }
          ],
          "histogram": [
           {
            "marker": {
             "pattern": {
              "fillmode": "overlay",
              "size": 10,
              "solidity": 0.2
             }
            },
            "type": "histogram"
           }
          ],
          "histogram2d": [
           {
            "colorbar": {
             "outlinewidth": 0,
             "ticks": ""
            },
            "colorscale": [
             [
              0,
              "#0d0887"
             ],
             [
              0.1111111111111111,
              "#46039f"
             ],
             [
              0.2222222222222222,
              "#7201a8"
             ],
             [
              0.3333333333333333,
              "#9c179e"
             ],
             [
              0.4444444444444444,
              "#bd3786"
             ],
             [
              0.5555555555555556,
              "#d8576b"
             ],
             [
              0.6666666666666666,
              "#ed7953"
             ],
             [
              0.7777777777777778,
              "#fb9f3a"
             ],
             [
              0.8888888888888888,
              "#fdca26"
             ],
             [
              1,
              "#f0f921"
             ]
            ],
            "type": "histogram2d"
           }
          ],
          "histogram2dcontour": [
           {
            "colorbar": {
             "outlinewidth": 0,
             "ticks": ""
            },
            "colorscale": [
             [
              0,
              "#0d0887"
             ],
             [
              0.1111111111111111,
              "#46039f"
             ],
             [
              0.2222222222222222,
              "#7201a8"
             ],
             [
              0.3333333333333333,
              "#9c179e"
             ],
             [
              0.4444444444444444,
              "#bd3786"
             ],
             [
              0.5555555555555556,
              "#d8576b"
             ],
             [
              0.6666666666666666,
              "#ed7953"
             ],
             [
              0.7777777777777778,
              "#fb9f3a"
             ],
             [
              0.8888888888888888,
              "#fdca26"
             ],
             [
              1,
              "#f0f921"
             ]
            ],
            "type": "histogram2dcontour"
           }
          ],
          "mesh3d": [
           {
            "colorbar": {
             "outlinewidth": 0,
             "ticks": ""
            },
            "type": "mesh3d"
           }
          ],
          "parcoords": [
           {
            "line": {
             "colorbar": {
              "outlinewidth": 0,
              "ticks": ""
             }
            },
            "type": "parcoords"
           }
          ],
          "pie": [
           {
            "automargin": true,
            "type": "pie"
           }
          ],
          "scatter": [
           {
            "fillpattern": {
             "fillmode": "overlay",
             "size": 10,
             "solidity": 0.2
            },
            "type": "scatter"
           }
          ],
          "scatter3d": [
           {
            "line": {
             "colorbar": {
              "outlinewidth": 0,
              "ticks": ""
             }
            },
            "marker": {
             "colorbar": {
              "outlinewidth": 0,
              "ticks": ""
             }
            },
            "type": "scatter3d"
           }
          ],
          "scattercarpet": [
           {
            "marker": {
             "colorbar": {
              "outlinewidth": 0,
              "ticks": ""
             }
            },
            "type": "scattercarpet"
           }
          ],
          "scattergeo": [
           {
            "marker": {
             "colorbar": {
              "outlinewidth": 0,
              "ticks": ""
             }
            },
            "type": "scattergeo"
           }
          ],
          "scattergl": [
           {
            "marker": {
             "colorbar": {
              "outlinewidth": 0,
              "ticks": ""
             }
            },
            "type": "scattergl"
           }
          ],
          "scattermapbox": [
           {
            "marker": {
             "colorbar": {
              "outlinewidth": 0,
              "ticks": ""
             }
            },
            "type": "scattermapbox"
           }
          ],
          "scatterpolar": [
           {
            "marker": {
             "colorbar": {
              "outlinewidth": 0,
              "ticks": ""
             }
            },
            "type": "scatterpolar"
           }
          ],
          "scatterpolargl": [
           {
            "marker": {
             "colorbar": {
              "outlinewidth": 0,
              "ticks": ""
             }
            },
            "type": "scatterpolargl"
           }
          ],
          "scatterternary": [
           {
            "marker": {
             "colorbar": {
              "outlinewidth": 0,
              "ticks": ""
             }
            },
            "type": "scatterternary"
           }
          ],
          "surface": [
           {
            "colorbar": {
             "outlinewidth": 0,
             "ticks": ""
            },
            "colorscale": [
             [
              0,
              "#0d0887"
             ],
             [
              0.1111111111111111,
              "#46039f"
             ],
             [
              0.2222222222222222,
              "#7201a8"
             ],
             [
              0.3333333333333333,
              "#9c179e"
             ],
             [
              0.4444444444444444,
              "#bd3786"
             ],
             [
              0.5555555555555556,
              "#d8576b"
             ],
             [
              0.6666666666666666,
              "#ed7953"
             ],
             [
              0.7777777777777778,
              "#fb9f3a"
             ],
             [
              0.8888888888888888,
              "#fdca26"
             ],
             [
              1,
              "#f0f921"
             ]
            ],
            "type": "surface"
           }
          ],
          "table": [
           {
            "cells": {
             "fill": {
              "color": "#EBF0F8"
             },
             "line": {
              "color": "white"
             }
            },
            "header": {
             "fill": {
              "color": "#C8D4E3"
             },
             "line": {
              "color": "white"
             }
            },
            "type": "table"
           }
          ]
         },
         "layout": {
          "annotationdefaults": {
           "arrowcolor": "#2a3f5f",
           "arrowhead": 0,
           "arrowwidth": 1
          },
          "autotypenumbers": "strict",
          "coloraxis": {
           "colorbar": {
            "outlinewidth": 0,
            "ticks": ""
           }
          },
          "colorscale": {
           "diverging": [
            [
             0,
             "#8e0152"
            ],
            [
             0.1,
             "#c51b7d"
            ],
            [
             0.2,
             "#de77ae"
            ],
            [
             0.3,
             "#f1b6da"
            ],
            [
             0.4,
             "#fde0ef"
            ],
            [
             0.5,
             "#f7f7f7"
            ],
            [
             0.6,
             "#e6f5d0"
            ],
            [
             0.7,
             "#b8e186"
            ],
            [
             0.8,
             "#7fbc41"
            ],
            [
             0.9,
             "#4d9221"
            ],
            [
             1,
             "#276419"
            ]
           ],
           "sequential": [
            [
             0,
             "#0d0887"
            ],
            [
             0.1111111111111111,
             "#46039f"
            ],
            [
             0.2222222222222222,
             "#7201a8"
            ],
            [
             0.3333333333333333,
             "#9c179e"
            ],
            [
             0.4444444444444444,
             "#bd3786"
            ],
            [
             0.5555555555555556,
             "#d8576b"
            ],
            [
             0.6666666666666666,
             "#ed7953"
            ],
            [
             0.7777777777777778,
             "#fb9f3a"
            ],
            [
             0.8888888888888888,
             "#fdca26"
            ],
            [
             1,
             "#f0f921"
            ]
           ],
           "sequentialminus": [
            [
             0,
             "#0d0887"
            ],
            [
             0.1111111111111111,
             "#46039f"
            ],
            [
             0.2222222222222222,
             "#7201a8"
            ],
            [
             0.3333333333333333,
             "#9c179e"
            ],
            [
             0.4444444444444444,
             "#bd3786"
            ],
            [
             0.5555555555555556,
             "#d8576b"
            ],
            [
             0.6666666666666666,
             "#ed7953"
            ],
            [
             0.7777777777777778,
             "#fb9f3a"
            ],
            [
             0.8888888888888888,
             "#fdca26"
            ],
            [
             1,
             "#f0f921"
            ]
           ]
          },
          "colorway": [
           "#636efa",
           "#EF553B",
           "#00cc96",
           "#ab63fa",
           "#FFA15A",
           "#19d3f3",
           "#FF6692",
           "#B6E880",
           "#FF97FF",
           "#FECB52"
          ],
          "font": {
           "color": "#2a3f5f"
          },
          "geo": {
           "bgcolor": "white",
           "lakecolor": "white",
           "landcolor": "#E5ECF6",
           "showlakes": true,
           "showland": true,
           "subunitcolor": "white"
          },
          "hoverlabel": {
           "align": "left"
          },
          "hovermode": "closest",
          "mapbox": {
           "style": "light"
          },
          "paper_bgcolor": "white",
          "plot_bgcolor": "#E5ECF6",
          "polar": {
           "angularaxis": {
            "gridcolor": "white",
            "linecolor": "white",
            "ticks": ""
           },
           "bgcolor": "#E5ECF6",
           "radialaxis": {
            "gridcolor": "white",
            "linecolor": "white",
            "ticks": ""
           }
          },
          "scene": {
           "xaxis": {
            "backgroundcolor": "#E5ECF6",
            "gridcolor": "white",
            "gridwidth": 2,
            "linecolor": "white",
            "showbackground": true,
            "ticks": "",
            "zerolinecolor": "white"
           },
           "yaxis": {
            "backgroundcolor": "#E5ECF6",
            "gridcolor": "white",
            "gridwidth": 2,
            "linecolor": "white",
            "showbackground": true,
            "ticks": "",
            "zerolinecolor": "white"
           },
           "zaxis": {
            "backgroundcolor": "#E5ECF6",
            "gridcolor": "white",
            "gridwidth": 2,
            "linecolor": "white",
            "showbackground": true,
            "ticks": "",
            "zerolinecolor": "white"
           }
          },
          "shapedefaults": {
           "line": {
            "color": "#2a3f5f"
           }
          },
          "ternary": {
           "aaxis": {
            "gridcolor": "white",
            "linecolor": "white",
            "ticks": ""
           },
           "baxis": {
            "gridcolor": "white",
            "linecolor": "white",
            "ticks": ""
           },
           "bgcolor": "#E5ECF6",
           "caxis": {
            "gridcolor": "white",
            "linecolor": "white",
            "ticks": ""
           }
          },
          "title": {
           "x": 0.05
          },
          "xaxis": {
           "automargin": true,
           "gridcolor": "white",
           "linecolor": "white",
           "ticks": "",
           "title": {
            "standoff": 15
           },
           "zerolinecolor": "white",
           "zerolinewidth": 2
          },
          "yaxis": {
           "automargin": true,
           "gridcolor": "white",
           "linecolor": "white",
           "ticks": "",
           "title": {
            "standoff": 15
           },
           "zerolinecolor": "white",
           "zerolinewidth": 2
          }
         }
        },
        "title": {
         "text": "Average Named Entity Usage Across Women Speeches"
        },
        "xaxis": {
         "anchor": "y",
         "autorange": true,
         "domain": [
          0,
          1
         ],
         "range": [
          -0.5,
          16.5
         ],
         "title": {
          "text": "Speaker"
         },
         "type": "category"
        },
        "yaxis": {
         "anchor": "x",
         "autorange": true,
         "domain": [
          0,
          1
         ],
         "range": [
          0,
          146.31578947368422
         ],
         "title": {
          "text": "value"
         },
         "type": "linear"
        }
       }
      },
      "image/png": "[encoded data removed]",
      "text/html": [
       "<div>                            <div id=\"0ad12c9f-0dc6-4a37-a215-0fbd4ebd1637\" class=\"plotly-graph-div\" style=\"height:525px; width:100%;\"></div>            <script type=\"text/javascript\">                require([\"plotly\"], function(Plotly) {                    window.PLOTLYENV=window.PLOTLYENV || {};                                    if (document.getElementById(\"0ad12c9f-0dc6-4a37-a215-0fbd4ebd1637\")) {                    Plotly.newPlot(                        \"0ad12c9f-0dc6-4a37-a215-0fbd4ebd1637\",                        [{\"alignmentgroup\":\"True\",\"hovertemplate\":\"variable=PERSON_Counts<br>Speaker=%{x}<br>value=%{y}<extra></extra>\",\"legendgroup\":\"PERSON_Counts\",\"marker\":{\"color\":\"#636efa\",\"pattern\":{\"shape\":\"\"}},\"name\":\"PERSON_Counts\",\"offsetgroup\":\"PERSON_Counts\",\"orientation\":\"v\",\"showlegend\":true,\"textposition\":\"auto\",\"x\":[\"Anita Hill\",\"Ann Richards\",\"Anna Howard Shaw\",\"Barbara Charline Jordan\",\"Barbara Pierce Bush\",\"Carrie Chapman Catt\",\"Eleanor Roosevelt\",\"Elizabeth Glaser\",\"Elizabeth Gurley Flynn\",\"Emma Goldman\",\"Geraldine Ferraro\",\"Hillary Rodham Clinton\",\"Margaret Chase Smith\",\"Margaret Sanger\",\"MaryFisher\",\"Shirley Anita St. Hill Chisholm\",\"Ursula K. Le Guin\"],\"xaxis\":\"x\",\"y\":[37.0,27.0,10.0,8.0,19.0,20.0,6.0,7.0,69.0,44.0,25.0,3.0,8.0,3.0,8.0,6.0,8.0],\"yaxis\":\"y\",\"type\":\"bar\"},{\"alignmentgroup\":\"True\",\"hovertemplate\":\"variable=INSTITUTION_Counts<br>Speaker=%{x}<br>value=%{y}<extra></extra>\",\"legendgroup\":\"INSTITUTION_Counts\",\"marker\":{\"color\":\"#EF553B\",\"pattern\":{\"shape\":\"\"}},\"name\":\"INSTITUTION_Counts\",\"offsetgroup\":\"INSTITUTION_Counts\",\"orientation\":\"v\",\"showlegend\":true,\"textposition\":\"auto\",\"x\":[\"Anita Hill\",\"Ann Richards\",\"Anna Howard Shaw\",\"Barbara Charline Jordan\",\"Barbara Pierce Bush\",\"Carrie Chapman Catt\",\"Eleanor Roosevelt\",\"Elizabeth Glaser\",\"Elizabeth Gurley Flynn\",\"Emma Goldman\",\"Geraldine Ferraro\",\"Hillary Rodham Clinton\",\"Margaret Chase Smith\",\"Margaret Sanger\",\"MaryFisher\",\"Shirley Anita St. Hill Chisholm\",\"Ursula K. Le Guin\"],\"xaxis\":\"x\",\"y\":[29.0,9.0,14.0,16.0,12.0,16.0,28.0,8.0,139.0,31.0,13.0,5.0,39.0,12.0,3.0,20.0,5.0],\"yaxis\":\"y\",\"type\":\"bar\"},{\"alignmentgroup\":\"True\",\"hovertemplate\":\"variable=NATION_Counts<br>Speaker=%{x}<br>value=%{y}<extra></extra>\",\"legendgroup\":\"NATION_Counts\",\"marker\":{\"color\":\"#00cc96\",\"pattern\":{\"shape\":\"\"}},\"name\":\"NATION_Counts\",\"offsetgroup\":\"NATION_Counts\",\"orientation\":\"v\",\"showlegend\":true,\"textposition\":\"auto\",\"x\":[\"Anita Hill\",\"Ann Richards\",\"Anna Howard Shaw\",\"Barbara Charline Jordan\",\"Barbara Pierce Bush\",\"Carrie Chapman Catt\",\"Eleanor Roosevelt\",\"Elizabeth Glaser\",\"Elizabeth Gurley Flynn\",\"Emma Goldman\",\"Geraldine Ferraro\",\"Hillary Rodham Clinton\",\"Margaret Chase Smith\",\"Margaret Sanger\",\"MaryFisher\",\"Shirley Anita St. Hill Chisholm\",\"Ursula K. Le Guin\"],\"xaxis\":\"x\",\"y\":[1.0,20.0,41.0,10.0,1.0,14.0,10.0,3.0,74.0,18.0,17.0,1.0,50.0,4.0,11.0,0.0,7.0],\"yaxis\":\"y\",\"type\":\"bar\"},{\"alignmentgroup\":\"True\",\"hovertemplate\":\"variable=EVENT_Counts<br>Speaker=%{x}<br>value=%{y}<extra></extra>\",\"legendgroup\":\"EVENT_Counts\",\"marker\":{\"color\":\"#ab63fa\",\"pattern\":{\"shape\":\"\"}},\"name\":\"EVENT_Counts\",\"offsetgroup\":\"EVENT_Counts\",\"orientation\":\"v\",\"showlegend\":true,\"textposition\":\"auto\",\"x\":[\"Anita Hill\",\"Ann Richards\",\"Anna Howard Shaw\",\"Barbara Charline Jordan\",\"Barbara Pierce Bush\",\"Carrie Chapman Catt\",\"Eleanor Roosevelt\",\"Elizabeth Glaser\",\"Elizabeth Gurley Flynn\",\"Emma Goldman\",\"Geraldine Ferraro\",\"Hillary Rodham Clinton\",\"Margaret Chase Smith\",\"Margaret Sanger\",\"MaryFisher\",\"Shirley Anita St. Hill Chisholm\",\"Ursula K. Le Guin\"],\"xaxis\":\"x\",\"y\":[0.0,3.0,3.0,2.0,0.0,2.0,1.0,0.0,2.0,0.0,0.0,1.0,2.0,1.0,0.0,1.0,0.0],\"yaxis\":\"y\",\"type\":\"bar\"},{\"alignmentgroup\":\"True\",\"hovertemplate\":\"variable=LAW_Counts<br>Speaker=%{x}<br>value=%{y}<extra></extra>\",\"legendgroup\":\"LAW_Counts\",\"marker\":{\"color\":\"#FFA15A\",\"pattern\":{\"shape\":\"\"}},\"name\":\"LAW_Counts\",\"offsetgroup\":\"LAW_Counts\",\"orientation\":\"v\",\"showlegend\":true,\"textposition\":\"auto\",\"x\":[\"Anita Hill\",\"Ann Richards\",\"Anna Howard Shaw\",\"Barbara Charline Jordan\",\"Barbara Pierce Bush\",\"Carrie Chapman Catt\",\"Eleanor Roosevelt\",\"Elizabeth Glaser\",\"Elizabeth Gurley Flynn\",\"Emma Goldman\",\"Geraldine Ferraro\",\"Hillary Rodham Clinton\",\"Margaret Chase Smith\",\"Margaret Sanger\",\"MaryFisher\",\"Shirley Anita St. Hill Chisholm\",\"Ursula K. Le Guin\"],\"xaxis\":\"x\",\"y\":[0.0,0.0,3.0,4.0,0.0,0.0,6.0,0.0,9.0,1.0,1.0,0.0,2.0,0.0,0.0,8.0,0.0],\"yaxis\":\"y\",\"type\":\"bar\"}],                        {\"template\":{\"data\":{\"histogram2dcontour\":[{\"type\":\"histogram2dcontour\",\"colorbar\":{\"outlinewidth\":0,\"ticks\":\"\"},\"colorscale\":[[0.0,\"#0d0887\"],[0.1111111111111111,\"#46039f\"],[0.2222222222222222,\"#7201a8\"],[0.3333333333333333,\"#9c179e\"],[0.4444444444444444,\"#bd3786\"],[0.5555555555555556,\"#d8576b\"],[0.6666666666666666,\"#ed7953\"],[0.7777777777777778,\"#fb9f3a\"],[0.8888888888888888,\"#fdca26\"],[1.0,\"#f0f921\"]]}],\"choropleth\":[{\"type\":\"choropleth\",\"colorbar\":{\"outlinewidth\":0,\"ticks\":\"\"}}],\"histogram2d\":[{\"type\":\"histogram2d\",\"colorbar\":{\"outlinewidth\":0,\"ticks\":\"\"},\"colorscale\":[[0.0,\"#0d0887\"],[0.1111111111111111,\"#46039f\"],[0.2222222222222222,\"#7201a8\"],[0.3333333333333333,\"#9c179e\"],[0.4444444444444444,\"#bd3786\"],[0.5555555555555556,\"#d8576b\"],[0.6666666666666666,\"#ed7953\"],[0.7777777777777778,\"#fb9f3a\"],[0.8888888888888888,\"#fdca26\"],[1.0,\"#f0f921\"]]}],\"heatmap\":[{\"type\":\"heatmap\",\"colorbar\":{\"outlinewidth\":0,\"ticks\":\"\"},\"colorscale\":[[0.0,\"#0d0887\"],[0.1111111111111111,\"#46039f\"],[0.2222222222222222,\"#7201a8\"],[0.3333333333333333,\"#9c179e\"],[0.4444444444444444,\"#bd3786\"],[0.5555555555555556,\"#d8576b\"],[0.6666666666666666,\"#ed7953\"],[0.7777777777777778,\"#fb9f3a\"],[0.8888888888888888,\"#fdca26\"],[1.0,\"#f0f921\"]]}],\"heatmapgl\":[{\"type\":\"heatmapgl\",\"colorbar\":{\"outlinewidth\":0,\"ticks\":\"\"},\"colorscale\":[[0.0,\"#0d0887\"],[0.1111111111111111,\"#46039f\"],[0.2222222222222222,\"#7201a8\"],[0.3333333333333333,\"#9c179e\"],[0.4444444444444444,\"#bd3786\"],[0.5555555555555556,\"#d8576b\"],[0.6666666666666666,\"#ed7953\"],[0.7777777777777778,\"#fb9f3a\"],[0.8888888888888888,\"#fdca26\"],[1.0,\"#f0f921\"]]}],\"contourcarpet\":[{\"type\":\"contourcarpet\",\"colorbar\":{\"outlinewidth\":0,\"ticks\":\"\"}}],\"contour\":[{\"type\":\"contour\",\"colorbar\":{\"outlinewidth\":0,\"ticks\":\"\"},\"colorscale\":[[0.0,\"#0d0887\"],[0.1111111111111111,\"#46039f\"],[0.2222222222222222,\"#7201a8\"],[0.3333333333333333,\"#9c179e\"],[0.4444444444444444,\"#bd3786\"],[0.5555555555555556,\"#d8576b\"],[0.6666666666666666,\"#ed7953\"],[0.7777777777777778,\"#fb9f3a\"],[0.8888888888888888,\"#fdca26\"],[1.0,\"#f0f921\"]]}],\"surface\":[{\"type\":\"surface\",\"colorbar\":{\"outlinewidth\":0,\"ticks\":\"\"},\"colorscale\":[[0.0,\"#0d0887\"],[0.1111111111111111,\"#46039f\"],[0.2222222222222222,\"#7201a8\"],[0.3333333333333333,\"#9c179e\"],[0.4444444444444444,\"#bd3786\"],[0.5555555555555556,\"#d8576b\"],[0.6666666666666666,\"#ed7953\"],[0.7777777777777778,\"#fb9f3a\"],[0.8888888888888888,\"#fdca26\"],[1.0,\"#f0f921\"]]}],\"mesh3d\":[{\"type\":\"mesh3d\",\"colorbar\":{\"outlinewidth\":0,\"ticks\":\"\"}}],\"scatter\":[{\"fillpattern\":{\"fillmode\":\"overlay\",\"size\":10,\"solidity\":0.2},\"type\":\"scatter\"}],\"parcoords\":[{\"type\":\"parcoords\",\"line\":{\"colorbar\":{\"outlinewidth\":0,\"ticks\":\"\"}}}],\"scatterpolargl\":[{\"type\":\"scatterpolargl\",\"marker\":{\"colorbar\":{\"outlinewidth\":0,\"ticks\":\"\"}}}],\"bar\":[{\"error_x\":{\"color\":\"#2a3f5f\"},\"error_y\":{\"color\":\"#2a3f5f\"},\"marker\":{\"line\":{\"color\":\"#E5ECF6\",\"width\":0.5},\"pattern\":{\"fillmode\":\"overlay\",\"size\":10,\"solidity\":0.2}},\"type\":\"bar\"}],\"scattergeo\":[{\"type\":\"scattergeo\",\"marker\":{\"colorbar\":{\"outlinewidth\":0,\"ticks\":\"\"}}}],\"scatterpolar\":[{\"type\":\"scatterpolar\",\"marker\":{\"colorbar\":{\"outlinewidth\":0,\"ticks\":\"\"}}}],\"histogram\":[{\"marker\":{\"pattern\":{\"fillmode\":\"overlay\",\"size\":10,\"solidity\":0.2}},\"type\":\"histogram\"}],\"scattergl\":[{\"type\":\"scattergl\",\"marker\":{\"colorbar\":{\"outlinewidth\":0,\"ticks\":\"\"}}}],\"scatter3d\":[{\"type\":\"scatter3d\",\"line\":{\"colorbar\":{\"outlinewidth\":0,\"ticks\":\"\"}},\"marker\":{\"colorbar\":{\"outlinewidth\":0,\"ticks\":\"\"}}}],\"scattermapbox\":[{\"type\":\"scattermapbox\",\"marker\":{\"colorbar\":{\"outlinewidth\":0,\"ticks\":\"\"}}}],\"scatterternary\":[{\"type\":\"scatterternary\",\"marker\":{\"colorbar\":{\"outlinewidth\":0,\"ticks\":\"\"}}}],\"scattercarpet\":[{\"type\":\"scattercarpet\",\"marker\":{\"colorbar\":{\"outlinewidth\":0,\"ticks\":\"\"}}}],\"carpet\":[{\"aaxis\":{\"endlinecolor\":\"#2a3f5f\",\"gridcolor\":\"white\",\"linecolor\":\"white\",\"minorgridcolor\":\"white\",\"startlinecolor\":\"#2a3f5f\"},\"baxis\":{\"endlinecolor\":\"#2a3f5f\",\"gridcolor\":\"white\",\"linecolor\":\"white\",\"minorgridcolor\":\"white\",\"startlinecolor\":\"#2a3f5f\"},\"type\":\"carpet\"}],\"table\":[{\"cells\":{\"fill\":{\"color\":\"#EBF0F8\"},\"line\":{\"color\":\"white\"}},\"header\":{\"fill\":{\"color\":\"#C8D4E3\"},\"line\":{\"color\":\"white\"}},\"type\":\"table\"}],\"barpolar\":[{\"marker\":{\"line\":{\"color\":\"#E5ECF6\",\"width\":0.5},\"pattern\":{\"fillmode\":\"overlay\",\"size\":10,\"solidity\":0.2}},\"type\":\"barpolar\"}],\"pie\":[{\"automargin\":true,\"type\":\"pie\"}]},\"layout\":{\"autotypenumbers\":\"strict\",\"colorway\":[\"#636efa\",\"#EF553B\",\"#00cc96\",\"#ab63fa\",\"#FFA15A\",\"#19d3f3\",\"#FF6692\",\"#B6E880\",\"#FF97FF\",\"#FECB52\"],\"font\":{\"color\":\"#2a3f5f\"},\"hovermode\":\"closest\",\"hoverlabel\":{\"align\":\"left\"},\"paper_bgcolor\":\"white\",\"plot_bgcolor\":\"#E5ECF6\",\"polar\":{\"bgcolor\":\"#E5ECF6\",\"angularaxis\":{\"gridcolor\":\"white\",\"linecolor\":\"white\",\"ticks\":\"\"},\"radialaxis\":{\"gridcolor\":\"white\",\"linecolor\":\"white\",\"ticks\":\"\"}},\"ternary\":{\"bgcolor\":\"#E5ECF6\",\"aaxis\":{\"gridcolor\":\"white\",\"linecolor\":\"white\",\"ticks\":\"\"},\"baxis\":{\"gridcolor\":\"white\",\"linecolor\":\"white\",\"ticks\":\"\"},\"caxis\":{\"gridcolor\":\"white\",\"linecolor\":\"white\",\"ticks\":\"\"}},\"coloraxis\":{\"colorbar\":{\"outlinewidth\":0,\"ticks\":\"\"}},\"colorscale\":{\"sequential\":[[0.0,\"#0d0887\"],[0.1111111111111111,\"#46039f\"],[0.2222222222222222,\"#7201a8\"],[0.3333333333333333,\"#9c179e\"],[0.4444444444444444,\"#bd3786\"],[0.5555555555555556,\"#d8576b\"],[0.6666666666666666,\"#ed7953\"],[0.7777777777777778,\"#fb9f3a\"],[0.8888888888888888,\"#fdca26\"],[1.0,\"#f0f921\"]],\"sequentialminus\":[[0.0,\"#0d0887\"],[0.1111111111111111,\"#46039f\"],[0.2222222222222222,\"#7201a8\"],[0.3333333333333333,\"#9c179e\"],[0.4444444444444444,\"#bd3786\"],[0.5555555555555556,\"#d8576b\"],[0.6666666666666666,\"#ed7953\"],[0.7777777777777778,\"#fb9f3a\"],[0.8888888888888888,\"#fdca26\"],[1.0,\"#f0f921\"]],\"diverging\":[[0,\"#8e0152\"],[0.1,\"#c51b7d\"],[0.2,\"#de77ae\"],[0.3,\"#f1b6da\"],[0.4,\"#fde0ef\"],[0.5,\"#f7f7f7\"],[0.6,\"#e6f5d0\"],[0.7,\"#b8e186\"],[0.8,\"#7fbc41\"],[0.9,\"#4d9221\"],[1,\"#276419\"]]},\"xaxis\":{\"gridcolor\":\"white\",\"linecolor\":\"white\",\"ticks\":\"\",\"title\":{\"standoff\":15},\"zerolinecolor\":\"white\",\"automargin\":true,\"zerolinewidth\":2},\"yaxis\":{\"gridcolor\":\"white\",\"linecolor\":\"white\",\"ticks\":\"\",\"title\":{\"standoff\":15},\"zerolinecolor\":\"white\",\"automargin\":true,\"zerolinewidth\":2},\"scene\":{\"xaxis\":{\"backgroundcolor\":\"#E5ECF6\",\"gridcolor\":\"white\",\"linecolor\":\"white\",\"showbackground\":true,\"ticks\":\"\",\"zerolinecolor\":\"white\",\"gridwidth\":2},\"yaxis\":{\"backgroundcolor\":\"#E5ECF6\",\"gridcolor\":\"white\",\"linecolor\":\"white\",\"showbackground\":true,\"ticks\":\"\",\"zerolinecolor\":\"white\",\"gridwidth\":2},\"zaxis\":{\"backgroundcolor\":\"#E5ECF6\",\"gridcolor\":\"white\",\"linecolor\":\"white\",\"showbackground\":true,\"ticks\":\"\",\"zerolinecolor\":\"white\",\"gridwidth\":2}},\"shapedefaults\":{\"line\":{\"color\":\"#2a3f5f\"}},\"annotationdefaults\":{\"arrowcolor\":\"#2a3f5f\",\"arrowhead\":0,\"arrowwidth\":1},\"geo\":{\"bgcolor\":\"white\",\"landcolor\":\"#E5ECF6\",\"subunitcolor\":\"white\",\"showland\":true,\"showlakes\":true,\"lakecolor\":\"white\"},\"title\":{\"x\":0.05},\"mapbox\":{\"style\":\"light\"}}},\"xaxis\":{\"anchor\":\"y\",\"domain\":[0.0,1.0],\"title\":{\"text\":\"Speaker\"}},\"yaxis\":{\"anchor\":\"x\",\"domain\":[0.0,1.0],\"title\":{\"text\":\"value\"}},\"legend\":{\"title\":{\"text\":\"variable\"},\"tracegroupgap\":0},\"title\":{\"text\":\"Average Named Entity Usage Across Women Speeches\"},\"barmode\":\"group\"},                        {\"responsive\": true}                    ).then(function(){\n",
       "                            \n",
       "var gd = document.getElementById('0ad12c9f-0dc6-4a37-a215-0fbd4ebd1637');\n",
       "var x = new MutationObserver(function (mutations, observer) {{\n",
       "        var display = window.getComputedStyle(gd).display;\n",
       "        if (!display || display === 'none') {{\n",
       "            console.log([gd, 'removed!']);\n",
       "            Plotly.purge(gd);\n",
       "            observer.disconnect();\n",
       "        }}\n",
       "}});\n",
       "\n",
       "// Listen for the removal of the full notebook cells\n",
       "var notebookContainer = gd.closest('#notebook-container');\n",
       "if (notebookContainer) {{\n",
       "    x.observe(notebookContainer, {childList: true});\n",
       "}}\n",
       "\n",
       "// Listen for the clearing of the current output cell\n",
       "var outputEl = gd.closest('.output');\n",
       "if (outputEl) {{\n",
       "    x.observe(outputEl, {childList: true});\n",
       "}}\n",
       "\n",
       "                        })                };                });            </script>        </div>"
      ]
     },
     "metadata": {},
     "output_type": "display_data"
    }
   ],
   "source": [
    "# Calculate average usage of each named entity type\n",
    "average_ner_df = ner_counts_df.groupby(['Speaker']).mean()\n",
    "average_ner_df = average_ner_df.round(0)\n",
    "average_ner_df = average_ner_df.reset_index()\n",
    "average_ner_df\n",
    "\n",
    "# Use plotly to plot proper noun use per genre\n",
    "fig = px.bar(average_ner_df, x=\"Speaker\", y=[\"PERSON_Counts\", 'INSTITUTION_Counts', \"NATION_Counts\", 'EVENT_Counts', 'LAW_Counts'], title=\"Average Named Entity Usage Across Women Speeches\", barmode='group')\n",
    "fig.show()"
   ]
  },
  {
   "cell_type": "markdown",
   "id": "fb1df6e4-319f-41f9-8f0a-bc3594613d69",
   "metadata": {},
   "source": [
    "Similar to the POS, when comparing counts of named entities, longer speeches will generally have higher counts simply because they contain more text. However, this does not necessarily reflect the relative importance or emphasis placed on a particular named entity within a speech. Therefore, using ratios instead of counts allows for a more meaningful comparison of the frequency of named entities across speeches. By calculating ratios, we account for the length of each speech and normalize the entity counts accordingly. This allows us to compare the relative prominence of different named entities within each speech. "
   ]
  },
  {
   "cell_type": "code",
   "execution_count": 152,
   "id": "602f9693-70fc-46be-8524-9d279ba32d2a",
   "metadata": {},
   "outputs": [
    {
     "data": {
      "text/html": [
       "<div>\n",
       "<style scoped>\n",
       "    .dataframe tbody tr th:only-of-type {\n",
       "        vertical-align: middle;\n",
       "    }\n",
       "\n",
       "    .dataframe tbody tr th {\n",
       "        vertical-align: top;\n",
       "    }\n",
       "\n",
       "    .dataframe thead th {\n",
       "        text-align: right;\n",
       "    }\n",
       "</style>\n",
       "<table border=\"1\" class=\"dataframe\">\n",
       "  <thead>\n",
       "    <tr style=\"text-align: right;\">\n",
       "      <th></th>\n",
       "      <th>Speaker</th>\n",
       "      <th>Year</th>\n",
       "      <th>PERSON_Counts</th>\n",
       "      <th>PERSON_Ratios</th>\n",
       "      <th>INSTITUTION_Counts</th>\n",
       "      <th>INSTITUTION_Ratios</th>\n",
       "      <th>NATION_Counts</th>\n",
       "      <th>NATION_Ratios</th>\n",
       "      <th>EVENT_Counts</th>\n",
       "      <th>EVENT_Ratios</th>\n",
       "      <th>LAW_Counts</th>\n",
       "      <th>LAW_Ratios</th>\n",
       "    </tr>\n",
       "  </thead>\n",
       "  <tbody>\n",
       "    <tr>\n",
       "      <th>0</th>\n",
       "      <td>Barbara Charline Jordan</td>\n",
       "      <td>1976</td>\n",
       "      <td>5</td>\n",
       "      <td>0.169623</td>\n",
       "      <td>11</td>\n",
       "      <td>0.282366</td>\n",
       "      <td>17</td>\n",
       "      <td>0.340379</td>\n",
       "      <td>0</td>\n",
       "      <td>0.000000</td>\n",
       "      <td>0</td>\n",
       "      <td>0.000000</td>\n",
       "    </tr>\n",
       "    <tr>\n",
       "      <th>1</th>\n",
       "      <td>Barbara Charline Jordan</td>\n",
       "      <td>1974</td>\n",
       "      <td>12</td>\n",
       "      <td>0.469324</td>\n",
       "      <td>21</td>\n",
       "      <td>0.621461</td>\n",
       "      <td>2</td>\n",
       "      <td>0.046166</td>\n",
       "      <td>3</td>\n",
       "      <td>1.000000</td>\n",
       "      <td>8</td>\n",
       "      <td>0.811304</td>\n",
       "    </tr>\n",
       "    <tr>\n",
       "      <th>2</th>\n",
       "      <td>Anna Howard Shaw</td>\n",
       "      <td>1915</td>\n",
       "      <td>10</td>\n",
       "      <td>0.063757</td>\n",
       "      <td>14</td>\n",
       "      <td>0.067540</td>\n",
       "      <td>41</td>\n",
       "      <td>0.154281</td>\n",
       "      <td>3</td>\n",
       "      <td>0.163020</td>\n",
       "      <td>3</td>\n",
       "      <td>0.049597</td>\n",
       "    </tr>\n",
       "    <tr>\n",
       "      <th>3</th>\n",
       "      <td>Hillary Rodham Clinton</td>\n",
       "      <td>1995</td>\n",
       "      <td>3</td>\n",
       "      <td>0.078913</td>\n",
       "      <td>5</td>\n",
       "      <td>0.099518</td>\n",
       "      <td>1</td>\n",
       "      <td>0.015525</td>\n",
       "      <td>1</td>\n",
       "      <td>0.224190</td>\n",
       "      <td>0</td>\n",
       "      <td>0.000000</td>\n",
       "    </tr>\n",
       "    <tr>\n",
       "      <th>4</th>\n",
       "      <td>Ann Richards</td>\n",
       "      <td>1988</td>\n",
       "      <td>27</td>\n",
       "      <td>0.594202</td>\n",
       "      <td>9</td>\n",
       "      <td>0.149871</td>\n",
       "      <td>20</td>\n",
       "      <td>0.259776</td>\n",
       "      <td>3</td>\n",
       "      <td>0.562703</td>\n",
       "      <td>0</td>\n",
       "      <td>0.000000</td>\n",
       "    </tr>\n",
       "    <tr>\n",
       "      <th>5</th>\n",
       "      <td>Margaret Chase Smith</td>\n",
       "      <td>1950</td>\n",
       "      <td>8</td>\n",
       "      <td>0.271095</td>\n",
       "      <td>39</td>\n",
       "      <td>1.000000</td>\n",
       "      <td>50</td>\n",
       "      <td>1.000000</td>\n",
       "      <td>2</td>\n",
       "      <td>0.577629</td>\n",
       "      <td>2</td>\n",
       "      <td>0.175737</td>\n",
       "    </tr>\n",
       "    <tr>\n",
       "      <th>6</th>\n",
       "      <td>Barbara Pierce Bush</td>\n",
       "      <td>1990</td>\n",
       "      <td>19</td>\n",
       "      <td>1.000000</td>\n",
       "      <td>12</td>\n",
       "      <td>0.477894</td>\n",
       "      <td>1</td>\n",
       "      <td>0.031063</td>\n",
       "      <td>0</td>\n",
       "      <td>0.000000</td>\n",
       "      <td>0</td>\n",
       "      <td>0.000000</td>\n",
       "    </tr>\n",
       "    <tr>\n",
       "      <th>7</th>\n",
       "      <td>MaryFisher</td>\n",
       "      <td>1992</td>\n",
       "      <td>8</td>\n",
       "      <td>0.337367</td>\n",
       "      <td>3</td>\n",
       "      <td>0.095728</td>\n",
       "      <td>11</td>\n",
       "      <td>0.273781</td>\n",
       "      <td>0</td>\n",
       "      <td>0.000000</td>\n",
       "      <td>0</td>\n",
       "      <td>0.000000</td>\n",
       "    </tr>\n",
       "    <tr>\n",
       "      <th>8</th>\n",
       "      <td>Eleanor Roosevelt</td>\n",
       "      <td>1948</td>\n",
       "      <td>6</td>\n",
       "      <td>0.097640</td>\n",
       "      <td>36</td>\n",
       "      <td>0.443284</td>\n",
       "      <td>7</td>\n",
       "      <td>0.067231</td>\n",
       "      <td>1</td>\n",
       "      <td>0.138696</td>\n",
       "      <td>2</td>\n",
       "      <td>0.084393</td>\n",
       "    </tr>\n",
       "    <tr>\n",
       "      <th>9</th>\n",
       "      <td>Geraldine Ferraro</td>\n",
       "      <td>1984</td>\n",
       "      <td>25</td>\n",
       "      <td>0.920973</td>\n",
       "      <td>13</td>\n",
       "      <td>0.362371</td>\n",
       "      <td>17</td>\n",
       "      <td>0.369619</td>\n",
       "      <td>0</td>\n",
       "      <td>0.000000</td>\n",
       "      <td>1</td>\n",
       "      <td>0.095523</td>\n",
       "    </tr>\n",
       "    <tr>\n",
       "      <th>10</th>\n",
       "      <td>Emma Goldman</td>\n",
       "      <td>1917</td>\n",
       "      <td>44</td>\n",
       "      <td>0.529624</td>\n",
       "      <td>31</td>\n",
       "      <td>0.282345</td>\n",
       "      <td>18</td>\n",
       "      <td>0.127875</td>\n",
       "      <td>0</td>\n",
       "      <td>0.000000</td>\n",
       "      <td>1</td>\n",
       "      <td>0.031212</td>\n",
       "    </tr>\n",
       "    <tr>\n",
       "      <th>11</th>\n",
       "      <td>Carrie Chapman Catt</td>\n",
       "      <td>1916</td>\n",
       "      <td>32</td>\n",
       "      <td>0.369970</td>\n",
       "      <td>22</td>\n",
       "      <td>0.192461</td>\n",
       "      <td>22</td>\n",
       "      <td>0.150120</td>\n",
       "      <td>4</td>\n",
       "      <td>0.394152</td>\n",
       "      <td>1</td>\n",
       "      <td>0.029979</td>\n",
       "    </tr>\n",
       "    <tr>\n",
       "      <th>12</th>\n",
       "      <td>Anita Hill</td>\n",
       "      <td>1991</td>\n",
       "      <td>37</td>\n",
       "      <td>0.916642</td>\n",
       "      <td>29</td>\n",
       "      <td>0.543625</td>\n",
       "      <td>1</td>\n",
       "      <td>0.014622</td>\n",
       "      <td>0</td>\n",
       "      <td>0.000000</td>\n",
       "      <td>0</td>\n",
       "      <td>0.000000</td>\n",
       "    </tr>\n",
       "    <tr>\n",
       "      <th>13</th>\n",
       "      <td>Carrie Chapman Catt</td>\n",
       "      <td>1917</td>\n",
       "      <td>7</td>\n",
       "      <td>0.247827</td>\n",
       "      <td>9</td>\n",
       "      <td>0.241100</td>\n",
       "      <td>7</td>\n",
       "      <td>0.146267</td>\n",
       "      <td>1</td>\n",
       "      <td>0.301744</td>\n",
       "      <td>0</td>\n",
       "      <td>0.000000</td>\n",
       "    </tr>\n",
       "    <tr>\n",
       "      <th>14</th>\n",
       "      <td>Elizabeth Glaser</td>\n",
       "      <td>1992</td>\n",
       "      <td>7</td>\n",
       "      <td>0.389281</td>\n",
       "      <td>8</td>\n",
       "      <td>0.336635</td>\n",
       "      <td>3</td>\n",
       "      <td>0.098466</td>\n",
       "      <td>0</td>\n",
       "      <td>0.000000</td>\n",
       "      <td>0</td>\n",
       "      <td>0.000000</td>\n",
       "    </tr>\n",
       "    <tr>\n",
       "      <th>15</th>\n",
       "      <td>Margaret Sanger</td>\n",
       "      <td>1925</td>\n",
       "      <td>3</td>\n",
       "      <td>0.113328</td>\n",
       "      <td>12</td>\n",
       "      <td>0.343004</td>\n",
       "      <td>4</td>\n",
       "      <td>0.089181</td>\n",
       "      <td>1</td>\n",
       "      <td>0.321960</td>\n",
       "      <td>0</td>\n",
       "      <td>0.000000</td>\n",
       "    </tr>\n",
       "    <tr>\n",
       "      <th>16</th>\n",
       "      <td>Ursula K. Le Guin</td>\n",
       "      <td>1983</td>\n",
       "      <td>8</td>\n",
       "      <td>0.400623</td>\n",
       "      <td>5</td>\n",
       "      <td>0.189461</td>\n",
       "      <td>7</td>\n",
       "      <td>0.206891</td>\n",
       "      <td>0</td>\n",
       "      <td>0.000000</td>\n",
       "      <td>0</td>\n",
       "      <td>0.000000</td>\n",
       "    </tr>\n",
       "    <tr>\n",
       "      <th>17</th>\n",
       "      <td>Elizabeth Gurley Flynn</td>\n",
       "      <td>1952</td>\n",
       "      <td>69</td>\n",
       "      <td>0.536073</td>\n",
       "      <td>139</td>\n",
       "      <td>0.817133</td>\n",
       "      <td>74</td>\n",
       "      <td>0.339316</td>\n",
       "      <td>2</td>\n",
       "      <td>0.132432</td>\n",
       "      <td>9</td>\n",
       "      <td>0.181309</td>\n",
       "    </tr>\n",
       "    <tr>\n",
       "      <th>18</th>\n",
       "      <td>Shirley Anita St. Hill Chisholm</td>\n",
       "      <td>1970</td>\n",
       "      <td>6</td>\n",
       "      <td>0.227361</td>\n",
       "      <td>20</td>\n",
       "      <td>0.573453</td>\n",
       "      <td>0</td>\n",
       "      <td>0.000000</td>\n",
       "      <td>1</td>\n",
       "      <td>0.322962</td>\n",
       "      <td>8</td>\n",
       "      <td>0.786061</td>\n",
       "    </tr>\n",
       "    <tr>\n",
       "      <th>19</th>\n",
       "      <td>Eleanor Roosevelt</td>\n",
       "      <td>1948</td>\n",
       "      <td>6</td>\n",
       "      <td>0.231392</td>\n",
       "      <td>20</td>\n",
       "      <td>0.583622</td>\n",
       "      <td>14</td>\n",
       "      <td>0.318657</td>\n",
       "      <td>1</td>\n",
       "      <td>0.328689</td>\n",
       "      <td>10</td>\n",
       "      <td>1.000000</td>\n",
       "    </tr>\n",
       "  </tbody>\n",
       "</table>\n",
       "</div>"
      ],
      "text/plain": [
       "                            Speaker  Year  PERSON_Counts  PERSON_Ratios  \\\n",
       "0           Barbara Charline Jordan  1976              5       0.169623   \n",
       "1           Barbara Charline Jordan  1974             12       0.469324   \n",
       "2                  Anna Howard Shaw  1915             10       0.063757   \n",
       "3            Hillary Rodham Clinton  1995              3       0.078913   \n",
       "4                      Ann Richards  1988             27       0.594202   \n",
       "5              Margaret Chase Smith  1950              8       0.271095   \n",
       "6               Barbara Pierce Bush  1990             19       1.000000   \n",
       "7                        MaryFisher  1992              8       0.337367   \n",
       "8                 Eleanor Roosevelt  1948              6       0.097640   \n",
       "9                 Geraldine Ferraro  1984             25       0.920973   \n",
       "10                     Emma Goldman  1917             44       0.529624   \n",
       "11              Carrie Chapman Catt  1916             32       0.369970   \n",
       "12                       Anita Hill  1991             37       0.916642   \n",
       "13              Carrie Chapman Catt  1917              7       0.247827   \n",
       "14                 Elizabeth Glaser  1992              7       0.389281   \n",
       "15                  Margaret Sanger  1925              3       0.113328   \n",
       "16                Ursula K. Le Guin  1983              8       0.400623   \n",
       "17           Elizabeth Gurley Flynn  1952             69       0.536073   \n",
       "18  Shirley Anita St. Hill Chisholm  1970              6       0.227361   \n",
       "19                Eleanor Roosevelt  1948              6       0.231392   \n",
       "\n",
       "    INSTITUTION_Counts  INSTITUTION_Ratios  NATION_Counts  NATION_Ratios  \\\n",
       "0                   11            0.282366             17       0.340379   \n",
       "1                   21            0.621461              2       0.046166   \n",
       "2                   14            0.067540             41       0.154281   \n",
       "3                    5            0.099518              1       0.015525   \n",
       "4                    9            0.149871             20       0.259776   \n",
       "5                   39            1.000000             50       1.000000   \n",
       "6                   12            0.477894              1       0.031063   \n",
       "7                    3            0.095728             11       0.273781   \n",
       "8                   36            0.443284              7       0.067231   \n",
       "9                   13            0.362371             17       0.369619   \n",
       "10                  31            0.282345             18       0.127875   \n",
       "11                  22            0.192461             22       0.150120   \n",
       "12                  29            0.543625              1       0.014622   \n",
       "13                   9            0.241100              7       0.146267   \n",
       "14                   8            0.336635              3       0.098466   \n",
       "15                  12            0.343004              4       0.089181   \n",
       "16                   5            0.189461              7       0.206891   \n",
       "17                 139            0.817133             74       0.339316   \n",
       "18                  20            0.573453              0       0.000000   \n",
       "19                  20            0.583622             14       0.318657   \n",
       "\n",
       "    EVENT_Counts  EVENT_Ratios  LAW_Counts  LAW_Ratios  \n",
       "0              0      0.000000           0    0.000000  \n",
       "1              3      1.000000           8    0.811304  \n",
       "2              3      0.163020           3    0.049597  \n",
       "3              1      0.224190           0    0.000000  \n",
       "4              3      0.562703           0    0.000000  \n",
       "5              2      0.577629           2    0.175737  \n",
       "6              0      0.000000           0    0.000000  \n",
       "7              0      0.000000           0    0.000000  \n",
       "8              1      0.138696           2    0.084393  \n",
       "9              0      0.000000           1    0.095523  \n",
       "10             0      0.000000           1    0.031212  \n",
       "11             4      0.394152           1    0.029979  \n",
       "12             0      0.000000           0    0.000000  \n",
       "13             1      0.301744           0    0.000000  \n",
       "14             0      0.000000           0    0.000000  \n",
       "15             1      0.321960           0    0.000000  \n",
       "16             0      0.000000           0    0.000000  \n",
       "17             2      0.132432           9    0.181309  \n",
       "18             1      0.322962           8    0.786061  \n",
       "19             1      0.328689          10    1.000000  "
      ]
     },
     "execution_count": 152,
     "metadata": {},
     "output_type": "execute_result"
    }
   ],
   "source": [
    "# Get the length of speech\n",
    "speech_lengths = women_speech['Tokens'].apply(len)\n",
    "\n",
    "# Get the number of each type of entity in each paper\n",
    "person_counts = ner_analysis_df['Named_Entities'].str.count('PERSON')\n",
    "institution_counts = ner_analysis_df['Named_Entities'].str.count('ORG')\n",
    "nation_politic_counts = ner_analysis_df['Named_Entities'].str.count('NORP')\n",
    "event_counts = ner_analysis_df['Named_Entities'].str.count('EVENT')\n",
    "law_counts = ner_analysis_df['Named_Entities'].str.count('LAW')\n",
    "\n",
    "# Calculate entity ratios based on speech length\n",
    "person_ratios = person_counts / speech_lengths\n",
    "institution_ratios = institution_counts / speech_lengths\n",
    "nation_politic_ratios = nation_politic_counts / speech_lengths\n",
    "event_ratios = event_counts / speech_lengths\n",
    "law_ratios = law_counts / speech_lengths\n",
    "\n",
    "# Normalize entity ratios\n",
    "normalized_person_ratios = person_ratios / person_ratios.max()\n",
    "normalized_institution_ratios = institution_ratios / institution_ratios.max()\n",
    "normalized_nation_politic_ratios = nation_politic_ratios / nation_politic_ratios.max()\n",
    "normalized_event_ratios = event_ratios / event_ratios.max()\n",
    "normalized_law_ratios = law_ratios / law_ratios.max()\n",
    "\n",
    "# Append normalized ratios to DataFrame\n",
    "ner_counts_df['PERSON_Normalized_Ratios'] = normalized_person_ratios\n",
    "ner_counts_df['INSTITUTION_Normalized_Ratios'] = normalized_institution_ratios\n",
    "ner_counts_df['NATION_Normalized_Ratios'] = normalized_nation_politic_ratios\n",
    "ner_counts_df['EVENT_Normalized_Ratios'] = normalized_event_ratios\n",
    "ner_counts_df['LAW_Normalized_Ratios'] = normalized_law_ratios\n",
    "\n",
    "\n",
    "# Append named entity counts and ratios to new DataFrame\n",
    "ner_counts_df = pd.DataFrame()\n",
    "ner_counts_df['Speaker'] = ner_analysis_df[\"Speaker\"]\n",
    "ner_counts_df['Year'] = ner_analysis_df[\"Year\"]\n",
    "ner_counts_df['PERSON_Counts'] = person_counts\n",
    "ner_counts_df['PERSON_Ratios'] = normalized_person_ratios\n",
    "ner_counts_df['INSTITUTION_Counts'] = institution_counts\n",
    "ner_counts_df['INSTITUTION_Ratios'] = normalized_institution_ratios\n",
    "ner_counts_df['NATION_Counts'] = nation_politic_counts\n",
    "ner_counts_df['NATION_Ratios'] = normalized_nation_politic_ratios\n",
    "ner_counts_df['EVENT_Counts'] = event_counts\n",
    "ner_counts_df['EVENT_Ratios'] = normalized_event_ratios\n",
    "ner_counts_df['LAW_Counts'] = law_counts\n",
    "ner_counts_df['LAW_Ratios'] = normalized_law_ratios\n",
    "\n",
    "ner_counts_df"
   ]
  },
  {
   "cell_type": "code",
   "execution_count": 153,
   "id": "8e064e7e-6821-4dec-a241-63972310d830",
   "metadata": {},
   "outputs": [
    {
     "data": {
      "application/vnd.plotly.v1+json": {
       "config": {
        "plotlyServerURL": "https://plot.ly"
       },
       "data": [
        {
         "alignmentgroup": "True",
         "hovertemplate": "variable=PERSON_Ratios<br>Speaker=%{x}<br>Ratio=%{y}<extra></extra>",
         "legendgroup": "PERSON_Ratios",
         "marker": {
          "color": "#636efa",
          "pattern": {
           "shape": ""
          }
         },
         "name": "PERSON_Ratios",
         "offsetgroup": "PERSON_Ratios",
         "orientation": "v",
         "showlegend": true,
         "textposition": "auto",
         "type": "bar",
         "x": [
          "Barbara Charline Jordan",
          "Barbara Charline Jordan",
          "Anna Howard Shaw",
          "Hillary Rodham Clinton",
          "Ann Richards",
          "Margaret Chase Smith",
          "Barbara Pierce Bush",
          "MaryFisher",
          "Eleanor Roosevelt",
          "Geraldine Ferraro",
          "Emma Goldman",
          "Carrie Chapman Catt",
          "Anita Hill",
          "Carrie Chapman Catt",
          "Elizabeth Glaser",
          "Margaret Sanger",
          "Ursula K. Le Guin",
          "Elizabeth Gurley Flynn",
          "Shirley Anita St. Hill Chisholm",
          "Eleanor Roosevelt"
         ],
         "xaxis": "x",
         "y": [
          0.1696232224014074,
          0.46932359801237195,
          0.0637574461753798,
          0.07891326588609753,
          0.5942023472124474,
          0.271095100020502,
          1,
          0.33736696311415654,
          0.09763987735238684,
          0.9209730314897951,
          0.529624119599255,
          0.36996992195697137,
          0.9166416855809173,
          0.24782741738066094,
          0.3892814227349195,
          0.11332767402376909,
          0.4006232686980609,
          0.5360725749049837,
          0.22736056070481117,
          0.23139228692376917
         ],
         "yaxis": "y"
        },
        {
         "alignmentgroup": "True",
         "hovertemplate": "variable=INSTITUTION_Ratios<br>Speaker=%{x}<br>Ratio=%{y}<extra></extra>",
         "legendgroup": "INSTITUTION_Ratios",
         "marker": {
          "color": "#EF553B",
          "pattern": {
           "shape": ""
          }
         },
         "name": "INSTITUTION_Ratios",
         "offsetgroup": "INSTITUTION_Ratios",
         "orientation": "v",
         "showlegend": true,
         "textposition": "auto",
         "type": "bar",
         "x": [
          "Barbara Charline Jordan",
          "Barbara Charline Jordan",
          "Anna Howard Shaw",
          "Hillary Rodham Clinton",
          "Ann Richards",
          "Margaret Chase Smith",
          "Barbara Pierce Bush",
          "MaryFisher",
          "Eleanor Roosevelt",
          "Geraldine Ferraro",
          "Emma Goldman",
          "Carrie Chapman Catt",
          "Anita Hill",
          "Carrie Chapman Catt",
          "Elizabeth Glaser",
          "Margaret Sanger",
          "Ursula K. Le Guin",
          "Elizabeth Gurley Flynn",
          "Shirley Anita St. Hill Chisholm",
          "Eleanor Roosevelt"
         ],
         "xaxis": "x",
         "y": [
          0.2823655453181916,
          0.6214613902475175,
          0.06754024951072381,
          0.0995181923907626,
          0.14987072919852104,
          1,
          0.477893757064025,
          0.09572767952269338,
          0.4432841343584261,
          0.3623714458560194,
          0.28234524913710524,
          0.19246104190095076,
          0.5436252112411591,
          0.24110017889087657,
          0.33663505444327363,
          0.34300439015079215,
          0.18946103238866396,
          0.8171334916678116,
          0.5734526829735292,
          0.5836215715886394
         ],
         "yaxis": "y"
        },
        {
         "alignmentgroup": "True",
         "hovertemplate": "variable=NATION_Ratios<br>Speaker=%{x}<br>Ratio=%{y}<extra></extra>",
         "legendgroup": "NATION_Ratios",
         "marker": {
          "color": "#00cc96",
          "pattern": {
           "shape": ""
          }
         },
         "name": "NATION_Ratios",
         "offsetgroup": "NATION_Ratios",
         "orientation": "v",
         "showlegend": true,
         "textposition": "auto",
         "type": "bar",
         "x": [
          "Barbara Charline Jordan",
          "Barbara Charline Jordan",
          "Anna Howard Shaw",
          "Hillary Rodham Clinton",
          "Ann Richards",
          "Margaret Chase Smith",
          "Barbara Pierce Bush",
          "MaryFisher",
          "Eleanor Roosevelt",
          "Geraldine Ferraro",
          "Emma Goldman",
          "Carrie Chapman Catt",
          "Anita Hill",
          "Carrie Chapman Catt",
          "Elizabeth Glaser",
          "Margaret Sanger",
          "Ursula K. Le Guin",
          "Elizabeth Gurley Flynn",
          "Shirley Anita St. Hill Chisholm",
          "Eleanor Roosevelt"
         ],
         "xaxis": "x",
         "y": [
          0.3403788300835655,
          0.046165703275529865,
          0.15428122709663908,
          0.015524838012958965,
          0.2597759306107698,
          1,
          0.03106309420916163,
          0.27378116343490305,
          0.0672314270443613,
          0.36961887477313976,
          0.1278750741253212,
          0.1501196126827416,
          0.014621643612693247,
          0.1462674418604651,
          0.09846575342465753,
          0.08918114143920595,
          0.20689144736842105,
          0.3393161520796122,
          0,
          0.31865737808739714
         ],
         "yaxis": "y"
        },
        {
         "alignmentgroup": "True",
         "hovertemplate": "variable=EVENT_Ratios<br>Speaker=%{x}<br>Ratio=%{y}<extra></extra>",
         "legendgroup": "EVENT_Ratios",
         "marker": {
          "color": "#ab63fa",
          "pattern": {
           "shape": ""
          }
         },
         "name": "EVENT_Ratios",
         "offsetgroup": "EVENT_Ratios",
         "orientation": "v",
         "showlegend": true,
         "textposition": "auto",
         "type": "bar",
         "x": [
          "Barbara Charline Jordan",
          "Barbara Charline Jordan",
          "Anna Howard Shaw",
          "Hillary Rodham Clinton",
          "Ann Richards",
          "Margaret Chase Smith",
          "Barbara Pierce Bush",
          "MaryFisher",
          "Eleanor Roosevelt",
          "Geraldine Ferraro",
          "Emma Goldman",
          "Carrie Chapman Catt",
          "Anita Hill",
          "Carrie Chapman Catt",
          "Elizabeth Glaser",
          "Margaret Sanger",
          "Ursula K. Le Guin",
          "Elizabeth Gurley Flynn",
          "Shirley Anita St. Hill Chisholm",
          "Eleanor Roosevelt"
         ],
         "xaxis": "x",
         "y": [
          0,
          1,
          0.16301957910166476,
          0.2241900647948164,
          0.5627032887603903,
          0.5776293823038398,
          0,
          0,
          0.1386958845537146,
          0,
          0,
          0.39415226884374405,
          0,
          0.30174418604651165,
          0,
          0.3219602977667494,
          0,
          0.13243174279152845,
          0.32296204107031734,
          0.3286890436985434
         ],
         "yaxis": "y"
        },
        {
         "alignmentgroup": "True",
         "hovertemplate": "variable=LAW_Ratios<br>Speaker=%{x}<br>Ratio=%{y}<extra></extra>",
         "legendgroup": "LAW_Ratios",
         "marker": {
          "color": "#FFA15A",
          "pattern": {
           "shape": ""
          }
         },
         "name": "LAW_Ratios",
         "offsetgroup": "LAW_Ratios",
         "orientation": "v",
         "showlegend": true,
         "textposition": "auto",
         "type": "bar",
         "x": [
          "Barbara Charline Jordan",
          "Barbara Charline Jordan",
          "Anna Howard Shaw",
          "Hillary Rodham Clinton",
          "Ann Richards",
          "Margaret Chase Smith",
          "Barbara Pierce Bush",
          "MaryFisher",
          "Eleanor Roosevelt",
          "Geraldine Ferraro",
          "Emma Goldman",
          "Carrie Chapman Catt",
          "Anita Hill",
          "Carrie Chapman Catt",
          "Elizabeth Glaser",
          "Margaret Sanger",
          "Ursula K. Le Guin",
          "Elizabeth Gurley Flynn",
          "Shirley Anita St. Hill Chisholm",
          "Eleanor Roosevelt"
         ],
         "xaxis": "x",
         "y": [
          0,
          0.8113037893384714,
          0.04959690084807874,
          0,
          0,
          0.17573734001112964,
          0,
          0,
          0.08439337252805985,
          0.0955232909860859,
          0.031211701917374976,
          0.029979115245870512,
          0,
          0,
          0,
          0,
          0,
          0.1813090073998469,
          0.7860609831985065,
          1
         ],
         "yaxis": "y"
        }
       ],
       "layout": {
        "autosize": true,
        "barmode": "group",
        "legend": {
         "title": {
          "text": "variable"
         },
         "tracegroupgap": 0
        },
        "template": {
         "data": {
          "bar": [
           {
            "error_x": {
             "color": "#2a3f5f"
            },
            "error_y": {
             "color": "#2a3f5f"
            },
            "marker": {
             "line": {
              "color": "#E5ECF6",
              "width": 0.5
             },
             "pattern": {
              "fillmode": "overlay",
              "size": 10,
              "solidity": 0.2
             }
            },
            "type": "bar"
           }
          ],
          "barpolar": [
           {
            "marker": {
             "line": {
              "color": "#E5ECF6",
              "width": 0.5
             },
             "pattern": {
              "fillmode": "overlay",
              "size": 10,
              "solidity": 0.2
             }
            },
            "type": "barpolar"
           }
          ],
          "carpet": [
           {
            "aaxis": {
             "endlinecolor": "#2a3f5f",
             "gridcolor": "white",
             "linecolor": "white",
             "minorgridcolor": "white",
             "startlinecolor": "#2a3f5f"
            },
            "baxis": {
             "endlinecolor": "#2a3f5f",
             "gridcolor": "white",
             "linecolor": "white",
             "minorgridcolor": "white",
             "startlinecolor": "#2a3f5f"
            },
            "type": "carpet"
           }
          ],
          "choropleth": [
           {
            "colorbar": {
             "outlinewidth": 0,
             "ticks": ""
            },
            "type": "choropleth"
           }
          ],
          "contour": [
           {
            "colorbar": {
             "outlinewidth": 0,
             "ticks": ""
            },
            "colorscale": [
             [
              0,
              "#0d0887"
             ],
             [
              0.1111111111111111,
              "#46039f"
             ],
             [
              0.2222222222222222,
              "#7201a8"
             ],
             [
              0.3333333333333333,
              "#9c179e"
             ],
             [
              0.4444444444444444,
              "#bd3786"
             ],
             [
              0.5555555555555556,
              "#d8576b"
             ],
             [
              0.6666666666666666,
              "#ed7953"
             ],
             [
              0.7777777777777778,
              "#fb9f3a"
             ],
             [
              0.8888888888888888,
              "#fdca26"
             ],
             [
              1,
              "#f0f921"
             ]
            ],
            "type": "contour"
           }
          ],
          "contourcarpet": [
           {
            "colorbar": {
             "outlinewidth": 0,
             "ticks": ""
            },
            "type": "contourcarpet"
           }
          ],
          "heatmap": [
           {
            "colorbar": {
             "outlinewidth": 0,
             "ticks": ""
            },
            "colorscale": [
             [
              0,
              "#0d0887"
             ],
             [
              0.1111111111111111,
              "#46039f"
             ],
             [
              0.2222222222222222,
              "#7201a8"
             ],
             [
              0.3333333333333333,
              "#9c179e"
             ],
             [
              0.4444444444444444,
              "#bd3786"
             ],
             [
              0.5555555555555556,
              "#d8576b"
             ],
             [
              0.6666666666666666,
              "#ed7953"
             ],
             [
              0.7777777777777778,
              "#fb9f3a"
             ],
             [
              0.8888888888888888,
              "#fdca26"
             ],
             [
              1,
              "#f0f921"
             ]
            ],
            "type": "heatmap"
           }
          ],
          "heatmapgl": [
           {
            "colorbar": {
             "outlinewidth": 0,
             "ticks": ""
            },
            "colorscale": [
             [
              0,
              "#0d0887"
             ],
             [
              0.1111111111111111,
              "#46039f"
             ],
             [
              0.2222222222222222,
              "#7201a8"
             ],
             [
              0.3333333333333333,
              "#9c179e"
             ],
             [
              0.4444444444444444,
              "#bd3786"
             ],
             [
              0.5555555555555556,
              "#d8576b"
             ],
             [
              0.6666666666666666,
              "#ed7953"
             ],
             [
              0.7777777777777778,
              "#fb9f3a"
             ],
             [
              0.8888888888888888,
              "#fdca26"
             ],
             [
              1,
              "#f0f921"
             ]
            ],
            "type": "heatmapgl"
           }
          ],
          "histogram": [
           {
            "marker": {
             "pattern": {
              "fillmode": "overlay",
              "size": 10,
              "solidity": 0.2
             }
            },
            "type": "histogram"
           }
          ],
          "histogram2d": [
           {
            "colorbar": {
             "outlinewidth": 0,
             "ticks": ""
            },
            "colorscale": [
             [
              0,
              "#0d0887"
             ],
             [
              0.1111111111111111,
              "#46039f"
             ],
             [
              0.2222222222222222,
              "#7201a8"
             ],
             [
              0.3333333333333333,
              "#9c179e"
             ],
             [
              0.4444444444444444,
              "#bd3786"
             ],
             [
              0.5555555555555556,
              "#d8576b"
             ],
             [
              0.6666666666666666,
              "#ed7953"
             ],
             [
              0.7777777777777778,
              "#fb9f3a"
             ],
             [
              0.8888888888888888,
              "#fdca26"
             ],
             [
              1,
              "#f0f921"
             ]
            ],
            "type": "histogram2d"
           }
          ],
          "histogram2dcontour": [
           {
            "colorbar": {
             "outlinewidth": 0,
             "ticks": ""
            },
            "colorscale": [
             [
              0,
              "#0d0887"
             ],
             [
              0.1111111111111111,
              "#46039f"
             ],
             [
              0.2222222222222222,
              "#7201a8"
             ],
             [
              0.3333333333333333,
              "#9c179e"
             ],
             [
              0.4444444444444444,
              "#bd3786"
             ],
             [
              0.5555555555555556,
              "#d8576b"
             ],
             [
              0.6666666666666666,
              "#ed7953"
             ],
             [
              0.7777777777777778,
              "#fb9f3a"
             ],
             [
              0.8888888888888888,
              "#fdca26"
             ],
             [
              1,
              "#f0f921"
             ]
            ],
            "type": "histogram2dcontour"
           }
          ],
          "mesh3d": [
           {
            "colorbar": {
             "outlinewidth": 0,
             "ticks": ""
            },
            "type": "mesh3d"
           }
          ],
          "parcoords": [
           {
            "line": {
             "colorbar": {
              "outlinewidth": 0,
              "ticks": ""
             }
            },
            "type": "parcoords"
           }
          ],
          "pie": [
           {
            "automargin": true,
            "type": "pie"
           }
          ],
          "scatter": [
           {
            "fillpattern": {
             "fillmode": "overlay",
             "size": 10,
             "solidity": 0.2
            },
            "type": "scatter"
           }
          ],
          "scatter3d": [
           {
            "line": {
             "colorbar": {
              "outlinewidth": 0,
              "ticks": ""
             }
            },
            "marker": {
             "colorbar": {
              "outlinewidth": 0,
              "ticks": ""
             }
            },
            "type": "scatter3d"
           }
          ],
          "scattercarpet": [
           {
            "marker": {
             "colorbar": {
              "outlinewidth": 0,
              "ticks": ""
             }
            },
            "type": "scattercarpet"
           }
          ],
          "scattergeo": [
           {
            "marker": {
             "colorbar": {
              "outlinewidth": 0,
              "ticks": ""
             }
            },
            "type": "scattergeo"
           }
          ],
          "scattergl": [
           {
            "marker": {
             "colorbar": {
              "outlinewidth": 0,
              "ticks": ""
             }
            },
            "type": "scattergl"
           }
          ],
          "scattermapbox": [
           {
            "marker": {
             "colorbar": {
              "outlinewidth": 0,
              "ticks": ""
             }
            },
            "type": "scattermapbox"
           }
          ],
          "scatterpolar": [
           {
            "marker": {
             "colorbar": {
              "outlinewidth": 0,
              "ticks": ""
             }
            },
            "type": "scatterpolar"
           }
          ],
          "scatterpolargl": [
           {
            "marker": {
             "colorbar": {
              "outlinewidth": 0,
              "ticks": ""
             }
            },
            "type": "scatterpolargl"
           }
          ],
          "scatterternary": [
           {
            "marker": {
             "colorbar": {
              "outlinewidth": 0,
              "ticks": ""
             }
            },
            "type": "scatterternary"
           }
          ],
          "surface": [
           {
            "colorbar": {
             "outlinewidth": 0,
             "ticks": ""
            },
            "colorscale": [
             [
              0,
              "#0d0887"
             ],
             [
              0.1111111111111111,
              "#46039f"
             ],
             [
              0.2222222222222222,
              "#7201a8"
             ],
             [
              0.3333333333333333,
              "#9c179e"
             ],
             [
              0.4444444444444444,
              "#bd3786"
             ],
             [
              0.5555555555555556,
              "#d8576b"
             ],
             [
              0.6666666666666666,
              "#ed7953"
             ],
             [
              0.7777777777777778,
              "#fb9f3a"
             ],
             [
              0.8888888888888888,
              "#fdca26"
             ],
             [
              1,
              "#f0f921"
             ]
            ],
            "type": "surface"
           }
          ],
          "table": [
           {
            "cells": {
             "fill": {
              "color": "#EBF0F8"
             },
             "line": {
              "color": "white"
             }
            },
            "header": {
             "fill": {
              "color": "#C8D4E3"
             },
             "line": {
              "color": "white"
             }
            },
            "type": "table"
           }
          ]
         },
         "layout": {
          "annotationdefaults": {
           "arrowcolor": "#2a3f5f",
           "arrowhead": 0,
           "arrowwidth": 1
          },
          "autotypenumbers": "strict",
          "coloraxis": {
           "colorbar": {
            "outlinewidth": 0,
            "ticks": ""
           }
          },
          "colorscale": {
           "diverging": [
            [
             0,
             "#8e0152"
            ],
            [
             0.1,
             "#c51b7d"
            ],
            [
             0.2,
             "#de77ae"
            ],
            [
             0.3,
             "#f1b6da"
            ],
            [
             0.4,
             "#fde0ef"
            ],
            [
             0.5,
             "#f7f7f7"
            ],
            [
             0.6,
             "#e6f5d0"
            ],
            [
             0.7,
             "#b8e186"
            ],
            [
             0.8,
             "#7fbc41"
            ],
            [
             0.9,
             "#4d9221"
            ],
            [
             1,
             "#276419"
            ]
           ],
           "sequential": [
            [
             0,
             "#0d0887"
            ],
            [
             0.1111111111111111,
             "#46039f"
            ],
            [
             0.2222222222222222,
             "#7201a8"
            ],
            [
             0.3333333333333333,
             "#9c179e"
            ],
            [
             0.4444444444444444,
             "#bd3786"
            ],
            [
             0.5555555555555556,
             "#d8576b"
            ],
            [
             0.6666666666666666,
             "#ed7953"
            ],
            [
             0.7777777777777778,
             "#fb9f3a"
            ],
            [
             0.8888888888888888,
             "#fdca26"
            ],
            [
             1,
             "#f0f921"
            ]
           ],
           "sequentialminus": [
            [
             0,
             "#0d0887"
            ],
            [
             0.1111111111111111,
             "#46039f"
            ],
            [
             0.2222222222222222,
             "#7201a8"
            ],
            [
             0.3333333333333333,
             "#9c179e"
            ],
            [
             0.4444444444444444,
             "#bd3786"
            ],
            [
             0.5555555555555556,
             "#d8576b"
            ],
            [
             0.6666666666666666,
             "#ed7953"
            ],
            [
             0.7777777777777778,
             "#fb9f3a"
            ],
            [
             0.8888888888888888,
             "#fdca26"
            ],
            [
             1,
             "#f0f921"
            ]
           ]
          },
          "colorway": [
           "#636efa",
           "#EF553B",
           "#00cc96",
           "#ab63fa",
           "#FFA15A",
           "#19d3f3",
           "#FF6692",
           "#B6E880",
           "#FF97FF",
           "#FECB52"
          ],
          "font": {
           "color": "#2a3f5f"
          },
          "geo": {
           "bgcolor": "white",
           "lakecolor": "white",
           "landcolor": "#E5ECF6",
           "showlakes": true,
           "showland": true,
           "subunitcolor": "white"
          },
          "hoverlabel": {
           "align": "left"
          },
          "hovermode": "closest",
          "mapbox": {
           "style": "light"
          },
          "paper_bgcolor": "white",
          "plot_bgcolor": "#E5ECF6",
          "polar": {
           "angularaxis": {
            "gridcolor": "white",
            "linecolor": "white",
            "ticks": ""
           },
           "bgcolor": "#E5ECF6",
           "radialaxis": {
            "gridcolor": "white",
            "linecolor": "white",
            "ticks": ""
           }
          },
          "scene": {
           "xaxis": {
            "backgroundcolor": "#E5ECF6",
            "gridcolor": "white",
            "gridwidth": 2,
            "linecolor": "white",
            "showbackground": true,
            "ticks": "",
            "zerolinecolor": "white"
           },
           "yaxis": {
            "backgroundcolor": "#E5ECF6",
            "gridcolor": "white",
            "gridwidth": 2,
            "linecolor": "white",
            "showbackground": true,
            "ticks": "",
            "zerolinecolor": "white"
           },
           "zaxis": {
            "backgroundcolor": "#E5ECF6",
            "gridcolor": "white",
            "gridwidth": 2,
            "linecolor": "white",
            "showbackground": true,
            "ticks": "",
            "zerolinecolor": "white"
           }
          },
          "shapedefaults": {
           "line": {
            "color": "#2a3f5f"
           }
          },
          "ternary": {
           "aaxis": {
            "gridcolor": "white",
            "linecolor": "white",
            "ticks": ""
           },
           "baxis": {
            "gridcolor": "white",
            "linecolor": "white",
            "ticks": ""
           },
           "bgcolor": "#E5ECF6",
           "caxis": {
            "gridcolor": "white",
            "linecolor": "white",
            "ticks": ""
           }
          },
          "title": {
           "x": 0.05
          },
          "xaxis": {
           "automargin": true,
           "gridcolor": "white",
           "linecolor": "white",
           "ticks": "",
           "title": {
            "standoff": 15
           },
           "zerolinecolor": "white",
           "zerolinewidth": 2
          },
          "yaxis": {
           "automargin": true,
           "gridcolor": "white",
           "linecolor": "white",
           "ticks": "",
           "title": {
            "standoff": 15
           },
           "zerolinecolor": "white",
           "zerolinewidth": 2
          }
         }
        },
        "title": {
         "text": "Normalized Ratios of Entities by Speaker"
        },
        "xaxis": {
         "anchor": "y",
         "autorange": true,
         "domain": [
          0,
          1
         ],
         "range": [
          -0.5,
          16.5
         ],
         "title": {
          "text": "Speaker"
         },
         "type": "category"
        },
        "yaxis": {
         "anchor": "x",
         "autorange": true,
         "domain": [
          0,
          1
         ],
         "range": [
          0,
          1.1414667079242735
         ],
         "title": {
          "text": "Ratio"
         },
         "type": "linear"
        }
       }
      },
      "image/png": "[encoded data removed]",
      "text/html": [
       "<div>                            <div id=\"6604480a-2186-4f8d-8798-d48b48ec1a4a\" class=\"plotly-graph-div\" style=\"height:525px; width:100%;\"></div>            <script type=\"text/javascript\">                require([\"plotly\"], function(Plotly) {                    window.PLOTLYENV=window.PLOTLYENV || {};                                    if (document.getElementById(\"6604480a-2186-4f8d-8798-d48b48ec1a4a\")) {                    Plotly.newPlot(                        \"6604480a-2186-4f8d-8798-d48b48ec1a4a\",                        [{\"alignmentgroup\":\"True\",\"hovertemplate\":\"variable=PERSON_Ratios<br>Speaker=%{x}<br>Ratio=%{y}<extra></extra>\",\"legendgroup\":\"PERSON_Ratios\",\"marker\":{\"color\":\"#636efa\",\"pattern\":{\"shape\":\"\"}},\"name\":\"PERSON_Ratios\",\"offsetgroup\":\"PERSON_Ratios\",\"orientation\":\"v\",\"showlegend\":true,\"textposition\":\"auto\",\"x\":[\"Barbara Charline Jordan\",\"Barbara Charline Jordan\",\"Anna Howard Shaw\",\"Hillary Rodham Clinton\",\"Ann Richards\",\"Margaret Chase Smith\",\"Barbara Pierce Bush\",\"MaryFisher\",\"Eleanor Roosevelt\",\"Geraldine Ferraro\",\"Emma Goldman\",\"Carrie Chapman Catt\",\"Anita Hill\",\"Carrie Chapman Catt\",\"Elizabeth Glaser\",\"Margaret Sanger\",\"Ursula K. Le Guin\",\"Elizabeth Gurley Flynn\",\"Shirley Anita St. Hill Chisholm\",\"Eleanor Roosevelt\"],\"xaxis\":\"x\",\"y\":[0.1696232224014074,0.46932359801237195,0.0637574461753798,0.07891326588609753,0.5942023472124474,0.271095100020502,1.0,0.33736696311415654,0.09763987735238684,0.9209730314897951,0.529624119599255,0.36996992195697137,0.9166416855809173,0.24782741738066094,0.3892814227349195,0.11332767402376909,0.4006232686980609,0.5360725749049837,0.22736056070481117,0.23139228692376917],\"yaxis\":\"y\",\"type\":\"bar\"},{\"alignmentgroup\":\"True\",\"hovertemplate\":\"variable=INSTITUTION_Ratios<br>Speaker=%{x}<br>Ratio=%{y}<extra></extra>\",\"legendgroup\":\"INSTITUTION_Ratios\",\"marker\":{\"color\":\"#EF553B\",\"pattern\":{\"shape\":\"\"}},\"name\":\"INSTITUTION_Ratios\",\"offsetgroup\":\"INSTITUTION_Ratios\",\"orientation\":\"v\",\"showlegend\":true,\"textposition\":\"auto\",\"x\":[\"Barbara Charline Jordan\",\"Barbara Charline Jordan\",\"Anna Howard Shaw\",\"Hillary Rodham Clinton\",\"Ann Richards\",\"Margaret Chase Smith\",\"Barbara Pierce Bush\",\"MaryFisher\",\"Eleanor Roosevelt\",\"Geraldine Ferraro\",\"Emma Goldman\",\"Carrie Chapman Catt\",\"Anita Hill\",\"Carrie Chapman Catt\",\"Elizabeth Glaser\",\"Margaret Sanger\",\"Ursula K. Le Guin\",\"Elizabeth Gurley Flynn\",\"Shirley Anita St. Hill Chisholm\",\"Eleanor Roosevelt\"],\"xaxis\":\"x\",\"y\":[0.2823655453181916,0.6214613902475175,0.06754024951072381,0.0995181923907626,0.14987072919852104,1.0,0.477893757064025,0.09572767952269338,0.4432841343584261,0.3623714458560194,0.28234524913710524,0.19246104190095076,0.5436252112411591,0.24110017889087657,0.33663505444327363,0.34300439015079215,0.18946103238866396,0.8171334916678116,0.5734526829735292,0.5836215715886394],\"yaxis\":\"y\",\"type\":\"bar\"},{\"alignmentgroup\":\"True\",\"hovertemplate\":\"variable=NATION_Ratios<br>Speaker=%{x}<br>Ratio=%{y}<extra></extra>\",\"legendgroup\":\"NATION_Ratios\",\"marker\":{\"color\":\"#00cc96\",\"pattern\":{\"shape\":\"\"}},\"name\":\"NATION_Ratios\",\"offsetgroup\":\"NATION_Ratios\",\"orientation\":\"v\",\"showlegend\":true,\"textposition\":\"auto\",\"x\":[\"Barbara Charline Jordan\",\"Barbara Charline Jordan\",\"Anna Howard Shaw\",\"Hillary Rodham Clinton\",\"Ann Richards\",\"Margaret Chase Smith\",\"Barbara Pierce Bush\",\"MaryFisher\",\"Eleanor Roosevelt\",\"Geraldine Ferraro\",\"Emma Goldman\",\"Carrie Chapman Catt\",\"Anita Hill\",\"Carrie Chapman Catt\",\"Elizabeth Glaser\",\"Margaret Sanger\",\"Ursula K. Le Guin\",\"Elizabeth Gurley Flynn\",\"Shirley Anita St. Hill Chisholm\",\"Eleanor Roosevelt\"],\"xaxis\":\"x\",\"y\":[0.3403788300835655,0.046165703275529865,0.15428122709663908,0.015524838012958965,0.2597759306107698,1.0,0.03106309420916163,0.27378116343490305,0.0672314270443613,0.36961887477313976,0.1278750741253212,0.1501196126827416,0.014621643612693247,0.1462674418604651,0.09846575342465753,0.08918114143920595,0.20689144736842105,0.3393161520796122,0.0,0.31865737808739714],\"yaxis\":\"y\",\"type\":\"bar\"},{\"alignmentgroup\":\"True\",\"hovertemplate\":\"variable=EVENT_Ratios<br>Speaker=%{x}<br>Ratio=%{y}<extra></extra>\",\"legendgroup\":\"EVENT_Ratios\",\"marker\":{\"color\":\"#ab63fa\",\"pattern\":{\"shape\":\"\"}},\"name\":\"EVENT_Ratios\",\"offsetgroup\":\"EVENT_Ratios\",\"orientation\":\"v\",\"showlegend\":true,\"textposition\":\"auto\",\"x\":[\"Barbara Charline Jordan\",\"Barbara Charline Jordan\",\"Anna Howard Shaw\",\"Hillary Rodham Clinton\",\"Ann Richards\",\"Margaret Chase Smith\",\"Barbara Pierce Bush\",\"MaryFisher\",\"Eleanor Roosevelt\",\"Geraldine Ferraro\",\"Emma Goldman\",\"Carrie Chapman Catt\",\"Anita Hill\",\"Carrie Chapman Catt\",\"Elizabeth Glaser\",\"Margaret Sanger\",\"Ursula K. Le Guin\",\"Elizabeth Gurley Flynn\",\"Shirley Anita St. Hill Chisholm\",\"Eleanor Roosevelt\"],\"xaxis\":\"x\",\"y\":[0.0,1.0,0.16301957910166476,0.2241900647948164,0.5627032887603903,0.5776293823038398,0.0,0.0,0.1386958845537146,0.0,0.0,0.39415226884374405,0.0,0.30174418604651165,0.0,0.3219602977667494,0.0,0.13243174279152845,0.32296204107031734,0.3286890436985434],\"yaxis\":\"y\",\"type\":\"bar\"},{\"alignmentgroup\":\"True\",\"hovertemplate\":\"variable=LAW_Ratios<br>Speaker=%{x}<br>Ratio=%{y}<extra></extra>\",\"legendgroup\":\"LAW_Ratios\",\"marker\":{\"color\":\"#FFA15A\",\"pattern\":{\"shape\":\"\"}},\"name\":\"LAW_Ratios\",\"offsetgroup\":\"LAW_Ratios\",\"orientation\":\"v\",\"showlegend\":true,\"textposition\":\"auto\",\"x\":[\"Barbara Charline Jordan\",\"Barbara Charline Jordan\",\"Anna Howard Shaw\",\"Hillary Rodham Clinton\",\"Ann Richards\",\"Margaret Chase Smith\",\"Barbara Pierce Bush\",\"MaryFisher\",\"Eleanor Roosevelt\",\"Geraldine Ferraro\",\"Emma Goldman\",\"Carrie Chapman Catt\",\"Anita Hill\",\"Carrie Chapman Catt\",\"Elizabeth Glaser\",\"Margaret Sanger\",\"Ursula K. Le Guin\",\"Elizabeth Gurley Flynn\",\"Shirley Anita St. Hill Chisholm\",\"Eleanor Roosevelt\"],\"xaxis\":\"x\",\"y\":[0.0,0.8113037893384714,0.04959690084807874,0.0,0.0,0.17573734001112964,0.0,0.0,0.08439337252805985,0.0955232909860859,0.031211701917374976,0.029979115245870512,0.0,0.0,0.0,0.0,0.0,0.1813090073998469,0.7860609831985065,1.0],\"yaxis\":\"y\",\"type\":\"bar\"}],                        {\"template\":{\"data\":{\"histogram2dcontour\":[{\"type\":\"histogram2dcontour\",\"colorbar\":{\"outlinewidth\":0,\"ticks\":\"\"},\"colorscale\":[[0.0,\"#0d0887\"],[0.1111111111111111,\"#46039f\"],[0.2222222222222222,\"#7201a8\"],[0.3333333333333333,\"#9c179e\"],[0.4444444444444444,\"#bd3786\"],[0.5555555555555556,\"#d8576b\"],[0.6666666666666666,\"#ed7953\"],[0.7777777777777778,\"#fb9f3a\"],[0.8888888888888888,\"#fdca26\"],[1.0,\"#f0f921\"]]}],\"choropleth\":[{\"type\":\"choropleth\",\"colorbar\":{\"outlinewidth\":0,\"ticks\":\"\"}}],\"histogram2d\":[{\"type\":\"histogram2d\",\"colorbar\":{\"outlinewidth\":0,\"ticks\":\"\"},\"colorscale\":[[0.0,\"#0d0887\"],[0.1111111111111111,\"#46039f\"],[0.2222222222222222,\"#7201a8\"],[0.3333333333333333,\"#9c179e\"],[0.4444444444444444,\"#bd3786\"],[0.5555555555555556,\"#d8576b\"],[0.6666666666666666,\"#ed7953\"],[0.7777777777777778,\"#fb9f3a\"],[0.8888888888888888,\"#fdca26\"],[1.0,\"#f0f921\"]]}],\"heatmap\":[{\"type\":\"heatmap\",\"colorbar\":{\"outlinewidth\":0,\"ticks\":\"\"},\"colorscale\":[[0.0,\"#0d0887\"],[0.1111111111111111,\"#46039f\"],[0.2222222222222222,\"#7201a8\"],[0.3333333333333333,\"#9c179e\"],[0.4444444444444444,\"#bd3786\"],[0.5555555555555556,\"#d8576b\"],[0.6666666666666666,\"#ed7953\"],[0.7777777777777778,\"#fb9f3a\"],[0.8888888888888888,\"#fdca26\"],[1.0,\"#f0f921\"]]}],\"heatmapgl\":[{\"type\":\"heatmapgl\",\"colorbar\":{\"outlinewidth\":0,\"ticks\":\"\"},\"colorscale\":[[0.0,\"#0d0887\"],[0.1111111111111111,\"#46039f\"],[0.2222222222222222,\"#7201a8\"],[0.3333333333333333,\"#9c179e\"],[0.4444444444444444,\"#bd3786\"],[0.5555555555555556,\"#d8576b\"],[0.6666666666666666,\"#ed7953\"],[0.7777777777777778,\"#fb9f3a\"],[0.8888888888888888,\"#fdca26\"],[1.0,\"#f0f921\"]]}],\"contourcarpet\":[{\"type\":\"contourcarpet\",\"colorbar\":{\"outlinewidth\":0,\"ticks\":\"\"}}],\"contour\":[{\"type\":\"contour\",\"colorbar\":{\"outlinewidth\":0,\"ticks\":\"\"},\"colorscale\":[[0.0,\"#0d0887\"],[0.1111111111111111,\"#46039f\"],[0.2222222222222222,\"#7201a8\"],[0.3333333333333333,\"#9c179e\"],[0.4444444444444444,\"#bd3786\"],[0.5555555555555556,\"#d8576b\"],[0.6666666666666666,\"#ed7953\"],[0.7777777777777778,\"#fb9f3a\"],[0.8888888888888888,\"#fdca26\"],[1.0,\"#f0f921\"]]}],\"surface\":[{\"type\":\"surface\",\"colorbar\":{\"outlinewidth\":0,\"ticks\":\"\"},\"colorscale\":[[0.0,\"#0d0887\"],[0.1111111111111111,\"#46039f\"],[0.2222222222222222,\"#7201a8\"],[0.3333333333333333,\"#9c179e\"],[0.4444444444444444,\"#bd3786\"],[0.5555555555555556,\"#d8576b\"],[0.6666666666666666,\"#ed7953\"],[0.7777777777777778,\"#fb9f3a\"],[0.8888888888888888,\"#fdca26\"],[1.0,\"#f0f921\"]]}],\"mesh3d\":[{\"type\":\"mesh3d\",\"colorbar\":{\"outlinewidth\":0,\"ticks\":\"\"}}],\"scatter\":[{\"fillpattern\":{\"fillmode\":\"overlay\",\"size\":10,\"solidity\":0.2},\"type\":\"scatter\"}],\"parcoords\":[{\"type\":\"parcoords\",\"line\":{\"colorbar\":{\"outlinewidth\":0,\"ticks\":\"\"}}}],\"scatterpolargl\":[{\"type\":\"scatterpolargl\",\"marker\":{\"colorbar\":{\"outlinewidth\":0,\"ticks\":\"\"}}}],\"bar\":[{\"error_x\":{\"color\":\"#2a3f5f\"},\"error_y\":{\"color\":\"#2a3f5f\"},\"marker\":{\"line\":{\"color\":\"#E5ECF6\",\"width\":0.5},\"pattern\":{\"fillmode\":\"overlay\",\"size\":10,\"solidity\":0.2}},\"type\":\"bar\"}],\"scattergeo\":[{\"type\":\"scattergeo\",\"marker\":{\"colorbar\":{\"outlinewidth\":0,\"ticks\":\"\"}}}],\"scatterpolar\":[{\"type\":\"scatterpolar\",\"marker\":{\"colorbar\":{\"outlinewidth\":0,\"ticks\":\"\"}}}],\"histogram\":[{\"marker\":{\"pattern\":{\"fillmode\":\"overlay\",\"size\":10,\"solidity\":0.2}},\"type\":\"histogram\"}],\"scattergl\":[{\"type\":\"scattergl\",\"marker\":{\"colorbar\":{\"outlinewidth\":0,\"ticks\":\"\"}}}],\"scatter3d\":[{\"type\":\"scatter3d\",\"line\":{\"colorbar\":{\"outlinewidth\":0,\"ticks\":\"\"}},\"marker\":{\"colorbar\":{\"outlinewidth\":0,\"ticks\":\"\"}}}],\"scattermapbox\":[{\"type\":\"scattermapbox\",\"marker\":{\"colorbar\":{\"outlinewidth\":0,\"ticks\":\"\"}}}],\"scatterternary\":[{\"type\":\"scatterternary\",\"marker\":{\"colorbar\":{\"outlinewidth\":0,\"ticks\":\"\"}}}],\"scattercarpet\":[{\"type\":\"scattercarpet\",\"marker\":{\"colorbar\":{\"outlinewidth\":0,\"ticks\":\"\"}}}],\"carpet\":[{\"aaxis\":{\"endlinecolor\":\"#2a3f5f\",\"gridcolor\":\"white\",\"linecolor\":\"white\",\"minorgridcolor\":\"white\",\"startlinecolor\":\"#2a3f5f\"},\"baxis\":{\"endlinecolor\":\"#2a3f5f\",\"gridcolor\":\"white\",\"linecolor\":\"white\",\"minorgridcolor\":\"white\",\"startlinecolor\":\"#2a3f5f\"},\"type\":\"carpet\"}],\"table\":[{\"cells\":{\"fill\":{\"color\":\"#EBF0F8\"},\"line\":{\"color\":\"white\"}},\"header\":{\"fill\":{\"color\":\"#C8D4E3\"},\"line\":{\"color\":\"white\"}},\"type\":\"table\"}],\"barpolar\":[{\"marker\":{\"line\":{\"color\":\"#E5ECF6\",\"width\":0.5},\"pattern\":{\"fillmode\":\"overlay\",\"size\":10,\"solidity\":0.2}},\"type\":\"barpolar\"}],\"pie\":[{\"automargin\":true,\"type\":\"pie\"}]},\"layout\":{\"autotypenumbers\":\"strict\",\"colorway\":[\"#636efa\",\"#EF553B\",\"#00cc96\",\"#ab63fa\",\"#FFA15A\",\"#19d3f3\",\"#FF6692\",\"#B6E880\",\"#FF97FF\",\"#FECB52\"],\"font\":{\"color\":\"#2a3f5f\"},\"hovermode\":\"closest\",\"hoverlabel\":{\"align\":\"left\"},\"paper_bgcolor\":\"white\",\"plot_bgcolor\":\"#E5ECF6\",\"polar\":{\"bgcolor\":\"#E5ECF6\",\"angularaxis\":{\"gridcolor\":\"white\",\"linecolor\":\"white\",\"ticks\":\"\"},\"radialaxis\":{\"gridcolor\":\"white\",\"linecolor\":\"white\",\"ticks\":\"\"}},\"ternary\":{\"bgcolor\":\"#E5ECF6\",\"aaxis\":{\"gridcolor\":\"white\",\"linecolor\":\"white\",\"ticks\":\"\"},\"baxis\":{\"gridcolor\":\"white\",\"linecolor\":\"white\",\"ticks\":\"\"},\"caxis\":{\"gridcolor\":\"white\",\"linecolor\":\"white\",\"ticks\":\"\"}},\"coloraxis\":{\"colorbar\":{\"outlinewidth\":0,\"ticks\":\"\"}},\"colorscale\":{\"sequential\":[[0.0,\"#0d0887\"],[0.1111111111111111,\"#46039f\"],[0.2222222222222222,\"#7201a8\"],[0.3333333333333333,\"#9c179e\"],[0.4444444444444444,\"#bd3786\"],[0.5555555555555556,\"#d8576b\"],[0.6666666666666666,\"#ed7953\"],[0.7777777777777778,\"#fb9f3a\"],[0.8888888888888888,\"#fdca26\"],[1.0,\"#f0f921\"]],\"sequentialminus\":[[0.0,\"#0d0887\"],[0.1111111111111111,\"#46039f\"],[0.2222222222222222,\"#7201a8\"],[0.3333333333333333,\"#9c179e\"],[0.4444444444444444,\"#bd3786\"],[0.5555555555555556,\"#d8576b\"],[0.6666666666666666,\"#ed7953\"],[0.7777777777777778,\"#fb9f3a\"],[0.8888888888888888,\"#fdca26\"],[1.0,\"#f0f921\"]],\"diverging\":[[0,\"#8e0152\"],[0.1,\"#c51b7d\"],[0.2,\"#de77ae\"],[0.3,\"#f1b6da\"],[0.4,\"#fde0ef\"],[0.5,\"#f7f7f7\"],[0.6,\"#e6f5d0\"],[0.7,\"#b8e186\"],[0.8,\"#7fbc41\"],[0.9,\"#4d9221\"],[1,\"#276419\"]]},\"xaxis\":{\"gridcolor\":\"white\",\"linecolor\":\"white\",\"ticks\":\"\",\"title\":{\"standoff\":15},\"zerolinecolor\":\"white\",\"automargin\":true,\"zerolinewidth\":2},\"yaxis\":{\"gridcolor\":\"white\",\"linecolor\":\"white\",\"ticks\":\"\",\"title\":{\"standoff\":15},\"zerolinecolor\":\"white\",\"automargin\":true,\"zerolinewidth\":2},\"scene\":{\"xaxis\":{\"backgroundcolor\":\"#E5ECF6\",\"gridcolor\":\"white\",\"linecolor\":\"white\",\"showbackground\":true,\"ticks\":\"\",\"zerolinecolor\":\"white\",\"gridwidth\":2},\"yaxis\":{\"backgroundcolor\":\"#E5ECF6\",\"gridcolor\":\"white\",\"linecolor\":\"white\",\"showbackground\":true,\"ticks\":\"\",\"zerolinecolor\":\"white\",\"gridwidth\":2},\"zaxis\":{\"backgroundcolor\":\"#E5ECF6\",\"gridcolor\":\"white\",\"linecolor\":\"white\",\"showbackground\":true,\"ticks\":\"\",\"zerolinecolor\":\"white\",\"gridwidth\":2}},\"shapedefaults\":{\"line\":{\"color\":\"#2a3f5f\"}},\"annotationdefaults\":{\"arrowcolor\":\"#2a3f5f\",\"arrowhead\":0,\"arrowwidth\":1},\"geo\":{\"bgcolor\":\"white\",\"landcolor\":\"#E5ECF6\",\"subunitcolor\":\"white\",\"showland\":true,\"showlakes\":true,\"lakecolor\":\"white\"},\"title\":{\"x\":0.05},\"mapbox\":{\"style\":\"light\"}}},\"xaxis\":{\"anchor\":\"y\",\"domain\":[0.0,1.0],\"title\":{\"text\":\"Speaker\"}},\"yaxis\":{\"anchor\":\"x\",\"domain\":[0.0,1.0],\"title\":{\"text\":\"Ratio\"}},\"legend\":{\"title\":{\"text\":\"variable\"},\"tracegroupgap\":0},\"title\":{\"text\":\"Normalized Ratios of Entities by Speaker\"},\"barmode\":\"group\"},                        {\"responsive\": true}                    ).then(function(){\n",
       "                            \n",
       "var gd = document.getElementById('6604480a-2186-4f8d-8798-d48b48ec1a4a');\n",
       "var x = new MutationObserver(function (mutations, observer) {{\n",
       "        var display = window.getComputedStyle(gd).display;\n",
       "        if (!display || display === 'none') {{\n",
       "            console.log([gd, 'removed!']);\n",
       "            Plotly.purge(gd);\n",
       "            observer.disconnect();\n",
       "        }}\n",
       "}});\n",
       "\n",
       "// Listen for the removal of the full notebook cells\n",
       "var notebookContainer = gd.closest('#notebook-container');\n",
       "if (notebookContainer) {{\n",
       "    x.observe(notebookContainer, {childList: true});\n",
       "}}\n",
       "\n",
       "// Listen for the clearing of the current output cell\n",
       "var outputEl = gd.closest('.output');\n",
       "if (outputEl) {{\n",
       "    x.observe(outputEl, {childList: true});\n",
       "}}\n",
       "\n",
       "                        })                };                });            </script>        </div>"
      ]
     },
     "metadata": {},
     "output_type": "display_data"
    }
   ],
   "source": [
    "fig = px.bar(ner_counts_df, x='Speaker', y=['PERSON_Ratios', 'INSTITUTION_Ratios', 'NATION_Ratios', 'EVENT_Ratios', 'LAW_Ratios'],\n",
    "                labels={'Speaker': 'Speaker', 'value': 'Ratio'}, title='Normalized Ratios of Entities by Speaker', barmode='group')\n",
    "fig.show()"
   ]
  },
  {
   "cell_type": "markdown",
   "id": "f8549203-f696-41ca-972f-f4ddeb99eae2",
   "metadata": {},
   "source": [
    "The PERSON and  INSTITUTION entity types were mentioned in most speeches but varied across different speakers. Other entity types also highly mentioned. Speeches by Barbara Charline Jordan have a high emphasis on EVENT entities, highlighting her engagement with significant events. Speeches by Margaret Chase Smith have a high emphasis on NATION entities, suggesting that she might have been discussing topics related to nationalities and political groups. LAW entity mentioned frequently in speeched by Eleanor Roosevelt, Shirley Anita St. Hill Chisholm, and Barbara Charline Jordan, indicating their focus on legal issues. "
   ]
  },
  {
   "cell_type": "code",
   "execution_count": 139,
   "id": "da8aadec-2796-4004-989e-95b47fd06f47",
   "metadata": {},
   "outputs": [
    {
     "data": {
      "application/vnd.plotly.v1+json": {
       "config": {
        "plotlyServerURL": "https://plot.ly"
       },
       "data": [
        {
         "alignmentgroup": "True",
         "hovertemplate": "variable=PERSON_Ratios<br>Year=%{x}<br>Ratio=%{y}<extra></extra>",
         "legendgroup": "PERSON_Ratios",
         "marker": {
          "color": "#636efa",
          "pattern": {
           "shape": ""
          }
         },
         "name": "PERSON_Ratios",
         "offsetgroup": "PERSON_Ratios",
         "orientation": "v",
         "showlegend": true,
         "textposition": "auto",
         "type": "bar",
         "x": [
          1976,
          1974,
          1915,
          1995,
          1988,
          1950,
          1990,
          1992,
          1948,
          1984,
          1917,
          1916,
          1991,
          1917,
          1992,
          1925,
          1983,
          1952,
          1970,
          1948
         ],
         "xaxis": "x",
         "y": [
          0.1696232224014074,
          0.46932359801237195,
          0.0637574461753798,
          0.07891326588609753,
          0.5942023472124474,
          0.271095100020502,
          1,
          0.33736696311415654,
          0.09763987735238684,
          0.9209730314897951,
          0.529624119599255,
          0.36996992195697137,
          0.9166416855809173,
          0.24782741738066094,
          0.3892814227349195,
          0.11332767402376909,
          0.4006232686980609,
          0.5360725749049837,
          0.22736056070481117,
          0.23139228692376917
         ],
         "yaxis": "y"
        },
        {
         "alignmentgroup": "True",
         "hovertemplate": "variable=INSTITUTION_Ratios<br>Year=%{x}<br>Ratio=%{y}<extra></extra>",
         "legendgroup": "INSTITUTION_Ratios",
         "marker": {
          "color": "#EF553B",
          "pattern": {
           "shape": ""
          }
         },
         "name": "INSTITUTION_Ratios",
         "offsetgroup": "INSTITUTION_Ratios",
         "orientation": "v",
         "showlegend": true,
         "textposition": "auto",
         "type": "bar",
         "x": [
          1976,
          1974,
          1915,
          1995,
          1988,
          1950,
          1990,
          1992,
          1948,
          1984,
          1917,
          1916,
          1991,
          1917,
          1992,
          1925,
          1983,
          1952,
          1970,
          1948
         ],
         "xaxis": "x",
         "y": [
          0.2823655453181916,
          0.6214613902475175,
          0.06754024951072381,
          0.0995181923907626,
          0.14987072919852104,
          1,
          0.477893757064025,
          0.09572767952269338,
          0.4432841343584261,
          0.3623714458560194,
          0.28234524913710524,
          0.19246104190095076,
          0.5436252112411591,
          0.24110017889087657,
          0.33663505444327363,
          0.34300439015079215,
          0.18946103238866396,
          0.8171334916678116,
          0.5734526829735292,
          0.5836215715886394
         ],
         "yaxis": "y"
        },
        {
         "alignmentgroup": "True",
         "hovertemplate": "variable=NATION_Ratios<br>Year=%{x}<br>Ratio=%{y}<extra></extra>",
         "legendgroup": "NATION_Ratios",
         "marker": {
          "color": "#00cc96",
          "pattern": {
           "shape": ""
          }
         },
         "name": "NATION_Ratios",
         "offsetgroup": "NATION_Ratios",
         "orientation": "v",
         "showlegend": true,
         "textposition": "auto",
         "type": "bar",
         "x": [
          1976,
          1974,
          1915,
          1995,
          1988,
          1950,
          1990,
          1992,
          1948,
          1984,
          1917,
          1916,
          1991,
          1917,
          1992,
          1925,
          1983,
          1952,
          1970,
          1948
         ],
         "xaxis": "x",
         "y": [
          0.3403788300835655,
          0.046165703275529865,
          0.15428122709663908,
          0.015524838012958965,
          0.2597759306107698,
          1,
          0.03106309420916163,
          0.27378116343490305,
          0.0672314270443613,
          0.36961887477313976,
          0.1278750741253212,
          0.1501196126827416,
          0.014621643612693247,
          0.1462674418604651,
          0.09846575342465753,
          0.08918114143920595,
          0.20689144736842105,
          0.3393161520796122,
          0,
          0.31865737808739714
         ],
         "yaxis": "y"
        },
        {
         "alignmentgroup": "True",
         "hovertemplate": "variable=EVENT_Ratios<br>Year=%{x}<br>Ratio=%{y}<extra></extra>",
         "legendgroup": "EVENT_Ratios",
         "marker": {
          "color": "#ab63fa",
          "pattern": {
           "shape": ""
          }
         },
         "name": "EVENT_Ratios",
         "offsetgroup": "EVENT_Ratios",
         "orientation": "v",
         "showlegend": true,
         "textposition": "auto",
         "type": "bar",
         "x": [
          1976,
          1974,
          1915,
          1995,
          1988,
          1950,
          1990,
          1992,
          1948,
          1984,
          1917,
          1916,
          1991,
          1917,
          1992,
          1925,
          1983,
          1952,
          1970,
          1948
         ],
         "xaxis": "x",
         "y": [
          0,
          1,
          0.16301957910166476,
          0.2241900647948164,
          0.5627032887603903,
          0.5776293823038398,
          0,
          0,
          0.1386958845537146,
          0,
          0,
          0.39415226884374405,
          0,
          0.30174418604651165,
          0,
          0.3219602977667494,
          0,
          0.13243174279152845,
          0.32296204107031734,
          0.3286890436985434
         ],
         "yaxis": "y"
        },
        {
         "alignmentgroup": "True",
         "hovertemplate": "variable=LAW_Ratios<br>Year=%{x}<br>Ratio=%{y}<extra></extra>",
         "legendgroup": "LAW_Ratios",
         "marker": {
          "color": "#FFA15A",
          "pattern": {
           "shape": ""
          }
         },
         "name": "LAW_Ratios",
         "offsetgroup": "LAW_Ratios",
         "orientation": "v",
         "showlegend": true,
         "textposition": "auto",
         "type": "bar",
         "x": [
          1976,
          1974,
          1915,
          1995,
          1988,
          1950,
          1990,
          1992,
          1948,
          1984,
          1917,
          1916,
          1991,
          1917,
          1992,
          1925,
          1983,
          1952,
          1970,
          1948
         ],
         "xaxis": "x",
         "y": [
          0,
          0.8113037893384714,
          0.04959690084807874,
          0,
          0,
          0.17573734001112964,
          0,
          0,
          0.08439337252805985,
          0.0955232909860859,
          0.031211701917374976,
          0.029979115245870512,
          0,
          0,
          0,
          0,
          0,
          0.1813090073998469,
          0.7860609831985065,
          1
         ],
         "yaxis": "y"
        }
       ],
       "layout": {
        "autosize": true,
        "barmode": "relative",
        "legend": {
         "title": {
          "text": "variable"
         },
         "tracegroupgap": 0
        },
        "template": {
         "data": {
          "bar": [
           {
            "error_x": {
             "color": "#2a3f5f"
            },
            "error_y": {
             "color": "#2a3f5f"
            },
            "marker": {
             "line": {
              "color": "#E5ECF6",
              "width": 0.5
             },
             "pattern": {
              "fillmode": "overlay",
              "size": 10,
              "solidity": 0.2
             }
            },
            "type": "bar"
           }
          ],
          "barpolar": [
           {
            "marker": {
             "line": {
              "color": "#E5ECF6",
              "width": 0.5
             },
             "pattern": {
              "fillmode": "overlay",
              "size": 10,
              "solidity": 0.2
             }
            },
            "type": "barpolar"
           }
          ],
          "carpet": [
           {
            "aaxis": {
             "endlinecolor": "#2a3f5f",
             "gridcolor": "white",
             "linecolor": "white",
             "minorgridcolor": "white",
             "startlinecolor": "#2a3f5f"
            },
            "baxis": {
             "endlinecolor": "#2a3f5f",
             "gridcolor": "white",
             "linecolor": "white",
             "minorgridcolor": "white",
             "startlinecolor": "#2a3f5f"
            },
            "type": "carpet"
           }
          ],
          "choropleth": [
           {
            "colorbar": {
             "outlinewidth": 0,
             "ticks": ""
            },
            "type": "choropleth"
           }
          ],
          "contour": [
           {
            "colorbar": {
             "outlinewidth": 0,
             "ticks": ""
            },
            "colorscale": [
             [
              0,
              "#0d0887"
             ],
             [
              0.1111111111111111,
              "#46039f"
             ],
             [
              0.2222222222222222,
              "#7201a8"
             ],
             [
              0.3333333333333333,
              "#9c179e"
             ],
             [
              0.4444444444444444,
              "#bd3786"
             ],
             [
              0.5555555555555556,
              "#d8576b"
             ],
             [
              0.6666666666666666,
              "#ed7953"
             ],
             [
              0.7777777777777778,
              "#fb9f3a"
             ],
             [
              0.8888888888888888,
              "#fdca26"
             ],
             [
              1,
              "#f0f921"
             ]
            ],
            "type": "contour"
           }
          ],
          "contourcarpet": [
           {
            "colorbar": {
             "outlinewidth": 0,
             "ticks": ""
            },
            "type": "contourcarpet"
           }
          ],
          "heatmap": [
           {
            "colorbar": {
             "outlinewidth": 0,
             "ticks": ""
            },
            "colorscale": [
             [
              0,
              "#0d0887"
             ],
             [
              0.1111111111111111,
              "#46039f"
             ],
             [
              0.2222222222222222,
              "#7201a8"
             ],
             [
              0.3333333333333333,
              "#9c179e"
             ],
             [
              0.4444444444444444,
              "#bd3786"
             ],
             [
              0.5555555555555556,
              "#d8576b"
             ],
             [
              0.6666666666666666,
              "#ed7953"
             ],
             [
              0.7777777777777778,
              "#fb9f3a"
             ],
             [
              0.8888888888888888,
              "#fdca26"
             ],
             [
              1,
              "#f0f921"
             ]
            ],
            "type": "heatmap"
           }
          ],
          "heatmapgl": [
           {
            "colorbar": {
             "outlinewidth": 0,
             "ticks": ""
            },
            "colorscale": [
             [
              0,
              "#0d0887"
             ],
             [
              0.1111111111111111,
              "#46039f"
             ],
             [
              0.2222222222222222,
              "#7201a8"
             ],
             [
              0.3333333333333333,
              "#9c179e"
             ],
             [
              0.4444444444444444,
              "#bd3786"
             ],
             [
              0.5555555555555556,
              "#d8576b"
             ],
             [
              0.6666666666666666,
              "#ed7953"
             ],
             [
              0.7777777777777778,
              "#fb9f3a"
             ],
             [
              0.8888888888888888,
              "#fdca26"
             ],
             [
              1,
              "#f0f921"
             ]
            ],
            "type": "heatmapgl"
           }
          ],
          "histogram": [
           {
            "marker": {
             "pattern": {
              "fillmode": "overlay",
              "size": 10,
              "solidity": 0.2
             }
            },
            "type": "histogram"
           }
          ],
          "histogram2d": [
           {
            "colorbar": {
             "outlinewidth": 0,
             "ticks": ""
            },
            "colorscale": [
             [
              0,
              "#0d0887"
             ],
             [
              0.1111111111111111,
              "#46039f"
             ],
             [
              0.2222222222222222,
              "#7201a8"
             ],
             [
              0.3333333333333333,
              "#9c179e"
             ],
             [
              0.4444444444444444,
              "#bd3786"
             ],
             [
              0.5555555555555556,
              "#d8576b"
             ],
             [
              0.6666666666666666,
              "#ed7953"
             ],
             [
              0.7777777777777778,
              "#fb9f3a"
             ],
             [
              0.8888888888888888,
              "#fdca26"
             ],
             [
              1,
              "#f0f921"
             ]
            ],
            "type": "histogram2d"
           }
          ],
          "histogram2dcontour": [
           {
            "colorbar": {
             "outlinewidth": 0,
             "ticks": ""
            },
            "colorscale": [
             [
              0,
              "#0d0887"
             ],
             [
              0.1111111111111111,
              "#46039f"
             ],
             [
              0.2222222222222222,
              "#7201a8"
             ],
             [
              0.3333333333333333,
              "#9c179e"
             ],
             [
              0.4444444444444444,
              "#bd3786"
             ],
             [
              0.5555555555555556,
              "#d8576b"
             ],
             [
              0.6666666666666666,
              "#ed7953"
             ],
             [
              0.7777777777777778,
              "#fb9f3a"
             ],
             [
              0.8888888888888888,
              "#fdca26"
             ],
             [
              1,
              "#f0f921"
             ]
            ],
            "type": "histogram2dcontour"
           }
          ],
          "mesh3d": [
           {
            "colorbar": {
             "outlinewidth": 0,
             "ticks": ""
            },
            "type": "mesh3d"
           }
          ],
          "parcoords": [
           {
            "line": {
             "colorbar": {
              "outlinewidth": 0,
              "ticks": ""
             }
            },
            "type": "parcoords"
           }
          ],
          "pie": [
           {
            "automargin": true,
            "type": "pie"
           }
          ],
          "scatter": [
           {
            "fillpattern": {
             "fillmode": "overlay",
             "size": 10,
             "solidity": 0.2
            },
            "type": "scatter"
           }
          ],
          "scatter3d": [
           {
            "line": {
             "colorbar": {
              "outlinewidth": 0,
              "ticks": ""
             }
            },
            "marker": {
             "colorbar": {
              "outlinewidth": 0,
              "ticks": ""
             }
            },
            "type": "scatter3d"
           }
          ],
          "scattercarpet": [
           {
            "marker": {
             "colorbar": {
              "outlinewidth": 0,
              "ticks": ""
             }
            },
            "type": "scattercarpet"
           }
          ],
          "scattergeo": [
           {
            "marker": {
             "colorbar": {
              "outlinewidth": 0,
              "ticks": ""
             }
            },
            "type": "scattergeo"
           }
          ],
          "scattergl": [
           {
            "marker": {
             "colorbar": {
              "outlinewidth": 0,
              "ticks": ""
             }
            },
            "type": "scattergl"
           }
          ],
          "scattermapbox": [
           {
            "marker": {
             "colorbar": {
              "outlinewidth": 0,
              "ticks": ""
             }
            },
            "type": "scattermapbox"
           }
          ],
          "scatterpolar": [
           {
            "marker": {
             "colorbar": {
              "outlinewidth": 0,
              "ticks": ""
             }
            },
            "type": "scatterpolar"
           }
          ],
          "scatterpolargl": [
           {
            "marker": {
             "colorbar": {
              "outlinewidth": 0,
              "ticks": ""
             }
            },
            "type": "scatterpolargl"
           }
          ],
          "scatterternary": [
           {
            "marker": {
             "colorbar": {
              "outlinewidth": 0,
              "ticks": ""
             }
            },
            "type": "scatterternary"
           }
          ],
          "surface": [
           {
            "colorbar": {
             "outlinewidth": 0,
             "ticks": ""
            },
            "colorscale": [
             [
              0,
              "#0d0887"
             ],
             [
              0.1111111111111111,
              "#46039f"
             ],
             [
              0.2222222222222222,
              "#7201a8"
             ],
             [
              0.3333333333333333,
              "#9c179e"
             ],
             [
              0.4444444444444444,
              "#bd3786"
             ],
             [
              0.5555555555555556,
              "#d8576b"
             ],
             [
              0.6666666666666666,
              "#ed7953"
             ],
             [
              0.7777777777777778,
              "#fb9f3a"
             ],
             [
              0.8888888888888888,
              "#fdca26"
             ],
             [
              1,
              "#f0f921"
             ]
            ],
            "type": "surface"
           }
          ],
          "table": [
           {
            "cells": {
             "fill": {
              "color": "#EBF0F8"
             },
             "line": {
              "color": "white"
             }
            },
            "header": {
             "fill": {
              "color": "#C8D4E3"
             },
             "line": {
              "color": "white"
             }
            },
            "type": "table"
           }
          ]
         },
         "layout": {
          "annotationdefaults": {
           "arrowcolor": "#2a3f5f",
           "arrowhead": 0,
           "arrowwidth": 1
          },
          "autotypenumbers": "strict",
          "coloraxis": {
           "colorbar": {
            "outlinewidth": 0,
            "ticks": ""
           }
          },
          "colorscale": {
           "diverging": [
            [
             0,
             "#8e0152"
            ],
            [
             0.1,
             "#c51b7d"
            ],
            [
             0.2,
             "#de77ae"
            ],
            [
             0.3,
             "#f1b6da"
            ],
            [
             0.4,
             "#fde0ef"
            ],
            [
             0.5,
             "#f7f7f7"
            ],
            [
             0.6,
             "#e6f5d0"
            ],
            [
             0.7,
             "#b8e186"
            ],
            [
             0.8,
             "#7fbc41"
            ],
            [
             0.9,
             "#4d9221"
            ],
            [
             1,
             "#276419"
            ]
           ],
           "sequential": [
            [
             0,
             "#0d0887"
            ],
            [
             0.1111111111111111,
             "#46039f"
            ],
            [
             0.2222222222222222,
             "#7201a8"
            ],
            [
             0.3333333333333333,
             "#9c179e"
            ],
            [
             0.4444444444444444,
             "#bd3786"
            ],
            [
             0.5555555555555556,
             "#d8576b"
            ],
            [
             0.6666666666666666,
             "#ed7953"
            ],
            [
             0.7777777777777778,
             "#fb9f3a"
            ],
            [
             0.8888888888888888,
             "#fdca26"
            ],
            [
             1,
             "#f0f921"
            ]
           ],
           "sequentialminus": [
            [
             0,
             "#0d0887"
            ],
            [
             0.1111111111111111,
             "#46039f"
            ],
            [
             0.2222222222222222,
             "#7201a8"
            ],
            [
             0.3333333333333333,
             "#9c179e"
            ],
            [
             0.4444444444444444,
             "#bd3786"
            ],
            [
             0.5555555555555556,
             "#d8576b"
            ],
            [
             0.6666666666666666,
             "#ed7953"
            ],
            [
             0.7777777777777778,
             "#fb9f3a"
            ],
            [
             0.8888888888888888,
             "#fdca26"
            ],
            [
             1,
             "#f0f921"
            ]
           ]
          },
          "colorway": [
           "#636efa",
           "#EF553B",
           "#00cc96",
           "#ab63fa",
           "#FFA15A",
           "#19d3f3",
           "#FF6692",
           "#B6E880",
           "#FF97FF",
           "#FECB52"
          ],
          "font": {
           "color": "#2a3f5f"
          },
          "geo": {
           "bgcolor": "white",
           "lakecolor": "white",
           "landcolor": "#E5ECF6",
           "showlakes": true,
           "showland": true,
           "subunitcolor": "white"
          },
          "hoverlabel": {
           "align": "left"
          },
          "hovermode": "closest",
          "mapbox": {
           "style": "light"
          },
          "paper_bgcolor": "white",
          "plot_bgcolor": "#E5ECF6",
          "polar": {
           "angularaxis": {
            "gridcolor": "white",
            "linecolor": "white",
            "ticks": ""
           },
           "bgcolor": "#E5ECF6",
           "radialaxis": {
            "gridcolor": "white",
            "linecolor": "white",
            "ticks": ""
           }
          },
          "scene": {
           "xaxis": {
            "backgroundcolor": "#E5ECF6",
            "gridcolor": "white",
            "gridwidth": 2,
            "linecolor": "white",
            "showbackground": true,
            "ticks": "",
            "zerolinecolor": "white"
           },
           "yaxis": {
            "backgroundcolor": "#E5ECF6",
            "gridcolor": "white",
            "gridwidth": 2,
            "linecolor": "white",
            "showbackground": true,
            "ticks": "",
            "zerolinecolor": "white"
           },
           "zaxis": {
            "backgroundcolor": "#E5ECF6",
            "gridcolor": "white",
            "gridwidth": 2,
            "linecolor": "white",
            "showbackground": true,
            "ticks": "",
            "zerolinecolor": "white"
           }
          },
          "shapedefaults": {
           "line": {
            "color": "#2a3f5f"
           }
          },
          "ternary": {
           "aaxis": {
            "gridcolor": "white",
            "linecolor": "white",
            "ticks": ""
           },
           "baxis": {
            "gridcolor": "white",
            "linecolor": "white",
            "ticks": ""
           },
           "bgcolor": "#E5ECF6",
           "caxis": {
            "gridcolor": "white",
            "linecolor": "white",
            "ticks": ""
           }
          },
          "title": {
           "x": 0.05
          },
          "xaxis": {
           "automargin": true,
           "gridcolor": "white",
           "linecolor": "white",
           "ticks": "",
           "title": {
            "standoff": 15
           },
           "zerolinecolor": "white",
           "zerolinewidth": 2
          },
          "yaxis": {
           "automargin": true,
           "gridcolor": "white",
           "linecolor": "white",
           "ticks": "",
           "title": {
            "standoff": 15
           },
           "zerolinecolor": "white",
           "zerolinewidth": 2
          }
         }
        },
        "title": {
         "text": "Normalized Ratios of Entities by Year"
        },
        "xaxis": {
         "anchor": "y",
         "autorange": true,
         "domain": [
          0,
          1
         ],
         "range": [
          1914.5,
          1995.5
         ],
         "title": {
          "text": "Year"
         },
         "type": "linear"
        },
        "yaxis": {
         "anchor": "x",
         "autorange": true,
         "domain": [
          0,
          1
         ],
         "range": [
          0,
          3.466952606458208
         ],
         "title": {
          "text": "Ratio"
         },
         "type": "linear"
        }
       }
      },
      "image/png": "[encoded data removed]",
      "text/html": [
       "<div>                            <div id=\"2f82d17e-3bb4-4d3e-9729-601d900b724c\" class=\"plotly-graph-div\" style=\"height:525px; width:100%;\"></div>            <script type=\"text/javascript\">                require([\"plotly\"], function(Plotly) {                    window.PLOTLYENV=window.PLOTLYENV || {};                                    if (document.getElementById(\"2f82d17e-3bb4-4d3e-9729-601d900b724c\")) {                    Plotly.newPlot(                        \"2f82d17e-3bb4-4d3e-9729-601d900b724c\",                        [{\"alignmentgroup\":\"True\",\"hovertemplate\":\"variable=PERSON_Ratios<br>Year=%{x}<br>Ratio=%{y}<extra></extra>\",\"legendgroup\":\"PERSON_Ratios\",\"marker\":{\"color\":\"#636efa\",\"pattern\":{\"shape\":\"\"}},\"name\":\"PERSON_Ratios\",\"offsetgroup\":\"PERSON_Ratios\",\"orientation\":\"v\",\"showlegend\":true,\"textposition\":\"auto\",\"x\":[1976,1974,1915,1995,1988,1950,1990,1992,1948,1984,1917,1916,1991,1917,1992,1925,1983,1952,1970,1948],\"xaxis\":\"x\",\"y\":[0.1696232224014074,0.46932359801237195,0.0637574461753798,0.07891326588609753,0.5942023472124474,0.271095100020502,1.0,0.33736696311415654,0.09763987735238684,0.9209730314897951,0.529624119599255,0.36996992195697137,0.9166416855809173,0.24782741738066094,0.3892814227349195,0.11332767402376909,0.4006232686980609,0.5360725749049837,0.22736056070481117,0.23139228692376917],\"yaxis\":\"y\",\"type\":\"bar\"},{\"alignmentgroup\":\"True\",\"hovertemplate\":\"variable=INSTITUTION_Ratios<br>Year=%{x}<br>Ratio=%{y}<extra></extra>\",\"legendgroup\":\"INSTITUTION_Ratios\",\"marker\":{\"color\":\"#EF553B\",\"pattern\":{\"shape\":\"\"}},\"name\":\"INSTITUTION_Ratios\",\"offsetgroup\":\"INSTITUTION_Ratios\",\"orientation\":\"v\",\"showlegend\":true,\"textposition\":\"auto\",\"x\":[1976,1974,1915,1995,1988,1950,1990,1992,1948,1984,1917,1916,1991,1917,1992,1925,1983,1952,1970,1948],\"xaxis\":\"x\",\"y\":[0.2823655453181916,0.6214613902475175,0.06754024951072381,0.0995181923907626,0.14987072919852104,1.0,0.477893757064025,0.09572767952269338,0.4432841343584261,0.3623714458560194,0.28234524913710524,0.19246104190095076,0.5436252112411591,0.24110017889087657,0.33663505444327363,0.34300439015079215,0.18946103238866396,0.8171334916678116,0.5734526829735292,0.5836215715886394],\"yaxis\":\"y\",\"type\":\"bar\"},{\"alignmentgroup\":\"True\",\"hovertemplate\":\"variable=NATION_Ratios<br>Year=%{x}<br>Ratio=%{y}<extra></extra>\",\"legendgroup\":\"NATION_Ratios\",\"marker\":{\"color\":\"#00cc96\",\"pattern\":{\"shape\":\"\"}},\"name\":\"NATION_Ratios\",\"offsetgroup\":\"NATION_Ratios\",\"orientation\":\"v\",\"showlegend\":true,\"textposition\":\"auto\",\"x\":[1976,1974,1915,1995,1988,1950,1990,1992,1948,1984,1917,1916,1991,1917,1992,1925,1983,1952,1970,1948],\"xaxis\":\"x\",\"y\":[0.3403788300835655,0.046165703275529865,0.15428122709663908,0.015524838012958965,0.2597759306107698,1.0,0.03106309420916163,0.27378116343490305,0.0672314270443613,0.36961887477313976,0.1278750741253212,0.1501196126827416,0.014621643612693247,0.1462674418604651,0.09846575342465753,0.08918114143920595,0.20689144736842105,0.3393161520796122,0.0,0.31865737808739714],\"yaxis\":\"y\",\"type\":\"bar\"},{\"alignmentgroup\":\"True\",\"hovertemplate\":\"variable=EVENT_Ratios<br>Year=%{x}<br>Ratio=%{y}<extra></extra>\",\"legendgroup\":\"EVENT_Ratios\",\"marker\":{\"color\":\"#ab63fa\",\"pattern\":{\"shape\":\"\"}},\"name\":\"EVENT_Ratios\",\"offsetgroup\":\"EVENT_Ratios\",\"orientation\":\"v\",\"showlegend\":true,\"textposition\":\"auto\",\"x\":[1976,1974,1915,1995,1988,1950,1990,1992,1948,1984,1917,1916,1991,1917,1992,1925,1983,1952,1970,1948],\"xaxis\":\"x\",\"y\":[0.0,1.0,0.16301957910166476,0.2241900647948164,0.5627032887603903,0.5776293823038398,0.0,0.0,0.1386958845537146,0.0,0.0,0.39415226884374405,0.0,0.30174418604651165,0.0,0.3219602977667494,0.0,0.13243174279152845,0.32296204107031734,0.3286890436985434],\"yaxis\":\"y\",\"type\":\"bar\"},{\"alignmentgroup\":\"True\",\"hovertemplate\":\"variable=LAW_Ratios<br>Year=%{x}<br>Ratio=%{y}<extra></extra>\",\"legendgroup\":\"LAW_Ratios\",\"marker\":{\"color\":\"#FFA15A\",\"pattern\":{\"shape\":\"\"}},\"name\":\"LAW_Ratios\",\"offsetgroup\":\"LAW_Ratios\",\"orientation\":\"v\",\"showlegend\":true,\"textposition\":\"auto\",\"x\":[1976,1974,1915,1995,1988,1950,1990,1992,1948,1984,1917,1916,1991,1917,1992,1925,1983,1952,1970,1948],\"xaxis\":\"x\",\"y\":[0.0,0.8113037893384714,0.04959690084807874,0.0,0.0,0.17573734001112964,0.0,0.0,0.08439337252805985,0.0955232909860859,0.031211701917374976,0.029979115245870512,0.0,0.0,0.0,0.0,0.0,0.1813090073998469,0.7860609831985065,1.0],\"yaxis\":\"y\",\"type\":\"bar\"}],                        {\"template\":{\"data\":{\"histogram2dcontour\":[{\"type\":\"histogram2dcontour\",\"colorbar\":{\"outlinewidth\":0,\"ticks\":\"\"},\"colorscale\":[[0.0,\"#0d0887\"],[0.1111111111111111,\"#46039f\"],[0.2222222222222222,\"#7201a8\"],[0.3333333333333333,\"#9c179e\"],[0.4444444444444444,\"#bd3786\"],[0.5555555555555556,\"#d8576b\"],[0.6666666666666666,\"#ed7953\"],[0.7777777777777778,\"#fb9f3a\"],[0.8888888888888888,\"#fdca26\"],[1.0,\"#f0f921\"]]}],\"choropleth\":[{\"type\":\"choropleth\",\"colorbar\":{\"outlinewidth\":0,\"ticks\":\"\"}}],\"histogram2d\":[{\"type\":\"histogram2d\",\"colorbar\":{\"outlinewidth\":0,\"ticks\":\"\"},\"colorscale\":[[0.0,\"#0d0887\"],[0.1111111111111111,\"#46039f\"],[0.2222222222222222,\"#7201a8\"],[0.3333333333333333,\"#9c179e\"],[0.4444444444444444,\"#bd3786\"],[0.5555555555555556,\"#d8576b\"],[0.6666666666666666,\"#ed7953\"],[0.7777777777777778,\"#fb9f3a\"],[0.8888888888888888,\"#fdca26\"],[1.0,\"#f0f921\"]]}],\"heatmap\":[{\"type\":\"heatmap\",\"colorbar\":{\"outlinewidth\":0,\"ticks\":\"\"},\"colorscale\":[[0.0,\"#0d0887\"],[0.1111111111111111,\"#46039f\"],[0.2222222222222222,\"#7201a8\"],[0.3333333333333333,\"#9c179e\"],[0.4444444444444444,\"#bd3786\"],[0.5555555555555556,\"#d8576b\"],[0.6666666666666666,\"#ed7953\"],[0.7777777777777778,\"#fb9f3a\"],[0.8888888888888888,\"#fdca26\"],[1.0,\"#f0f921\"]]}],\"heatmapgl\":[{\"type\":\"heatmapgl\",\"colorbar\":{\"outlinewidth\":0,\"ticks\":\"\"},\"colorscale\":[[0.0,\"#0d0887\"],[0.1111111111111111,\"#46039f\"],[0.2222222222222222,\"#7201a8\"],[0.3333333333333333,\"#9c179e\"],[0.4444444444444444,\"#bd3786\"],[0.5555555555555556,\"#d8576b\"],[0.6666666666666666,\"#ed7953\"],[0.7777777777777778,\"#fb9f3a\"],[0.8888888888888888,\"#fdca26\"],[1.0,\"#f0f921\"]]}],\"contourcarpet\":[{\"type\":\"contourcarpet\",\"colorbar\":{\"outlinewidth\":0,\"ticks\":\"\"}}],\"contour\":[{\"type\":\"contour\",\"colorbar\":{\"outlinewidth\":0,\"ticks\":\"\"},\"colorscale\":[[0.0,\"#0d0887\"],[0.1111111111111111,\"#46039f\"],[0.2222222222222222,\"#7201a8\"],[0.3333333333333333,\"#9c179e\"],[0.4444444444444444,\"#bd3786\"],[0.5555555555555556,\"#d8576b\"],[0.6666666666666666,\"#ed7953\"],[0.7777777777777778,\"#fb9f3a\"],[0.8888888888888888,\"#fdca26\"],[1.0,\"#f0f921\"]]}],\"surface\":[{\"type\":\"surface\",\"colorbar\":{\"outlinewidth\":0,\"ticks\":\"\"},\"colorscale\":[[0.0,\"#0d0887\"],[0.1111111111111111,\"#46039f\"],[0.2222222222222222,\"#7201a8\"],[0.3333333333333333,\"#9c179e\"],[0.4444444444444444,\"#bd3786\"],[0.5555555555555556,\"#d8576b\"],[0.6666666666666666,\"#ed7953\"],[0.7777777777777778,\"#fb9f3a\"],[0.8888888888888888,\"#fdca26\"],[1.0,\"#f0f921\"]]}],\"mesh3d\":[{\"type\":\"mesh3d\",\"colorbar\":{\"outlinewidth\":0,\"ticks\":\"\"}}],\"scatter\":[{\"fillpattern\":{\"fillmode\":\"overlay\",\"size\":10,\"solidity\":0.2},\"type\":\"scatter\"}],\"parcoords\":[{\"type\":\"parcoords\",\"line\":{\"colorbar\":{\"outlinewidth\":0,\"ticks\":\"\"}}}],\"scatterpolargl\":[{\"type\":\"scatterpolargl\",\"marker\":{\"colorbar\":{\"outlinewidth\":0,\"ticks\":\"\"}}}],\"bar\":[{\"error_x\":{\"color\":\"#2a3f5f\"},\"error_y\":{\"color\":\"#2a3f5f\"},\"marker\":{\"line\":{\"color\":\"#E5ECF6\",\"width\":0.5},\"pattern\":{\"fillmode\":\"overlay\",\"size\":10,\"solidity\":0.2}},\"type\":\"bar\"}],\"scattergeo\":[{\"type\":\"scattergeo\",\"marker\":{\"colorbar\":{\"outlinewidth\":0,\"ticks\":\"\"}}}],\"scatterpolar\":[{\"type\":\"scatterpolar\",\"marker\":{\"colorbar\":{\"outlinewidth\":0,\"ticks\":\"\"}}}],\"histogram\":[{\"marker\":{\"pattern\":{\"fillmode\":\"overlay\",\"size\":10,\"solidity\":0.2}},\"type\":\"histogram\"}],\"scattergl\":[{\"type\":\"scattergl\",\"marker\":{\"colorbar\":{\"outlinewidth\":0,\"ticks\":\"\"}}}],\"scatter3d\":[{\"type\":\"scatter3d\",\"line\":{\"colorbar\":{\"outlinewidth\":0,\"ticks\":\"\"}},\"marker\":{\"colorbar\":{\"outlinewidth\":0,\"ticks\":\"\"}}}],\"scattermapbox\":[{\"type\":\"scattermapbox\",\"marker\":{\"colorbar\":{\"outlinewidth\":0,\"ticks\":\"\"}}}],\"scatterternary\":[{\"type\":\"scatterternary\",\"marker\":{\"colorbar\":{\"outlinewidth\":0,\"ticks\":\"\"}}}],\"scattercarpet\":[{\"type\":\"scattercarpet\",\"marker\":{\"colorbar\":{\"outlinewidth\":0,\"ticks\":\"\"}}}],\"carpet\":[{\"aaxis\":{\"endlinecolor\":\"#2a3f5f\",\"gridcolor\":\"white\",\"linecolor\":\"white\",\"minorgridcolor\":\"white\",\"startlinecolor\":\"#2a3f5f\"},\"baxis\":{\"endlinecolor\":\"#2a3f5f\",\"gridcolor\":\"white\",\"linecolor\":\"white\",\"minorgridcolor\":\"white\",\"startlinecolor\":\"#2a3f5f\"},\"type\":\"carpet\"}],\"table\":[{\"cells\":{\"fill\":{\"color\":\"#EBF0F8\"},\"line\":{\"color\":\"white\"}},\"header\":{\"fill\":{\"color\":\"#C8D4E3\"},\"line\":{\"color\":\"white\"}},\"type\":\"table\"}],\"barpolar\":[{\"marker\":{\"line\":{\"color\":\"#E5ECF6\",\"width\":0.5},\"pattern\":{\"fillmode\":\"overlay\",\"size\":10,\"solidity\":0.2}},\"type\":\"barpolar\"}],\"pie\":[{\"automargin\":true,\"type\":\"pie\"}]},\"layout\":{\"autotypenumbers\":\"strict\",\"colorway\":[\"#636efa\",\"#EF553B\",\"#00cc96\",\"#ab63fa\",\"#FFA15A\",\"#19d3f3\",\"#FF6692\",\"#B6E880\",\"#FF97FF\",\"#FECB52\"],\"font\":{\"color\":\"#2a3f5f\"},\"hovermode\":\"closest\",\"hoverlabel\":{\"align\":\"left\"},\"paper_bgcolor\":\"white\",\"plot_bgcolor\":\"#E5ECF6\",\"polar\":{\"bgcolor\":\"#E5ECF6\",\"angularaxis\":{\"gridcolor\":\"white\",\"linecolor\":\"white\",\"ticks\":\"\"},\"radialaxis\":{\"gridcolor\":\"white\",\"linecolor\":\"white\",\"ticks\":\"\"}},\"ternary\":{\"bgcolor\":\"#E5ECF6\",\"aaxis\":{\"gridcolor\":\"white\",\"linecolor\":\"white\",\"ticks\":\"\"},\"baxis\":{\"gridcolor\":\"white\",\"linecolor\":\"white\",\"ticks\":\"\"},\"caxis\":{\"gridcolor\":\"white\",\"linecolor\":\"white\",\"ticks\":\"\"}},\"coloraxis\":{\"colorbar\":{\"outlinewidth\":0,\"ticks\":\"\"}},\"colorscale\":{\"sequential\":[[0.0,\"#0d0887\"],[0.1111111111111111,\"#46039f\"],[0.2222222222222222,\"#7201a8\"],[0.3333333333333333,\"#9c179e\"],[0.4444444444444444,\"#bd3786\"],[0.5555555555555556,\"#d8576b\"],[0.6666666666666666,\"#ed7953\"],[0.7777777777777778,\"#fb9f3a\"],[0.8888888888888888,\"#fdca26\"],[1.0,\"#f0f921\"]],\"sequentialminus\":[[0.0,\"#0d0887\"],[0.1111111111111111,\"#46039f\"],[0.2222222222222222,\"#7201a8\"],[0.3333333333333333,\"#9c179e\"],[0.4444444444444444,\"#bd3786\"],[0.5555555555555556,\"#d8576b\"],[0.6666666666666666,\"#ed7953\"],[0.7777777777777778,\"#fb9f3a\"],[0.8888888888888888,\"#fdca26\"],[1.0,\"#f0f921\"]],\"diverging\":[[0,\"#8e0152\"],[0.1,\"#c51b7d\"],[0.2,\"#de77ae\"],[0.3,\"#f1b6da\"],[0.4,\"#fde0ef\"],[0.5,\"#f7f7f7\"],[0.6,\"#e6f5d0\"],[0.7,\"#b8e186\"],[0.8,\"#7fbc41\"],[0.9,\"#4d9221\"],[1,\"#276419\"]]},\"xaxis\":{\"gridcolor\":\"white\",\"linecolor\":\"white\",\"ticks\":\"\",\"title\":{\"standoff\":15},\"zerolinecolor\":\"white\",\"automargin\":true,\"zerolinewidth\":2},\"yaxis\":{\"gridcolor\":\"white\",\"linecolor\":\"white\",\"ticks\":\"\",\"title\":{\"standoff\":15},\"zerolinecolor\":\"white\",\"automargin\":true,\"zerolinewidth\":2},\"scene\":{\"xaxis\":{\"backgroundcolor\":\"#E5ECF6\",\"gridcolor\":\"white\",\"linecolor\":\"white\",\"showbackground\":true,\"ticks\":\"\",\"zerolinecolor\":\"white\",\"gridwidth\":2},\"yaxis\":{\"backgroundcolor\":\"#E5ECF6\",\"gridcolor\":\"white\",\"linecolor\":\"white\",\"showbackground\":true,\"ticks\":\"\",\"zerolinecolor\":\"white\",\"gridwidth\":2},\"zaxis\":{\"backgroundcolor\":\"#E5ECF6\",\"gridcolor\":\"white\",\"linecolor\":\"white\",\"showbackground\":true,\"ticks\":\"\",\"zerolinecolor\":\"white\",\"gridwidth\":2}},\"shapedefaults\":{\"line\":{\"color\":\"#2a3f5f\"}},\"annotationdefaults\":{\"arrowcolor\":\"#2a3f5f\",\"arrowhead\":0,\"arrowwidth\":1},\"geo\":{\"bgcolor\":\"white\",\"landcolor\":\"#E5ECF6\",\"subunitcolor\":\"white\",\"showland\":true,\"showlakes\":true,\"lakecolor\":\"white\"},\"title\":{\"x\":0.05},\"mapbox\":{\"style\":\"light\"}}},\"xaxis\":{\"anchor\":\"y\",\"domain\":[0.0,1.0],\"title\":{\"text\":\"Year\"}},\"yaxis\":{\"anchor\":\"x\",\"domain\":[0.0,1.0],\"title\":{\"text\":\"Ratio\"}},\"legend\":{\"title\":{\"text\":\"variable\"},\"tracegroupgap\":0},\"title\":{\"text\":\"Normalized Ratios of Entities by Year\"},\"barmode\":\"relative\"},                        {\"responsive\": true}                    ).then(function(){\n",
       "                            \n",
       "var gd = document.getElementById('2f82d17e-3bb4-4d3e-9729-601d900b724c');\n",
       "var x = new MutationObserver(function (mutations, observer) {{\n",
       "        var display = window.getComputedStyle(gd).display;\n",
       "        if (!display || display === 'none') {{\n",
       "            console.log([gd, 'removed!']);\n",
       "            Plotly.purge(gd);\n",
       "            observer.disconnect();\n",
       "        }}\n",
       "}});\n",
       "\n",
       "// Listen for the removal of the full notebook cells\n",
       "var notebookContainer = gd.closest('#notebook-container');\n",
       "if (notebookContainer) {{\n",
       "    x.observe(notebookContainer, {childList: true});\n",
       "}}\n",
       "\n",
       "// Listen for the clearing of the current output cell\n",
       "var outputEl = gd.closest('.output');\n",
       "if (outputEl) {{\n",
       "    x.observe(outputEl, {childList: true});\n",
       "}}\n",
       "\n",
       "                        })                };                });            </script>        </div>"
      ]
     },
     "metadata": {},
     "output_type": "display_data"
    }
   ],
   "source": [
    "fig = px.bar(ner_counts_df, x='Year', y=['PERSON_Ratios', 'INSTITUTION_Ratios', 'NATION_Ratios', 'EVENT_Ratios', 'LAW_Ratios'],\n",
    "                labels={'Year': 'Year', 'value': 'Ratio'}, title='Normalized Ratios of Entities by Year')\n",
    "fig.show()"
   ]
  },
  {
   "cell_type": "markdown",
   "id": "4e5d33e3-e465-4203-affb-737070eafed7",
   "metadata": {},
   "source": [
    "There has been a shift in the frequency of PERSON entity in speeches over time. While during the beginning of the 20th century, speeches frequently mentioned the entity type PERSON, since 1975, and particularly during the 1990s, the PERSON became the most mentioned. While during the beginning of the 20th century, speeches frequently mentioned the entity type PERSON, since 1975, and particularly during the 1990s, the PERSON became the most mentioned. The mention of NATION being most frequent in during the 1950s suggests that there was a particular focus on national matters during that time period. The 1950s marked a period of significant political changes. It was a time of post-World War II reconstruction and the beginning of the Cold War, which might lead to a greater emphasis on national identity, and political decisions."
   ]
  },
  {
   "cell_type": "markdown",
   "id": "35acce70-dde5-4882-8609-e3a6061da4bf",
   "metadata": {},
   "source": [
    "### Extract specific named entities "
   ]
  },
  {
   "cell_type": "code",
   "execution_count": 140,
   "id": "1475bed2-7ea8-4384-bf61-f593898899bf",
   "metadata": {},
   "outputs": [],
   "source": [
    "# Define function to extract words tagged as \"PERSON\" named entities from doc objects\n",
    "def extract_person_named_entities(doc):\n",
    "    return [ent for ent in doc.ents if ent.label_ == 'PERSON']\n",
    "\n",
    "# Get all PERSON entity words and apply to new column of DataFrame\n",
    "ner_analysis_df['PERSON_Named_Entities'] = women_speech['Doc'].apply(extract_person_named_entities)\n",
    "\n",
    "\n",
    "# Make list of PERSON entities a string so we can count their frequencies\n",
    "ner_analysis_df['PERSON_Named_Entities'] = [', '.join(map(str, l)) for l in ner_analysis_df['PERSON_Named_Entities']]"
   ]
  },
  {
   "cell_type": "code",
   "execution_count": 141,
   "id": "603eb3ff-0210-42ef-be25-b992b7f9687e",
   "metadata": {},
   "outputs": [],
   "source": [
    "# Define function to extract words tagged as \"NATION\" named entities from doc objects\n",
    "def extract_NATION_named_entities(doc):\n",
    "    return [ent for ent in doc.ents if ent.label_ == 'NORP']\n",
    "\n",
    "# Get all NATION entity words and apply to new column of DataFrame\n",
    "ner_analysis_df['NORP_Named_Entities'] = women_speech['Doc'].apply(extract_NATION_named_entities)\n",
    "\n",
    "\n",
    "# Make list of NATION entities a string so we can count their frequencies\n",
    "ner_analysis_df['NORP_Named_Entities'] = [', '.join(map(str, l)) for l in ner_analysis_df['NORP_Named_Entities']]"
   ]
  },
  {
   "cell_type": "code",
   "execution_count": 142,
   "id": "eef795b5-d90a-4b91-a172-2f4fee63b5fe",
   "metadata": {},
   "outputs": [],
   "source": [
    "# Define function to extract words tagged as \"EVENT\" named entities from doc objects\n",
    "def extract_event_named_entities(doc):\n",
    "    return [ent for ent in doc.ents if ent.label_ == 'EVENT']\n",
    "\n",
    "# Get all EVENT entity words and apply to new column of DataFrame\n",
    "ner_analysis_df['EVENT_Named_Entities'] = women_speech['Doc'].apply(extract_event_named_entities)\n",
    "\n",
    "\n",
    "# Make list of EVENT entities a string so we can count their frequencies\n",
    "ner_analysis_df['EVENT_Named_Entities'] = [', '.join(map(str, l)) for l in ner_analysis_df['EVENT_Named_Entities']]"
   ]
  },
  {
   "cell_type": "code",
   "execution_count": 143,
   "id": "d7f05853-4777-405c-8021-ac5dd3679a80",
   "metadata": {},
   "outputs": [],
   "source": [
    "# Define function to extract words tagged as \"LAW\" named entities from doc objects\n",
    "def extract_law_named_entities(doc):\n",
    "    return [ent for ent in doc.ents if ent.label_ == 'LAW']\n",
    "\n",
    "# Get all LAW entity words and apply to new column of DataFrame\n",
    "ner_analysis_df['LAW_Named_Entities'] = women_speech['Doc'].apply(extract_event_named_entities)\n",
    "\n",
    "\n",
    "# Make list of LAW entities a string so we can count their frequencies\n",
    "ner_analysis_df['LAW_Named_Entities'] = [', '.join(map(str, l)) for l in ner_analysis_df['LAW_Named_Entities']]"
   ]
  },
  {
   "cell_type": "code",
   "execution_count": 144,
   "id": "c83cbf39-f7be-4d2f-9ea5-532471f04183",
   "metadata": {},
   "outputs": [
    {
     "data": {
      "text/html": [
       "<div>\n",
       "<style scoped>\n",
       "    .dataframe tbody tr th:only-of-type {\n",
       "        vertical-align: middle;\n",
       "    }\n",
       "\n",
       "    .dataframe tbody tr th {\n",
       "        vertical-align: top;\n",
       "    }\n",
       "\n",
       "    .dataframe thead th {\n",
       "        text-align: right;\n",
       "    }\n",
       "</style>\n",
       "<table border=\"1\" class=\"dataframe\">\n",
       "  <thead>\n",
       "    <tr style=\"text-align: right;\">\n",
       "      <th></th>\n",
       "      <th>Title</th>\n",
       "      <th>Year</th>\n",
       "      <th>Speaker</th>\n",
       "      <th>Named_Entities</th>\n",
       "      <th>NE_Words</th>\n",
       "      <th>PERSON_Named_Entities</th>\n",
       "      <th>NORP_Named_Entities</th>\n",
       "      <th>EVENT_Named_Entities</th>\n",
       "      <th>LAW_Named_Entities</th>\n",
       "    </tr>\n",
       "  </thead>\n",
       "  <tbody>\n",
       "    <tr>\n",
       "      <th>0</th>\n",
       "      <td>1976 Democratic National Convention Keynote Ad...</td>\n",
       "      <td>1976</td>\n",
       "      <td>Barbara Charline Jordan</td>\n",
       "      <td>CARDINAL NORP NORP DATE TIME TIME PERSON DATE ...</td>\n",
       "      <td>[(one, hundred, and, fortyfour, years, ago), (...</td>\n",
       "      <td>Barbara Jordan, Idont, Thomas Jefferson, Strik...</td>\n",
       "      <td>Democratic, Democrats, Republicans, Americans,...</td>\n",
       "      <td></td>\n",
       "      <td></td>\n",
       "    </tr>\n",
       "    <tr>\n",
       "      <th>1</th>\n",
       "      <td>Statement on House Judiciary Proceedings to Im...</td>\n",
       "      <td>1974</td>\n",
       "      <td>Barbara Charline Jordan</td>\n",
       "      <td>PERSON PERSON TIME WORK_OF_ART GPE DATE DATE D...</td>\n",
       "      <td>[(Mr), (Rangel), (Earlier, today), (Preamble),...</td>\n",
       "      <td>Mr, Rangel, George Washington, Alexander Hamil...</td>\n",
       "      <td>Republican, American</td>\n",
       "      <td>Watergate, Watergate, Watergate</td>\n",
       "      <td>Watergate, Watergate, Watergate</td>\n",
       "    </tr>\n",
       "  </tbody>\n",
       "</table>\n",
       "</div>"
      ],
      "text/plain": [
       "                                               Title  Year  \\\n",
       "0  1976 Democratic National Convention Keynote Ad...  1976   \n",
       "1  Statement on House Judiciary Proceedings to Im...  1974   \n",
       "\n",
       "                   Speaker                                     Named_Entities  \\\n",
       "0  Barbara Charline Jordan  CARDINAL NORP NORP DATE TIME TIME PERSON DATE ...   \n",
       "1  Barbara Charline Jordan  PERSON PERSON TIME WORK_OF_ART GPE DATE DATE D...   \n",
       "\n",
       "                                            NE_Words  \\\n",
       "0  [(one, hundred, and, fortyfour, years, ago), (...   \n",
       "1  [(Mr), (Rangel), (Earlier, today), (Preamble),...   \n",
       "\n",
       "                               PERSON_Named_Entities  \\\n",
       "0  Barbara Jordan, Idont, Thomas Jefferson, Strik...   \n",
       "1  Mr, Rangel, George Washington, Alexander Hamil...   \n",
       "\n",
       "                                 NORP_Named_Entities  \\\n",
       "0  Democratic, Democrats, Republicans, Americans,...   \n",
       "1                               Republican, American   \n",
       "\n",
       "              EVENT_Named_Entities               LAW_Named_Entities  \n",
       "0                                                                    \n",
       "1  Watergate, Watergate, Watergate  Watergate, Watergate, Watergate  "
      ]
     },
     "execution_count": 144,
     "metadata": {},
     "output_type": "execute_result"
    }
   ],
   "source": [
    "ner_analysis_df.head(2)"
   ]
  },
  {
   "cell_type": "markdown",
   "id": "1f28f0f4-20a9-48de-a950-86447ab3bc80",
   "metadata": {},
   "source": [
    "### ❓What are most common words of specifc named entities mentioned in speeches by certain speakers or years? "
   ]
  },
  {
   "cell_type": "code",
   "execution_count": 145,
   "id": "c57be08d-8703-47e9-8d7b-f9750ecb03b5",
   "metadata": {},
   "outputs": [
    {
     "data": {
      "text/plain": [
       " Lane                  2\n",
       " Abraham Lincoln       2\n",
       " Perry                 2\n",
       " Dimitroff             2\n",
       " George Dimitroff      2\n",
       " Lenin                 2\n",
       " Eugene Dennis         2\n",
       " famousSchneiderman    1\n",
       " Frenchcomrades        1\n",
       " St Paul               1\n",
       "Name: count, dtype: int64"
      ]
     },
     "execution_count": 145,
     "metadata": {},
     "output_type": "execute_result"
    }
   ],
   "source": [
    "# Search for only PERSON words in Elizabeth Gurley Flynn's speech\n",
    "person_word_counts_df = ner_analysis_df[(ner_analysis_df == 'Elizabeth Gurley Flynn').any(axis=1)]\n",
    "\n",
    "# Count the frequency of each word and append to list\n",
    "person_word_frequencies = person_word_counts_df.PERSON_Named_Entities.str.split(',', expand=True).stack().value_counts()\n",
    "\n",
    "# Get the most common words and their frequencies\n",
    "person_word_frequencies.head(10)"
   ]
  },
  {
   "cell_type": "markdown",
   "id": "c4d520c0-ab89-4d12-836b-39e98989ce96",
   "metadata": {},
   "source": [
    "Abraham Lincoln and George Dimitroff were likely significant figures discussed in Elizabeth Gurley Flynn's speech."
   ]
  },
  {
   "cell_type": "code",
   "execution_count": 146,
   "id": "f7dc87d2-48a5-47e8-8498-4f2ae8434094",
   "metadata": {},
   "outputs": [
    {
     "data": {
      "text/plain": [
       " Alexander Berkman         6\n",
       " Emma Goldman              4\n",
       " Shall                     3\n",
       " Marshal McCarthy          2\n",
       " Ralph Waldo Emerson       2\n",
       " Behold                    2\n",
       " Jesus Socrates Galileo    1\n",
       " John Brown                1\n",
       " Havelock Ellis            1\n",
       " Niagara                   1\n",
       "Name: count, dtype: int64"
      ]
     },
     "execution_count": 146,
     "metadata": {},
     "output_type": "execute_result"
    }
   ],
   "source": [
    "# Filter rows that contain the year 1917\n",
    "year_filtered_df = ner_analysis_df[ner_analysis_df['Year'] == 1917]\n",
    "\n",
    "# Count the frequency of each word in the filtered data and append to list\n",
    "person_word_frequencies = year_filtered_df.PERSON_Named_Entities.str.split(',', expand=True).stack().value_counts()\n",
    "\n",
    "# Get the most common words and their frequencies\n",
    "person_word_frequencies.head(10)"
   ]
  },
  {
   "cell_type": "markdown",
   "id": "f649bc7d-b35e-46ef-a6eb-3c1a1cea27c1",
   "metadata": {},
   "source": [
    "In 1917, these figures were frequently mentioned. Alexander Berkman and Emma Goldman were prominent figures in the anarchist movement, and their ideas and actions gained attention during the early 20th century. Ralph Waldo Emerson was a highly influential writer and philosopher, and his ideas on transcendentalism and individualism had a lasting impact on American thought. His works were widely read and discussed during the 19th and early 20th centuries. Havelock Ellis was a controversial figure in the early 20th century due to his writings on human sexuality and his advocacy for sexual reform. "
   ]
  },
  {
   "cell_type": "code",
   "execution_count": 147,
   "id": "2205691c-9199-4618-8d78-982bec3a5965",
   "metadata": {},
   "outputs": [
    {
     "data": {
      "text/plain": [
       " Thomas             14\n",
       " Clarence Thomas     6\n",
       " Thomass             2\n",
       "Ms Hill Mr           1\n",
       " Thurmond            1\n",
       " Susan Cahall        1\n",
       " Diane Holt          1\n",
       " Allison Duncan      1\n",
       " Reagan              1\n",
       " Ross                1\n",
       "Name: count, dtype: int64"
      ]
     },
     "execution_count": 147,
     "metadata": {},
     "output_type": "execute_result"
    }
   ],
   "source": [
    "# Filter rows that contain the year \"1991\"\n",
    "year_filtered_df = ner_analysis_df[ner_analysis_df['Year'] == 1991]\n",
    "\n",
    "# Count the frequency of each word in the filtered data and append to list\n",
    "person_word_frequencies = year_filtered_df.PERSON_Named_Entities.str.split(',', expand=True).stack().value_counts()\n",
    "\n",
    "# Get the most common words and their frequencies\n",
    "person_word_frequencies.head(10)"
   ]
  },
  {
   "cell_type": "markdown",
   "id": "32f88563-7534-49c7-8125-4718b7b1c78b",
   "metadata": {},
   "source": [
    "In 1991, Clarence Thomas was nominated by President George H. W. Bush to serve as an Associate Justice of the Supreme Court of the United States. However, his confirmation hearings were marred by allegations of sexual harassment made by Anita Hill, a former colleague. Women's speeches during this time may have focused on discussing these allegations, gender dynamics in the workplace, and the importance of addressing sexual harassment."
   ]
  },
  {
   "cell_type": "code",
   "execution_count": 148,
   "id": "6245d52d-135d-4495-878e-02f6f6746277",
   "metadata": {},
   "outputs": [
    {
     "data": {
      "text/plain": [
       " Soviet             9\n",
       " American           2\n",
       " Mans               2\n",
       "Communist           1\n",
       " theUSSR            1\n",
       " Communist          1\n",
       " thetotalitarian    1\n",
       " Russian            1\n",
       "Soviet              1\n",
       " French             1\n",
       "Name: count, dtype: int64"
      ]
     },
     "execution_count": 148,
     "metadata": {},
     "output_type": "execute_result"
    }
   ],
   "source": [
    "# Filter rows that contain the year 1948\n",
    "year_filtered_df = ner_analysis_df[ner_analysis_df['Year'] == 1948]\n",
    "\n",
    "# Count the frequency of each word in the filtered data and append to list\n",
    "nation_word_frequencies = year_filtered_df.NORP_Named_Entities.str.split(',', expand=True).stack().value_counts()\n",
    "\n",
    "# Get the most common words and their frequencies\n",
    "nation_word_frequencies.head(10)"
   ]
  },
  {
   "cell_type": "markdown",
   "id": "ffa54a66-3aa8-4460-b662-b20d3786b247",
   "metadata": {},
   "source": [
    "\"Soviet\" appears the most frequently, suggesting that Soviet Union was mentioned frequently in the speeches from the year 1948. The words \"Communist,\" \"French,\" \"Nazi,\" and \"thetotalitarian\" also highly mentioned. This indicates that the year 1948 may have been a significant year in terms of political events related to Soviet Union, communism, and possibly specific countries like France and Germany (as indicated by \"French\" and \"Nazi\"). This was also a discussion of totalitarianism. "
   ]
  },
  {
   "cell_type": "code",
   "execution_count": 149,
   "id": "02c5b0f5-2988-433f-ab78-227c4ff73c28",
   "metadata": {},
   "outputs": [
    {
     "data": {
      "text/plain": [
       " Watergate    2\n",
       "              1\n",
       "Watergate     1\n",
       "Name: count, dtype: int64"
      ]
     },
     "execution_count": 149,
     "metadata": {},
     "output_type": "execute_result"
    }
   ],
   "source": [
    "# Search for only event words in speeches by Barbara Charline Jordan\n",
    "event_word_counts_df = ner_analysis_df[(ner_analysis_df == 'Barbara Charline Jordan').any(axis=1)]\n",
    "\n",
    "# Count the frequency of each word and append to list\n",
    "event_word_frequencies = event_word_counts_df.EVENT_Named_Entities.str.split(',', expand=True).stack().value_counts()\n",
    "\n",
    "# Get the most common words and their frequencies\n",
    "event_word_frequencies.head(10)"
   ]
  },
  {
   "cell_type": "markdown",
   "id": "0f82e863-264e-4719-bfb7-9b4275be64c7",
   "metadata": {},
   "source": [
    "Watergate scandal and the Federalist papers were highly mentioned in speeches by Barbara Charline Jordan, indicating that she was actively engaged in discussing these significant political events. The Watergate scandal was a major political event that occurred in the early 1970s, related to President Richard Nixon's resignation. Federalist Papers were also mentioned frequently. These papers shaped the United States Constitution. This indicates that Jordan might used these historical documents to support her arguments."
   ]
  },
  {
   "cell_type": "markdown",
   "id": "3ba98c9d-75fa-4d33-8ea8-614fbbfea997",
   "metadata": {},
   "source": [
    "## Contextual analysis"
   ]
  },
  {
   "cell_type": "code",
   "execution_count": 150,
   "id": "406f46ee-a333-4756-b1a9-df8ba5f5585e",
   "metadata": {},
   "outputs": [
    {
     "data": {
      "text/html": [
       "<span class=\"tex2jax_ignore\"><div class=\"entities\" style=\"line-height: 2.5; direction: ltr\">I have come \n",
       "<mark class=\"entity\" style=\"background: #bfe1d9; padding: 0.45em 0.6em; margin: 0 0.25em; line-height: 1; border-radius: 0.35em;\">\n",
       "    this evening\n",
       "    <span style=\"font-size: 0.8em; font-weight: bold; line-height: 1; border-radius: 0.35em; vertical-align: middle; margin-left: 0.5rem\">TIME</span>\n",
       "</mark>\n",
       " to talk with you on \n",
       "<mark class=\"entity\" style=\"background: #e4e7d2; padding: 0.45em 0.6em; margin: 0 0.25em; line-height: 1; border-radius: 0.35em;\">\n",
       "    one\n",
       "    <span style=\"font-size: 0.8em; font-weight: bold; line-height: 1; border-radius: 0.35em; vertical-align: middle; margin-left: 0.5rem\">CARDINAL</span>\n",
       "</mark>\n",
       " of the greatestissues of our time that is the preservation of human freedom I have chosen to discussit here in \n",
       "<mark class=\"entity\" style=\"background: #feca74; padding: 0.45em 0.6em; margin: 0 0.25em; line-height: 1; border-radius: 0.35em;\">\n",
       "    France\n",
       "    <span style=\"font-size: 0.8em; font-weight: bold; line-height: 1; border-radius: 0.35em; vertical-align: middle; margin-left: 0.5rem\">GPE</span>\n",
       "</mark>\n",
       " at the \n",
       "<mark class=\"entity\" style=\"background: #aa9cfc; padding: 0.45em 0.6em; margin: 0 0.25em; line-height: 1; border-radius: 0.35em;\">\n",
       "    Sorbonne\n",
       "    <span style=\"font-size: 0.8em; font-weight: bold; line-height: 1; border-radius: 0.35em; vertical-align: middle; margin-left: 0.5rem\">PERSON</span>\n",
       "</mark>\n",
       " because here in this soil the roots of human freedomhave long ago struck deep and here they have been richly nourished It was here theDeclaration of the Rights of Man was proclaimed and the great slogans of the \n",
       "<mark class=\"entity\" style=\"background: #7aecec; padding: 0.45em 0.6em; margin: 0 0.25em; line-height: 1; border-radius: 0.35em;\">\n",
       "    FrenchRevolution\n",
       "    <span style=\"font-size: 0.8em; font-weight: bold; line-height: 1; border-radius: 0.35em; vertical-align: middle; margin-left: 0.5rem\">ORG</span>\n",
       "</mark>\n",
       " liberty equality fraternity fired the imagination of men I have chosento discuss this issue in \n",
       "<mark class=\"entity\" style=\"background: #ff9561; padding: 0.45em 0.6em; margin: 0 0.25em; line-height: 1; border-radius: 0.35em;\">\n",
       "    Europe\n",
       "    <span style=\"font-size: 0.8em; font-weight: bold; line-height: 1; border-radius: 0.35em; vertical-align: middle; margin-left: 0.5rem\">LOC</span>\n",
       "</mark>\n",
       " because this has been the scene of the greatest historicbattles between freedom and tyranny I have chosen to discuss it in \n",
       "<mark class=\"entity\" style=\"background: #bfe1d9; padding: 0.45em 0.6em; margin: 0 0.25em; line-height: 1; border-radius: 0.35em;\">\n",
       "    the early days\n",
       "    <span style=\"font-size: 0.8em; font-weight: bold; line-height: 1; border-radius: 0.35em; vertical-align: middle; margin-left: 0.5rem\">DATE</span>\n",
       "</mark>\n",
       " of \n",
       "<mark class=\"entity\" style=\"background: #7aecec; padding: 0.45em 0.6em; margin: 0 0.25em; line-height: 1; border-radius: 0.35em;\">\n",
       "    theGeneral Assembly\n",
       "    <span style=\"font-size: 0.8em; font-weight: bold; line-height: 1; border-radius: 0.35em; vertical-align: middle; margin-left: 0.5rem\">ORG</span>\n",
       "</mark>\n",
       " because the issue of human liberty is decisive for the settlement ofoutstanding political differences and for the future of \n",
       "<mark class=\"entity\" style=\"background: #7aecec; padding: 0.45em 0.6em; margin: 0 0.25em; line-height: 1; border-radius: 0.35em;\">\n",
       "    the United Nations\n",
       "    <span style=\"font-size: 0.8em; font-weight: bold; line-height: 1; border-radius: 0.35em; vertical-align: middle; margin-left: 0.5rem\">ORG</span>\n",
       "</mark>\n",
       " The decisive importance of this issue was fully recognized by thefounders of \n",
       "<mark class=\"entity\" style=\"background: #7aecec; padding: 0.45em 0.6em; margin: 0 0.25em; line-height: 1; border-radius: 0.35em;\">\n",
       "    the United Nations\n",
       "    <span style=\"font-size: 0.8em; font-weight: bold; line-height: 1; border-radius: 0.35em; vertical-align: middle; margin-left: 0.5rem\">ORG</span>\n",
       "</mark>\n",
       " at \n",
       "<mark class=\"entity\" style=\"background: #9cc9cc; padding: 0.45em 0.6em; margin: 0 0.25em; line-height: 1; border-radius: 0.35em;\">\n",
       "    San Francisco Concern\n",
       "    <span style=\"font-size: 0.8em; font-weight: bold; line-height: 1; border-radius: 0.35em; vertical-align: middle; margin-left: 0.5rem\">FAC</span>\n",
       "</mark>\n",
       " for the preservation andpromotion of human rights and fundamental freedoms stands at the heart of \n",
       "<mark class=\"entity\" style=\"background: #7aecec; padding: 0.45em 0.6em; margin: 0 0.25em; line-height: 1; border-radius: 0.35em;\">\n",
       "    the UnitedNations Its Charter\n",
       "    <span style=\"font-size: 0.8em; font-weight: bold; line-height: 1; border-radius: 0.35em; vertical-align: middle; margin-left: 0.5rem\">ORG</span>\n",
       "</mark>\n",
       " is distinguished by its preoccupation with the rights and welfare ofindividual men and women \n",
       "<mark class=\"entity\" style=\"background: #7aecec; padding: 0.45em 0.6em; margin: 0 0.25em; line-height: 1; border-radius: 0.35em;\">\n",
       "    The United Nations\n",
       "    <span style=\"font-size: 0.8em; font-weight: bold; line-height: 1; border-radius: 0.35em; vertical-align: middle; margin-left: 0.5rem\">ORG</span>\n",
       "</mark>\n",
       " has made it clear that it intends to upholdhuman rights and to protect the dignity of the human personality In the preamble to theCharter the keynote is set when it declares We the people of the \n",
       "<mark class=\"entity\" style=\"background: #7aecec; padding: 0.45em 0.6em; margin: 0 0.25em; line-height: 1; border-radius: 0.35em;\">\n",
       "    United Nationsdeterminedto\n",
       "    <span style=\"font-size: 0.8em; font-weight: bold; line-height: 1; border-radius: 0.35em; vertical-align: middle; margin-left: 0.5rem\">ORG</span>\n",
       "</mark>\n",
       " reaffirm faith in fundamental human rights in the dignity and worth ofthe human person in the equal rights of men and women and of nations large and smallandto promote social progress and better standards of life in larger freedomThis reflects the basic premise of the Charter that the peace and security of mankind aredependent on mutual respect for the rights and freedoms of all \n",
       "<mark class=\"entity\" style=\"background: #e4e7d2; padding: 0.45em 0.6em; margin: 0 0.25em; line-height: 1; border-radius: 0.35em;\">\n",
       "    One\n",
       "    <span style=\"font-size: 0.8em; font-weight: bold; line-height: 1; border-radius: 0.35em; vertical-align: middle; margin-left: 0.5rem\">CARDINAL</span>\n",
       "</mark>\n",
       " of the purposes of \n",
       "<mark class=\"entity\" style=\"background: #7aecec; padding: 0.45em 0.6em; margin: 0 0.25em; line-height: 1; border-radius: 0.35em;\">\n",
       "    the United Nations\n",
       "    <span style=\"font-size: 0.8em; font-weight: bold; line-height: 1; border-radius: 0.35em; vertical-align: middle; margin-left: 0.5rem\">ORG</span>\n",
       "</mark>\n",
       " is declared in \n",
       "<mark class=\"entity\" style=\"background: #ff8197; padding: 0.45em 0.6em; margin: 0 0.25em; line-height: 1; border-radius: 0.35em;\">\n",
       "    article 1to\n",
       "    <span style=\"font-size: 0.8em; font-weight: bold; line-height: 1; border-radius: 0.35em; vertical-align: middle; margin-left: 0.5rem\">LAW</span>\n",
       "</mark>\n",
       " be to achieve international cooperation in solving international problems of aneconomic social cultural or humanitarian character and in promoting and encouragingrespect for human rights and for fundamental freedoms for all without distinction as torace sex language or religion This thought is repeated at several points and notably in \n",
       "<mark class=\"entity\" style=\"background: #feca74; padding: 0.45em 0.6em; margin: 0 0.25em; line-height: 1; border-radius: 0.35em;\">\n",
       "    articles55\n",
       "    <span style=\"font-size: 0.8em; font-weight: bold; line-height: 1; border-radius: 0.35em; vertical-align: middle; margin-left: 0.5rem\">GPE</span>\n",
       "</mark>\n",
       " and \n",
       "<mark class=\"entity\" style=\"background: #e4e7d2; padding: 0.45em 0.6em; margin: 0 0.25em; line-height: 1; border-radius: 0.35em;\">\n",
       "    56\n",
       "    <span style=\"font-size: 0.8em; font-weight: bold; line-height: 1; border-radius: 0.35em; vertical-align: middle; margin-left: 0.5rem\">CARDINAL</span>\n",
       "</mark>\n",
       " the Members pledge themselves to take joint and separate action in cooperationwith \n",
       "<mark class=\"entity\" style=\"background: #7aecec; padding: 0.45em 0.6em; margin: 0 0.25em; line-height: 1; border-radius: 0.35em;\">\n",
       "    the United Nations\n",
       "    <span style=\"font-size: 0.8em; font-weight: bold; line-height: 1; border-radius: 0.35em; vertical-align: middle; margin-left: 0.5rem\">ORG</span>\n",
       "</mark>\n",
       " for the promotion of universal respect for and observanceof human rights and fundamental freedoms for all without distinction as to race sexlanguage or religion \n",
       "<mark class=\"entity\" style=\"background: #7aecec; padding: 0.45em 0.6em; margin: 0 0.25em; line-height: 1; border-radius: 0.35em;\">\n",
       "    The Human Rights Commission\n",
       "    <span style=\"font-size: 0.8em; font-weight: bold; line-height: 1; border-radius: 0.35em; vertical-align: middle; margin-left: 0.5rem\">ORG</span>\n",
       "</mark>\n",
       " was given as its \n",
       "<mark class=\"entity\" style=\"background: #e4e7d2; padding: 0.45em 0.6em; margin: 0 0.25em; line-height: 1; border-radius: 0.35em;\">\n",
       "    first\n",
       "    <span style=\"font-size: 0.8em; font-weight: bold; line-height: 1; border-radius: 0.35em; vertical-align: middle; margin-left: 0.5rem\">ORDINAL</span>\n",
       "</mark>\n",
       " and mostimportant task the preparation of an International Bill of Rights The General \n",
       "<mark class=\"entity\" style=\"background: #aa9cfc; padding: 0.45em 0.6em; margin: 0 0.25em; line-height: 1; border-radius: 0.35em;\">\n",
       "    Assemblywhich\n",
       "    <span style=\"font-size: 0.8em; font-weight: bold; line-height: 1; border-radius: 0.35em; vertical-align: middle; margin-left: 0.5rem\">PERSON</span>\n",
       "</mark>\n",
       " opened its \n",
       "<mark class=\"entity\" style=\"background: #e4e7d2; padding: 0.45em 0.6em; margin: 0 0.25em; line-height: 1; border-radius: 0.35em;\">\n",
       "    third\n",
       "    <span style=\"font-size: 0.8em; font-weight: bold; line-height: 1; border-radius: 0.35em; vertical-align: middle; margin-left: 0.5rem\">ORDINAL</span>\n",
       "</mark>\n",
       " session here in \n",
       "<mark class=\"entity\" style=\"background: #feca74; padding: 0.45em 0.6em; margin: 0 0.25em; line-height: 1; border-radius: 0.35em;\">\n",
       "    Paris\n",
       "    <span style=\"font-size: 0.8em; font-weight: bold; line-height: 1; border-radius: 0.35em; vertical-align: middle; margin-left: 0.5rem\">GPE</span>\n",
       "</mark>\n",
       " \n",
       "<mark class=\"entity\" style=\"background: #bfe1d9; padding: 0.45em 0.6em; margin: 0 0.25em; line-height: 1; border-radius: 0.35em;\">\n",
       "    a few days ago\n",
       "    <span style=\"font-size: 0.8em; font-weight: bold; line-height: 1; border-radius: 0.35em; vertical-align: middle; margin-left: 0.5rem\">DATE</span>\n",
       "</mark>\n",
       " will have before it the firstfruit of the \n",
       "<mark class=\"entity\" style=\"background: #7aecec; padding: 0.45em 0.6em; margin: 0 0.25em; line-height: 1; border-radius: 0.35em;\">\n",
       "    Commissions\n",
       "    <span style=\"font-size: 0.8em; font-weight: bold; line-height: 1; border-radius: 0.35em; vertical-align: middle; margin-left: 0.5rem\">ORG</span>\n",
       "</mark>\n",
       " labors in this task that is \n",
       "<mark class=\"entity\" style=\"background: #ff8197; padding: 0.45em 0.6em; margin: 0 0.25em; line-height: 1; border-radius: 0.35em;\">\n",
       "    the International Declaration ofHuman Rights The Declaration\n",
       "    <span style=\"font-size: 0.8em; font-weight: bold; line-height: 1; border-radius: 0.35em; vertical-align: middle; margin-left: 0.5rem\">LAW</span>\n",
       "</mark>\n",
       " was finally completed after much work during thelast session of \n",
       "<mark class=\"entity\" style=\"background: #7aecec; padding: 0.45em 0.6em; margin: 0 0.25em; line-height: 1; border-radius: 0.35em;\">\n",
       "    the Human Rights Commission\n",
       "    <span style=\"font-size: 0.8em; font-weight: bold; line-height: 1; border-radius: 0.35em; vertical-align: middle; margin-left: 0.5rem\">ORG</span>\n",
       "</mark>\n",
       " in \n",
       "<mark class=\"entity\" style=\"background: #feca74; padding: 0.45em 0.6em; margin: 0 0.25em; line-height: 1; border-radius: 0.35em;\">\n",
       "    New York\n",
       "    <span style=\"font-size: 0.8em; font-weight: bold; line-height: 1; border-radius: 0.35em; vertical-align: middle; margin-left: 0.5rem\">GPE</span>\n",
       "</mark>\n",
       " in \n",
       "<mark class=\"entity\" style=\"background: #bfe1d9; padding: 0.45em 0.6em; margin: 0 0.25em; line-height: 1; border-radius: 0.35em;\">\n",
       "    the spring of\n",
       "    <span style=\"font-size: 0.8em; font-weight: bold; line-height: 1; border-radius: 0.35em; vertical-align: middle; margin-left: 0.5rem\">DATE</span>\n",
       "</mark>\n",
       " \n",
       "<mark class=\"entity\" style=\"background: #bfe1d9; padding: 0.45em 0.6em; margin: 0 0.25em; line-height: 1; border-radius: 0.35em;\">\n",
       "    1948\n",
       "    <span style=\"font-size: 0.8em; font-weight: bold; line-height: 1; border-radius: 0.35em; vertical-align: middle; margin-left: 0.5rem\">DATE</span>\n",
       "</mark>\n",
       " \n",
       "<mark class=\"entity\" style=\"background: #7aecec; padding: 0.45em 0.6em; margin: 0 0.25em; line-height: 1; border-radius: 0.35em;\">\n",
       "    TheEconomic\n",
       "    <span style=\"font-size: 0.8em; font-weight: bold; line-height: 1; border-radius: 0.35em; vertical-align: middle; margin-left: 0.5rem\">ORG</span>\n",
       "</mark>\n",
       " and \n",
       "<mark class=\"entity\" style=\"background: #7aecec; padding: 0.45em 0.6em; margin: 0 0.25em; line-height: 1; border-radius: 0.35em;\">\n",
       "    Social Council\n",
       "    <span style=\"font-size: 0.8em; font-weight: bold; line-height: 1; border-radius: 0.35em; vertical-align: middle; margin-left: 0.5rem\">ORG</span>\n",
       "</mark>\n",
       " has sent it without recommendation to the General \n",
       "<mark class=\"entity\" style=\"background: #aa9cfc; padding: 0.45em 0.6em; margin: 0 0.25em; line-height: 1; border-radius: 0.35em;\">\n",
       "    Assemblytogether\n",
       "    <span style=\"font-size: 0.8em; font-weight: bold; line-height: 1; border-radius: 0.35em; vertical-align: middle; margin-left: 0.5rem\">PERSON</span>\n",
       "</mark>\n",
       " with other documents transmitted by \n",
       "<mark class=\"entity\" style=\"background: #7aecec; padding: 0.45em 0.6em; margin: 0 0.25em; line-height: 1; border-radius: 0.35em;\">\n",
       "    the Human Rights Commission\n",
       "    <span style=\"font-size: 0.8em; font-weight: bold; line-height: 1; border-radius: 0.35em; vertical-align: middle; margin-left: 0.5rem\">ORG</span>\n",
       "</mark>\n",
       " It was decided in our Commission that \n",
       "<mark class=\"entity\" style=\"background: #e4e7d2; padding: 0.45em 0.6em; margin: 0 0.25em; line-height: 1; border-radius: 0.35em;\">\n",
       "    a Bill of Rights\n",
       "    <span style=\"font-size: 0.8em; font-weight: bold; line-height: 1; border-radius: 0.35em; vertical-align: middle; margin-left: 0.5rem\">QUANTITY</span>\n",
       "</mark>\n",
       " shouldcontain \n",
       "<mark class=\"entity\" style=\"background: #e4e7d2; padding: 0.45em 0.6em; margin: 0 0.25em; line-height: 1; border-radius: 0.35em;\">\n",
       "    two\n",
       "    <span style=\"font-size: 0.8em; font-weight: bold; line-height: 1; border-radius: 0.35em; vertical-align: middle; margin-left: 0.5rem\">CARDINAL</span>\n",
       "</mark>\n",
       " parts \n",
       "<mark class=\"entity\" style=\"background: #e4e7d2; padding: 0.45em 0.6em; margin: 0 0.25em; line-height: 1; border-radius: 0.35em;\">\n",
       "    1 A Declaration\n",
       "    <span style=\"font-size: 0.8em; font-weight: bold; line-height: 1; border-radius: 0.35em; vertical-align: middle; margin-left: 0.5rem\">QUANTITY</span>\n",
       "</mark>\n",
       " which could be approved through action of \n",
       "<mark class=\"entity\" style=\"background: #feca74; padding: 0.45em 0.6em; margin: 0 0.25em; line-height: 1; border-radius: 0.35em;\">\n",
       "    theMember States of the United Nations\n",
       "    <span style=\"font-size: 0.8em; font-weight: bold; line-height: 1; border-radius: 0.35em; vertical-align: middle; margin-left: 0.5rem\">GPE</span>\n",
       "</mark>\n",
       " in \n",
       "<mark class=\"entity\" style=\"background: #7aecec; padding: 0.45em 0.6em; margin: 0 0.25em; line-height: 1; border-radius: 0.35em;\">\n",
       "    the General Assembly\n",
       "    <span style=\"font-size: 0.8em; font-weight: bold; line-height: 1; border-radius: 0.35em; vertical-align: middle; margin-left: 0.5rem\">ORG</span>\n",
       "</mark>\n",
       " This declaration would havegreat moral force and would say to the peoples of the world this is what we hopehuman rights may mean to all people in \n",
       "<mark class=\"entity\" style=\"background: #bfe1d9; padding: 0.45em 0.6em; margin: 0 0.25em; line-height: 1; border-radius: 0.35em;\">\n",
       "    the years\n",
       "    <span style=\"font-size: 0.8em; font-weight: bold; line-height: 1; border-radius: 0.35em; vertical-align: middle; margin-left: 0.5rem\">DATE</span>\n",
       "</mark>\n",
       " to come We have put down here therights that we consider basic for individual human beings the world over to have \n",
       "<mark class=\"entity\" style=\"background: #7aecec; padding: 0.45em 0.6em; margin: 0 0.25em; line-height: 1; border-radius: 0.35em;\">\n",
       "    Withoutthem\n",
       "    <span style=\"font-size: 0.8em; font-weight: bold; line-height: 1; border-radius: 0.35em; vertical-align: middle; margin-left: 0.5rem\">ORG</span>\n",
       "</mark>\n",
       " we feel that the full development of individual personality is impossible \n",
       "<mark class=\"entity\" style=\"background: #e4e7d2; padding: 0.45em 0.6em; margin: 0 0.25em; line-height: 1; border-radius: 0.35em;\">\n",
       "    2\n",
       "    <span style=\"font-size: 0.8em; font-weight: bold; line-height: 1; border-radius: 0.35em; vertical-align: middle; margin-left: 0.5rem\">CARDINAL</span>\n",
       "</mark>\n",
       " The \n",
       "<mark class=\"entity\" style=\"background: #e4e7d2; padding: 0.45em 0.6em; margin: 0 0.25em; line-height: 1; border-radius: 0.35em;\">\n",
       "    second\n",
       "    <span style=\"font-size: 0.8em; font-weight: bold; line-height: 1; border-radius: 0.35em; vertical-align: middle; margin-left: 0.5rem\">ORDINAL</span>\n",
       "</mark>\n",
       " part of the bill which \n",
       "<mark class=\"entity\" style=\"background: #7aecec; padding: 0.45em 0.6em; margin: 0 0.25em; line-height: 1; border-radius: 0.35em;\">\n",
       "    the Human Rights Commissionhas\n",
       "    <span style=\"font-size: 0.8em; font-weight: bold; line-height: 1; border-radius: 0.35em; vertical-align: middle; margin-left: 0.5rem\">ORG</span>\n",
       "</mark>\n",
       " not yet completed because of the lack of time is a covenant which would be in theform of a treaty to be presented to the nations of the world Each nation as it isprepared to do so would ratify this covenant and the covenant would then become bindingon the nations which adhere to it Each nation ratifying would then be obligated to changeits laws wherever they did not conform to the points contained in the covenant This covenant of course would have to be a simpler document Itcould not state aspirations which we feel to be permissible in \n",
       "<mark class=\"entity\" style=\"background: #f0d0ff; padding: 0.45em 0.6em; margin: 0 0.25em; line-height: 1; border-radius: 0.35em;\">\n",
       "    the Declaration\n",
       "    <span style=\"font-size: 0.8em; font-weight: bold; line-height: 1; border-radius: 0.35em; vertical-align: middle; margin-left: 0.5rem\">WORK_OF_ART</span>\n",
       "</mark>\n",
       " It couldonly state rights which could be assured by law and it must contain methods ofimplementation and no state ratifying the covenant could be allowed to disregard it \n",
       "<mark class=\"entity\" style=\"background: #feca74; padding: 0.45em 0.6em; margin: 0 0.25em; line-height: 1; border-radius: 0.35em;\">\n",
       "    Themethods\n",
       "    <span style=\"font-size: 0.8em; font-weight: bold; line-height: 1; border-radius: 0.35em; vertical-align: middle; margin-left: 0.5rem\">GPE</span>\n",
       "</mark>\n",
       " of implementation have not yet been agreed upon nor have they been given adequateconsideration by the Commission at any of its meetings There certainly should bediscussion on the entire question of this world Bill of Human Rights and there may beacceptance by \n",
       "<mark class=\"entity\" style=\"background: #7aecec; padding: 0.45em 0.6em; margin: 0 0.25em; line-height: 1; border-radius: 0.35em;\">\n",
       "    this Assembly of the Declaration\n",
       "    <span style=\"font-size: 0.8em; font-weight: bold; line-height: 1; border-radius: 0.35em; vertical-align: middle; margin-left: 0.5rem\">ORG</span>\n",
       "</mark>\n",
       " if they come to agreement on it Theacceptance of the Declaration I think should encourage every nation in the coming monthsto discuss its meaning with its people so that they will be better prepared to accept thecovenant with a deeper understanding of the problems involved when that is presented wehope \n",
       "<mark class=\"entity\" style=\"background: #bfe1d9; padding: 0.45em 0.6em; margin: 0 0.25em; line-height: 1; border-radius: 0.35em;\">\n",
       "    a year from now\n",
       "    <span style=\"font-size: 0.8em; font-weight: bold; line-height: 1; border-radius: 0.35em; vertical-align: middle; margin-left: 0.5rem\">DATE</span>\n",
       "</mark>\n",
       " and we hope accepted \n",
       "<mark class=\"entity\" style=\"background: #f0d0ff; padding: 0.45em 0.6em; margin: 0 0.25em; line-height: 1; border-radius: 0.35em;\">\n",
       "    The Declaration\n",
       "    <span style=\"font-size: 0.8em; font-weight: bold; line-height: 1; border-radius: 0.35em; vertical-align: middle; margin-left: 0.5rem\">WORK_OF_ART</span>\n",
       "</mark>\n",
       " has come from \n",
       "<mark class=\"entity\" style=\"background: #7aecec; padding: 0.45em 0.6em; margin: 0 0.25em; line-height: 1; border-radius: 0.35em;\">\n",
       "    the Human Rights Commission\n",
       "    <span style=\"font-size: 0.8em; font-weight: bold; line-height: 1; border-radius: 0.35em; vertical-align: middle; margin-left: 0.5rem\">ORG</span>\n",
       "</mark>\n",
       " withunanimous acceptance except for \n",
       "<mark class=\"entity\" style=\"background: #e4e7d2; padding: 0.45em 0.6em; margin: 0 0.25em; line-height: 1; border-radius: 0.35em;\">\n",
       "    four\n",
       "    <span style=\"font-size: 0.8em; font-weight: bold; line-height: 1; border-radius: 0.35em; vertical-align: middle; margin-left: 0.5rem\">CARDINAL</span>\n",
       "</mark>\n",
       " abstentions the \n",
       "<mark class=\"entity\" style=\"background: #feca74; padding: 0.45em 0.6em; margin: 0 0.25em; line-height: 1; border-radius: 0.35em;\">\n",
       "    USSR\n",
       "    <span style=\"font-size: 0.8em; font-weight: bold; line-height: 1; border-radius: 0.35em; vertical-align: middle; margin-left: 0.5rem\">GPE</span>\n",
       "</mark>\n",
       " \n",
       "<mark class=\"entity\" style=\"background: #feca74; padding: 0.45em 0.6em; margin: 0 0.25em; line-height: 1; border-radius: 0.35em;\">\n",
       "    Yugoslavia\n",
       "    <span style=\"font-size: 0.8em; font-weight: bold; line-height: 1; border-radius: 0.35em; vertical-align: middle; margin-left: 0.5rem\">GPE</span>\n",
       "</mark>\n",
       " \n",
       "<mark class=\"entity\" style=\"background: #feca74; padding: 0.45em 0.6em; margin: 0 0.25em; line-height: 1; border-radius: 0.35em;\">\n",
       "    Ukraine\n",
       "    <span style=\"font-size: 0.8em; font-weight: bold; line-height: 1; border-radius: 0.35em; vertical-align: middle; margin-left: 0.5rem\">GPE</span>\n",
       "</mark>\n",
       " \n",
       "<mark class=\"entity\" style=\"background: #feca74; padding: 0.45em 0.6em; margin: 0 0.25em; line-height: 1; border-radius: 0.35em;\">\n",
       "    andByelorussia\n",
       "    <span style=\"font-size: 0.8em; font-weight: bold; line-height: 1; border-radius: 0.35em; vertical-align: middle; margin-left: 0.5rem\">GPE</span>\n",
       "</mark>\n",
       " The reason for this is a fundamental difference in the conception of humanrights as they exist in these states and in certain other Member \n",
       "<mark class=\"entity\" style=\"background: #feca74; padding: 0.45em 0.6em; margin: 0 0.25em; line-height: 1; border-radius: 0.35em;\">\n",
       "    States\n",
       "    <span style=\"font-size: 0.8em; font-weight: bold; line-height: 1; border-radius: 0.35em; vertical-align: middle; margin-left: 0.5rem\">GPE</span>\n",
       "</mark>\n",
       " in the UnitedNations In the discussion before the \n",
       "<mark class=\"entity\" style=\"background: #7aecec; padding: 0.45em 0.6em; margin: 0 0.25em; line-height: 1; border-radius: 0.35em;\">\n",
       "    Assembly\n",
       "    <span style=\"font-size: 0.8em; font-weight: bold; line-height: 1; border-radius: 0.35em; vertical-align: middle; margin-left: 0.5rem\">ORG</span>\n",
       "</mark>\n",
       " I think it should be madecrystal clear what these differences are and \n",
       "<mark class=\"entity\" style=\"background: #bfe1d9; padding: 0.45em 0.6em; margin: 0 0.25em; line-height: 1; border-radius: 0.35em;\">\n",
       "    tonight\n",
       "    <span style=\"font-size: 0.8em; font-weight: bold; line-height: 1; border-radius: 0.35em; vertical-align: middle; margin-left: 0.5rem\">TIME</span>\n",
       "</mark>\n",
       " I want to spend a little time makingthem clear to you It seems to me there is a valid reason for taking the time \n",
       "<mark class=\"entity\" style=\"background: #bfe1d9; padding: 0.45em 0.6em; margin: 0 0.25em; line-height: 1; border-radius: 0.35em;\">\n",
       "    today\n",
       "    <span style=\"font-size: 0.8em; font-weight: bold; line-height: 1; border-radius: 0.35em; vertical-align: middle; margin-left: 0.5rem\">DATE</span>\n",
       "</mark>\n",
       " tothink carefully and clearly on the subject of human rights because in the acceptance andobservance of these rights lies the root I believe of our chance of peace in the futureand for the strengthening of the \n",
       "<mark class=\"entity\" style=\"background: #7aecec; padding: 0.45em 0.6em; margin: 0 0.25em; line-height: 1; border-radius: 0.35em;\">\n",
       "    United Nations\n",
       "    <span style=\"font-size: 0.8em; font-weight: bold; line-height: 1; border-radius: 0.35em; vertical-align: middle; margin-left: 0.5rem\">ORG</span>\n",
       "</mark>\n",
       " organization to the point where it canmaintain peace in the future We must not be confused about what freedom is Basic human rightsare simple and easily understood freedom of speech and a free press freedom of religionand worship freedom of assembly and the right of petition the right of men to be securein their homes and free from unreasonable search and seizure and from arbitrary arrest andpunishment We must not be deluded by the efforts of the forces of reaction toprostitute the great words of our free tradition and thereby to confuse the struggleDemocracy freedom human rights have come to have a definite meaning to the people of theworld which we must not allow any nation to so change that they are made synonymous withsuppression and dictatorship There are basic differences that show up even in the use of wordsbetween a democratic and a totalitarian country For instance democracy meansone thing to the \n",
       "<mark class=\"entity\" style=\"background: #feca74; padding: 0.45em 0.6em; margin: 0 0.25em; line-height: 1; border-radius: 0.35em;\">\n",
       "    USSR\n",
       "    <span style=\"font-size: 0.8em; font-weight: bold; line-height: 1; border-radius: 0.35em; vertical-align: middle; margin-left: 0.5rem\">GPE</span>\n",
       "</mark>\n",
       " and another the \n",
       "<mark class=\"entity\" style=\"background: #feca74; padding: 0.45em 0.6em; margin: 0 0.25em; line-height: 1; border-radius: 0.35em;\">\n",
       "    USA\n",
       "    <span style=\"font-size: 0.8em; font-weight: bold; line-height: 1; border-radius: 0.35em; vertical-align: middle; margin-left: 0.5rem\">GPE</span>\n",
       "</mark>\n",
       " and I know in \n",
       "<mark class=\"entity\" style=\"background: #feca74; padding: 0.45em 0.6em; margin: 0 0.25em; line-height: 1; border-radius: 0.35em;\">\n",
       "    France\n",
       "    <span style=\"font-size: 0.8em; font-weight: bold; line-height: 1; border-radius: 0.35em; vertical-align: middle; margin-left: 0.5rem\">GPE</span>\n",
       "</mark>\n",
       " I have servedsince the \n",
       "<mark class=\"entity\" style=\"background: #e4e7d2; padding: 0.45em 0.6em; margin: 0 0.25em; line-height: 1; border-radius: 0.35em;\">\n",
       "    first\n",
       "    <span style=\"font-size: 0.8em; font-weight: bold; line-height: 1; border-radius: 0.35em; vertical-align: middle; margin-left: 0.5rem\">ORDINAL</span>\n",
       "</mark>\n",
       " meeting of the nuclear commission on \n",
       "<mark class=\"entity\" style=\"background: #7aecec; padding: 0.45em 0.6em; margin: 0 0.25em; line-height: 1; border-radius: 0.35em;\">\n",
       "    the Human Rights Commission\n",
       "    <span style=\"font-size: 0.8em; font-weight: bold; line-height: 1; border-radius: 0.35em; vertical-align: middle; margin-left: 0.5rem\">ORG</span>\n",
       "</mark>\n",
       " and Ithink this point stands out clearly \n",
       "<mark class=\"entity\" style=\"background: #7aecec; padding: 0.45em 0.6em; margin: 0 0.25em; line-height: 1; border-radius: 0.35em;\">\n",
       "    The USSR Representatives\n",
       "    <span style=\"font-size: 0.8em; font-weight: bold; line-height: 1; border-radius: 0.35em; vertical-align: middle; margin-left: 0.5rem\">ORG</span>\n",
       "</mark>\n",
       " assert that they already have achievedmany things which we in what they call the bourgeois democracies cannotachieve because their government controls the accomplishment of these things Ourgovernment seems powerless to them because in the last analysis it is controlled by thepeople They would not put it that way they would say that the people in the \n",
       "<mark class=\"entity\" style=\"background: #7aecec; padding: 0.45em 0.6em; margin: 0 0.25em; line-height: 1; border-radius: 0.35em;\">\n",
       "    USSRcontrol\n",
       "    <span style=\"font-size: 0.8em; font-weight: bold; line-height: 1; border-radius: 0.35em; vertical-align: middle; margin-left: 0.5rem\">ORG</span>\n",
       "</mark>\n",
       " their government by allowing their government to have certain absolute rights Weon the other hand feel that certain rights can never be granted to the government butmust be kept in the hands of the people For instance the \n",
       "<mark class=\"entity\" style=\"background: #feca74; padding: 0.45em 0.6em; margin: 0 0.25em; line-height: 1; border-radius: 0.35em;\">\n",
       "    USSR\n",
       "    <span style=\"font-size: 0.8em; font-weight: bold; line-height: 1; border-radius: 0.35em; vertical-align: middle; margin-left: 0.5rem\">GPE</span>\n",
       "</mark>\n",
       " will assert that their press is freebecause the state makes it free by providing the machinery the paper and even the moneyfor salaries for the people who work on the paper They state that there is no controlover what is printed in the various papers that they subsidize in this manner such forinstance as a tradeunion paper But what would happen if a paper were to print ideaswhich were critical of the basic policies and beliefs of the \n",
       "<mark class=\"entity\" style=\"background: #c887fb; padding: 0.45em 0.6em; margin: 0 0.25em; line-height: 1; border-radius: 0.35em;\">\n",
       "    Communist\n",
       "    <span style=\"font-size: 0.8em; font-weight: bold; line-height: 1; border-radius: 0.35em; vertical-align: middle; margin-left: 0.5rem\">NORP</span>\n",
       "</mark>\n",
       " government I amsure some good reason would be found for abolishing the paper It is true that they have been many cases where newspapers in \n",
       "<mark class=\"entity\" style=\"background: #c887fb; padding: 0.45em 0.6em; margin: 0 0.25em; line-height: 1; border-radius: 0.35em;\">\n",
       "    theUSSR\n",
       "    <span style=\"font-size: 0.8em; font-weight: bold; line-height: 1; border-radius: 0.35em; vertical-align: middle; margin-left: 0.5rem\">NORP</span>\n",
       "</mark>\n",
       " have criticized officials and their actions and have been responsible for theremoval of those officials but in doing so they did not criticize anything which wasfundamental to \n",
       "<mark class=\"entity\" style=\"background: #c887fb; padding: 0.45em 0.6em; margin: 0 0.25em; line-height: 1; border-radius: 0.35em;\">\n",
       "    Communist\n",
       "    <span style=\"font-size: 0.8em; font-weight: bold; line-height: 1; border-radius: 0.35em; vertical-align: middle; margin-left: 0.5rem\">NORP</span>\n",
       "</mark>\n",
       " beliefs They simply criticized methods of doing things so onemust differentiate between things which are permissible such as criticism of anyindividual or of the manner of doing things and the criticism of a belief which would beconsidered vital to the acceptance of Communism What are the differences for instance between tradeunions in \n",
       "<mark class=\"entity\" style=\"background: #c887fb; padding: 0.45em 0.6em; margin: 0 0.25em; line-height: 1; border-radius: 0.35em;\">\n",
       "    thetotalitarian\n",
       "    <span style=\"font-size: 0.8em; font-weight: bold; line-height: 1; border-radius: 0.35em; vertical-align: middle; margin-left: 0.5rem\">NORP</span>\n",
       "</mark>\n",
       " states and in the democracies In the totalitarian state a tradeunion is aninstrument used by the government to enforce duties not to assert rights Propagandamaterial which the government desires the workers to have is furnished by the tradeunionsto be circulated to their members Our tradeunions on the other hand are solely the instrument ofthe workers themselves They represent the workers in their relations with the governmentand with management and they are free to develop their own opinions without governmenthelp or interference The concepts of our tradeunions and those in totalitarian countriesare drastically different There is little mutual understanding I think the best example one can give of this basic difference ofthe use of terms is the right to work \n",
       "<mark class=\"entity\" style=\"background: #feca74; padding: 0.45em 0.6em; margin: 0 0.25em; line-height: 1; border-radius: 0.35em;\">\n",
       "    The Soviet Union\n",
       "    <span style=\"font-size: 0.8em; font-weight: bold; line-height: 1; border-radius: 0.35em; vertical-align: middle; margin-left: 0.5rem\">GPE</span>\n",
       "</mark>\n",
       " insists that this is abasic right which it alone can guarantee because it alone provides full employment by thegovernment But the right to work in \n",
       "<mark class=\"entity\" style=\"background: #feca74; padding: 0.45em 0.6em; margin: 0 0.25em; line-height: 1; border-radius: 0.35em;\">\n",
       "    the Soviet Union\n",
       "    <span style=\"font-size: 0.8em; font-weight: bold; line-height: 1; border-radius: 0.35em; vertical-align: middle; margin-left: 0.5rem\">GPE</span>\n",
       "</mark>\n",
       " means the assignment of workers todo whatever task is given to them by the government without an opportunity for the peopleto participate in the decision that the government should do this A society in whicheveryone works is not necessarily a free society and may indeed be a slave society on theother hand a society in which there is widespread economic insecurity can turn freedominto a barren and vapid right for \n",
       "<mark class=\"entity\" style=\"background: #e4e7d2; padding: 0.45em 0.6em; margin: 0 0.25em; line-height: 1; border-radius: 0.35em;\">\n",
       "    millions\n",
       "    <span style=\"font-size: 0.8em; font-weight: bold; line-height: 1; border-radius: 0.35em; vertical-align: middle; margin-left: 0.5rem\">CARDINAL</span>\n",
       "</mark>\n",
       " of people We in \n",
       "<mark class=\"entity\" style=\"background: #feca74; padding: 0.45em 0.6em; margin: 0 0.25em; line-height: 1; border-radius: 0.35em;\">\n",
       "    the United States\n",
       "    <span style=\"font-size: 0.8em; font-weight: bold; line-height: 1; border-radius: 0.35em; vertical-align: middle; margin-left: 0.5rem\">GPE</span>\n",
       "</mark>\n",
       " have come to realize it means freedom tochoose ones job to work or not to work as \n",
       "<mark class=\"entity\" style=\"background: #e4e7d2; padding: 0.45em 0.6em; margin: 0 0.25em; line-height: 1; border-radius: 0.35em;\">\n",
       "    one\n",
       "    <span style=\"font-size: 0.8em; font-weight: bold; line-height: 1; border-radius: 0.35em; vertical-align: middle; margin-left: 0.5rem\">CARDINAL</span>\n",
       "</mark>\n",
       " desires We in the United Stateshave come to realize however that people have a right to demand that their governmentwill not allow them to starve because as individuals they cannot find work of the kindthey are accustomed to doing and this is a decision brought about by public opinion whichcame as a result of the great depression in which many people were out of work but wewould not consider in \n",
       "<mark class=\"entity\" style=\"background: #feca74; padding: 0.45em 0.6em; margin: 0 0.25em; line-height: 1; border-radius: 0.35em;\">\n",
       "    the United States\n",
       "    <span style=\"font-size: 0.8em; font-weight: bold; line-height: 1; border-radius: 0.35em; vertical-align: middle; margin-left: 0.5rem\">GPE</span>\n",
       "</mark>\n",
       " that we had gained any freedom if we werecompelled to follow a dictatorial assignment to work where and when we were told \n",
       "<mark class=\"entity\" style=\"background: #feca74; padding: 0.45em 0.6em; margin: 0 0.25em; line-height: 1; border-radius: 0.35em;\">\n",
       "    Theright\n",
       "    <span style=\"font-size: 0.8em; font-weight: bold; line-height: 1; border-radius: 0.35em; vertical-align: middle; margin-left: 0.5rem\">GPE</span>\n",
       "</mark>\n",
       " of choice would seem to us an important fundamental freedom I have great sympathy with the \n",
       "<mark class=\"entity\" style=\"background: #c887fb; padding: 0.45em 0.6em; margin: 0 0.25em; line-height: 1; border-radius: 0.35em;\">\n",
       "    Russian\n",
       "    <span style=\"font-size: 0.8em; font-weight: bold; line-height: 1; border-radius: 0.35em; vertical-align: middle; margin-left: 0.5rem\">NORP</span>\n",
       "</mark>\n",
       " people They love theircountry and have always defended it valiantly against invaders They have been through aperiod of revolution as a result of which they were for a time cut off from outsidecontact They have not lost their resulting suspicion of other countries and the greatdifficulty is \n",
       "<mark class=\"entity\" style=\"background: #bfe1d9; padding: 0.45em 0.6em; margin: 0 0.25em; line-height: 1; border-radius: 0.35em;\">\n",
       "    today\n",
       "    <span style=\"font-size: 0.8em; font-weight: bold; line-height: 1; border-radius: 0.35em; vertical-align: middle; margin-left: 0.5rem\">DATE</span>\n",
       "</mark>\n",
       " that their government encourages this suspicion and seems to believethat force alone will bring them respect We in the democracies believe in a kind of international respectand action which is reciprocal We do not think others should treat us differently fromthe way they wish to be treated It is interference in other countries that especiallystirs up antagonism against \n",
       "<mark class=\"entity\" style=\"background: #feca74; padding: 0.45em 0.6em; margin: 0 0.25em; line-height: 1; border-radius: 0.35em;\">\n",
       "    the Soviet Government\n",
       "    <span style=\"font-size: 0.8em; font-weight: bold; line-height: 1; border-radius: 0.35em; vertical-align: middle; margin-left: 0.5rem\">GPE</span>\n",
       "</mark>\n",
       " If it wishes to feel secure indeveloping its economic and political theories within its territory then it should grantto others that same security We believe in the freedom of people to make their ownmistakes We do not interfere with them and they should not interfere with others The basic problem confronting the world \n",
       "<mark class=\"entity\" style=\"background: #bfe1d9; padding: 0.45em 0.6em; margin: 0 0.25em; line-height: 1; border-radius: 0.35em;\">\n",
       "    today\n",
       "    <span style=\"font-size: 0.8em; font-weight: bold; line-height: 1; border-radius: 0.35em; vertical-align: middle; margin-left: 0.5rem\">DATE</span>\n",
       "</mark>\n",
       " as I said in thebeginning is the preservation of human freedom for the individual and consequently forthe society of which he is a part We are fighting this battle again \n",
       "<mark class=\"entity\" style=\"background: #bfe1d9; padding: 0.45em 0.6em; margin: 0 0.25em; line-height: 1; border-radius: 0.35em;\">\n",
       "    today\n",
       "    <span style=\"font-size: 0.8em; font-weight: bold; line-height: 1; border-radius: 0.35em; vertical-align: middle; margin-left: 0.5rem\">DATE</span>\n",
       "</mark>\n",
       " as it wasfought at the time of \n",
       "<mark class=\"entity\" style=\"background: #ffeb80; padding: 0.45em 0.6em; margin: 0 0.25em; line-height: 1; border-radius: 0.35em;\">\n",
       "    the French Revolution\n",
       "    <span style=\"font-size: 0.8em; font-weight: bold; line-height: 1; border-radius: 0.35em; vertical-align: middle; margin-left: 0.5rem\">EVENT</span>\n",
       "</mark>\n",
       " and as the time of the \n",
       "<mark class=\"entity\" style=\"background: #c887fb; padding: 0.45em 0.6em; margin: 0 0.25em; line-height: 1; border-radius: 0.35em;\">\n",
       "    American\n",
       "    <span style=\"font-size: 0.8em; font-weight: bold; line-height: 1; border-radius: 0.35em; vertical-align: middle; margin-left: 0.5rem\">NORP</span>\n",
       "</mark>\n",
       " \n",
       "<mark class=\"entity\" style=\"background: #7aecec; padding: 0.45em 0.6em; margin: 0 0.25em; line-height: 1; border-radius: 0.35em;\">\n",
       "    RevolutionThe\n",
       "    <span style=\"font-size: 0.8em; font-weight: bold; line-height: 1; border-radius: 0.35em; vertical-align: middle; margin-left: 0.5rem\">ORG</span>\n",
       "</mark>\n",
       " issue of human liberty is as decisive now as it was then I want to give you myconception of what is meant in my country by freedom of the individual Long ago in \n",
       "<mark class=\"entity\" style=\"background: #feca74; padding: 0.45em 0.6em; margin: 0 0.25em; line-height: 1; border-radius: 0.35em;\">\n",
       "    London\n",
       "    <span style=\"font-size: 0.8em; font-weight: bold; line-height: 1; border-radius: 0.35em; vertical-align: middle; margin-left: 0.5rem\">GPE</span>\n",
       "</mark>\n",
       " during a discussion with Mr \n",
       "<mark class=\"entity\" style=\"background: #aa9cfc; padding: 0.45em 0.6em; margin: 0 0.25em; line-height: 1; border-radius: 0.35em;\">\n",
       "    Vyshinsky\n",
       "    <span style=\"font-size: 0.8em; font-weight: bold; line-height: 1; border-radius: 0.35em; vertical-align: middle; margin-left: 0.5rem\">PERSON</span>\n",
       "</mark>\n",
       " he toldme there was no such thing as freedom for the individual in the world All freedom of theindividual was conditioned by the rights of other individuals That of course I grantedI said We approach the question from a different point of view we here in \n",
       "<mark class=\"entity\" style=\"background: #7aecec; padding: 0.45em 0.6em; margin: 0 0.25em; line-height: 1; border-radius: 0.35em;\">\n",
       "    theUnited Nations\n",
       "    <span style=\"font-size: 0.8em; font-weight: bold; line-height: 1; border-radius: 0.35em; vertical-align: middle; margin-left: 0.5rem\">ORG</span>\n",
       "</mark>\n",
       " are trying to develop ideals which will be broader in outlook which willconsider \n",
       "<mark class=\"entity\" style=\"background: #e4e7d2; padding: 0.45em 0.6em; margin: 0 0.25em; line-height: 1; border-radius: 0.35em;\">\n",
       "    first\n",
       "    <span style=\"font-size: 0.8em; font-weight: bold; line-height: 1; border-radius: 0.35em; vertical-align: middle; margin-left: 0.5rem\">ORDINAL</span>\n",
       "</mark>\n",
       " the rights of man which will consider what makes man more free notgovernments but man The totalitarian state typically places the will of the peoplesecond to decrees promulgated by a few men at the \n",
       "<mark class=\"entity\" style=\"background: #7aecec; padding: 0.45em 0.6em; margin: 0 0.25em; line-height: 1; border-radius: 0.35em;\">\n",
       "    topNaturally\n",
       "    <span style=\"font-size: 0.8em; font-weight: bold; line-height: 1; border-radius: 0.35em; vertical-align: middle; margin-left: 0.5rem\">ORG</span>\n",
       "</mark>\n",
       " there must always be consideration of the rights of others but in a democracythis is not a restriction Indeed in our democracies we make our freedoms secure becauseeach of us is expected to respect the rights of others and we are free to make our ownlaws Freedom for our peoples is not only a right but also a tool Freedom of speechfreedom of the press freedom of information freedom of assembly these are not justabstract ideals to us they are tools with which we create a way of life a way of life inwhich we can enjoy freedom Sometimes the processes of democracy are slow and I have known someof our leaders to say that a benevolent dictatorship would accomplish the ends desired ina much shorter time than it takes to go through the democratic processes of discussion andthe slow formation of public opinion But there is no way of insuring that a dictatorshipwill remain benevolent or that power once in the hands of a few will be returned to thepeople without struggle or revolution This we have learned by experience and we acceptthe slow processes of democracy because we know that shortcuts compromise principles onwhich no compromise is possible The final expression of the opinion of the people with us is throughfree and honest elections with valid choices on basic issues and candidates The secretballot is an essential to free elections but you must have a choice before you I haveheard my husband say many times that a people need never lose their freedom if they kepttheir right to a secret ballot and if they used that secret ballot to the full Basicdecisions of our society are made through the expressed will of the people That is whywhen we see these liberties threatened instead of falling apart our nation becomesunified and our democracies come together as a unified group in spite of our variedbackgrounds and many racial strains In \n",
       "<mark class=\"entity\" style=\"background: #feca74; padding: 0.45em 0.6em; margin: 0 0.25em; line-height: 1; border-radius: 0.35em;\">\n",
       "    the United States\n",
       "    <span style=\"font-size: 0.8em; font-weight: bold; line-height: 1; border-radius: 0.35em; vertical-align: middle; margin-left: 0.5rem\">GPE</span>\n",
       "</mark>\n",
       " we have a capitalistic economy That is becausepublic opinion favors that type of economy under the conditions in which we live But wehave imposed certain restraints for instance we have antitrust laws These are the legalevidence of the determination of the \n",
       "<mark class=\"entity\" style=\"background: #c887fb; padding: 0.45em 0.6em; margin: 0 0.25em; line-height: 1; border-radius: 0.35em;\">\n",
       "    American\n",
       "    <span style=\"font-size: 0.8em; font-weight: bold; line-height: 1; border-radius: 0.35em; vertical-align: middle; margin-left: 0.5rem\">NORP</span>\n",
       "</mark>\n",
       " people to maintain an economy of freecompetition and not to allow monopolies to take away the peoples freedom Our tradeunions grow stronger because the people come to believethat this is the proper way to guarantee the rights of the workers and that the right toorganize and to bargain collectively keeps the balance between the actual producer an theinvestor of money and the manage in industry who watches over the man who works with thishands and who produces the materials which are out tangible wealth In \n",
       "<mark class=\"entity\" style=\"background: #feca74; padding: 0.45em 0.6em; margin: 0 0.25em; line-height: 1; border-radius: 0.35em;\">\n",
       "    the United States\n",
       "    <span style=\"font-size: 0.8em; font-weight: bold; line-height: 1; border-radius: 0.35em; vertical-align: middle; margin-left: 0.5rem\">GPE</span>\n",
       "</mark>\n",
       " we are old enough not to claim perfection \n",
       "<mark class=\"entity\" style=\"background: #aa9cfc; padding: 0.45em 0.6em; margin: 0 0.25em; line-height: 1; border-radius: 0.35em;\">\n",
       "    Werecognize\n",
       "    <span style=\"font-size: 0.8em; font-weight: bold; line-height: 1; border-radius: 0.35em; vertical-align: middle; margin-left: 0.5rem\">PERSON</span>\n",
       "</mark>\n",
       " that we have some problems of discrimination but we find steady progress beingmade in the solution of these problems Through normal democratic processes we are comingto understand our needs and how we can attain full equality for all our people \n",
       "<mark class=\"entity\" style=\"background: #aa9cfc; padding: 0.45em 0.6em; margin: 0 0.25em; line-height: 1; border-radius: 0.35em;\">\n",
       "    Freediscussion\n",
       "    <span style=\"font-size: 0.8em; font-weight: bold; line-height: 1; border-radius: 0.35em; vertical-align: middle; margin-left: 0.5rem\">PERSON</span>\n",
       "</mark>\n",
       " on the subject is permitted \n",
       "<mark class=\"entity\" style=\"background: #7aecec; padding: 0.45em 0.6em; margin: 0 0.25em; line-height: 1; border-radius: 0.35em;\">\n",
       "    Our Supreme Court\n",
       "    <span style=\"font-size: 0.8em; font-weight: bold; line-height: 1; border-radius: 0.35em; vertical-align: middle; margin-left: 0.5rem\">ORG</span>\n",
       "</mark>\n",
       " has recently rendered decisionsto clarify a number of our laws to guarantee the rights of all The \n",
       "<mark class=\"entity\" style=\"background: #feca74; padding: 0.45em 0.6em; margin: 0 0.25em; line-height: 1; border-radius: 0.35em;\">\n",
       "    USSR\n",
       "    <span style=\"font-size: 0.8em; font-weight: bold; line-height: 1; border-radius: 0.35em; vertical-align: middle; margin-left: 0.5rem\">GPE</span>\n",
       "</mark>\n",
       " claims it has reached a point where all races withinher borders are officially considered equal and have equal rights and they insist thatthey have no discrimination where minorities are concerned This is a laudable objective but there are other aspects of thedevelopment of freedom for the individual which are essential before the mere absence ofdiscrimination is worth much and these are lacking in \n",
       "<mark class=\"entity\" style=\"background: #feca74; padding: 0.45em 0.6em; margin: 0 0.25em; line-height: 1; border-radius: 0.35em;\">\n",
       "    the Soviet Union\n",
       "    <span style=\"font-size: 0.8em; font-weight: bold; line-height: 1; border-radius: 0.35em; vertical-align: middle; margin-left: 0.5rem\">GPE</span>\n",
       "</mark>\n",
       " Unless they arebeing denied freedoms which they want and which they see other people have people do notusually complain of discrimination It is these other freedoms the basic freedoms ofspeech of the press of religion and conscience of assembly of fair trial and freedomfrom arbitrary arrest and punishment which a totalitarian government cannot safely giveits people and which give meaning to freedom from discrimination It is my belief and I am sure it is also yours that the strugglefor democracy and freedom is a critical struggle for their preservation is essential tothe great objective of \n",
       "<mark class=\"entity\" style=\"background: #7aecec; padding: 0.45em 0.6em; margin: 0 0.25em; line-height: 1; border-radius: 0.35em;\">\n",
       "    the United Nations\n",
       "    <span style=\"font-size: 0.8em; font-weight: bold; line-height: 1; border-radius: 0.35em; vertical-align: middle; margin-left: 0.5rem\">ORG</span>\n",
       "</mark>\n",
       " to maintain international peace and securityAmong free men the end cannot justify the means We know the patterns of totalitarianism the single political party the control of schools press radio the arts thesciences and the church to support autocratic authority these are the ageold patternsagainst which men have struggled for \n",
       "<mark class=\"entity\" style=\"background: #bfe1d9; padding: 0.45em 0.6em; margin: 0 0.25em; line-height: 1; border-radius: 0.35em;\">\n",
       "    three thousand years\n",
       "    <span style=\"font-size: 0.8em; font-weight: bold; line-height: 1; border-radius: 0.35em; vertical-align: middle; margin-left: 0.5rem\">DATE</span>\n",
       "</mark>\n",
       " These are the signs ofreaction retreat and retrogression \n",
       "<mark class=\"entity\" style=\"background: #7aecec; padding: 0.45em 0.6em; margin: 0 0.25em; line-height: 1; border-radius: 0.35em;\">\n",
       "    The United Nations\n",
       "    <span style=\"font-size: 0.8em; font-weight: bold; line-height: 1; border-radius: 0.35em; vertical-align: middle; margin-left: 0.5rem\">ORG</span>\n",
       "</mark>\n",
       " must hold fast to the heritage offreedom won by the struggle of its people it must help us to pass it on to generations tocome The development of the ideal of freedom and its translation into theeveryday life of the people in great areas of the \n",
       "<mark class=\"entity\" style=\"background: #ff9561; padding: 0.45em 0.6em; margin: 0 0.25em; line-height: 1; border-radius: 0.35em;\">\n",
       "    earth\n",
       "    <span style=\"font-size: 0.8em; font-weight: bold; line-height: 1; border-radius: 0.35em; vertical-align: middle; margin-left: 0.5rem\">LOC</span>\n",
       "</mark>\n",
       " is the product of the efforts ofmany peoples It is the fruit of a long tradition of vigorous thinking and courageousaction No one race and on \n",
       "<mark class=\"entity\" style=\"background: #e4e7d2; padding: 0.45em 0.6em; margin: 0 0.25em; line-height: 1; border-radius: 0.35em;\">\n",
       "    one\n",
       "    <span style=\"font-size: 0.8em; font-weight: bold; line-height: 1; border-radius: 0.35em; vertical-align: middle; margin-left: 0.5rem\">CARDINAL</span>\n",
       "</mark>\n",
       " people can claim to have done all the work to achievegreater dignity for human beings and great freedom to develop human personality In eachgeneration and in each country there must be a continuation of the struggle and new stepsforward must be taken since this is preeminently a field in which to stand still is toretreat The field of human rights is not one in which compromise onfundamental principles are possible The work of \n",
       "<mark class=\"entity\" style=\"background: #7aecec; padding: 0.45em 0.6em; margin: 0 0.25em; line-height: 1; border-radius: 0.35em;\">\n",
       "    the Commission on Human Rights\n",
       "    <span style=\"font-size: 0.8em; font-weight: bold; line-height: 1; border-radius: 0.35em; vertical-align: middle; margin-left: 0.5rem\">ORG</span>\n",
       "</mark>\n",
       " isillustrative \n",
       "<mark class=\"entity\" style=\"background: #f0d0ff; padding: 0.45em 0.6em; margin: 0 0.25em; line-height: 1; border-radius: 0.35em;\">\n",
       "    The Declaration of Human Rights\n",
       "    <span style=\"font-size: 0.8em; font-weight: bold; line-height: 1; border-radius: 0.35em; vertical-align: middle; margin-left: 0.5rem\">WORK_OF_ART</span>\n",
       "</mark>\n",
       " provides Everyone has the right toleave any country including his own \n",
       "<mark class=\"entity\" style=\"background: #feca74; padding: 0.45em 0.6em; margin: 0 0.25em; line-height: 1; border-radius: 0.35em;\">\n",
       "    The Soviet Representative\n",
       "    <span style=\"font-size: 0.8em; font-weight: bold; line-height: 1; border-radius: 0.35em; vertical-align: middle; margin-left: 0.5rem\">GPE</span>\n",
       "</mark>\n",
       " said he would agreeto this right if a single phrase was added to it in accordance with the procedurelaid down in the laws of that country It is obvious that to accept this would benot only to compromise but to nullify the right stated This case forcefully illustratesthe importance of the proposition that we must ever be alert not to compromise fundamentalhuman rights merely for the sake of reaching unanimity and thus lose them As I see it it is not going to be easy to attain unanimity withrespect to our different concepts of government and human rights The struggle is bound tobe difficult and \n",
       "<mark class=\"entity\" style=\"background: #e4e7d2; padding: 0.45em 0.6em; margin: 0 0.25em; line-height: 1; border-radius: 0.35em;\">\n",
       "    one\n",
       "    <span style=\"font-size: 0.8em; font-weight: bold; line-height: 1; border-radius: 0.35em; vertical-align: middle; margin-left: 0.5rem\">CARDINAL</span>\n",
       "</mark>\n",
       " in which we must be firm but patient If we adhere faithfully to ourprinciples I think it is possible for us to maintain freedom and to do so peacefully andwithout recourse to force The future must see the broadening of human rights throughout theworld People who have glimpsed freedom will never be content until they have secured itfor themselves In a truest sense human rights are a fundamental object of law andgovernment in a just society Human rights exist to the degree that they are respected bypeople in relations with each other and by governments in relations with their citizens The world at large is aware of the tragic consequences for humanbeings ruled by totalitarian systems If we examine Hitlers rise to power we seehow the chains are forged which keep the individual a slave and we cans e manysimilarities in the way things are accomplished in other countries \n",
       "<mark class=\"entity\" style=\"background: #feca74; padding: 0.45em 0.6em; margin: 0 0.25em; line-height: 1; border-radius: 0.35em;\">\n",
       "    Politically\n",
       "    <span style=\"font-size: 0.8em; font-weight: bold; line-height: 1; border-radius: 0.35em; vertical-align: middle; margin-left: 0.5rem\">GPE</span>\n",
       "</mark>\n",
       " men mustbe free to discuss and to arrive at as many facts as possible and there must beat least atwoparty system in a country because when there is \n",
       "<mark class=\"entity\" style=\"background: #e4e7d2; padding: 0.45em 0.6em; margin: 0 0.25em; line-height: 1; border-radius: 0.35em;\">\n",
       "    only one\n",
       "    <span style=\"font-size: 0.8em; font-weight: bold; line-height: 1; border-radius: 0.35em; vertical-align: middle; margin-left: 0.5rem\">CARDINAL</span>\n",
       "</mark>\n",
       " political party too manythings can be subordinated to the interests of that one party and it becomes a tyrant andnot an instrument of democratic government The propaganda we have witnessed in the recent past like that weperceive in \n",
       "<mark class=\"entity\" style=\"background: #bfe1d9; padding: 0.45em 0.6em; margin: 0 0.25em; line-height: 1; border-radius: 0.35em;\">\n",
       "    these days\n",
       "    <span style=\"font-size: 0.8em; font-weight: bold; line-height: 1; border-radius: 0.35em; vertical-align: middle; margin-left: 0.5rem\">DATE</span>\n",
       "</mark>\n",
       " seeks to impugn to undermine and to destroy the liberty andindependence of peoples Such propaganda poses to all peoples the issue whether to doubttheir heritage of rights and therefore to compromise the principles by which they live ortry to accept the challenge redouble their vigilance and stand steadfast in the struggleto maintain and enlarge human freedoms People who continue to be denied the respect to which they areentitled as human beings will not acquiesce forever in such denial \n",
       "<mark class=\"entity\" style=\"background: #f0d0ff; padding: 0.45em 0.6em; margin: 0 0.25em; line-height: 1; border-radius: 0.35em;\">\n",
       "    The Charter of the United Nations\n",
       "    <span style=\"font-size: 0.8em; font-weight: bold; line-height: 1; border-radius: 0.35em; vertical-align: middle; margin-left: 0.5rem\">WORK_OF_ART</span>\n",
       "</mark>\n",
       " is a guiding beacon along the wayto the achievement of human rights and fundamental freedoms throughout the world \n",
       "<mark class=\"entity\" style=\"background: #7aecec; padding: 0.45em 0.6em; margin: 0 0.25em; line-height: 1; border-radius: 0.35em;\">\n",
       "    Theimmediate\n",
       "    <span style=\"font-size: 0.8em; font-weight: bold; line-height: 1; border-radius: 0.35em; vertical-align: middle; margin-left: 0.5rem\">ORG</span>\n",
       "</mark>\n",
       " test is not only to the extent to which human rights and freedoms have alreadybeen achieved but the direction in which the world is moving Is there a faithfulcompliance with the objectives of the Charter if some countries continue to curtail humanrights and freedoms instead of to promote the universal respect for an observance of humanrights and freedoms for all as called for by the Charter The place to discuss the issue of human rights is in the forum ofthe \n",
       "<mark class=\"entity\" style=\"background: #7aecec; padding: 0.45em 0.6em; margin: 0 0.25em; line-height: 1; border-radius: 0.35em;\">\n",
       "    United Nations\n",
       "    <span style=\"font-size: 0.8em; font-weight: bold; line-height: 1; border-radius: 0.35em; vertical-align: middle; margin-left: 0.5rem\">ORG</span>\n",
       "</mark>\n",
       " \n",
       "<mark class=\"entity\" style=\"background: #7aecec; padding: 0.45em 0.6em; margin: 0 0.25em; line-height: 1; border-radius: 0.35em;\">\n",
       "    The United Nations\n",
       "    <span style=\"font-size: 0.8em; font-weight: bold; line-height: 1; border-radius: 0.35em; vertical-align: middle; margin-left: 0.5rem\">ORG</span>\n",
       "</mark>\n",
       " has been set up as the common meeting ground fornations where we can consider together our mutual problems and take advantage of ourdifferences in experience It is inherent in our firm attachment to democracy and freedomthat we stand always ready to use the fundamental democratic procedures of honestdiscussion and negotiation It is now as always our hope that despite the wide differencesin approach we face in the world \n",
       "<mark class=\"entity\" style=\"background: #bfe1d9; padding: 0.45em 0.6em; margin: 0 0.25em; line-height: 1; border-radius: 0.35em;\">\n",
       "    today\n",
       "    <span style=\"font-size: 0.8em; font-weight: bold; line-height: 1; border-radius: 0.35em; vertical-align: middle; margin-left: 0.5rem\">DATE</span>\n",
       "</mark>\n",
       " we can with mutual good faith in the principles ofthe united Nations Charter arrive at a common basis of understanding We are here to join the meetings of this great internationalAssembly which meets in your beautiful capital of \n",
       "<mark class=\"entity\" style=\"background: #7aecec; padding: 0.45em 0.6em; margin: 0 0.25em; line-height: 1; border-radius: 0.35em;\">\n",
       "    Paris Freedom\n",
       "    <span style=\"font-size: 0.8em; font-weight: bold; line-height: 1; border-radius: 0.35em; vertical-align: middle; margin-left: 0.5rem\">ORG</span>\n",
       "</mark>\n",
       " for the individual is aninseparable part of the cherished traditions of \n",
       "<mark class=\"entity\" style=\"background: #feca74; padding: 0.45em 0.6em; margin: 0 0.25em; line-height: 1; border-radius: 0.35em;\">\n",
       "    France\n",
       "    <span style=\"font-size: 0.8em; font-weight: bold; line-height: 1; border-radius: 0.35em; vertical-align: middle; margin-left: 0.5rem\">GPE</span>\n",
       "</mark>\n",
       " As \n",
       "<mark class=\"entity\" style=\"background: #e4e7d2; padding: 0.45em 0.6em; margin: 0 0.25em; line-height: 1; border-radius: 0.35em;\">\n",
       "    one\n",
       "    <span style=\"font-size: 0.8em; font-weight: bold; line-height: 1; border-radius: 0.35em; vertical-align: middle; margin-left: 0.5rem\">CARDINAL</span>\n",
       "</mark>\n",
       " of the Delegates from theUnited States I pray Almighty God that we may win another victory here for the rights andfreedoms of all men </div></span>"
      ],
      "text/plain": [
       "<IPython.core.display.HTML object>"
      ]
     },
     "metadata": {},
     "output_type": "display_data"
    }
   ],
   "source": [
    "# Extract the first Doc object\n",
    "doc = women_speech['Doc'][8]\n",
    "\n",
    "# Visualize named entity tagging in a single paper\n",
    "displacy.render(doc, style='ent', jupyter=True)"
   ]
  },
  {
   "cell_type": "code",
   "execution_count": null,
   "id": "e48aeb70-f129-4b10-8432-8bdd5aa56f08",
   "metadata": {},
   "outputs": [],
   "source": []
  }
 ],
 "metadata": {
  "kernelspec": {
   "display_name": "Python 3 (ipykernel)",
   "language": "python",
   "name": "python3"
  },
  "language_info": {
   "codemirror_mode": {
    "name": "ipython",
    "version": 3
   },
   "file_extension": ".py",
   "mimetype": "text/x-python",
   "name": "python",
   "nbconvert_exporter": "python",
   "pygments_lexer": "ipython3",
   "version": "3.11.5"
  }
 },
 "nbformat": 4,
 "nbformat_minor": 5
}
