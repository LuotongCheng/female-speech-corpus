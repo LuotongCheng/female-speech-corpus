{
 "cells": [
  {
   "cell_type": "markdown",
   "id": "3696ab6f-7085-49ad-b08a-ffffe536000f",
   "metadata": {},
   "source": [
    "## Installing, Importing and Preprocessing spaCy"
   ]
  },
  {
   "cell_type": "code",
   "execution_count": 134,
   "id": "4709148c-da1c-4f29-83bf-bbe767ebd58a",
   "metadata": {},
   "outputs": [
    {
     "name": "stdout",
     "output_type": "stream",
     "text": [
      "Requirement already satisfied: spaCy in /Users/chengluotong/anaconda3/lib/python3.11/site-packages (3.7.2)\n",
      "Requirement already satisfied: spacy-legacy<3.1.0,>=3.0.11 in /Users/chengluotong/anaconda3/lib/python3.11/site-packages (from spaCy) (3.0.12)\n",
      "Requirement already satisfied: spacy-loggers<2.0.0,>=1.0.0 in /Users/chengluotong/anaconda3/lib/python3.11/site-packages (from spaCy) (1.0.5)\n",
      "Requirement already satisfied: murmurhash<1.1.0,>=0.28.0 in /Users/chengluotong/anaconda3/lib/python3.11/site-packages (from spaCy) (1.0.10)\n",
      "Requirement already satisfied: cymem<2.1.0,>=2.0.2 in /Users/chengluotong/anaconda3/lib/python3.11/site-packages (from spaCy) (2.0.8)\n",
      "Requirement already satisfied: preshed<3.1.0,>=3.0.2 in /Users/chengluotong/anaconda3/lib/python3.11/site-packages (from spaCy) (3.0.9)\n",
      "Requirement already satisfied: thinc<8.3.0,>=8.1.8 in /Users/chengluotong/anaconda3/lib/python3.11/site-packages (from spaCy) (8.2.1)\n",
      "Requirement already satisfied: wasabi<1.2.0,>=0.9.1 in /Users/chengluotong/anaconda3/lib/python3.11/site-packages (from spaCy) (1.1.2)\n",
      "Requirement already satisfied: srsly<3.0.0,>=2.4.3 in /Users/chengluotong/anaconda3/lib/python3.11/site-packages (from spaCy) (2.4.8)\n",
      "Requirement already satisfied: catalogue<2.1.0,>=2.0.6 in /Users/chengluotong/anaconda3/lib/python3.11/site-packages (from spaCy) (2.0.10)\n",
      "Requirement already satisfied: weasel<0.4.0,>=0.1.0 in /Users/chengluotong/anaconda3/lib/python3.11/site-packages (from spaCy) (0.3.4)\n",
      "Requirement already satisfied: typer<0.10.0,>=0.3.0 in /Users/chengluotong/anaconda3/lib/python3.11/site-packages (from spaCy) (0.9.0)\n",
      "Requirement already satisfied: smart-open<7.0.0,>=5.2.1 in /Users/chengluotong/anaconda3/lib/python3.11/site-packages (from spaCy) (5.2.1)\n",
      "Requirement already satisfied: tqdm<5.0.0,>=4.38.0 in /Users/chengluotong/anaconda3/lib/python3.11/site-packages (from spaCy) (4.65.0)\n",
      "Requirement already satisfied: requests<3.0.0,>=2.13.0 in /Users/chengluotong/anaconda3/lib/python3.11/site-packages (from spaCy) (2.31.0)\n",
      "Requirement already satisfied: pydantic!=1.8,!=1.8.1,<3.0.0,>=1.7.4 in /Users/chengluotong/anaconda3/lib/python3.11/site-packages (from spaCy) (1.10.12)\n",
      "Requirement already satisfied: jinja2 in /Users/chengluotong/anaconda3/lib/python3.11/site-packages (from spaCy) (3.1.2)\n",
      "Requirement already satisfied: setuptools in /Users/chengluotong/anaconda3/lib/python3.11/site-packages (from spaCy) (68.0.0)\n",
      "Requirement already satisfied: packaging>=20.0 in /Users/chengluotong/anaconda3/lib/python3.11/site-packages (from spaCy) (23.1)\n",
      "Requirement already satisfied: langcodes<4.0.0,>=3.2.0 in /Users/chengluotong/anaconda3/lib/python3.11/site-packages (from spaCy) (3.3.0)\n",
      "Requirement already satisfied: numpy>=1.19.0 in /Users/chengluotong/anaconda3/lib/python3.11/site-packages (from spaCy) (1.26.2)\n",
      "Requirement already satisfied: typing-extensions>=4.2.0 in /Users/chengluotong/anaconda3/lib/python3.11/site-packages (from pydantic!=1.8,!=1.8.1,<3.0.0,>=1.7.4->spaCy) (4.7.1)\n",
      "Requirement already satisfied: charset-normalizer<4,>=2 in /Users/chengluotong/anaconda3/lib/python3.11/site-packages (from requests<3.0.0,>=2.13.0->spaCy) (2.0.4)\n",
      "Requirement already satisfied: idna<4,>=2.5 in /Users/chengluotong/anaconda3/lib/python3.11/site-packages (from requests<3.0.0,>=2.13.0->spaCy) (3.4)\n",
      "Requirement already satisfied: urllib3<3,>=1.21.1 in /Users/chengluotong/anaconda3/lib/python3.11/site-packages (from requests<3.0.0,>=2.13.0->spaCy) (1.26.18)\n",
      "Requirement already satisfied: certifi>=2017.4.17 in /Users/chengluotong/anaconda3/lib/python3.11/site-packages (from requests<3.0.0,>=2.13.0->spaCy) (2023.11.17)\n",
      "Requirement already satisfied: blis<0.8.0,>=0.7.8 in /Users/chengluotong/anaconda3/lib/python3.11/site-packages (from thinc<8.3.0,>=8.1.8->spaCy) (0.7.11)\n",
      "Requirement already satisfied: confection<1.0.0,>=0.0.1 in /Users/chengluotong/anaconda3/lib/python3.11/site-packages (from thinc<8.3.0,>=8.1.8->spaCy) (0.1.4)\n",
      "Requirement already satisfied: click<9.0.0,>=7.1.1 in /Users/chengluotong/anaconda3/lib/python3.11/site-packages (from typer<0.10.0,>=0.3.0->spaCy) (8.1.7)\n",
      "Requirement already satisfied: cloudpathlib<0.17.0,>=0.7.0 in /Users/chengluotong/anaconda3/lib/python3.11/site-packages (from weasel<0.4.0,>=0.1.0->spaCy) (0.16.0)\n",
      "Requirement already satisfied: MarkupSafe>=2.0 in /Users/chengluotong/anaconda3/lib/python3.11/site-packages (from jinja2->spaCy) (2.1.1)\n",
      "Requirement already satisfied: plotly in /Users/chengluotong/anaconda3/lib/python3.11/site-packages (5.9.0)\n",
      "Requirement already satisfied: tenacity>=6.2.0 in /Users/chengluotong/anaconda3/lib/python3.11/site-packages (from plotly) (8.2.2)\n",
      "Requirement already satisfied: nbformat==5.1.2 in /Users/chengluotong/anaconda3/lib/python3.11/site-packages (5.1.2)\n",
      "Requirement already satisfied: ipython-genutils in /Users/chengluotong/anaconda3/lib/python3.11/site-packages (from nbformat==5.1.2) (0.2.0)\n",
      "Requirement already satisfied: traitlets>=4.1 in /Users/chengluotong/anaconda3/lib/python3.11/site-packages (from nbformat==5.1.2) (5.7.1)\n",
      "Requirement already satisfied: jsonschema!=2.5.0,>=2.4 in /Users/chengluotong/anaconda3/lib/python3.11/site-packages (from nbformat==5.1.2) (4.19.2)\n",
      "Requirement already satisfied: jupyter-core in /Users/chengluotong/anaconda3/lib/python3.11/site-packages (from nbformat==5.1.2) (5.5.0)\n",
      "Requirement already satisfied: attrs>=22.2.0 in /Users/chengluotong/anaconda3/lib/python3.11/site-packages (from jsonschema!=2.5.0,>=2.4->nbformat==5.1.2) (23.1.0)\n",
      "Requirement already satisfied: jsonschema-specifications>=2023.03.6 in /Users/chengluotong/anaconda3/lib/python3.11/site-packages (from jsonschema!=2.5.0,>=2.4->nbformat==5.1.2) (2023.7.1)\n",
      "Requirement already satisfied: referencing>=0.28.4 in /Users/chengluotong/anaconda3/lib/python3.11/site-packages (from jsonschema!=2.5.0,>=2.4->nbformat==5.1.2) (0.30.2)\n",
      "Requirement already satisfied: rpds-py>=0.7.1 in /Users/chengluotong/anaconda3/lib/python3.11/site-packages (from jsonschema!=2.5.0,>=2.4->nbformat==5.1.2) (0.10.6)\n",
      "Requirement already satisfied: platformdirs>=2.5 in /Users/chengluotong/anaconda3/lib/python3.11/site-packages (from jupyter-core->nbformat==5.1.2) (3.10.0)\n"
     ]
    }
   ],
   "source": [
    "# Install and import spacy and plotly.\n",
    "!pip install spaCy\n",
    "!pip install plotly\n",
    "!pip install nbformat==5.1.2"
   ]
  },
  {
   "cell_type": "code",
   "execution_count": 135,
   "id": "3af52ad9-bae2-426d-879d-45fde9a65ba1",
   "metadata": {},
   "outputs": [
    {
     "name": "stdout",
     "output_type": "stream",
     "text": [
      "Collecting en-core-web-sm==3.7.1\n",
      "  Downloading https://github.com/explosion/spacy-models/releases/download/en_core_web_sm-3.7.1/en_core_web_sm-3.7.1-py3-none-any.whl (12.8 MB)\n",
      "\u001b[2K     \u001b[90m━━━━━━━━━━━━━━━━━━━━━━━━━━━━━━━━━━━━━━━━\u001b[0m \u001b[32m12.8/12.8 MB\u001b[0m \u001b[31m15.1 MB/s\u001b[0m eta \u001b[36m0:00:00\u001b[0m00:01\u001b[0m00:01\u001b[0m\n",
      "\u001b[?25hRequirement already satisfied: spacy<3.8.0,>=3.7.2 in /Users/chengluotong/anaconda3/lib/python3.11/site-packages (from en-core-web-sm==3.7.1) (3.7.2)\n",
      "Requirement already satisfied: spacy-legacy<3.1.0,>=3.0.11 in /Users/chengluotong/anaconda3/lib/python3.11/site-packages (from spacy<3.8.0,>=3.7.2->en-core-web-sm==3.7.1) (3.0.12)\n",
      "Requirement already satisfied: spacy-loggers<2.0.0,>=1.0.0 in /Users/chengluotong/anaconda3/lib/python3.11/site-packages (from spacy<3.8.0,>=3.7.2->en-core-web-sm==3.7.1) (1.0.5)\n",
      "Requirement already satisfied: murmurhash<1.1.0,>=0.28.0 in /Users/chengluotong/anaconda3/lib/python3.11/site-packages (from spacy<3.8.0,>=3.7.2->en-core-web-sm==3.7.1) (1.0.10)\n",
      "Requirement already satisfied: cymem<2.1.0,>=2.0.2 in /Users/chengluotong/anaconda3/lib/python3.11/site-packages (from spacy<3.8.0,>=3.7.2->en-core-web-sm==3.7.1) (2.0.8)\n",
      "Requirement already satisfied: preshed<3.1.0,>=3.0.2 in /Users/chengluotong/anaconda3/lib/python3.11/site-packages (from spacy<3.8.0,>=3.7.2->en-core-web-sm==3.7.1) (3.0.9)\n",
      "Requirement already satisfied: thinc<8.3.0,>=8.1.8 in /Users/chengluotong/anaconda3/lib/python3.11/site-packages (from spacy<3.8.0,>=3.7.2->en-core-web-sm==3.7.1) (8.2.1)\n",
      "Requirement already satisfied: wasabi<1.2.0,>=0.9.1 in /Users/chengluotong/anaconda3/lib/python3.11/site-packages (from spacy<3.8.0,>=3.7.2->en-core-web-sm==3.7.1) (1.1.2)\n",
      "Requirement already satisfied: srsly<3.0.0,>=2.4.3 in /Users/chengluotong/anaconda3/lib/python3.11/site-packages (from spacy<3.8.0,>=3.7.2->en-core-web-sm==3.7.1) (2.4.8)\n",
      "Requirement already satisfied: catalogue<2.1.0,>=2.0.6 in /Users/chengluotong/anaconda3/lib/python3.11/site-packages (from spacy<3.8.0,>=3.7.2->en-core-web-sm==3.7.1) (2.0.10)\n",
      "Requirement already satisfied: weasel<0.4.0,>=0.1.0 in /Users/chengluotong/anaconda3/lib/python3.11/site-packages (from spacy<3.8.0,>=3.7.2->en-core-web-sm==3.7.1) (0.3.4)\n",
      "Requirement already satisfied: typer<0.10.0,>=0.3.0 in /Users/chengluotong/anaconda3/lib/python3.11/site-packages (from spacy<3.8.0,>=3.7.2->en-core-web-sm==3.7.1) (0.9.0)\n",
      "Requirement already satisfied: smart-open<7.0.0,>=5.2.1 in /Users/chengluotong/anaconda3/lib/python3.11/site-packages (from spacy<3.8.0,>=3.7.2->en-core-web-sm==3.7.1) (5.2.1)\n",
      "Requirement already satisfied: tqdm<5.0.0,>=4.38.0 in /Users/chengluotong/anaconda3/lib/python3.11/site-packages (from spacy<3.8.0,>=3.7.2->en-core-web-sm==3.7.1) (4.65.0)\n",
      "Requirement already satisfied: requests<3.0.0,>=2.13.0 in /Users/chengluotong/anaconda3/lib/python3.11/site-packages (from spacy<3.8.0,>=3.7.2->en-core-web-sm==3.7.1) (2.31.0)\n",
      "Requirement already satisfied: pydantic!=1.8,!=1.8.1,<3.0.0,>=1.7.4 in /Users/chengluotong/anaconda3/lib/python3.11/site-packages (from spacy<3.8.0,>=3.7.2->en-core-web-sm==3.7.1) (1.10.12)\n",
      "Requirement already satisfied: jinja2 in /Users/chengluotong/anaconda3/lib/python3.11/site-packages (from spacy<3.8.0,>=3.7.2->en-core-web-sm==3.7.1) (3.1.2)\n",
      "Requirement already satisfied: setuptools in /Users/chengluotong/anaconda3/lib/python3.11/site-packages (from spacy<3.8.0,>=3.7.2->en-core-web-sm==3.7.1) (68.0.0)\n",
      "Requirement already satisfied: packaging>=20.0 in /Users/chengluotong/anaconda3/lib/python3.11/site-packages (from spacy<3.8.0,>=3.7.2->en-core-web-sm==3.7.1) (23.1)\n",
      "Requirement already satisfied: langcodes<4.0.0,>=3.2.0 in /Users/chengluotong/anaconda3/lib/python3.11/site-packages (from spacy<3.8.0,>=3.7.2->en-core-web-sm==3.7.1) (3.3.0)\n",
      "Requirement already satisfied: numpy>=1.19.0 in /Users/chengluotong/anaconda3/lib/python3.11/site-packages (from spacy<3.8.0,>=3.7.2->en-core-web-sm==3.7.1) (1.26.2)\n",
      "Requirement already satisfied: typing-extensions>=4.2.0 in /Users/chengluotong/anaconda3/lib/python3.11/site-packages (from pydantic!=1.8,!=1.8.1,<3.0.0,>=1.7.4->spacy<3.8.0,>=3.7.2->en-core-web-sm==3.7.1) (4.7.1)\n",
      "Requirement already satisfied: charset-normalizer<4,>=2 in /Users/chengluotong/anaconda3/lib/python3.11/site-packages (from requests<3.0.0,>=2.13.0->spacy<3.8.0,>=3.7.2->en-core-web-sm==3.7.1) (2.0.4)\n",
      "Requirement already satisfied: idna<4,>=2.5 in /Users/chengluotong/anaconda3/lib/python3.11/site-packages (from requests<3.0.0,>=2.13.0->spacy<3.8.0,>=3.7.2->en-core-web-sm==3.7.1) (3.4)\n",
      "Requirement already satisfied: urllib3<3,>=1.21.1 in /Users/chengluotong/anaconda3/lib/python3.11/site-packages (from requests<3.0.0,>=2.13.0->spacy<3.8.0,>=3.7.2->en-core-web-sm==3.7.1) (1.26.18)\n",
      "Requirement already satisfied: certifi>=2017.4.17 in /Users/chengluotong/anaconda3/lib/python3.11/site-packages (from requests<3.0.0,>=2.13.0->spacy<3.8.0,>=3.7.2->en-core-web-sm==3.7.1) (2023.11.17)\n",
      "Requirement already satisfied: blis<0.8.0,>=0.7.8 in /Users/chengluotong/anaconda3/lib/python3.11/site-packages (from thinc<8.3.0,>=8.1.8->spacy<3.8.0,>=3.7.2->en-core-web-sm==3.7.1) (0.7.11)\n",
      "Requirement already satisfied: confection<1.0.0,>=0.0.1 in /Users/chengluotong/anaconda3/lib/python3.11/site-packages (from thinc<8.3.0,>=8.1.8->spacy<3.8.0,>=3.7.2->en-core-web-sm==3.7.1) (0.1.4)\n",
      "Requirement already satisfied: click<9.0.0,>=7.1.1 in /Users/chengluotong/anaconda3/lib/python3.11/site-packages (from typer<0.10.0,>=0.3.0->spacy<3.8.0,>=3.7.2->en-core-web-sm==3.7.1) (8.1.7)\n",
      "Requirement already satisfied: cloudpathlib<0.17.0,>=0.7.0 in /Users/chengluotong/anaconda3/lib/python3.11/site-packages (from weasel<0.4.0,>=0.1.0->spacy<3.8.0,>=3.7.2->en-core-web-sm==3.7.1) (0.16.0)\n",
      "Requirement already satisfied: MarkupSafe>=2.0 in /Users/chengluotong/anaconda3/lib/python3.11/site-packages (from jinja2->spacy<3.8.0,>=3.7.2->en-core-web-sm==3.7.1) (2.1.1)\n",
      "\u001b[38;5;2m✔ Download and installation successful\u001b[0m\n",
      "You can now load the package via spacy.load('en_core_web_sm')\n"
     ]
    }
   ],
   "source": [
    "# Import spacy\n",
    "import spacy\n",
    "\n",
    "# Install English language model\n",
    "!spacy download en_core_web_sm\n",
    "\n",
    "# Import os to upload documents and metadata\n",
    "import os\n",
    "\n",
    "# Load spaCy visualizer\n",
    "from spacy import displacy\n",
    "\n",
    "from spacy.matcher import Matcher\n",
    "\n",
    "# Import pandas DataFrame packages\n",
    "import pandas as pd\n",
    "pd.options.mode.chained_assignment = None  # default='warn'\n",
    "\n",
    "# Import graphing package\n",
    "import plotly.graph_objects as go\n",
    "import plotly.express as px"
   ]
  },
  {
   "cell_type": "code",
   "execution_count": 136,
   "id": "63ef877a-ecf7-4703-b7f0-7b254e0d4c06",
   "metadata": {},
   "outputs": [
    {
     "name": "stdout",
     "output_type": "stream",
     "text": [
      "['tok2vec', 'tagger', 'parser', 'attribute_ruler', 'lemmatizer', 'ner']\n"
     ]
    }
   ],
   "source": [
    "# Load nlp pipeline\n",
    "nlp = spacy.load('en_core_web_sm')\n",
    "\n",
    "# Check what functions it performs\n",
    "print(nlp.pipe_names)"
   ]
  },
  {
   "cell_type": "markdown",
   "id": "59727690-2c82-43e8-9476-548f83174119",
   "metadata": {},
   "source": [
    "## Importing necessary libraries"
   ]
  },
  {
   "cell_type": "code",
   "execution_count": 166,
   "id": "0472f230-398c-4457-b4a5-820510f54df8",
   "metadata": {},
   "outputs": [],
   "source": [
    "import pandas as pd\n",
    "import requests\n",
    "from bs4 import BeautifulSoup\n",
    "from datetime import datetime\n",
    "from urllib.parse import urljoin\n",
    "import re\n",
    "import string\n",
    "import nltk\n",
    "import string \n",
    "from collections import Counter\n",
    "import nltk\n",
    "import string \n",
    "from nltk.corpus import stopwords\n",
    "import csv"
   ]
  },
  {
   "cell_type": "code",
   "execution_count": 138,
   "id": "1fb68281-3119-46bc-931e-beb66b97550f",
   "metadata": {},
   "outputs": [],
   "source": [
    "pd.set_option('display.max_columns', None)"
   ]
  },
  {
   "cell_type": "markdown",
   "id": "d10346fc-ebc4-47ed-b844-142f854bf9a0",
   "metadata": {},
   "source": [
    "## Load metadata"
   ]
  },
  {
   "cell_type": "code",
   "execution_count": 139,
   "id": "1fcae489-4d5a-438c-9c4f-0844d829a9ba",
   "metadata": {},
   "outputs": [],
   "source": [
    "women_speech = pd.read_csv('women_speech.csv')"
   ]
  },
  {
   "cell_type": "code",
   "execution_count": 140,
   "id": "8b11397f-8327-485b-8792-f13dc51f6a59",
   "metadata": {},
   "outputs": [
    {
     "data": {
      "text/html": [
       "<div>\n",
       "<style scoped>\n",
       "    .dataframe tbody tr th:only-of-type {\n",
       "        vertical-align: middle;\n",
       "    }\n",
       "\n",
       "    .dataframe tbody tr th {\n",
       "        vertical-align: top;\n",
       "    }\n",
       "\n",
       "    .dataframe thead th {\n",
       "        text-align: right;\n",
       "    }\n",
       "</style>\n",
       "<table border=\"1\" class=\"dataframe\">\n",
       "  <thead>\n",
       "    <tr style=\"text-align: right;\">\n",
       "      <th></th>\n",
       "      <th>Title</th>\n",
       "      <th>Speaker</th>\n",
       "      <th>Transcript</th>\n",
       "      <th>Year</th>\n",
       "    </tr>\n",
       "  </thead>\n",
       "  <tbody>\n",
       "    <tr>\n",
       "      <th>0</th>\n",
       "      <td>Ursula K. Le Guin - A Left-Handed Commencemen...</td>\n",
       "      <td>Ursula K. Le Guin</td>\n",
       "      <td>I want to thank the Mills College Class of '83...</td>\n",
       "      <td>1983</td>\n",
       "    </tr>\n",
       "    <tr>\n",
       "      <th>1</th>\n",
       "      <td>Elizabeth Gurley Flynn -- Statement at the Sm...</td>\n",
       "      <td>Elizabeth Gurley Flynn</td>\n",
       "      <td>Your Honor, ladies and gentlemen, myname is El...</td>\n",
       "      <td>1952</td>\n",
       "    </tr>\n",
       "    <tr>\n",
       "      <th>2</th>\n",
       "      <td>Mary Fisher -- 1992 Republican National Conve...</td>\n",
       "      <td>MaryFisher</td>\n",
       "      <td>Less than three months ago at platform hearing...</td>\n",
       "      <td>1992</td>\n",
       "    </tr>\n",
       "    <tr>\n",
       "      <th>3</th>\n",
       "      <td>Carrie Chapman Catt - The Crisis</td>\n",
       "      <td>Carrie Chapman Catt</td>\n",
       "      <td>I have taken for my subject, \"The Crisis,\" bec...</td>\n",
       "      <td>1916</td>\n",
       "    </tr>\n",
       "    <tr>\n",
       "      <th>4</th>\n",
       "      <td>Margaret Chase Smith -- \"Declaration of Consc...</td>\n",
       "      <td>Margaret Chase Smith</td>\n",
       "      <td>r. President: I would like to speak briefly an...</td>\n",
       "      <td>1950</td>\n",
       "    </tr>\n",
       "    <tr>\n",
       "      <th>5</th>\n",
       "      <td>Ann Richards - Democratic National Convention...</td>\n",
       "      <td>Ann Richards</td>\n",
       "      <td>Thank you, very much. Good evening, ladies and...</td>\n",
       "      <td>1988</td>\n",
       "    </tr>\n",
       "    <tr>\n",
       "      <th>6</th>\n",
       "      <td>Anna Howard Shaw - The Fundamental Principle ...</td>\n",
       "      <td>Anna Howard Shaw</td>\n",
       "      <td>When I came into your hall tonight, I thought ...</td>\n",
       "      <td>1915</td>\n",
       "    </tr>\n",
       "    <tr>\n",
       "      <th>7</th>\n",
       "      <td>Margaret Sanger - The Children's Era Speech</td>\n",
       "      <td>Margaret Sanger</td>\n",
       "      <td>Mr. Chairman, Ladies and Gentlemen: My subject...</td>\n",
       "      <td>1925</td>\n",
       "    </tr>\n",
       "    <tr>\n",
       "      <th>8</th>\n",
       "      <td>Barbara Jordan - Statement on House Judiciary...</td>\n",
       "      <td>Barbara Charline Jordan</td>\n",
       "      <td>Thank you, Mr. Chairman. Mr. Chairman, I join ...</td>\n",
       "      <td>1974</td>\n",
       "    </tr>\n",
       "    <tr>\n",
       "      <th>9</th>\n",
       "      <td>Barbara Jordan - 1976 Democratic National Con...</td>\n",
       "      <td>Barbara Charline Jordan</td>\n",
       "      <td>Thank you ladies and gentlemen for a very warm...</td>\n",
       "      <td>1976</td>\n",
       "    </tr>\n",
       "    <tr>\n",
       "      <th>10</th>\n",
       "      <td>Hillary Rodham Clinton -- United Nations 4th ...</td>\n",
       "      <td>Hillary Rodham Clinton</td>\n",
       "      <td>Thank you very much, Gertrude Mongella, for yo...</td>\n",
       "      <td>1995</td>\n",
       "    </tr>\n",
       "    <tr>\n",
       "      <th>11</th>\n",
       "      <td>Barbara Bush -- Wellesley College Commencement...</td>\n",
       "      <td>Barbara Pierce Bush</td>\n",
       "      <td>Thank you very, very much,President Keohane. M...</td>\n",
       "      <td>1990</td>\n",
       "    </tr>\n",
       "    <tr>\n",
       "      <th>12</th>\n",
       "      <td>On the Adoption of the Universal Declaration ...</td>\n",
       "      <td>Eleanor Roosevelt</td>\n",
       "      <td>Mr. President, fellow delegates: The long and ...</td>\n",
       "      <td>1948</td>\n",
       "    </tr>\n",
       "    <tr>\n",
       "      <th>13</th>\n",
       "      <td>Shirley Chisholm - For the Equal Rights Amend...</td>\n",
       "      <td>Shirley Anita St. Hill Chisholm</td>\n",
       "      <td>Mr. Speaker, House Joint Resolution 264, befor...</td>\n",
       "      <td>1970</td>\n",
       "    </tr>\n",
       "    <tr>\n",
       "      <th>14</th>\n",
       "      <td>Elizabeth Glaser -- 1992 Democratic National ...</td>\n",
       "      <td>Elizabeth Glaser</td>\n",
       "      <td>I'm Elizabeth Glaser. Eleven years ago, while ...</td>\n",
       "      <td>1992</td>\n",
       "    </tr>\n",
       "    <tr>\n",
       "      <th>15</th>\n",
       "      <td>Carrie Chapman Catt - Address to Congress on ...</td>\n",
       "      <td>Carrie Chapman Catt</td>\n",
       "      <td>Woman suffrage is inevitable. Suffragists knew...</td>\n",
       "      <td>1917</td>\n",
       "    </tr>\n",
       "    <tr>\n",
       "      <th>16</th>\n",
       "      <td>Emma Goldman -- Address to the Jury;</td>\n",
       "      <td>Emma Goldman</td>\n",
       "      <td>Gentlemen of the Jury: As in the case of my co...</td>\n",
       "      <td>1917</td>\n",
       "    </tr>\n",
       "    <tr>\n",
       "      <th>17</th>\n",
       "      <td>Geraldine Ferraro - 1984 Vice Presidential No...</td>\n",
       "      <td>Geraldine Ferraro</td>\n",
       "      <td>Ladies and gentlemen of the convention: My nam...</td>\n",
       "      <td>1984</td>\n",
       "    </tr>\n",
       "    <tr>\n",
       "      <th>18</th>\n",
       "      <td>Anita Hill - Opening Statement to Senate Judi...</td>\n",
       "      <td>Anita Hill</td>\n",
       "      <td>Ms. Hill: Mr. Chairman, Senator Thurmond, memb...</td>\n",
       "      <td>1991</td>\n",
       "    </tr>\n",
       "    <tr>\n",
       "      <th>19</th>\n",
       "      <td>Eleanor Roosevelt -- \"The Struggle for Human ...</td>\n",
       "      <td>Eleanor Roosevelt</td>\n",
       "      <td>I have come this evening to talk with you on o...</td>\n",
       "      <td>1948</td>\n",
       "    </tr>\n",
       "  </tbody>\n",
       "</table>\n",
       "</div>"
      ],
      "text/plain": [
       "                                                Title  \\\n",
       "0    Ursula K. Le Guin - A Left-Handed Commencemen...   \n",
       "1    Elizabeth Gurley Flynn -- Statement at the Sm...   \n",
       "2    Mary Fisher -- 1992 Republican National Conve...   \n",
       "3                    Carrie Chapman Catt - The Crisis   \n",
       "4    Margaret Chase Smith -- \"Declaration of Consc...   \n",
       "5    Ann Richards - Democratic National Convention...   \n",
       "6    Anna Howard Shaw - The Fundamental Principle ...   \n",
       "7         Margaret Sanger - The Children's Era Speech   \n",
       "8    Barbara Jordan - Statement on House Judiciary...   \n",
       "9    Barbara Jordan - 1976 Democratic National Con...   \n",
       "10   Hillary Rodham Clinton -- United Nations 4th ...   \n",
       "11  Barbara Bush -- Wellesley College Commencement...   \n",
       "12   On the Adoption of the Universal Declaration ...   \n",
       "13   Shirley Chisholm - For the Equal Rights Amend...   \n",
       "14   Elizabeth Glaser -- 1992 Democratic National ...   \n",
       "15   Carrie Chapman Catt - Address to Congress on ...   \n",
       "16               Emma Goldman -- Address to the Jury;   \n",
       "17   Geraldine Ferraro - 1984 Vice Presidential No...   \n",
       "18   Anita Hill - Opening Statement to Senate Judi...   \n",
       "19   Eleanor Roosevelt -- \"The Struggle for Human ...   \n",
       "\n",
       "                            Speaker  \\\n",
       "0                 Ursula K. Le Guin   \n",
       "1            Elizabeth Gurley Flynn   \n",
       "2                        MaryFisher   \n",
       "3               Carrie Chapman Catt   \n",
       "4              Margaret Chase Smith   \n",
       "5                      Ann Richards   \n",
       "6                  Anna Howard Shaw   \n",
       "7                   Margaret Sanger   \n",
       "8           Barbara Charline Jordan   \n",
       "9           Barbara Charline Jordan   \n",
       "10           Hillary Rodham Clinton   \n",
       "11              Barbara Pierce Bush   \n",
       "12                Eleanor Roosevelt   \n",
       "13  Shirley Anita St. Hill Chisholm   \n",
       "14                 Elizabeth Glaser   \n",
       "15              Carrie Chapman Catt   \n",
       "16                     Emma Goldman   \n",
       "17                Geraldine Ferraro   \n",
       "18                       Anita Hill   \n",
       "19                Eleanor Roosevelt   \n",
       "\n",
       "                                           Transcript  Year  \n",
       "0   I want to thank the Mills College Class of '83...  1983  \n",
       "1   Your Honor, ladies and gentlemen, myname is El...  1952  \n",
       "2   Less than three months ago at platform hearing...  1992  \n",
       "3   I have taken for my subject, \"The Crisis,\" bec...  1916  \n",
       "4   r. President: I would like to speak briefly an...  1950  \n",
       "5   Thank you, very much. Good evening, ladies and...  1988  \n",
       "6   When I came into your hall tonight, I thought ...  1915  \n",
       "7   Mr. Chairman, Ladies and Gentlemen: My subject...  1925  \n",
       "8   Thank you, Mr. Chairman. Mr. Chairman, I join ...  1974  \n",
       "9   Thank you ladies and gentlemen for a very warm...  1976  \n",
       "10  Thank you very much, Gertrude Mongella, for yo...  1995  \n",
       "11  Thank you very, very much,President Keohane. M...  1990  \n",
       "12  Mr. President, fellow delegates: The long and ...  1948  \n",
       "13  Mr. Speaker, House Joint Resolution 264, befor...  1970  \n",
       "14  I'm Elizabeth Glaser. Eleven years ago, while ...  1992  \n",
       "15  Woman suffrage is inevitable. Suffragists knew...  1917  \n",
       "16  Gentlemen of the Jury: As in the case of my co...  1917  \n",
       "17  Ladies and gentlemen of the convention: My nam...  1984  \n",
       "18  Ms. Hill: Mr. Chairman, Senator Thurmond, memb...  1991  \n",
       "19  I have come this evening to talk with you on o...  1948  "
      ]
     },
     "execution_count": 140,
     "metadata": {},
     "output_type": "execute_result"
    }
   ],
   "source": [
    "women_speech"
   ]
  },
  {
   "cell_type": "markdown",
   "id": "02d0c814-8679-4821-9847-c3b0d54a8278",
   "metadata": {},
   "source": [
    "## Runs the nlp pipeline"
   ]
  },
  {
   "cell_type": "code",
   "execution_count": 141,
   "id": "d0fba085-6a56-4d55-bccc-b187cb0140d3",
   "metadata": {},
   "outputs": [],
   "source": [
    "# Define a function that runs the nlp pipeline on any given input text\n",
    "def process_text(text):\n",
    "    return nlp(text)"
   ]
  },
  {
   "cell_type": "code",
   "execution_count": 142,
   "id": "77b8be91-30f5-4c7c-944d-0ddf00ff2b3e",
   "metadata": {},
   "outputs": [],
   "source": [
    "# Apply the function to the \"Transcript\" column, so that the nlp pipeline is called on each speech\n",
    "women_speech['Doc'] = women_speech['Transcript'].apply(process_text)"
   ]
  },
  {
   "cell_type": "markdown",
   "id": "858a793f-a80f-4ddf-939b-7ea4fb772297",
   "metadata": {},
   "source": [
    "## Text reduction - Tokenization"
   ]
  },
  {
   "cell_type": "code",
   "execution_count": 143,
   "id": "34793f36-cd93-4e15-a66e-3ec8f0f8ec44",
   "metadata": {},
   "outputs": [],
   "source": [
    "# Define a function to retrieve tokens from a doc object\n",
    "def get_token(doc):\n",
    "    return [(token.text) for token in doc]"
   ]
  },
  {
   "cell_type": "code",
   "execution_count": 144,
   "id": "bc57957a-a38d-4a43-a2c1-5de7f02bef6d",
   "metadata": {},
   "outputs": [
    {
     "data": {
      "text/html": [
       "<div>\n",
       "<style scoped>\n",
       "    .dataframe tbody tr th:only-of-type {\n",
       "        vertical-align: middle;\n",
       "    }\n",
       "\n",
       "    .dataframe tbody tr th {\n",
       "        vertical-align: top;\n",
       "    }\n",
       "\n",
       "    .dataframe thead th {\n",
       "        text-align: right;\n",
       "    }\n",
       "</style>\n",
       "<table border=\"1\" class=\"dataframe\">\n",
       "  <thead>\n",
       "    <tr style=\"text-align: right;\">\n",
       "      <th></th>\n",
       "      <th>Title</th>\n",
       "      <th>Speaker</th>\n",
       "      <th>Transcript</th>\n",
       "      <th>Year</th>\n",
       "      <th>Doc</th>\n",
       "      <th>Tokens</th>\n",
       "    </tr>\n",
       "  </thead>\n",
       "  <tbody>\n",
       "    <tr>\n",
       "      <th>0</th>\n",
       "      <td>Ursula K. Le Guin - A Left-Handed Commencemen...</td>\n",
       "      <td>Ursula K. Le Guin</td>\n",
       "      <td>I want to thank the Mills College Class of '83...</td>\n",
       "      <td>1983</td>\n",
       "      <td>(I, want, to, thank, the, Mills, College, Clas...</td>\n",
       "      <td>[I, want, to, thank, the, Mills, College, Clas...</td>\n",
       "    </tr>\n",
       "    <tr>\n",
       "      <th>1</th>\n",
       "      <td>Elizabeth Gurley Flynn -- Statement at the Sm...</td>\n",
       "      <td>Elizabeth Gurley Flynn</td>\n",
       "      <td>Your Honor, ladies and gentlemen, myname is El...</td>\n",
       "      <td>1952</td>\n",
       "      <td>(Your, Honor, ,, ladies, and, gentlemen, ,, my...</td>\n",
       "      <td>[Your, Honor, ,, ladies, and, gentlemen, ,, my...</td>\n",
       "    </tr>\n",
       "    <tr>\n",
       "      <th>2</th>\n",
       "      <td>Mary Fisher -- 1992 Republican National Conve...</td>\n",
       "      <td>MaryFisher</td>\n",
       "      <td>Less than three months ago at platform hearing...</td>\n",
       "      <td>1992</td>\n",
       "      <td>(Less, than, three, months, ago, at, platform,...</td>\n",
       "      <td>[Less, than, three, months, ago, at, platform,...</td>\n",
       "    </tr>\n",
       "    <tr>\n",
       "      <th>3</th>\n",
       "      <td>Carrie Chapman Catt - The Crisis</td>\n",
       "      <td>Carrie Chapman Catt</td>\n",
       "      <td>I have taken for my subject, \"The Crisis,\" bec...</td>\n",
       "      <td>1916</td>\n",
       "      <td>(I, have, taken, for, my, subject, ,, \", The, ...</td>\n",
       "      <td>[I, have, taken, for, my, subject, ,, \", The, ...</td>\n",
       "    </tr>\n",
       "    <tr>\n",
       "      <th>4</th>\n",
       "      <td>Margaret Chase Smith -- \"Declaration of Consc...</td>\n",
       "      <td>Margaret Chase Smith</td>\n",
       "      <td>r. President: I would like to speak briefly an...</td>\n",
       "      <td>1950</td>\n",
       "      <td>(r., President, :, I, would, like, to, speak, ...</td>\n",
       "      <td>[r., President, :, I, would, like, to, speak, ...</td>\n",
       "    </tr>\n",
       "  </tbody>\n",
       "</table>\n",
       "</div>"
      ],
      "text/plain": [
       "                                               Title                 Speaker  \\\n",
       "0   Ursula K. Le Guin - A Left-Handed Commencemen...       Ursula K. Le Guin   \n",
       "1   Elizabeth Gurley Flynn -- Statement at the Sm...  Elizabeth Gurley Flynn   \n",
       "2   Mary Fisher -- 1992 Republican National Conve...              MaryFisher   \n",
       "3                   Carrie Chapman Catt - The Crisis     Carrie Chapman Catt   \n",
       "4   Margaret Chase Smith -- \"Declaration of Consc...    Margaret Chase Smith   \n",
       "\n",
       "                                          Transcript  Year  \\\n",
       "0  I want to thank the Mills College Class of '83...  1983   \n",
       "1  Your Honor, ladies and gentlemen, myname is El...  1952   \n",
       "2  Less than three months ago at platform hearing...  1992   \n",
       "3  I have taken for my subject, \"The Crisis,\" bec...  1916   \n",
       "4  r. President: I would like to speak briefly an...  1950   \n",
       "\n",
       "                                                 Doc  \\\n",
       "0  (I, want, to, thank, the, Mills, College, Clas...   \n",
       "1  (Your, Honor, ,, ladies, and, gentlemen, ,, my...   \n",
       "2  (Less, than, three, months, ago, at, platform,...   \n",
       "3  (I, have, taken, for, my, subject, ,, \", The, ...   \n",
       "4  (r., President, :, I, would, like, to, speak, ...   \n",
       "\n",
       "                                              Tokens  \n",
       "0  [I, want, to, thank, the, Mills, College, Clas...  \n",
       "1  [Your, Honor, ,, ladies, and, gentlemen, ,, my...  \n",
       "2  [Less, than, three, months, ago, at, platform,...  \n",
       "3  [I, have, taken, for, my, subject, ,, \", The, ...  \n",
       "4  [r., President, :, I, would, like, to, speak, ...  "
      ]
     },
     "execution_count": 144,
     "metadata": {},
     "output_type": "execute_result"
    }
   ],
   "source": [
    "# Run the token retrieval function on the doc objects in the dataframe\n",
    "women_speech['Tokens'] = women_speech['Doc'].apply(get_token)\n",
    "women_speech.head()"
   ]
  },
  {
   "cell_type": "markdown",
   "id": "f3cda23c-7578-4b37-93a6-f7e35d880580",
   "metadata": {},
   "source": [
    "## Text reduction - Lemmatization"
   ]
  },
  {
   "cell_type": "code",
   "execution_count": 145,
   "id": "6b972875-2eda-4380-89b7-c4629ec9c1be",
   "metadata": {},
   "outputs": [
    {
     "data": {
      "text/html": [
       "<div>\n",
       "<style scoped>\n",
       "    .dataframe tbody tr th:only-of-type {\n",
       "        vertical-align: middle;\n",
       "    }\n",
       "\n",
       "    .dataframe tbody tr th {\n",
       "        vertical-align: top;\n",
       "    }\n",
       "\n",
       "    .dataframe thead th {\n",
       "        text-align: right;\n",
       "    }\n",
       "</style>\n",
       "<table border=\"1\" class=\"dataframe\">\n",
       "  <thead>\n",
       "    <tr style=\"text-align: right;\">\n",
       "      <th></th>\n",
       "      <th>Title</th>\n",
       "      <th>Speaker</th>\n",
       "      <th>Transcript</th>\n",
       "      <th>Year</th>\n",
       "      <th>Doc</th>\n",
       "      <th>Tokens</th>\n",
       "      <th>Lemmas</th>\n",
       "    </tr>\n",
       "  </thead>\n",
       "  <tbody>\n",
       "    <tr>\n",
       "      <th>0</th>\n",
       "      <td>Ursula K. Le Guin - A Left-Handed Commencemen...</td>\n",
       "      <td>Ursula K. Le Guin</td>\n",
       "      <td>I want to thank the Mills College Class of '83...</td>\n",
       "      <td>1983</td>\n",
       "      <td>(I, want, to, thank, the, Mills, College, Clas...</td>\n",
       "      <td>[I, want, to, thank, the, Mills, College, Clas...</td>\n",
       "      <td>[I, want, to, thank, the, Mills, College, Clas...</td>\n",
       "    </tr>\n",
       "    <tr>\n",
       "      <th>1</th>\n",
       "      <td>Elizabeth Gurley Flynn -- Statement at the Sm...</td>\n",
       "      <td>Elizabeth Gurley Flynn</td>\n",
       "      <td>Your Honor, ladies and gentlemen, myname is El...</td>\n",
       "      <td>1952</td>\n",
       "      <td>(Your, Honor, ,, ladies, and, gentlemen, ,, my...</td>\n",
       "      <td>[Your, Honor, ,, ladies, and, gentlemen, ,, my...</td>\n",
       "      <td>[your, Honor, ,, lady, and, gentleman, ,, myna...</td>\n",
       "    </tr>\n",
       "    <tr>\n",
       "      <th>2</th>\n",
       "      <td>Mary Fisher -- 1992 Republican National Conve...</td>\n",
       "      <td>MaryFisher</td>\n",
       "      <td>Less than three months ago at platform hearing...</td>\n",
       "      <td>1992</td>\n",
       "      <td>(Less, than, three, months, ago, at, platform,...</td>\n",
       "      <td>[Less, than, three, months, ago, at, platform,...</td>\n",
       "      <td>[Less, than, three, month, ago, at, platform, ...</td>\n",
       "    </tr>\n",
       "    <tr>\n",
       "      <th>3</th>\n",
       "      <td>Carrie Chapman Catt - The Crisis</td>\n",
       "      <td>Carrie Chapman Catt</td>\n",
       "      <td>I have taken for my subject, \"The Crisis,\" bec...</td>\n",
       "      <td>1916</td>\n",
       "      <td>(I, have, taken, for, my, subject, ,, \", The, ...</td>\n",
       "      <td>[I, have, taken, for, my, subject, ,, \", The, ...</td>\n",
       "      <td>[I, have, take, for, my, subject, ,, \", the, C...</td>\n",
       "    </tr>\n",
       "    <tr>\n",
       "      <th>4</th>\n",
       "      <td>Margaret Chase Smith -- \"Declaration of Consc...</td>\n",
       "      <td>Margaret Chase Smith</td>\n",
       "      <td>r. President: I would like to speak briefly an...</td>\n",
       "      <td>1950</td>\n",
       "      <td>(r., President, :, I, would, like, to, speak, ...</td>\n",
       "      <td>[r., President, :, I, would, like, to, speak, ...</td>\n",
       "      <td>[r., President, :, I, would, like, to, speak, ...</td>\n",
       "    </tr>\n",
       "  </tbody>\n",
       "</table>\n",
       "</div>"
      ],
      "text/plain": [
       "                                               Title                 Speaker  \\\n",
       "0   Ursula K. Le Guin - A Left-Handed Commencemen...       Ursula K. Le Guin   \n",
       "1   Elizabeth Gurley Flynn -- Statement at the Sm...  Elizabeth Gurley Flynn   \n",
       "2   Mary Fisher -- 1992 Republican National Conve...              MaryFisher   \n",
       "3                   Carrie Chapman Catt - The Crisis     Carrie Chapman Catt   \n",
       "4   Margaret Chase Smith -- \"Declaration of Consc...    Margaret Chase Smith   \n",
       "\n",
       "                                          Transcript  Year  \\\n",
       "0  I want to thank the Mills College Class of '83...  1983   \n",
       "1  Your Honor, ladies and gentlemen, myname is El...  1952   \n",
       "2  Less than three months ago at platform hearing...  1992   \n",
       "3  I have taken for my subject, \"The Crisis,\" bec...  1916   \n",
       "4  r. President: I would like to speak briefly an...  1950   \n",
       "\n",
       "                                                 Doc  \\\n",
       "0  (I, want, to, thank, the, Mills, College, Clas...   \n",
       "1  (Your, Honor, ,, ladies, and, gentlemen, ,, my...   \n",
       "2  (Less, than, three, months, ago, at, platform,...   \n",
       "3  (I, have, taken, for, my, subject, ,, \", The, ...   \n",
       "4  (r., President, :, I, would, like, to, speak, ...   \n",
       "\n",
       "                                              Tokens  \\\n",
       "0  [I, want, to, thank, the, Mills, College, Clas...   \n",
       "1  [Your, Honor, ,, ladies, and, gentlemen, ,, my...   \n",
       "2  [Less, than, three, months, ago, at, platform,...   \n",
       "3  [I, have, taken, for, my, subject, ,, \", The, ...   \n",
       "4  [r., President, :, I, would, like, to, speak, ...   \n",
       "\n",
       "                                              Lemmas  \n",
       "0  [I, want, to, thank, the, Mills, College, Clas...  \n",
       "1  [your, Honor, ,, lady, and, gentleman, ,, myna...  \n",
       "2  [Less, than, three, month, ago, at, platform, ...  \n",
       "3  [I, have, take, for, my, subject, ,, \", the, C...  \n",
       "4  [r., President, :, I, would, like, to, speak, ...  "
      ]
     },
     "execution_count": 145,
     "metadata": {},
     "output_type": "execute_result"
    }
   ],
   "source": [
    "# Define a function to retrieve lemmas from a doc object\n",
    "def get_lemma(doc):\n",
    "    return [(token.lemma_) for token in doc]\n",
    "\n",
    "# Run the lemma retrieval function on the doc objects in the dataframe\n",
    "women_speech['Lemmas'] = women_speech['Doc'].apply(get_lemma)\n",
    "women_speech.head()"
   ]
  },
  {
   "cell_type": "markdown",
   "id": "0747ed9c-9ece-44a0-bd71-12bb14765bc1",
   "metadata": {},
   "source": [
    "### ❓ What are the most frequent words used in female American political speeches of the 20th century? How do these words reflect the emphasis on gender equality?"
   ]
  },
  {
   "cell_type": "code",
   "execution_count": 146,
   "id": "d1b8c6d6-6db0-477d-839c-2cdbc43c74d3",
   "metadata": {},
   "outputs": [
    {
     "name": "stdout",
     "output_type": "stream",
     "text": [
      "woman: 388\n",
      "man: 263\n",
      "--: 232\n",
      "would: 221\n",
      "people: 217\n",
      "right: 181\n",
      "say: 177\n",
      "one: 170\n",
      "know: 139\n",
      "go: 138\n",
      "make: 134\n",
      "time: 128\n",
      "work: 118\n",
      "must: 116\n",
      "world: 115\n",
      "human: 114\n",
      "country: 113\n",
      "great: 111\n",
      "vote: 111\n",
      "come: 108\n"
     ]
    }
   ],
   "source": [
    "# Get the English stop words\n",
    "stop_words = set(stopwords.words('english'))\n",
    "\n",
    "# Combine all lemmas into a single list and remove stop words\n",
    "all_lemmas = [lemma for lemmas in women_speech['Lemmas'] for lemma in lemmas if lemma.lower() not in stop_words and lemma not in string.punctuation and not lemma.isspace()]\n",
    "\n",
    "# Calculate word frequencies\n",
    "word_freq = Counter(all_lemmas)\n",
    "\n",
    "# Get the most frequent words\n",
    "most_common_words = word_freq.most_common(20)  # Change the number to get more or fewer words\n",
    "\n",
    "# Print the most frequent words\n",
    "for word, freq in most_common_words:\n",
    "    print(f\"{word}: {freq}\")"
   ]
  },
  {
   "cell_type": "markdown",
   "id": "604c1d11-9239-4cff-8928-9bfeb755df30",
   "metadata": {},
   "source": [
    "The most frequent words in these speeches are related to gender, political and social issues, activism, and advocacy. Words like \"woman,\" \"man,\" \"rights,\" \"vote,\" and \"country\" suggests an emphasis on gender equality and civil rights. These speeches might address the challenges and aspirations of the 20th-century women in the political sphere."
   ]
  },
  {
   "cell_type": "markdown",
   "id": "b0bd85a7-3cf8-4680-b3ac-7a74465a00cc",
   "metadata": {},
   "source": [
    "## Text annotation - Part of Speech Tagging (POS)"
   ]
  },
  {
   "cell_type": "code",
   "execution_count": 147,
   "id": "77d11125-8cc3-4067-abe0-b70aedb68013",
   "metadata": {},
   "outputs": [],
   "source": [
    "# Define a function to extract the coarse- and fine-grained part-of-speech (POS) tags for each token in the \"doc\" object\n",
    "def get_pos(doc):\n",
    "    return [(token.pos_, token.tag_) for token in doc]\n",
    "\n",
    "women_speech['POS'] = women_speech['Doc'].apply(get_pos)"
   ]
  },
  {
   "cell_type": "code",
   "execution_count": 148,
   "id": "4fe472dc-1d06-42f2-a6d4-3faf8f1dc916",
   "metadata": {},
   "outputs": [
    {
     "data": {
      "text/html": [
       "<div>\n",
       "<style scoped>\n",
       "    .dataframe tbody tr th:only-of-type {\n",
       "        vertical-align: middle;\n",
       "    }\n",
       "\n",
       "    .dataframe tbody tr th {\n",
       "        vertical-align: top;\n",
       "    }\n",
       "\n",
       "    .dataframe thead th {\n",
       "        text-align: right;\n",
       "    }\n",
       "</style>\n",
       "<table border=\"1\" class=\"dataframe\">\n",
       "  <thead>\n",
       "    <tr style=\"text-align: right;\">\n",
       "      <th></th>\n",
       "      <th>Title</th>\n",
       "      <th>Speaker</th>\n",
       "      <th>Transcript</th>\n",
       "      <th>Year</th>\n",
       "      <th>Doc</th>\n",
       "      <th>Tokens</th>\n",
       "      <th>Lemmas</th>\n",
       "      <th>POS</th>\n",
       "    </tr>\n",
       "  </thead>\n",
       "  <tbody>\n",
       "    <tr>\n",
       "      <th>0</th>\n",
       "      <td>Ursula K. Le Guin - A Left-Handed Commencemen...</td>\n",
       "      <td>Ursula K. Le Guin</td>\n",
       "      <td>I want to thank the Mills College Class of '83...</td>\n",
       "      <td>1983</td>\n",
       "      <td>(I, want, to, thank, the, Mills, College, Clas...</td>\n",
       "      <td>[I, want, to, thank, the, Mills, College, Clas...</td>\n",
       "      <td>[I, want, to, thank, the, Mills, College, Clas...</td>\n",
       "      <td>[(PRON, PRP), (VERB, VBP), (PART, TO), (VERB, ...</td>\n",
       "    </tr>\n",
       "    <tr>\n",
       "      <th>1</th>\n",
       "      <td>Elizabeth Gurley Flynn -- Statement at the Sm...</td>\n",
       "      <td>Elizabeth Gurley Flynn</td>\n",
       "      <td>Your Honor, ladies and gentlemen, myname is El...</td>\n",
       "      <td>1952</td>\n",
       "      <td>(Your, Honor, ,, ladies, and, gentlemen, ,, my...</td>\n",
       "      <td>[Your, Honor, ,, ladies, and, gentlemen, ,, my...</td>\n",
       "      <td>[your, Honor, ,, lady, and, gentleman, ,, myna...</td>\n",
       "      <td>[(PRON, PRP$), (PROPN, NNP), (PUNCT, ,), (NOUN...</td>\n",
       "    </tr>\n",
       "    <tr>\n",
       "      <th>2</th>\n",
       "      <td>Mary Fisher -- 1992 Republican National Conve...</td>\n",
       "      <td>MaryFisher</td>\n",
       "      <td>Less than three months ago at platform hearing...</td>\n",
       "      <td>1992</td>\n",
       "      <td>(Less, than, three, months, ago, at, platform,...</td>\n",
       "      <td>[Less, than, three, months, ago, at, platform,...</td>\n",
       "      <td>[Less, than, three, month, ago, at, platform, ...</td>\n",
       "      <td>[(ADJ, JJR), (ADP, IN), (NUM, CD), (NOUN, NNS)...</td>\n",
       "    </tr>\n",
       "    <tr>\n",
       "      <th>3</th>\n",
       "      <td>Carrie Chapman Catt - The Crisis</td>\n",
       "      <td>Carrie Chapman Catt</td>\n",
       "      <td>I have taken for my subject, \"The Crisis,\" bec...</td>\n",
       "      <td>1916</td>\n",
       "      <td>(I, have, taken, for, my, subject, ,, \", The, ...</td>\n",
       "      <td>[I, have, taken, for, my, subject, ,, \", The, ...</td>\n",
       "      <td>[I, have, take, for, my, subject, ,, \", the, C...</td>\n",
       "      <td>[(PRON, PRP), (AUX, VBP), (VERB, VBN), (ADP, I...</td>\n",
       "    </tr>\n",
       "    <tr>\n",
       "      <th>4</th>\n",
       "      <td>Margaret Chase Smith -- \"Declaration of Consc...</td>\n",
       "      <td>Margaret Chase Smith</td>\n",
       "      <td>r. President: I would like to speak briefly an...</td>\n",
       "      <td>1950</td>\n",
       "      <td>(r., President, :, I, would, like, to, speak, ...</td>\n",
       "      <td>[r., President, :, I, would, like, to, speak, ...</td>\n",
       "      <td>[r., President, :, I, would, like, to, speak, ...</td>\n",
       "      <td>[(PROPN, NNP), (PROPN, NNP), (PUNCT, :), (PRON...</td>\n",
       "    </tr>\n",
       "  </tbody>\n",
       "</table>\n",
       "</div>"
      ],
      "text/plain": [
       "                                               Title                 Speaker  \\\n",
       "0   Ursula K. Le Guin - A Left-Handed Commencemen...       Ursula K. Le Guin   \n",
       "1   Elizabeth Gurley Flynn -- Statement at the Sm...  Elizabeth Gurley Flynn   \n",
       "2   Mary Fisher -- 1992 Republican National Conve...              MaryFisher   \n",
       "3                   Carrie Chapman Catt - The Crisis     Carrie Chapman Catt   \n",
       "4   Margaret Chase Smith -- \"Declaration of Consc...    Margaret Chase Smith   \n",
       "\n",
       "                                          Transcript  Year  \\\n",
       "0  I want to thank the Mills College Class of '83...  1983   \n",
       "1  Your Honor, ladies and gentlemen, myname is El...  1952   \n",
       "2  Less than three months ago at platform hearing...  1992   \n",
       "3  I have taken for my subject, \"The Crisis,\" bec...  1916   \n",
       "4  r. President: I would like to speak briefly an...  1950   \n",
       "\n",
       "                                                 Doc  \\\n",
       "0  (I, want, to, thank, the, Mills, College, Clas...   \n",
       "1  (Your, Honor, ,, ladies, and, gentlemen, ,, my...   \n",
       "2  (Less, than, three, months, ago, at, platform,...   \n",
       "3  (I, have, taken, for, my, subject, ,, \", The, ...   \n",
       "4  (r., President, :, I, would, like, to, speak, ...   \n",
       "\n",
       "                                              Tokens  \\\n",
       "0  [I, want, to, thank, the, Mills, College, Clas...   \n",
       "1  [Your, Honor, ,, ladies, and, gentlemen, ,, my...   \n",
       "2  [Less, than, three, months, ago, at, platform,...   \n",
       "3  [I, have, taken, for, my, subject, ,, \", The, ...   \n",
       "4  [r., President, :, I, would, like, to, speak, ...   \n",
       "\n",
       "                                              Lemmas  \\\n",
       "0  [I, want, to, thank, the, Mills, College, Clas...   \n",
       "1  [your, Honor, ,, lady, and, gentleman, ,, myna...   \n",
       "2  [Less, than, three, month, ago, at, platform, ...   \n",
       "3  [I, have, take, for, my, subject, ,, \", the, C...   \n",
       "4  [r., President, :, I, would, like, to, speak, ...   \n",
       "\n",
       "                                                 POS  \n",
       "0  [(PRON, PRP), (VERB, VBP), (PART, TO), (VERB, ...  \n",
       "1  [(PRON, PRP$), (PROPN, NNP), (PUNCT, ,), (NOUN...  \n",
       "2  [(ADJ, JJR), (ADP, IN), (NUM, CD), (NOUN, NNS)...  \n",
       "3  [(PRON, PRP), (AUX, VBP), (VERB, VBN), (ADP, I...  \n",
       "4  [(PROPN, NNP), (PROPN, NNP), (PUNCT, :), (PRON...  "
      ]
     },
     "execution_count": 148,
     "metadata": {},
     "output_type": "execute_result"
    }
   ],
   "source": [
    "women_speech.head()"
   ]
  },
  {
   "cell_type": "code",
   "execution_count": 165,
   "id": "a05818a0-231c-4729-aff2-fafe51f6e8b3",
   "metadata": {},
   "outputs": [],
   "source": [
    "# Create a list of part of speech tags\n",
    "#list(women_speech['POS'])"
   ]
  },
  {
   "cell_type": "markdown",
   "id": "482fae3c-77cc-4f0d-adbe-f5dee095d572",
   "metadata": {},
   "source": [
    "### Extract proper nouns"
   ]
  },
  {
   "cell_type": "code",
   "execution_count": 150,
   "id": "b324d244-40ef-4370-b7b7-6300bce3a9a5",
   "metadata": {},
   "outputs": [],
   "source": [
    "# Define function to extract proper nouns from Doc object\n",
    "def extract_proper_nouns(doc):\n",
    "    return [token.text for token in doc if token.pos_ == 'PROPN']\n",
    "\n",
    "# Apply function to Doc column and store resulting proper nouns in new column\n",
    "women_speech['Proper_Nouns'] = women_speech['Doc'].apply(extract_proper_nouns)"
   ]
  },
  {
   "cell_type": "markdown",
   "id": "e953b205-4b4e-4827-9e6d-4b20415d4a0c",
   "metadata": {},
   "source": [
    "### ❓ What is the most frequently mentioned proper nouns across all the speeches by different female speakers in the 20th century?"
   ]
  },
  {
   "cell_type": "code",
   "execution_count": 151,
   "id": "ee853ffe-55fe-4cbb-bd25-f90576b28558",
   "metadata": {},
   "outputs": [
    {
     "data": {
      "text/html": [
       "<div>\n",
       "<style scoped>\n",
       "    .dataframe tbody tr th:only-of-type {\n",
       "        vertical-align: middle;\n",
       "    }\n",
       "\n",
       "    .dataframe tbody tr th {\n",
       "        vertical-align: top;\n",
       "    }\n",
       "\n",
       "    .dataframe thead th {\n",
       "        text-align: right;\n",
       "    }\n",
       "</style>\n",
       "<table border=\"1\" class=\"dataframe\">\n",
       "  <thead>\n",
       "    <tr style=\"text-align: right;\">\n",
       "      <th></th>\n",
       "      <th>Proper_Noun_Count</th>\n",
       "      <th>Frequency</th>\n",
       "    </tr>\n",
       "  </thead>\n",
       "  <tbody>\n",
       "    <tr>\n",
       "      <th>0</th>\n",
       "      <td>America</td>\n",
       "      <td>70</td>\n",
       "    </tr>\n",
       "    <tr>\n",
       "      <th>1</th>\n",
       "      <td>Party</td>\n",
       "      <td>69</td>\n",
       "    </tr>\n",
       "    <tr>\n",
       "      <th>2</th>\n",
       "      <td>United</td>\n",
       "      <td>56</td>\n",
       "    </tr>\n",
       "    <tr>\n",
       "      <th>3</th>\n",
       "      <td>President</td>\n",
       "      <td>52</td>\n",
       "    </tr>\n",
       "    <tr>\n",
       "      <th>4</th>\n",
       "      <td>States</td>\n",
       "      <td>42</td>\n",
       "    </tr>\n",
       "    <tr>\n",
       "      <th>5</th>\n",
       "      <td>Mr.</td>\n",
       "      <td>37</td>\n",
       "    </tr>\n",
       "    <tr>\n",
       "      <th>6</th>\n",
       "      <td>Government</td>\n",
       "      <td>36</td>\n",
       "    </tr>\n",
       "    <tr>\n",
       "      <th>7</th>\n",
       "      <td>Declaration</td>\n",
       "      <td>34</td>\n",
       "    </tr>\n",
       "    <tr>\n",
       "      <th>8</th>\n",
       "      <td>Republic</td>\n",
       "      <td>33</td>\n",
       "    </tr>\n",
       "    <tr>\n",
       "      <th>9</th>\n",
       "      <td>Communist</td>\n",
       "      <td>33</td>\n",
       "    </tr>\n",
       "    <tr>\n",
       "      <th>10</th>\n",
       "      <td>Rights</td>\n",
       "      <td>31</td>\n",
       "    </tr>\n",
       "    <tr>\n",
       "      <th>11</th>\n",
       "      <td>New</td>\n",
       "      <td>28</td>\n",
       "    </tr>\n",
       "    <tr>\n",
       "      <th>12</th>\n",
       "      <td>Thomas</td>\n",
       "      <td>25</td>\n",
       "    </tr>\n",
       "    <tr>\n",
       "      <th>13</th>\n",
       "      <td>Americans</td>\n",
       "      <td>24</td>\n",
       "    </tr>\n",
       "    <tr>\n",
       "      <th>14</th>\n",
       "      <td>American</td>\n",
       "      <td>22</td>\n",
       "    </tr>\n",
       "    <tr>\n",
       "      <th>15</th>\n",
       "      <td>Constitution</td>\n",
       "      <td>21</td>\n",
       "    </tr>\n",
       "    <tr>\n",
       "      <th>16</th>\n",
       "      <td>Democratic</td>\n",
       "      <td>20</td>\n",
       "    </tr>\n",
       "    <tr>\n",
       "      <th>17</th>\n",
       "      <td>God</td>\n",
       "      <td>20</td>\n",
       "    </tr>\n",
       "    <tr>\n",
       "      <th>18</th>\n",
       "      <td>Nations</td>\n",
       "      <td>19</td>\n",
       "    </tr>\n",
       "    <tr>\n",
       "      <th>19</th>\n",
       "      <td>Senate</td>\n",
       "      <td>18</td>\n",
       "    </tr>\n",
       "  </tbody>\n",
       "</table>\n",
       "</div>"
      ],
      "text/plain": [
       "   Proper_Noun_Count  Frequency\n",
       "0            America         70\n",
       "1              Party         69\n",
       "2             United         56\n",
       "3          President         52\n",
       "4             States         42\n",
       "5                Mr.         37\n",
       "6         Government         36\n",
       "7        Declaration         34\n",
       "8           Republic         33\n",
       "9          Communist         33\n",
       "10            Rights         31\n",
       "11               New         28\n",
       "12            Thomas         25\n",
       "13         Americans         24\n",
       "14          American         22\n",
       "15      Constitution         21\n",
       "16        Democratic         20\n",
       "17               God         20\n",
       "18           Nations         19\n",
       "19            Senate         18"
      ]
     },
     "execution_count": 151,
     "metadata": {},
     "output_type": "execute_result"
    }
   ],
   "source": [
    "# Group the speeches by Speaker and count the occurrence of each proper noun\n",
    "grouped_speeches = women_speech.groupby('Speaker')['Proper_Nouns'].sum().apply(pd.Series).stack().reset_index(level=1, drop=True).reset_index(name='Proper_Noun_Count')\n",
    "\n",
    "# Calculate the frequency of each proper noun across all speeches\n",
    "noun_frequency = grouped_speeches['Proper_Noun_Count'].value_counts().reset_index(name='Frequency')\n",
    "\n",
    "# Print the top 20 most frequently mentioned proper nouns\n",
    "noun_frequency.head(20)"
   ]
  },
  {
   "cell_type": "markdown",
   "id": "b96ddf2f-8208-4af3-ac55-f86f0b8c5c87",
   "metadata": {},
   "source": [
    "The most frequently mentioned proper nouns across all the speeches shows that these speeches cover topics such as American society, politics, and ideologies. For instance, the mention of \"Party\" perhaps indicates that these speeches concerned political party ideologies, and women's involvement in political parties. The mention of \"Government\" and \"Declaration\" implies that the speeches may discuss women's contributions to government policies, and the principles in the Declaration of Independence. \"Rights\" and \"Constitution\" indicate that the speeches likely address women's rights, gender equality, and civil liberties. \"Senate\" indicates that the speeches may highlight women's involvement in the Senate."
   ]
  },
  {
   "cell_type": "markdown",
   "id": "24843ebb-3620-40be-b560-4267c674abc2",
   "metadata": {},
   "source": [
    "### ❓ How does the frequency of proper nouns vary across different speakers and time periods?"
   ]
  },
  {
   "cell_type": "code",
   "execution_count": 152,
   "id": "5223d659-fbd6-4c65-bc20-f14b40cb4372",
   "metadata": {},
   "outputs": [
    {
     "data": {
      "text/html": [
       "<div>\n",
       "<style scoped>\n",
       "    .dataframe tbody tr th:only-of-type {\n",
       "        vertical-align: middle;\n",
       "    }\n",
       "\n",
       "    .dataframe tbody tr th {\n",
       "        vertical-align: top;\n",
       "    }\n",
       "\n",
       "    .dataframe thead th {\n",
       "        text-align: right;\n",
       "    }\n",
       "</style>\n",
       "<table border=\"1\" class=\"dataframe\">\n",
       "  <thead>\n",
       "    <tr style=\"text-align: right;\">\n",
       "      <th></th>\n",
       "      <th>Speaker</th>\n",
       "      <th>Proper_Noun_Count</th>\n",
       "      <th>Frequency</th>\n",
       "    </tr>\n",
       "  </thead>\n",
       "  <tbody>\n",
       "    <tr>\n",
       "      <th>0</th>\n",
       "      <td>Anita Hill</td>\n",
       "      <td>Thomas</td>\n",
       "      <td>22</td>\n",
       "    </tr>\n",
       "    <tr>\n",
       "      <th>1</th>\n",
       "      <td>Ann Richards</td>\n",
       "      <td>America</td>\n",
       "      <td>16</td>\n",
       "    </tr>\n",
       "    <tr>\n",
       "      <th>2</th>\n",
       "      <td>Anna Howard Shaw</td>\n",
       "      <td>Republic</td>\n",
       "      <td>28</td>\n",
       "    </tr>\n",
       "    <tr>\n",
       "      <th>3</th>\n",
       "      <td>Barbara Charline Jordan</td>\n",
       "      <td>President</td>\n",
       "      <td>28</td>\n",
       "    </tr>\n",
       "    <tr>\n",
       "      <th>4</th>\n",
       "      <td>Barbara Pierce Bush</td>\n",
       "      <td>Wellesley</td>\n",
       "      <td>6</td>\n",
       "    </tr>\n",
       "    <tr>\n",
       "      <th>5</th>\n",
       "      <td>Carrie Chapman Catt</td>\n",
       "      <td>American</td>\n",
       "      <td>6</td>\n",
       "    </tr>\n",
       "    <tr>\n",
       "      <th>6</th>\n",
       "      <td>Eleanor Roosevelt</td>\n",
       "      <td>Declaration</td>\n",
       "      <td>27</td>\n",
       "    </tr>\n",
       "    <tr>\n",
       "      <th>7</th>\n",
       "      <td>Elizabeth Glaser</td>\n",
       "      <td>America</td>\n",
       "      <td>13</td>\n",
       "    </tr>\n",
       "    <tr>\n",
       "      <th>8</th>\n",
       "      <td>Elizabeth Gurley Flynn</td>\n",
       "      <td>Party</td>\n",
       "      <td>47</td>\n",
       "    </tr>\n",
       "    <tr>\n",
       "      <th>9</th>\n",
       "      <td>Emma Goldman</td>\n",
       "      <td>Attorney</td>\n",
       "      <td>15</td>\n",
       "    </tr>\n",
       "    <tr>\n",
       "      <th>10</th>\n",
       "      <td>Geraldine Ferraro</td>\n",
       "      <td>America</td>\n",
       "      <td>15</td>\n",
       "    </tr>\n",
       "    <tr>\n",
       "      <th>11</th>\n",
       "      <td>Hillary Rodham Clinton</td>\n",
       "      <td>Beijing</td>\n",
       "      <td>2</td>\n",
       "    </tr>\n",
       "    <tr>\n",
       "      <th>12</th>\n",
       "      <td>Margaret Chase Smith</td>\n",
       "      <td>Senate</td>\n",
       "      <td>13</td>\n",
       "    </tr>\n",
       "    <tr>\n",
       "      <th>13</th>\n",
       "      <td>Margaret Sanger</td>\n",
       "      <td>Children</td>\n",
       "      <td>6</td>\n",
       "    </tr>\n",
       "    <tr>\n",
       "      <th>14</th>\n",
       "      <td>MaryFisher</td>\n",
       "      <td>AIDS</td>\n",
       "      <td>8</td>\n",
       "    </tr>\n",
       "    <tr>\n",
       "      <th>15</th>\n",
       "      <td>Shirley Anita St. Hill Chisholm</td>\n",
       "      <td>State</td>\n",
       "      <td>9</td>\n",
       "    </tr>\n",
       "    <tr>\n",
       "      <th>16</th>\n",
       "      <td>Ursula K. Le Guin</td>\n",
       "      <td>Greek</td>\n",
       "      <td>3</td>\n",
       "    </tr>\n",
       "  </tbody>\n",
       "</table>\n",
       "</div>"
      ],
      "text/plain": [
       "                            Speaker Proper_Noun_Count  Frequency\n",
       "0                        Anita Hill            Thomas         22\n",
       "1                      Ann Richards           America         16\n",
       "2                  Anna Howard Shaw          Republic         28\n",
       "3           Barbara Charline Jordan         President         28\n",
       "4               Barbara Pierce Bush         Wellesley          6\n",
       "5               Carrie Chapman Catt          American          6\n",
       "6                 Eleanor Roosevelt       Declaration         27\n",
       "7                  Elizabeth Glaser           America         13\n",
       "8            Elizabeth Gurley Flynn             Party         47\n",
       "9                      Emma Goldman          Attorney         15\n",
       "10                Geraldine Ferraro           America         15\n",
       "11           Hillary Rodham Clinton           Beijing          2\n",
       "12             Margaret Chase Smith            Senate         13\n",
       "13                  Margaret Sanger          Children          6\n",
       "14                       MaryFisher              AIDS          8\n",
       "15  Shirley Anita St. Hill Chisholm             State          9\n",
       "16                Ursula K. Le Guin             Greek          3"
      ]
     },
     "execution_count": 152,
     "metadata": {},
     "output_type": "execute_result"
    }
   ],
   "source": [
    "# Calculate the frequency of each word for each speaker\n",
    "word_frequency = grouped_speeches.groupby(['Speaker', 'Proper_Noun_Count']).size().reset_index(name='Frequency')\n",
    "\n",
    "# Sort the word frequencies in descending order for each speaker\n",
    "word_frequency = word_frequency.sort_values(['Speaker', 'Frequency'], ascending=[True, False])\n",
    "\n",
    "# Get the most frequently mentioned word for each speaker\n",
    "most_frequent_words = word_frequency.groupby('Speaker').first().reset_index()\n",
    "\n",
    "# Print the top 10 most frequently mentioned words for each speaker\n",
    "most_frequent_words"
   ]
  },
  {
   "cell_type": "code",
   "execution_count": 153,
   "id": "56a53b1b-905d-471b-ab88-c7082706373c",
   "metadata": {},
   "outputs": [
    {
     "data": {
      "text/html": [
       "<div>\n",
       "<style scoped>\n",
       "    .dataframe tbody tr th:only-of-type {\n",
       "        vertical-align: middle;\n",
       "    }\n",
       "\n",
       "    .dataframe tbody tr th {\n",
       "        vertical-align: top;\n",
       "    }\n",
       "\n",
       "    .dataframe thead th {\n",
       "        text-align: right;\n",
       "    }\n",
       "</style>\n",
       "<table border=\"1\" class=\"dataframe\">\n",
       "  <thead>\n",
       "    <tr style=\"text-align: right;\">\n",
       "      <th></th>\n",
       "      <th>Year</th>\n",
       "      <th>Proper_Noun_Count</th>\n",
       "      <th>Frequency</th>\n",
       "    </tr>\n",
       "  </thead>\n",
       "  <tbody>\n",
       "    <tr>\n",
       "      <th>0</th>\n",
       "      <td>1915</td>\n",
       "      <td>Republic</td>\n",
       "      <td>28</td>\n",
       "    </tr>\n",
       "    <tr>\n",
       "      <th>1</th>\n",
       "      <td>1916</td>\n",
       "      <td>Hour</td>\n",
       "      <td>6</td>\n",
       "    </tr>\n",
       "    <tr>\n",
       "      <th>2</th>\n",
       "      <td>1917</td>\n",
       "      <td>Attorney</td>\n",
       "      <td>15</td>\n",
       "    </tr>\n",
       "    <tr>\n",
       "      <th>3</th>\n",
       "      <td>1925</td>\n",
       "      <td>Children</td>\n",
       "      <td>6</td>\n",
       "    </tr>\n",
       "    <tr>\n",
       "      <th>4</th>\n",
       "      <td>1948</td>\n",
       "      <td>Declaration</td>\n",
       "      <td>27</td>\n",
       "    </tr>\n",
       "    <tr>\n",
       "      <th>5</th>\n",
       "      <td>1950</td>\n",
       "      <td>Senate</td>\n",
       "      <td>13</td>\n",
       "    </tr>\n",
       "    <tr>\n",
       "      <th>6</th>\n",
       "      <td>1952</td>\n",
       "      <td>Party</td>\n",
       "      <td>47</td>\n",
       "    </tr>\n",
       "    <tr>\n",
       "      <th>7</th>\n",
       "      <td>1970</td>\n",
       "      <td>State</td>\n",
       "      <td>9</td>\n",
       "    </tr>\n",
       "    <tr>\n",
       "      <th>8</th>\n",
       "      <td>1974</td>\n",
       "      <td>President</td>\n",
       "      <td>26</td>\n",
       "    </tr>\n",
       "    <tr>\n",
       "      <th>9</th>\n",
       "      <td>1976</td>\n",
       "      <td>America</td>\n",
       "      <td>8</td>\n",
       "    </tr>\n",
       "    <tr>\n",
       "      <th>10</th>\n",
       "      <td>1983</td>\n",
       "      <td>Greek</td>\n",
       "      <td>3</td>\n",
       "    </tr>\n",
       "    <tr>\n",
       "      <th>11</th>\n",
       "      <td>1984</td>\n",
       "      <td>America</td>\n",
       "      <td>15</td>\n",
       "    </tr>\n",
       "    <tr>\n",
       "      <th>12</th>\n",
       "      <td>1988</td>\n",
       "      <td>America</td>\n",
       "      <td>16</td>\n",
       "    </tr>\n",
       "    <tr>\n",
       "      <th>13</th>\n",
       "      <td>1990</td>\n",
       "      <td>Wellesley</td>\n",
       "      <td>6</td>\n",
       "    </tr>\n",
       "    <tr>\n",
       "      <th>14</th>\n",
       "      <td>1991</td>\n",
       "      <td>Thomas</td>\n",
       "      <td>22</td>\n",
       "    </tr>\n",
       "    <tr>\n",
       "      <th>15</th>\n",
       "      <td>1992</td>\n",
       "      <td>America</td>\n",
       "      <td>15</td>\n",
       "    </tr>\n",
       "    <tr>\n",
       "      <th>16</th>\n",
       "      <td>1995</td>\n",
       "      <td>Beijing</td>\n",
       "      <td>2</td>\n",
       "    </tr>\n",
       "  </tbody>\n",
       "</table>\n",
       "</div>"
      ],
      "text/plain": [
       "    Year Proper_Noun_Count  Frequency\n",
       "0   1915          Republic         28\n",
       "1   1916              Hour          6\n",
       "2   1917          Attorney         15\n",
       "3   1925          Children          6\n",
       "4   1948       Declaration         27\n",
       "5   1950            Senate         13\n",
       "6   1952             Party         47\n",
       "7   1970             State          9\n",
       "8   1974         President         26\n",
       "9   1976           America          8\n",
       "10  1983             Greek          3\n",
       "11  1984           America         15\n",
       "12  1988           America         16\n",
       "13  1990         Wellesley          6\n",
       "14  1991            Thomas         22\n",
       "15  1992           America         15\n",
       "16  1995           Beijing          2"
      ]
     },
     "execution_count": 153,
     "metadata": {},
     "output_type": "execute_result"
    }
   ],
   "source": [
    "# Group the speeches by Year and count the occurrence of each proper noun\n",
    "grouped_speeches2 = women_speech.groupby('Year')['Proper_Nouns'].sum().apply(pd.Series).stack().reset_index(level=1, drop=True).reset_index(name='Proper_Noun_Count')\n",
    "\n",
    "# Calculate the frequency of each word for each year\n",
    "word_frequency2 = grouped_speeches2.groupby(['Year', 'Proper_Noun_Count']).size().reset_index(name='Frequency')\n",
    "\n",
    "# Sort the word frequencies in descending order for each year\n",
    "word_frequency2 = word_frequency2.sort_values(['Year', 'Frequency'], ascending=[True, False])\n",
    "\n",
    "# Get the most frequently mentioned word for each year\n",
    "most_frequent_words2 = word_frequency2.groupby('Year').first().reset_index()\n",
    "\n",
    "# Print the top 10 most frequently mentioned words for each year\n",
    "most_frequent_words2"
   ]
  },
  {
   "cell_type": "markdown",
   "id": "0d875f9b-d02c-4eb1-85f1-67deb2008d77",
   "metadata": {},
   "source": [
    "\"America\" and \"State\" were frequently mentioned by many speakers (Ann Richards, Elizabeth Glaser, etc.), indicating a common focus on the country and perhpas their participation in American politics. Barbara Jordan mentioned \"President\" frequently, suggesting a focus on the presidency. Elizabeth Flynn frequently mentioned \"Party,\" indicating a focus on political parties. Mary Fisher mentioned \"AIDS\" multiple times, indicating a focus on health issue.\n",
    "The increasing frequency of the proper noun \"America\" in 1976, 1984, and 1988 suggests it may be related to significant events or themes during that period. The focus of \"Beijing\" in 1995 might suggest a discussions involving China's development in this year. "
   ]
  },
  {
   "cell_type": "code",
   "execution_count": 154,
   "id": "1e586772-18d8-43be-ad9a-57d276af93cd",
   "metadata": {},
   "outputs": [],
   "source": [
    "# Create new DataFrame for analysis purposes\n",
    "pos_analysis_df = women_speech[['Title','Speaker', 'Doc']]\n",
    "\n",
    "# Create list to store each dictionary\n",
    "num_list = []\n",
    "\n",
    "# Define a function to get part of speech tags and counts and append them to a new dictionary\n",
    "def get_pos_tags(doc):\n",
    "    dictionary = {}\n",
    "    num_pos = doc.count_by(spacy.attrs.POS)\n",
    "    for k,v in sorted(num_pos.items()):\n",
    "        dictionary[doc.vocab[k].text] = v\n",
    "    num_list.append(dictionary)\n",
    "\n",
    "# Apply function to each doc object in DataFrame\n",
    "pos_analysis_df.loc['C_POS'] = pos_analysis_df['Doc'].apply(get_pos_tags)\n",
    "\n",
    "# Create new dataframe with part of speech counts\n",
    "pos_counts = pd.DataFrame(num_list)\n",
    "columns = list(pos_counts.columns)\n",
    "\n",
    "# Add speaker of each speech as new column to dataframe\n",
    "idx = 0\n",
    "new_col = pos_analysis_df['Speaker']\n",
    "pos_counts.insert(loc=idx, column='Speaker', value=new_col)"
   ]
  },
  {
   "cell_type": "code",
   "execution_count": 155,
   "id": "eaaa3d5c-348e-406c-9dae-40e9cb23a994",
   "metadata": {},
   "outputs": [
    {
     "data": {
      "text/html": [
       "<div>\n",
       "<style scoped>\n",
       "    .dataframe tbody tr th:only-of-type {\n",
       "        vertical-align: middle;\n",
       "    }\n",
       "\n",
       "    .dataframe tbody tr th {\n",
       "        vertical-align: top;\n",
       "    }\n",
       "\n",
       "    .dataframe thead th {\n",
       "        text-align: right;\n",
       "    }\n",
       "</style>\n",
       "<table border=\"1\" class=\"dataframe\">\n",
       "  <thead>\n",
       "    <tr style=\"text-align: right;\">\n",
       "      <th></th>\n",
       "      <th>Speaker</th>\n",
       "      <th>ADJ</th>\n",
       "      <th>ADP</th>\n",
       "      <th>ADV</th>\n",
       "      <th>AUX</th>\n",
       "      <th>CCONJ</th>\n",
       "      <th>DET</th>\n",
       "      <th>INTJ</th>\n",
       "      <th>NOUN</th>\n",
       "      <th>NUM</th>\n",
       "      <th>PART</th>\n",
       "      <th>PRON</th>\n",
       "      <th>PROPN</th>\n",
       "      <th>PUNCT</th>\n",
       "      <th>SCONJ</th>\n",
       "      <th>VERB</th>\n",
       "      <th>X</th>\n",
       "      <th>SPACE</th>\n",
       "      <th>SYM</th>\n",
       "    </tr>\n",
       "  </thead>\n",
       "  <tbody>\n",
       "    <tr>\n",
       "      <th>0</th>\n",
       "      <td>Anita Hill</td>\n",
       "      <td>147.0</td>\n",
       "      <td>347.0</td>\n",
       "      <td>99.0</td>\n",
       "      <td>159.0</td>\n",
       "      <td>83.0</td>\n",
       "      <td>213.0</td>\n",
       "      <td>2.0</td>\n",
       "      <td>396.0</td>\n",
       "      <td>32.0</td>\n",
       "      <td>70.0</td>\n",
       "      <td>372.0</td>\n",
       "      <td>158.0</td>\n",
       "      <td>277.0</td>\n",
       "      <td>79.0</td>\n",
       "      <td>306.0</td>\n",
       "      <td>2.0</td>\n",
       "      <td>2.0</td>\n",
       "      <td>NaN</td>\n",
       "    </tr>\n",
       "    <tr>\n",
       "      <th>1</th>\n",
       "      <td>Ann Richards</td>\n",
       "      <td>157.0</td>\n",
       "      <td>245.0</td>\n",
       "      <td>114.0</td>\n",
       "      <td>168.0</td>\n",
       "      <td>159.0</td>\n",
       "      <td>218.0</td>\n",
       "      <td>16.0</td>\n",
       "      <td>483.0</td>\n",
       "      <td>21.0</td>\n",
       "      <td>69.0</td>\n",
       "      <td>405.0</td>\n",
       "      <td>158.0</td>\n",
       "      <td>328.0</td>\n",
       "      <td>110.0</td>\n",
       "      <td>390.0</td>\n",
       "      <td>3.0</td>\n",
       "      <td>66.0</td>\n",
       "      <td>NaN</td>\n",
       "    </tr>\n",
       "    <tr>\n",
       "      <th>2</th>\n",
       "      <td>Anna Howard Shaw</td>\n",
       "      <td>508.0</td>\n",
       "      <td>996.0</td>\n",
       "      <td>446.0</td>\n",
       "      <td>793.0</td>\n",
       "      <td>483.0</td>\n",
       "      <td>1042.0</td>\n",
       "      <td>12.0</td>\n",
       "      <td>1694.0</td>\n",
       "      <td>85.0</td>\n",
       "      <td>371.0</td>\n",
       "      <td>1285.0</td>\n",
       "      <td>237.0</td>\n",
       "      <td>965.0</td>\n",
       "      <td>413.0</td>\n",
       "      <td>1241.0</td>\n",
       "      <td>2.0</td>\n",
       "      <td>1.0</td>\n",
       "      <td>1.0</td>\n",
       "    </tr>\n",
       "    <tr>\n",
       "      <th>3</th>\n",
       "      <td>Barbara Charline Jordan</td>\n",
       "      <td>112.0</td>\n",
       "      <td>166.0</td>\n",
       "      <td>48.0</td>\n",
       "      <td>144.0</td>\n",
       "      <td>52.0</td>\n",
       "      <td>212.0</td>\n",
       "      <td>2.0</td>\n",
       "      <td>313.0</td>\n",
       "      <td>13.0</td>\n",
       "      <td>64.0</td>\n",
       "      <td>192.0</td>\n",
       "      <td>102.0</td>\n",
       "      <td>243.0</td>\n",
       "      <td>54.0</td>\n",
       "      <td>218.0</td>\n",
       "      <td>1.0</td>\n",
       "      <td>4.0</td>\n",
       "      <td>NaN</td>\n",
       "    </tr>\n",
       "    <tr>\n",
       "      <th>4</th>\n",
       "      <td>Barbara Pierce Bush</td>\n",
       "      <td>77.0</td>\n",
       "      <td>104.0</td>\n",
       "      <td>66.0</td>\n",
       "      <td>99.0</td>\n",
       "      <td>55.0</td>\n",
       "      <td>97.0</td>\n",
       "      <td>2.0</td>\n",
       "      <td>215.0</td>\n",
       "      <td>16.0</td>\n",
       "      <td>44.0</td>\n",
       "      <td>160.0</td>\n",
       "      <td>60.0</td>\n",
       "      <td>225.0</td>\n",
       "      <td>25.0</td>\n",
       "      <td>154.0</td>\n",
       "      <td>NaN</td>\n",
       "      <td>2.0</td>\n",
       "      <td>NaN</td>\n",
       "    </tr>\n",
       "    <tr>\n",
       "      <th>5</th>\n",
       "      <td>Carrie Chapman Catt</td>\n",
       "      <td>262.0</td>\n",
       "      <td>439.0</td>\n",
       "      <td>137.0</td>\n",
       "      <td>274.0</td>\n",
       "      <td>151.0</td>\n",
       "      <td>398.0</td>\n",
       "      <td>2.0</td>\n",
       "      <td>803.0</td>\n",
       "      <td>31.0</td>\n",
       "      <td>88.0</td>\n",
       "      <td>320.0</td>\n",
       "      <td>114.0</td>\n",
       "      <td>475.0</td>\n",
       "      <td>85.0</td>\n",
       "      <td>420.0</td>\n",
       "      <td>2.0</td>\n",
       "      <td>1.0</td>\n",
       "      <td>NaN</td>\n",
       "    </tr>\n",
       "    <tr>\n",
       "      <th>6</th>\n",
       "      <td>Eleanor Roosevelt</td>\n",
       "      <td>225.0</td>\n",
       "      <td>378.0</td>\n",
       "      <td>86.0</td>\n",
       "      <td>173.0</td>\n",
       "      <td>102.0</td>\n",
       "      <td>321.0</td>\n",
       "      <td>1.0</td>\n",
       "      <td>586.0</td>\n",
       "      <td>18.0</td>\n",
       "      <td>84.0</td>\n",
       "      <td>236.0</td>\n",
       "      <td>136.0</td>\n",
       "      <td>242.0</td>\n",
       "      <td>57.0</td>\n",
       "      <td>274.0</td>\n",
       "      <td>4.0</td>\n",
       "      <td>1.0</td>\n",
       "      <td>NaN</td>\n",
       "    </tr>\n",
       "    <tr>\n",
       "      <th>7</th>\n",
       "      <td>Elizabeth Glaser</td>\n",
       "      <td>47.0</td>\n",
       "      <td>93.0</td>\n",
       "      <td>51.0</td>\n",
       "      <td>96.0</td>\n",
       "      <td>50.0</td>\n",
       "      <td>82.0</td>\n",
       "      <td>1.0</td>\n",
       "      <td>183.0</td>\n",
       "      <td>11.0</td>\n",
       "      <td>61.0</td>\n",
       "      <td>179.0</td>\n",
       "      <td>60.0</td>\n",
       "      <td>168.0</td>\n",
       "      <td>41.0</td>\n",
       "      <td>158.0</td>\n",
       "      <td>NaN</td>\n",
       "      <td>1.0</td>\n",
       "      <td>NaN</td>\n",
       "    </tr>\n",
       "    <tr>\n",
       "      <th>8</th>\n",
       "      <td>Elizabeth Gurley Flynn</td>\n",
       "      <td>568.0</td>\n",
       "      <td>1010.0</td>\n",
       "      <td>281.0</td>\n",
       "      <td>491.0</td>\n",
       "      <td>333.0</td>\n",
       "      <td>763.0</td>\n",
       "      <td>5.0</td>\n",
       "      <td>1629.0</td>\n",
       "      <td>100.0</td>\n",
       "      <td>226.0</td>\n",
       "      <td>880.0</td>\n",
       "      <td>629.0</td>\n",
       "      <td>1161.0</td>\n",
       "      <td>178.0</td>\n",
       "      <td>876.0</td>\n",
       "      <td>4.0</td>\n",
       "      <td>300.0</td>\n",
       "      <td>NaN</td>\n",
       "    </tr>\n",
       "    <tr>\n",
       "      <th>9</th>\n",
       "      <td>Emma Goldman</td>\n",
       "      <td>323.0</td>\n",
       "      <td>602.0</td>\n",
       "      <td>199.0</td>\n",
       "      <td>405.0</td>\n",
       "      <td>214.0</td>\n",
       "      <td>550.0</td>\n",
       "      <td>5.0</td>\n",
       "      <td>993.0</td>\n",
       "      <td>40.0</td>\n",
       "      <td>180.0</td>\n",
       "      <td>568.0</td>\n",
       "      <td>255.0</td>\n",
       "      <td>578.0</td>\n",
       "      <td>179.0</td>\n",
       "      <td>574.0</td>\n",
       "      <td>NaN</td>\n",
       "      <td>189.0</td>\n",
       "      <td>1.0</td>\n",
       "    </tr>\n",
       "    <tr>\n",
       "      <th>10</th>\n",
       "      <td>Geraldine Ferraro</td>\n",
       "      <td>104.0</td>\n",
       "      <td>183.0</td>\n",
       "      <td>39.0</td>\n",
       "      <td>119.0</td>\n",
       "      <td>60.0</td>\n",
       "      <td>159.0</td>\n",
       "      <td>NaN</td>\n",
       "      <td>328.0</td>\n",
       "      <td>9.0</td>\n",
       "      <td>53.0</td>\n",
       "      <td>225.0</td>\n",
       "      <td>143.0</td>\n",
       "      <td>236.0</td>\n",
       "      <td>49.0</td>\n",
       "      <td>210.0</td>\n",
       "      <td>2.0</td>\n",
       "      <td>1.0</td>\n",
       "      <td>NaN</td>\n",
       "    </tr>\n",
       "    <tr>\n",
       "      <th>11</th>\n",
       "      <td>Hillary Rodham Clinton</td>\n",
       "      <td>139.0</td>\n",
       "      <td>271.0</td>\n",
       "      <td>105.0</td>\n",
       "      <td>153.0</td>\n",
       "      <td>137.0</td>\n",
       "      <td>200.0</td>\n",
       "      <td>NaN</td>\n",
       "      <td>578.0</td>\n",
       "      <td>12.0</td>\n",
       "      <td>81.0</td>\n",
       "      <td>231.0</td>\n",
       "      <td>46.0</td>\n",
       "      <td>281.0</td>\n",
       "      <td>56.0</td>\n",
       "      <td>311.0</td>\n",
       "      <td>NaN</td>\n",
       "      <td>2.0</td>\n",
       "      <td>NaN</td>\n",
       "    </tr>\n",
       "    <tr>\n",
       "      <th>12</th>\n",
       "      <td>Margaret Chase Smith</td>\n",
       "      <td>153.0</td>\n",
       "      <td>226.0</td>\n",
       "      <td>90.0</td>\n",
       "      <td>121.0</td>\n",
       "      <td>73.0</td>\n",
       "      <td>189.0</td>\n",
       "      <td>NaN</td>\n",
       "      <td>320.0</td>\n",
       "      <td>4.0</td>\n",
       "      <td>41.0</td>\n",
       "      <td>193.0</td>\n",
       "      <td>152.0</td>\n",
       "      <td>178.0</td>\n",
       "      <td>42.0</td>\n",
       "      <td>187.0</td>\n",
       "      <td>8.0</td>\n",
       "      <td>38.0</td>\n",
       "      <td>NaN</td>\n",
       "    </tr>\n",
       "    <tr>\n",
       "      <th>13</th>\n",
       "      <td>Margaret Sanger</td>\n",
       "      <td>141.0</td>\n",
       "      <td>180.0</td>\n",
       "      <td>72.0</td>\n",
       "      <td>122.0</td>\n",
       "      <td>54.0</td>\n",
       "      <td>188.0</td>\n",
       "      <td>6.0</td>\n",
       "      <td>359.0</td>\n",
       "      <td>15.0</td>\n",
       "      <td>67.0</td>\n",
       "      <td>157.0</td>\n",
       "      <td>40.0</td>\n",
       "      <td>277.0</td>\n",
       "      <td>43.0</td>\n",
       "      <td>194.0</td>\n",
       "      <td>3.0</td>\n",
       "      <td>4.0</td>\n",
       "      <td>NaN</td>\n",
       "    </tr>\n",
       "    <tr>\n",
       "      <th>14</th>\n",
       "      <td>MaryFisher</td>\n",
       "      <td>89.0</td>\n",
       "      <td>122.0</td>\n",
       "      <td>60.0</td>\n",
       "      <td>133.0</td>\n",
       "      <td>68.0</td>\n",
       "      <td>107.0</td>\n",
       "      <td>1.0</td>\n",
       "      <td>260.0</td>\n",
       "      <td>20.0</td>\n",
       "      <td>69.0</td>\n",
       "      <td>241.0</td>\n",
       "      <td>59.0</td>\n",
       "      <td>237.0</td>\n",
       "      <td>40.0</td>\n",
       "      <td>182.0</td>\n",
       "      <td>NaN</td>\n",
       "      <td>69.0</td>\n",
       "      <td>NaN</td>\n",
       "    </tr>\n",
       "    <tr>\n",
       "      <th>15</th>\n",
       "      <td>Shirley Anita St. Hill Chisholm</td>\n",
       "      <td>171.0</td>\n",
       "      <td>211.0</td>\n",
       "      <td>55.0</td>\n",
       "      <td>139.0</td>\n",
       "      <td>69.0</td>\n",
       "      <td>133.0</td>\n",
       "      <td>NaN</td>\n",
       "      <td>416.0</td>\n",
       "      <td>18.0</td>\n",
       "      <td>54.0</td>\n",
       "      <td>90.0</td>\n",
       "      <td>73.0</td>\n",
       "      <td>180.0</td>\n",
       "      <td>24.0</td>\n",
       "      <td>166.0</td>\n",
       "      <td>3.0</td>\n",
       "      <td>2.0</td>\n",
       "      <td>NaN</td>\n",
       "    </tr>\n",
       "    <tr>\n",
       "      <th>16</th>\n",
       "      <td>Ursula K. Le Guin</td>\n",
       "      <td>87.0</td>\n",
       "      <td>132.0</td>\n",
       "      <td>67.0</td>\n",
       "      <td>73.0</td>\n",
       "      <td>62.0</td>\n",
       "      <td>83.0</td>\n",
       "      <td>9.0</td>\n",
       "      <td>224.0</td>\n",
       "      <td>5.0</td>\n",
       "      <td>36.0</td>\n",
       "      <td>171.0</td>\n",
       "      <td>42.0</td>\n",
       "      <td>201.0</td>\n",
       "      <td>41.0</td>\n",
       "      <td>167.0</td>\n",
       "      <td>2.0</td>\n",
       "      <td>NaN</td>\n",
       "      <td>NaN</td>\n",
       "    </tr>\n",
       "  </tbody>\n",
       "</table>\n",
       "</div>"
      ],
      "text/plain": [
       "                            Speaker    ADJ     ADP    ADV    AUX  CCONJ  \\\n",
       "0                        Anita Hill  147.0   347.0   99.0  159.0   83.0   \n",
       "1                      Ann Richards  157.0   245.0  114.0  168.0  159.0   \n",
       "2                  Anna Howard Shaw  508.0   996.0  446.0  793.0  483.0   \n",
       "3           Barbara Charline Jordan  112.0   166.0   48.0  144.0   52.0   \n",
       "4               Barbara Pierce Bush   77.0   104.0   66.0   99.0   55.0   \n",
       "5               Carrie Chapman Catt  262.0   439.0  137.0  274.0  151.0   \n",
       "6                 Eleanor Roosevelt  225.0   378.0   86.0  173.0  102.0   \n",
       "7                  Elizabeth Glaser   47.0    93.0   51.0   96.0   50.0   \n",
       "8            Elizabeth Gurley Flynn  568.0  1010.0  281.0  491.0  333.0   \n",
       "9                      Emma Goldman  323.0   602.0  199.0  405.0  214.0   \n",
       "10                Geraldine Ferraro  104.0   183.0   39.0  119.0   60.0   \n",
       "11           Hillary Rodham Clinton  139.0   271.0  105.0  153.0  137.0   \n",
       "12             Margaret Chase Smith  153.0   226.0   90.0  121.0   73.0   \n",
       "13                  Margaret Sanger  141.0   180.0   72.0  122.0   54.0   \n",
       "14                       MaryFisher   89.0   122.0   60.0  133.0   68.0   \n",
       "15  Shirley Anita St. Hill Chisholm  171.0   211.0   55.0  139.0   69.0   \n",
       "16                Ursula K. Le Guin   87.0   132.0   67.0   73.0   62.0   \n",
       "\n",
       "       DET  INTJ    NOUN    NUM   PART    PRON  PROPN   PUNCT  SCONJ    VERB  \\\n",
       "0    213.0   2.0   396.0   32.0   70.0   372.0  158.0   277.0   79.0   306.0   \n",
       "1    218.0  16.0   483.0   21.0   69.0   405.0  158.0   328.0  110.0   390.0   \n",
       "2   1042.0  12.0  1694.0   85.0  371.0  1285.0  237.0   965.0  413.0  1241.0   \n",
       "3    212.0   2.0   313.0   13.0   64.0   192.0  102.0   243.0   54.0   218.0   \n",
       "4     97.0   2.0   215.0   16.0   44.0   160.0   60.0   225.0   25.0   154.0   \n",
       "5    398.0   2.0   803.0   31.0   88.0   320.0  114.0   475.0   85.0   420.0   \n",
       "6    321.0   1.0   586.0   18.0   84.0   236.0  136.0   242.0   57.0   274.0   \n",
       "7     82.0   1.0   183.0   11.0   61.0   179.0   60.0   168.0   41.0   158.0   \n",
       "8    763.0   5.0  1629.0  100.0  226.0   880.0  629.0  1161.0  178.0   876.0   \n",
       "9    550.0   5.0   993.0   40.0  180.0   568.0  255.0   578.0  179.0   574.0   \n",
       "10   159.0   NaN   328.0    9.0   53.0   225.0  143.0   236.0   49.0   210.0   \n",
       "11   200.0   NaN   578.0   12.0   81.0   231.0   46.0   281.0   56.0   311.0   \n",
       "12   189.0   NaN   320.0    4.0   41.0   193.0  152.0   178.0   42.0   187.0   \n",
       "13   188.0   6.0   359.0   15.0   67.0   157.0   40.0   277.0   43.0   194.0   \n",
       "14   107.0   1.0   260.0   20.0   69.0   241.0   59.0   237.0   40.0   182.0   \n",
       "15   133.0   NaN   416.0   18.0   54.0    90.0   73.0   180.0   24.0   166.0   \n",
       "16    83.0   9.0   224.0    5.0   36.0   171.0   42.0   201.0   41.0   167.0   \n",
       "\n",
       "      X  SPACE  SYM  \n",
       "0   2.0    2.0  NaN  \n",
       "1   3.0   66.0  NaN  \n",
       "2   2.0    1.0  1.0  \n",
       "3   1.0    4.0  NaN  \n",
       "4   NaN    2.0  NaN  \n",
       "5   2.0    1.0  NaN  \n",
       "6   4.0    1.0  NaN  \n",
       "7   NaN    1.0  NaN  \n",
       "8   4.0  300.0  NaN  \n",
       "9   NaN  189.0  1.0  \n",
       "10  2.0    1.0  NaN  \n",
       "11  NaN    2.0  NaN  \n",
       "12  8.0   38.0  NaN  \n",
       "13  3.0    4.0  NaN  \n",
       "14  NaN   69.0  NaN  \n",
       "15  3.0    2.0  NaN  \n",
       "16  2.0    NaN  NaN  "
      ]
     },
     "execution_count": 155,
     "metadata": {},
     "output_type": "execute_result"
    }
   ],
   "source": [
    "# Get average part of speech counts used in speech of each speaker\n",
    "average_pos_df = pos_counts.groupby(['Speaker']).mean()\n",
    "\n",
    "# Round calculations to the nearest whole number\n",
    "average_pos_df = average_pos_df.round(0)\n",
    "\n",
    "# Reset index to improve DataFrame readability\n",
    "average_pos_df = average_pos_df.reset_index()\n",
    "\n",
    "# Show dataframe\n",
    "average_pos_df"
   ]
  },
  {
   "cell_type": "code",
   "execution_count": 156,
   "id": "6a67ccbd-4183-494b-bd14-d98c6eb31f10",
   "metadata": {},
   "outputs": [
    {
     "data": {
      "application/vnd.plotly.v1+json": {
       "config": {
        "plotlyServerURL": "https://plot.ly"
       },
       "data": [
        {
         "alignmentgroup": "True",
         "hovertemplate": "variable=ADJ<br>Speaker=%{x}<br>value=%{y}<extra></extra>",
         "legendgroup": "ADJ",
         "marker": {
          "color": "#636efa",
          "pattern": {
           "shape": ""
          }
         },
         "name": "ADJ",
         "offsetgroup": "ADJ",
         "orientation": "v",
         "showlegend": true,
         "textposition": "auto",
         "type": "bar",
         "x": [
          "Anita Hill",
          "Ann Richards",
          "Anna Howard Shaw",
          "Barbara Charline Jordan",
          "Barbara Pierce Bush",
          "Carrie Chapman Catt",
          "Eleanor Roosevelt",
          "Elizabeth Glaser",
          "Elizabeth Gurley Flynn",
          "Emma Goldman",
          "Geraldine Ferraro",
          "Hillary Rodham Clinton",
          "Margaret Chase Smith",
          "Margaret Sanger",
          "MaryFisher",
          "Shirley Anita St. Hill Chisholm",
          "Ursula K. Le Guin"
         ],
         "xaxis": "x",
         "y": [
          147,
          157,
          508,
          112,
          77,
          262,
          225,
          47,
          568,
          323,
          104,
          139,
          153,
          141,
          89,
          171,
          87
         ],
         "yaxis": "y"
        },
        {
         "alignmentgroup": "True",
         "hovertemplate": "variable=VERB<br>Speaker=%{x}<br>value=%{y}<extra></extra>",
         "legendgroup": "VERB",
         "marker": {
          "color": "#EF553B",
          "pattern": {
           "shape": ""
          }
         },
         "name": "VERB",
         "offsetgroup": "VERB",
         "orientation": "v",
         "showlegend": true,
         "textposition": "auto",
         "type": "bar",
         "x": [
          "Anita Hill",
          "Ann Richards",
          "Anna Howard Shaw",
          "Barbara Charline Jordan",
          "Barbara Pierce Bush",
          "Carrie Chapman Catt",
          "Eleanor Roosevelt",
          "Elizabeth Glaser",
          "Elizabeth Gurley Flynn",
          "Emma Goldman",
          "Geraldine Ferraro",
          "Hillary Rodham Clinton",
          "Margaret Chase Smith",
          "Margaret Sanger",
          "MaryFisher",
          "Shirley Anita St. Hill Chisholm",
          "Ursula K. Le Guin"
         ],
         "xaxis": "x",
         "y": [
          306,
          390,
          1241,
          218,
          154,
          420,
          274,
          158,
          876,
          574,
          210,
          311,
          187,
          194,
          182,
          166,
          167
         ],
         "yaxis": "y"
        },
        {
         "alignmentgroup": "True",
         "hovertemplate": "variable=NUM<br>Speaker=%{x}<br>value=%{y}<extra></extra>",
         "legendgroup": "NUM",
         "marker": {
          "color": "#00cc96",
          "pattern": {
           "shape": ""
          }
         },
         "name": "NUM",
         "offsetgroup": "NUM",
         "orientation": "v",
         "showlegend": true,
         "textposition": "auto",
         "type": "bar",
         "x": [
          "Anita Hill",
          "Ann Richards",
          "Anna Howard Shaw",
          "Barbara Charline Jordan",
          "Barbara Pierce Bush",
          "Carrie Chapman Catt",
          "Eleanor Roosevelt",
          "Elizabeth Glaser",
          "Elizabeth Gurley Flynn",
          "Emma Goldman",
          "Geraldine Ferraro",
          "Hillary Rodham Clinton",
          "Margaret Chase Smith",
          "Margaret Sanger",
          "MaryFisher",
          "Shirley Anita St. Hill Chisholm",
          "Ursula K. Le Guin"
         ],
         "xaxis": "x",
         "y": [
          32,
          21,
          85,
          13,
          16,
          31,
          18,
          11,
          100,
          40,
          9,
          12,
          4,
          15,
          20,
          18,
          5
         ],
         "yaxis": "y"
        }
       ],
       "layout": {
        "autosize": true,
        "barmode": "group",
        "legend": {
         "title": {
          "text": "variable"
         },
         "tracegroupgap": 0
        },
        "template": {
         "data": {
          "bar": [
           {
            "error_x": {
             "color": "#2a3f5f"
            },
            "error_y": {
             "color": "#2a3f5f"
            },
            "marker": {
             "line": {
              "color": "#E5ECF6",
              "width": 0.5
             },
             "pattern": {
              "fillmode": "overlay",
              "size": 10,
              "solidity": 0.2
             }
            },
            "type": "bar"
           }
          ],
          "barpolar": [
           {
            "marker": {
             "line": {
              "color": "#E5ECF6",
              "width": 0.5
             },
             "pattern": {
              "fillmode": "overlay",
              "size": 10,
              "solidity": 0.2
             }
            },
            "type": "barpolar"
           }
          ],
          "carpet": [
           {
            "aaxis": {
             "endlinecolor": "#2a3f5f",
             "gridcolor": "white",
             "linecolor": "white",
             "minorgridcolor": "white",
             "startlinecolor": "#2a3f5f"
            },
            "baxis": {
             "endlinecolor": "#2a3f5f",
             "gridcolor": "white",
             "linecolor": "white",
             "minorgridcolor": "white",
             "startlinecolor": "#2a3f5f"
            },
            "type": "carpet"
           }
          ],
          "choropleth": [
           {
            "colorbar": {
             "outlinewidth": 0,
             "ticks": ""
            },
            "type": "choropleth"
           }
          ],
          "contour": [
           {
            "colorbar": {
             "outlinewidth": 0,
             "ticks": ""
            },
            "colorscale": [
             [
              0,
              "#0d0887"
             ],
             [
              0.1111111111111111,
              "#46039f"
             ],
             [
              0.2222222222222222,
              "#7201a8"
             ],
             [
              0.3333333333333333,
              "#9c179e"
             ],
             [
              0.4444444444444444,
              "#bd3786"
             ],
             [
              0.5555555555555556,
              "#d8576b"
             ],
             [
              0.6666666666666666,
              "#ed7953"
             ],
             [
              0.7777777777777778,
              "#fb9f3a"
             ],
             [
              0.8888888888888888,
              "#fdca26"
             ],
             [
              1,
              "#f0f921"
             ]
            ],
            "type": "contour"
           }
          ],
          "contourcarpet": [
           {
            "colorbar": {
             "outlinewidth": 0,
             "ticks": ""
            },
            "type": "contourcarpet"
           }
          ],
          "heatmap": [
           {
            "colorbar": {
             "outlinewidth": 0,
             "ticks": ""
            },
            "colorscale": [
             [
              0,
              "#0d0887"
             ],
             [
              0.1111111111111111,
              "#46039f"
             ],
             [
              0.2222222222222222,
              "#7201a8"
             ],
             [
              0.3333333333333333,
              "#9c179e"
             ],
             [
              0.4444444444444444,
              "#bd3786"
             ],
             [
              0.5555555555555556,
              "#d8576b"
             ],
             [
              0.6666666666666666,
              "#ed7953"
             ],
             [
              0.7777777777777778,
              "#fb9f3a"
             ],
             [
              0.8888888888888888,
              "#fdca26"
             ],
             [
              1,
              "#f0f921"
             ]
            ],
            "type": "heatmap"
           }
          ],
          "heatmapgl": [
           {
            "colorbar": {
             "outlinewidth": 0,
             "ticks": ""
            },
            "colorscale": [
             [
              0,
              "#0d0887"
             ],
             [
              0.1111111111111111,
              "#46039f"
             ],
             [
              0.2222222222222222,
              "#7201a8"
             ],
             [
              0.3333333333333333,
              "#9c179e"
             ],
             [
              0.4444444444444444,
              "#bd3786"
             ],
             [
              0.5555555555555556,
              "#d8576b"
             ],
             [
              0.6666666666666666,
              "#ed7953"
             ],
             [
              0.7777777777777778,
              "#fb9f3a"
             ],
             [
              0.8888888888888888,
              "#fdca26"
             ],
             [
              1,
              "#f0f921"
             ]
            ],
            "type": "heatmapgl"
           }
          ],
          "histogram": [
           {
            "marker": {
             "pattern": {
              "fillmode": "overlay",
              "size": 10,
              "solidity": 0.2
             }
            },
            "type": "histogram"
           }
          ],
          "histogram2d": [
           {
            "colorbar": {
             "outlinewidth": 0,
             "ticks": ""
            },
            "colorscale": [
             [
              0,
              "#0d0887"
             ],
             [
              0.1111111111111111,
              "#46039f"
             ],
             [
              0.2222222222222222,
              "#7201a8"
             ],
             [
              0.3333333333333333,
              "#9c179e"
             ],
             [
              0.4444444444444444,
              "#bd3786"
             ],
             [
              0.5555555555555556,
              "#d8576b"
             ],
             [
              0.6666666666666666,
              "#ed7953"
             ],
             [
              0.7777777777777778,
              "#fb9f3a"
             ],
             [
              0.8888888888888888,
              "#fdca26"
             ],
             [
              1,
              "#f0f921"
             ]
            ],
            "type": "histogram2d"
           }
          ],
          "histogram2dcontour": [
           {
            "colorbar": {
             "outlinewidth": 0,
             "ticks": ""
            },
            "colorscale": [
             [
              0,
              "#0d0887"
             ],
             [
              0.1111111111111111,
              "#46039f"
             ],
             [
              0.2222222222222222,
              "#7201a8"
             ],
             [
              0.3333333333333333,
              "#9c179e"
             ],
             [
              0.4444444444444444,
              "#bd3786"
             ],
             [
              0.5555555555555556,
              "#d8576b"
             ],
             [
              0.6666666666666666,
              "#ed7953"
             ],
             [
              0.7777777777777778,
              "#fb9f3a"
             ],
             [
              0.8888888888888888,
              "#fdca26"
             ],
             [
              1,
              "#f0f921"
             ]
            ],
            "type": "histogram2dcontour"
           }
          ],
          "mesh3d": [
           {
            "colorbar": {
             "outlinewidth": 0,
             "ticks": ""
            },
            "type": "mesh3d"
           }
          ],
          "parcoords": [
           {
            "line": {
             "colorbar": {
              "outlinewidth": 0,
              "ticks": ""
             }
            },
            "type": "parcoords"
           }
          ],
          "pie": [
           {
            "automargin": true,
            "type": "pie"
           }
          ],
          "scatter": [
           {
            "fillpattern": {
             "fillmode": "overlay",
             "size": 10,
             "solidity": 0.2
            },
            "type": "scatter"
           }
          ],
          "scatter3d": [
           {
            "line": {
             "colorbar": {
              "outlinewidth": 0,
              "ticks": ""
             }
            },
            "marker": {
             "colorbar": {
              "outlinewidth": 0,
              "ticks": ""
             }
            },
            "type": "scatter3d"
           }
          ],
          "scattercarpet": [
           {
            "marker": {
             "colorbar": {
              "outlinewidth": 0,
              "ticks": ""
             }
            },
            "type": "scattercarpet"
           }
          ],
          "scattergeo": [
           {
            "marker": {
             "colorbar": {
              "outlinewidth": 0,
              "ticks": ""
             }
            },
            "type": "scattergeo"
           }
          ],
          "scattergl": [
           {
            "marker": {
             "colorbar": {
              "outlinewidth": 0,
              "ticks": ""
             }
            },
            "type": "scattergl"
           }
          ],
          "scattermapbox": [
           {
            "marker": {
             "colorbar": {
              "outlinewidth": 0,
              "ticks": ""
             }
            },
            "type": "scattermapbox"
           }
          ],
          "scatterpolar": [
           {
            "marker": {
             "colorbar": {
              "outlinewidth": 0,
              "ticks": ""
             }
            },
            "type": "scatterpolar"
           }
          ],
          "scatterpolargl": [
           {
            "marker": {
             "colorbar": {
              "outlinewidth": 0,
              "ticks": ""
             }
            },
            "type": "scatterpolargl"
           }
          ],
          "scatterternary": [
           {
            "marker": {
             "colorbar": {
              "outlinewidth": 0,
              "ticks": ""
             }
            },
            "type": "scatterternary"
           }
          ],
          "surface": [
           {
            "colorbar": {
             "outlinewidth": 0,
             "ticks": ""
            },
            "colorscale": [
             [
              0,
              "#0d0887"
             ],
             [
              0.1111111111111111,
              "#46039f"
             ],
             [
              0.2222222222222222,
              "#7201a8"
             ],
             [
              0.3333333333333333,
              "#9c179e"
             ],
             [
              0.4444444444444444,
              "#bd3786"
             ],
             [
              0.5555555555555556,
              "#d8576b"
             ],
             [
              0.6666666666666666,
              "#ed7953"
             ],
             [
              0.7777777777777778,
              "#fb9f3a"
             ],
             [
              0.8888888888888888,
              "#fdca26"
             ],
             [
              1,
              "#f0f921"
             ]
            ],
            "type": "surface"
           }
          ],
          "table": [
           {
            "cells": {
             "fill": {
              "color": "#EBF0F8"
             },
             "line": {
              "color": "white"
             }
            },
            "header": {
             "fill": {
              "color": "#C8D4E3"
             },
             "line": {
              "color": "white"
             }
            },
            "type": "table"
           }
          ]
         },
         "layout": {
          "annotationdefaults": {
           "arrowcolor": "#2a3f5f",
           "arrowhead": 0,
           "arrowwidth": 1
          },
          "autotypenumbers": "strict",
          "coloraxis": {
           "colorbar": {
            "outlinewidth": 0,
            "ticks": ""
           }
          },
          "colorscale": {
           "diverging": [
            [
             0,
             "#8e0152"
            ],
            [
             0.1,
             "#c51b7d"
            ],
            [
             0.2,
             "#de77ae"
            ],
            [
             0.3,
             "#f1b6da"
            ],
            [
             0.4,
             "#fde0ef"
            ],
            [
             0.5,
             "#f7f7f7"
            ],
            [
             0.6,
             "#e6f5d0"
            ],
            [
             0.7,
             "#b8e186"
            ],
            [
             0.8,
             "#7fbc41"
            ],
            [
             0.9,
             "#4d9221"
            ],
            [
             1,
             "#276419"
            ]
           ],
           "sequential": [
            [
             0,
             "#0d0887"
            ],
            [
             0.1111111111111111,
             "#46039f"
            ],
            [
             0.2222222222222222,
             "#7201a8"
            ],
            [
             0.3333333333333333,
             "#9c179e"
            ],
            [
             0.4444444444444444,
             "#bd3786"
            ],
            [
             0.5555555555555556,
             "#d8576b"
            ],
            [
             0.6666666666666666,
             "#ed7953"
            ],
            [
             0.7777777777777778,
             "#fb9f3a"
            ],
            [
             0.8888888888888888,
             "#fdca26"
            ],
            [
             1,
             "#f0f921"
            ]
           ],
           "sequentialminus": [
            [
             0,
             "#0d0887"
            ],
            [
             0.1111111111111111,
             "#46039f"
            ],
            [
             0.2222222222222222,
             "#7201a8"
            ],
            [
             0.3333333333333333,
             "#9c179e"
            ],
            [
             0.4444444444444444,
             "#bd3786"
            ],
            [
             0.5555555555555556,
             "#d8576b"
            ],
            [
             0.6666666666666666,
             "#ed7953"
            ],
            [
             0.7777777777777778,
             "#fb9f3a"
            ],
            [
             0.8888888888888888,
             "#fdca26"
            ],
            [
             1,
             "#f0f921"
            ]
           ]
          },
          "colorway": [
           "#636efa",
           "#EF553B",
           "#00cc96",
           "#ab63fa",
           "#FFA15A",
           "#19d3f3",
           "#FF6692",
           "#B6E880",
           "#FF97FF",
           "#FECB52"
          ],
          "font": {
           "color": "#2a3f5f"
          },
          "geo": {
           "bgcolor": "white",
           "lakecolor": "white",
           "landcolor": "#E5ECF6",
           "showlakes": true,
           "showland": true,
           "subunitcolor": "white"
          },
          "hoverlabel": {
           "align": "left"
          },
          "hovermode": "closest",
          "mapbox": {
           "style": "light"
          },
          "paper_bgcolor": "white",
          "plot_bgcolor": "#E5ECF6",
          "polar": {
           "angularaxis": {
            "gridcolor": "white",
            "linecolor": "white",
            "ticks": ""
           },
           "bgcolor": "#E5ECF6",
           "radialaxis": {
            "gridcolor": "white",
            "linecolor": "white",
            "ticks": ""
           }
          },
          "scene": {
           "xaxis": {
            "backgroundcolor": "#E5ECF6",
            "gridcolor": "white",
            "gridwidth": 2,
            "linecolor": "white",
            "showbackground": true,
            "ticks": "",
            "zerolinecolor": "white"
           },
           "yaxis": {
            "backgroundcolor": "#E5ECF6",
            "gridcolor": "white",
            "gridwidth": 2,
            "linecolor": "white",
            "showbackground": true,
            "ticks": "",
            "zerolinecolor": "white"
           },
           "zaxis": {
            "backgroundcolor": "#E5ECF6",
            "gridcolor": "white",
            "gridwidth": 2,
            "linecolor": "white",
            "showbackground": true,
            "ticks": "",
            "zerolinecolor": "white"
           }
          },
          "shapedefaults": {
           "line": {
            "color": "#2a3f5f"
           }
          },
          "ternary": {
           "aaxis": {
            "gridcolor": "white",
            "linecolor": "white",
            "ticks": ""
           },
           "baxis": {
            "gridcolor": "white",
            "linecolor": "white",
            "ticks": ""
           },
           "bgcolor": "#E5ECF6",
           "caxis": {
            "gridcolor": "white",
            "linecolor": "white",
            "ticks": ""
           }
          },
          "title": {
           "x": 0.05
          },
          "xaxis": {
           "automargin": true,
           "gridcolor": "white",
           "linecolor": "white",
           "ticks": "",
           "title": {
            "standoff": 15
           },
           "zerolinecolor": "white",
           "zerolinewidth": 2
          },
          "yaxis": {
           "automargin": true,
           "gridcolor": "white",
           "linecolor": "white",
           "ticks": "",
           "title": {
            "standoff": 15
           },
           "zerolinecolor": "white",
           "zerolinewidth": 2
          }
         }
        },
        "title": {
         "text": "Average Part-of-Speech Use in different speakers"
        },
        "xaxis": {
         "anchor": "y",
         "autorange": true,
         "domain": [
          0,
          1
         ],
         "range": [
          -0.5,
          16.5
         ],
         "title": {
          "text": "Speaker"
         },
         "type": "category"
        },
        "yaxis": {
         "anchor": "x",
         "autorange": true,
         "domain": [
          0,
          1
         ],
         "range": [
          0,
          1306.3157894736842
         ],
         "title": {
          "text": "value"
         },
         "type": "linear"
        }
       }
      },
      "image/png": "[encoded data removed]",
      "text/html": [
       "<div>                            <div id=\"896c56bc-ac00-4ef0-922c-f05708d19633\" class=\"plotly-graph-div\" style=\"height:525px; width:100%;\"></div>            <script type=\"text/javascript\">                require([\"plotly\"], function(Plotly) {                    window.PLOTLYENV=window.PLOTLYENV || {};                                    if (document.getElementById(\"896c56bc-ac00-4ef0-922c-f05708d19633\")) {                    Plotly.newPlot(                        \"896c56bc-ac00-4ef0-922c-f05708d19633\",                        [{\"alignmentgroup\":\"True\",\"hovertemplate\":\"variable=ADJ<br>Speaker=%{x}<br>value=%{y}<extra></extra>\",\"legendgroup\":\"ADJ\",\"marker\":{\"color\":\"#636efa\",\"pattern\":{\"shape\":\"\"}},\"name\":\"ADJ\",\"offsetgroup\":\"ADJ\",\"orientation\":\"v\",\"showlegend\":true,\"textposition\":\"auto\",\"x\":[\"Anita Hill\",\"Ann Richards\",\"Anna Howard Shaw\",\"Barbara Charline Jordan\",\"Barbara Pierce Bush\",\"Carrie Chapman Catt\",\"Eleanor Roosevelt\",\"Elizabeth Glaser\",\"Elizabeth Gurley Flynn\",\"Emma Goldman\",\"Geraldine Ferraro\",\"Hillary Rodham Clinton\",\"Margaret Chase Smith\",\"Margaret Sanger\",\"MaryFisher\",\"Shirley Anita St. Hill Chisholm\",\"Ursula K. Le Guin\"],\"xaxis\":\"x\",\"y\":[147.0,157.0,508.0,112.0,77.0,262.0,225.0,47.0,568.0,323.0,104.0,139.0,153.0,141.0,89.0,171.0,87.0],\"yaxis\":\"y\",\"type\":\"bar\"},{\"alignmentgroup\":\"True\",\"hovertemplate\":\"variable=VERB<br>Speaker=%{x}<br>value=%{y}<extra></extra>\",\"legendgroup\":\"VERB\",\"marker\":{\"color\":\"#EF553B\",\"pattern\":{\"shape\":\"\"}},\"name\":\"VERB\",\"offsetgroup\":\"VERB\",\"orientation\":\"v\",\"showlegend\":true,\"textposition\":\"auto\",\"x\":[\"Anita Hill\",\"Ann Richards\",\"Anna Howard Shaw\",\"Barbara Charline Jordan\",\"Barbara Pierce Bush\",\"Carrie Chapman Catt\",\"Eleanor Roosevelt\",\"Elizabeth Glaser\",\"Elizabeth Gurley Flynn\",\"Emma Goldman\",\"Geraldine Ferraro\",\"Hillary Rodham Clinton\",\"Margaret Chase Smith\",\"Margaret Sanger\",\"MaryFisher\",\"Shirley Anita St. Hill Chisholm\",\"Ursula K. Le Guin\"],\"xaxis\":\"x\",\"y\":[306.0,390.0,1241.0,218.0,154.0,420.0,274.0,158.0,876.0,574.0,210.0,311.0,187.0,194.0,182.0,166.0,167.0],\"yaxis\":\"y\",\"type\":\"bar\"},{\"alignmentgroup\":\"True\",\"hovertemplate\":\"variable=NUM<br>Speaker=%{x}<br>value=%{y}<extra></extra>\",\"legendgroup\":\"NUM\",\"marker\":{\"color\":\"#00cc96\",\"pattern\":{\"shape\":\"\"}},\"name\":\"NUM\",\"offsetgroup\":\"NUM\",\"orientation\":\"v\",\"showlegend\":true,\"textposition\":\"auto\",\"x\":[\"Anita Hill\",\"Ann Richards\",\"Anna Howard Shaw\",\"Barbara Charline Jordan\",\"Barbara Pierce Bush\",\"Carrie Chapman Catt\",\"Eleanor Roosevelt\",\"Elizabeth Glaser\",\"Elizabeth Gurley Flynn\",\"Emma Goldman\",\"Geraldine Ferraro\",\"Hillary Rodham Clinton\",\"Margaret Chase Smith\",\"Margaret Sanger\",\"MaryFisher\",\"Shirley Anita St. Hill Chisholm\",\"Ursula K. Le Guin\"],\"xaxis\":\"x\",\"y\":[32.0,21.0,85.0,13.0,16.0,31.0,18.0,11.0,100.0,40.0,9.0,12.0,4.0,15.0,20.0,18.0,5.0],\"yaxis\":\"y\",\"type\":\"bar\"}],                        {\"template\":{\"data\":{\"histogram2dcontour\":[{\"type\":\"histogram2dcontour\",\"colorbar\":{\"outlinewidth\":0,\"ticks\":\"\"},\"colorscale\":[[0.0,\"#0d0887\"],[0.1111111111111111,\"#46039f\"],[0.2222222222222222,\"#7201a8\"],[0.3333333333333333,\"#9c179e\"],[0.4444444444444444,\"#bd3786\"],[0.5555555555555556,\"#d8576b\"],[0.6666666666666666,\"#ed7953\"],[0.7777777777777778,\"#fb9f3a\"],[0.8888888888888888,\"#fdca26\"],[1.0,\"#f0f921\"]]}],\"choropleth\":[{\"type\":\"choropleth\",\"colorbar\":{\"outlinewidth\":0,\"ticks\":\"\"}}],\"histogram2d\":[{\"type\":\"histogram2d\",\"colorbar\":{\"outlinewidth\":0,\"ticks\":\"\"},\"colorscale\":[[0.0,\"#0d0887\"],[0.1111111111111111,\"#46039f\"],[0.2222222222222222,\"#7201a8\"],[0.3333333333333333,\"#9c179e\"],[0.4444444444444444,\"#bd3786\"],[0.5555555555555556,\"#d8576b\"],[0.6666666666666666,\"#ed7953\"],[0.7777777777777778,\"#fb9f3a\"],[0.8888888888888888,\"#fdca26\"],[1.0,\"#f0f921\"]]}],\"heatmap\":[{\"type\":\"heatmap\",\"colorbar\":{\"outlinewidth\":0,\"ticks\":\"\"},\"colorscale\":[[0.0,\"#0d0887\"],[0.1111111111111111,\"#46039f\"],[0.2222222222222222,\"#7201a8\"],[0.3333333333333333,\"#9c179e\"],[0.4444444444444444,\"#bd3786\"],[0.5555555555555556,\"#d8576b\"],[0.6666666666666666,\"#ed7953\"],[0.7777777777777778,\"#fb9f3a\"],[0.8888888888888888,\"#fdca26\"],[1.0,\"#f0f921\"]]}],\"heatmapgl\":[{\"type\":\"heatmapgl\",\"colorbar\":{\"outlinewidth\":0,\"ticks\":\"\"},\"colorscale\":[[0.0,\"#0d0887\"],[0.1111111111111111,\"#46039f\"],[0.2222222222222222,\"#7201a8\"],[0.3333333333333333,\"#9c179e\"],[0.4444444444444444,\"#bd3786\"],[0.5555555555555556,\"#d8576b\"],[0.6666666666666666,\"#ed7953\"],[0.7777777777777778,\"#fb9f3a\"],[0.8888888888888888,\"#fdca26\"],[1.0,\"#f0f921\"]]}],\"contourcarpet\":[{\"type\":\"contourcarpet\",\"colorbar\":{\"outlinewidth\":0,\"ticks\":\"\"}}],\"contour\":[{\"type\":\"contour\",\"colorbar\":{\"outlinewidth\":0,\"ticks\":\"\"},\"colorscale\":[[0.0,\"#0d0887\"],[0.1111111111111111,\"#46039f\"],[0.2222222222222222,\"#7201a8\"],[0.3333333333333333,\"#9c179e\"],[0.4444444444444444,\"#bd3786\"],[0.5555555555555556,\"#d8576b\"],[0.6666666666666666,\"#ed7953\"],[0.7777777777777778,\"#fb9f3a\"],[0.8888888888888888,\"#fdca26\"],[1.0,\"#f0f921\"]]}],\"surface\":[{\"type\":\"surface\",\"colorbar\":{\"outlinewidth\":0,\"ticks\":\"\"},\"colorscale\":[[0.0,\"#0d0887\"],[0.1111111111111111,\"#46039f\"],[0.2222222222222222,\"#7201a8\"],[0.3333333333333333,\"#9c179e\"],[0.4444444444444444,\"#bd3786\"],[0.5555555555555556,\"#d8576b\"],[0.6666666666666666,\"#ed7953\"],[0.7777777777777778,\"#fb9f3a\"],[0.8888888888888888,\"#fdca26\"],[1.0,\"#f0f921\"]]}],\"mesh3d\":[{\"type\":\"mesh3d\",\"colorbar\":{\"outlinewidth\":0,\"ticks\":\"\"}}],\"scatter\":[{\"fillpattern\":{\"fillmode\":\"overlay\",\"size\":10,\"solidity\":0.2},\"type\":\"scatter\"}],\"parcoords\":[{\"type\":\"parcoords\",\"line\":{\"colorbar\":{\"outlinewidth\":0,\"ticks\":\"\"}}}],\"scatterpolargl\":[{\"type\":\"scatterpolargl\",\"marker\":{\"colorbar\":{\"outlinewidth\":0,\"ticks\":\"\"}}}],\"bar\":[{\"error_x\":{\"color\":\"#2a3f5f\"},\"error_y\":{\"color\":\"#2a3f5f\"},\"marker\":{\"line\":{\"color\":\"#E5ECF6\",\"width\":0.5},\"pattern\":{\"fillmode\":\"overlay\",\"size\":10,\"solidity\":0.2}},\"type\":\"bar\"}],\"scattergeo\":[{\"type\":\"scattergeo\",\"marker\":{\"colorbar\":{\"outlinewidth\":0,\"ticks\":\"\"}}}],\"scatterpolar\":[{\"type\":\"scatterpolar\",\"marker\":{\"colorbar\":{\"outlinewidth\":0,\"ticks\":\"\"}}}],\"histogram\":[{\"marker\":{\"pattern\":{\"fillmode\":\"overlay\",\"size\":10,\"solidity\":0.2}},\"type\":\"histogram\"}],\"scattergl\":[{\"type\":\"scattergl\",\"marker\":{\"colorbar\":{\"outlinewidth\":0,\"ticks\":\"\"}}}],\"scatter3d\":[{\"type\":\"scatter3d\",\"line\":{\"colorbar\":{\"outlinewidth\":0,\"ticks\":\"\"}},\"marker\":{\"colorbar\":{\"outlinewidth\":0,\"ticks\":\"\"}}}],\"scattermapbox\":[{\"type\":\"scattermapbox\",\"marker\":{\"colorbar\":{\"outlinewidth\":0,\"ticks\":\"\"}}}],\"scatterternary\":[{\"type\":\"scatterternary\",\"marker\":{\"colorbar\":{\"outlinewidth\":0,\"ticks\":\"\"}}}],\"scattercarpet\":[{\"type\":\"scattercarpet\",\"marker\":{\"colorbar\":{\"outlinewidth\":0,\"ticks\":\"\"}}}],\"carpet\":[{\"aaxis\":{\"endlinecolor\":\"#2a3f5f\",\"gridcolor\":\"white\",\"linecolor\":\"white\",\"minorgridcolor\":\"white\",\"startlinecolor\":\"#2a3f5f\"},\"baxis\":{\"endlinecolor\":\"#2a3f5f\",\"gridcolor\":\"white\",\"linecolor\":\"white\",\"minorgridcolor\":\"white\",\"startlinecolor\":\"#2a3f5f\"},\"type\":\"carpet\"}],\"table\":[{\"cells\":{\"fill\":{\"color\":\"#EBF0F8\"},\"line\":{\"color\":\"white\"}},\"header\":{\"fill\":{\"color\":\"#C8D4E3\"},\"line\":{\"color\":\"white\"}},\"type\":\"table\"}],\"barpolar\":[{\"marker\":{\"line\":{\"color\":\"#E5ECF6\",\"width\":0.5},\"pattern\":{\"fillmode\":\"overlay\",\"size\":10,\"solidity\":0.2}},\"type\":\"barpolar\"}],\"pie\":[{\"automargin\":true,\"type\":\"pie\"}]},\"layout\":{\"autotypenumbers\":\"strict\",\"colorway\":[\"#636efa\",\"#EF553B\",\"#00cc96\",\"#ab63fa\",\"#FFA15A\",\"#19d3f3\",\"#FF6692\",\"#B6E880\",\"#FF97FF\",\"#FECB52\"],\"font\":{\"color\":\"#2a3f5f\"},\"hovermode\":\"closest\",\"hoverlabel\":{\"align\":\"left\"},\"paper_bgcolor\":\"white\",\"plot_bgcolor\":\"#E5ECF6\",\"polar\":{\"bgcolor\":\"#E5ECF6\",\"angularaxis\":{\"gridcolor\":\"white\",\"linecolor\":\"white\",\"ticks\":\"\"},\"radialaxis\":{\"gridcolor\":\"white\",\"linecolor\":\"white\",\"ticks\":\"\"}},\"ternary\":{\"bgcolor\":\"#E5ECF6\",\"aaxis\":{\"gridcolor\":\"white\",\"linecolor\":\"white\",\"ticks\":\"\"},\"baxis\":{\"gridcolor\":\"white\",\"linecolor\":\"white\",\"ticks\":\"\"},\"caxis\":{\"gridcolor\":\"white\",\"linecolor\":\"white\",\"ticks\":\"\"}},\"coloraxis\":{\"colorbar\":{\"outlinewidth\":0,\"ticks\":\"\"}},\"colorscale\":{\"sequential\":[[0.0,\"#0d0887\"],[0.1111111111111111,\"#46039f\"],[0.2222222222222222,\"#7201a8\"],[0.3333333333333333,\"#9c179e\"],[0.4444444444444444,\"#bd3786\"],[0.5555555555555556,\"#d8576b\"],[0.6666666666666666,\"#ed7953\"],[0.7777777777777778,\"#fb9f3a\"],[0.8888888888888888,\"#fdca26\"],[1.0,\"#f0f921\"]],\"sequentialminus\":[[0.0,\"#0d0887\"],[0.1111111111111111,\"#46039f\"],[0.2222222222222222,\"#7201a8\"],[0.3333333333333333,\"#9c179e\"],[0.4444444444444444,\"#bd3786\"],[0.5555555555555556,\"#d8576b\"],[0.6666666666666666,\"#ed7953\"],[0.7777777777777778,\"#fb9f3a\"],[0.8888888888888888,\"#fdca26\"],[1.0,\"#f0f921\"]],\"diverging\":[[0,\"#8e0152\"],[0.1,\"#c51b7d\"],[0.2,\"#de77ae\"],[0.3,\"#f1b6da\"],[0.4,\"#fde0ef\"],[0.5,\"#f7f7f7\"],[0.6,\"#e6f5d0\"],[0.7,\"#b8e186\"],[0.8,\"#7fbc41\"],[0.9,\"#4d9221\"],[1,\"#276419\"]]},\"xaxis\":{\"gridcolor\":\"white\",\"linecolor\":\"white\",\"ticks\":\"\",\"title\":{\"standoff\":15},\"zerolinecolor\":\"white\",\"automargin\":true,\"zerolinewidth\":2},\"yaxis\":{\"gridcolor\":\"white\",\"linecolor\":\"white\",\"ticks\":\"\",\"title\":{\"standoff\":15},\"zerolinecolor\":\"white\",\"automargin\":true,\"zerolinewidth\":2},\"scene\":{\"xaxis\":{\"backgroundcolor\":\"#E5ECF6\",\"gridcolor\":\"white\",\"linecolor\":\"white\",\"showbackground\":true,\"ticks\":\"\",\"zerolinecolor\":\"white\",\"gridwidth\":2},\"yaxis\":{\"backgroundcolor\":\"#E5ECF6\",\"gridcolor\":\"white\",\"linecolor\":\"white\",\"showbackground\":true,\"ticks\":\"\",\"zerolinecolor\":\"white\",\"gridwidth\":2},\"zaxis\":{\"backgroundcolor\":\"#E5ECF6\",\"gridcolor\":\"white\",\"linecolor\":\"white\",\"showbackground\":true,\"ticks\":\"\",\"zerolinecolor\":\"white\",\"gridwidth\":2}},\"shapedefaults\":{\"line\":{\"color\":\"#2a3f5f\"}},\"annotationdefaults\":{\"arrowcolor\":\"#2a3f5f\",\"arrowhead\":0,\"arrowwidth\":1},\"geo\":{\"bgcolor\":\"white\",\"landcolor\":\"#E5ECF6\",\"subunitcolor\":\"white\",\"showland\":true,\"showlakes\":true,\"lakecolor\":\"white\"},\"title\":{\"x\":0.05},\"mapbox\":{\"style\":\"light\"}}},\"xaxis\":{\"anchor\":\"y\",\"domain\":[0.0,1.0],\"title\":{\"text\":\"Speaker\"}},\"yaxis\":{\"anchor\":\"x\",\"domain\":[0.0,1.0],\"title\":{\"text\":\"value\"}},\"legend\":{\"title\":{\"text\":\"variable\"},\"tracegroupgap\":0},\"title\":{\"text\":\"Average Part-of-Speech Use in different speakers\"},\"barmode\":\"group\"},                        {\"responsive\": true}                    ).then(function(){\n",
       "                            \n",
       "var gd = document.getElementById('896c56bc-ac00-4ef0-922c-f05708d19633');\n",
       "var x = new MutationObserver(function (mutations, observer) {{\n",
       "        var display = window.getComputedStyle(gd).display;\n",
       "        if (!display || display === 'none') {{\n",
       "            console.log([gd, 'removed!']);\n",
       "            Plotly.purge(gd);\n",
       "            observer.disconnect();\n",
       "        }}\n",
       "}});\n",
       "\n",
       "// Listen for the removal of the full notebook cells\n",
       "var notebookContainer = gd.closest('#notebook-container');\n",
       "if (notebookContainer) {{\n",
       "    x.observe(notebookContainer, {childList: true});\n",
       "}}\n",
       "\n",
       "// Listen for the clearing of the current output cell\n",
       "var outputEl = gd.closest('.output');\n",
       "if (outputEl) {{\n",
       "    x.observe(outputEl, {childList: true});\n",
       "}}\n",
       "\n",
       "                        })                };                });            </script>        </div>"
      ]
     },
     "metadata": {},
     "output_type": "display_data"
    }
   ],
   "source": [
    "# Use plotly to plot POS use per speaker\n",
    "fig = px.bar(average_pos_df, x=\"Speaker\", y=[\"ADJ\", 'VERB', \"NUM\"], title=\"Average Part-of-Speech Use in different speakers\", barmode='group')\n",
    "fig.show()"
   ]
  },
  {
   "cell_type": "markdown",
   "id": "661477c8-0fbd-4bec-bb47-834a2607fae2",
   "metadata": {},
   "source": [
    "Different speakers have varying frequencies of different parts of speech in their speeches. For example, Anna Howard Shaw have a higher occurrence of verbs, while Elizabeth Gurley Flynn have a higher occurrence of adjectives. Hence, we can infer that Anna Howard Shaw may use action and dynamic language to make her speeches more engaging. Elizabeth Gurley Flynn may focus on descriptive language to make her speeches more clear and detailed."
   ]
  },
  {
   "cell_type": "markdown",
   "id": "11c4c008-eb56-4565-9c37-dee14387ea76",
   "metadata": {},
   "source": [
    "## Text annotation - Named Entity Recognition"
   ]
  },
  {
   "cell_type": "code",
   "execution_count": 157,
   "id": "25029673-d9f2-4d37-ad96-37e78fe1633a",
   "metadata": {},
   "outputs": [
    {
     "name": "stdout",
     "output_type": "stream",
     "text": [
      "CARDINAL : Numerals that do not fall under another type\n",
      "DATE : Absolute or relative dates or periods\n",
      "EVENT : Named hurricanes, battles, wars, sports events, etc.\n",
      "FAC : Buildings, airports, highways, bridges, etc.\n",
      "GPE : Countries, cities, states\n",
      "LANGUAGE : Any named language\n",
      "LAW : Named documents made into laws.\n",
      "LOC : Non-GPE locations, mountain ranges, bodies of water\n",
      "MONEY : Monetary values, including unit\n",
      "NORP : Nationalities or religious or political groups\n",
      "ORDINAL : \"first\", \"second\", etc.\n",
      "ORG : Companies, agencies, institutions, etc.\n",
      "PERCENT : Percentage, including \"%\"\n",
      "PERSON : People, including fictional\n",
      "PRODUCT : Objects, vehicles, foods, etc. (not services)\n",
      "QUANTITY : Measurements, as of weight or distance\n",
      "TIME : Times smaller than a day\n",
      "WORK_OF_ART : Titles of books, songs, etc.\n"
     ]
    }
   ],
   "source": [
    "# Get all NE labels and assign to variable\n",
    "labels = nlp.get_pipe(\"ner\").labels\n",
    "\n",
    "# Print each label and its description\n",
    "for label in labels:\n",
    "    print(label + ' : ' + spacy.explain(label))"
   ]
  },
  {
   "cell_type": "code",
   "execution_count": 158,
   "id": "786d34eb-396e-4666-a754-1fff529b5482",
   "metadata": {},
   "outputs": [
    {
     "data": {
      "text/html": [
       "<div>\n",
       "<style scoped>\n",
       "    .dataframe tbody tr th:only-of-type {\n",
       "        vertical-align: middle;\n",
       "    }\n",
       "\n",
       "    .dataframe tbody tr th {\n",
       "        vertical-align: top;\n",
       "    }\n",
       "\n",
       "    .dataframe thead th {\n",
       "        text-align: right;\n",
       "    }\n",
       "</style>\n",
       "<table border=\"1\" class=\"dataframe\">\n",
       "  <thead>\n",
       "    <tr style=\"text-align: right;\">\n",
       "      <th></th>\n",
       "      <th>Title</th>\n",
       "      <th>Speaker</th>\n",
       "      <th>Transcript</th>\n",
       "      <th>Year</th>\n",
       "      <th>Doc</th>\n",
       "      <th>Tokens</th>\n",
       "      <th>Lemmas</th>\n",
       "      <th>POS</th>\n",
       "      <th>Proper_Nouns</th>\n",
       "      <th>Named_Entities</th>\n",
       "    </tr>\n",
       "  </thead>\n",
       "  <tbody>\n",
       "    <tr>\n",
       "      <th>0</th>\n",
       "      <td>Ursula K. Le Guin - A Left-Handed Commencemen...</td>\n",
       "      <td>Ursula K. Le Guin</td>\n",
       "      <td>I want to thank the Mills College Class of '83...</td>\n",
       "      <td>1983</td>\n",
       "      <td>(I, want, to, thank, the, Mills, College, Clas...</td>\n",
       "      <td>[I, want, to, thank, the, Mills, College, Clas...</td>\n",
       "      <td>[I, want, to, thank, the, Mills, College, Clas...</td>\n",
       "      <td>[(PRON, PRP), (VERB, VBP), (PART, TO), (VERB, ...</td>\n",
       "      <td>[Mills, College, Class, Greek, Greek, If, Gre...</td>\n",
       "      <td>[DATE, NORP, NORP, NORP, DATE, PERSON, PERSON,...</td>\n",
       "    </tr>\n",
       "    <tr>\n",
       "      <th>1</th>\n",
       "      <td>Elizabeth Gurley Flynn -- Statement at the Sm...</td>\n",
       "      <td>Elizabeth Gurley Flynn</td>\n",
       "      <td>Your Honor, ladies and gentlemen, myname is El...</td>\n",
       "      <td>1952</td>\n",
       "      <td>(Your, Honor, ,, ladies, and, gentlemen, ,, my...</td>\n",
       "      <td>[Your, Honor, ,, ladies, and, gentlemen, ,, my...</td>\n",
       "      <td>[your, Honor, ,, lady, and, gentleman, ,, myna...</td>\n",
       "      <td>[(PRON, PRP$), (PROPN, NNP), (PUNCT, ,), (NOUN...</td>\n",
       "      <td>[Honor, Elizabeth, Gurley, Flynn, Mr., Pettis,...</td>\n",
       "      <td>[PERSON, PERSON, NORP, ORG, GPE, ORG, DATE, NO...</td>\n",
       "    </tr>\n",
       "    <tr>\n",
       "      <th>2</th>\n",
       "      <td>Mary Fisher -- 1992 Republican National Conve...</td>\n",
       "      <td>MaryFisher</td>\n",
       "      <td>Less than three months ago at platform hearing...</td>\n",
       "      <td>1992</td>\n",
       "      <td>(Less, than, three, months, ago, at, platform,...</td>\n",
       "      <td>[Less, than, three, months, ago, at, platform,...</td>\n",
       "      <td>[Less, than, three, month, ago, at, platform, ...</td>\n",
       "      <td>[(ADJ, JJR), (ADP, IN), (NUM, CD), (NOUN, NNS)...</td>\n",
       "      <td>[Salt, Lake, City, Republican, Party, HIV, AID...</td>\n",
       "      <td>[DATE, GPE, ORG, TIME, CARDINAL, NORP, CARDINA...</td>\n",
       "    </tr>\n",
       "    <tr>\n",
       "      <th>3</th>\n",
       "      <td>Carrie Chapman Catt - The Crisis</td>\n",
       "      <td>Carrie Chapman Catt</td>\n",
       "      <td>I have taken for my subject, \"The Crisis,\" bec...</td>\n",
       "      <td>1916</td>\n",
       "      <td>(I, have, taken, for, my, subject, ,, \", The, ...</td>\n",
       "      <td>[I, have, taken, for, my, subject, ,, \", The, ...</td>\n",
       "      <td>[I, have, take, for, my, subject, ,, \", the, C...</td>\n",
       "      <td>[(PRON, PRP), (AUX, VBP), (VERB, VBN), (ADP, I...</td>\n",
       "      <td>[Crisis, America, Hour, united, American, Civi...</td>\n",
       "      <td>[DATE, DATE, DATE, DATE, GPE, DATE, ORG, ORDIN...</td>\n",
       "    </tr>\n",
       "    <tr>\n",
       "      <th>4</th>\n",
       "      <td>Margaret Chase Smith -- \"Declaration of Consc...</td>\n",
       "      <td>Margaret Chase Smith</td>\n",
       "      <td>r. President: I would like to speak briefly an...</td>\n",
       "      <td>1950</td>\n",
       "      <td>(r., President, :, I, would, like, to, speak, ...</td>\n",
       "      <td>[r., President, :, I, would, like, to, speak, ...</td>\n",
       "      <td>[r., President, :, I, would, like, to, speak, ...</td>\n",
       "      <td>[(PROPN, NNP), (PROPN, NNP), (PUNCT, :), (PRON...</td>\n",
       "      <td>[r., President, Americans, Legislative, Branch...</td>\n",
       "      <td>[NORP, NORP, ORG, ORG, NORP, GPE, NORP, GPE, O...</td>\n",
       "    </tr>\n",
       "  </tbody>\n",
       "</table>\n",
       "</div>"
      ],
      "text/plain": [
       "                                               Title                 Speaker  \\\n",
       "0   Ursula K. Le Guin - A Left-Handed Commencemen...       Ursula K. Le Guin   \n",
       "1   Elizabeth Gurley Flynn -- Statement at the Sm...  Elizabeth Gurley Flynn   \n",
       "2   Mary Fisher -- 1992 Republican National Conve...              MaryFisher   \n",
       "3                   Carrie Chapman Catt - The Crisis     Carrie Chapman Catt   \n",
       "4   Margaret Chase Smith -- \"Declaration of Consc...    Margaret Chase Smith   \n",
       "\n",
       "                                          Transcript  Year  \\\n",
       "0  I want to thank the Mills College Class of '83...  1983   \n",
       "1  Your Honor, ladies and gentlemen, myname is El...  1952   \n",
       "2  Less than three months ago at platform hearing...  1992   \n",
       "3  I have taken for my subject, \"The Crisis,\" bec...  1916   \n",
       "4  r. President: I would like to speak briefly an...  1950   \n",
       "\n",
       "                                                 Doc  \\\n",
       "0  (I, want, to, thank, the, Mills, College, Clas...   \n",
       "1  (Your, Honor, ,, ladies, and, gentlemen, ,, my...   \n",
       "2  (Less, than, three, months, ago, at, platform,...   \n",
       "3  (I, have, taken, for, my, subject, ,, \", The, ...   \n",
       "4  (r., President, :, I, would, like, to, speak, ...   \n",
       "\n",
       "                                              Tokens  \\\n",
       "0  [I, want, to, thank, the, Mills, College, Clas...   \n",
       "1  [Your, Honor, ,, ladies, and, gentlemen, ,, my...   \n",
       "2  [Less, than, three, months, ago, at, platform,...   \n",
       "3  [I, have, taken, for, my, subject, ,, \", The, ...   \n",
       "4  [r., President, :, I, would, like, to, speak, ...   \n",
       "\n",
       "                                              Lemmas  \\\n",
       "0  [I, want, to, thank, the, Mills, College, Clas...   \n",
       "1  [your, Honor, ,, lady, and, gentleman, ,, myna...   \n",
       "2  [Less, than, three, month, ago, at, platform, ...   \n",
       "3  [I, have, take, for, my, subject, ,, \", the, C...   \n",
       "4  [r., President, :, I, would, like, to, speak, ...   \n",
       "\n",
       "                                                 POS  \\\n",
       "0  [(PRON, PRP), (VERB, VBP), (PART, TO), (VERB, ...   \n",
       "1  [(PRON, PRP$), (PROPN, NNP), (PUNCT, ,), (NOUN...   \n",
       "2  [(ADJ, JJR), (ADP, IN), (NUM, CD), (NOUN, NNS)...   \n",
       "3  [(PRON, PRP), (AUX, VBP), (VERB, VBN), (ADP, I...   \n",
       "4  [(PROPN, NNP), (PROPN, NNP), (PUNCT, :), (PRON...   \n",
       "\n",
       "                                        Proper_Nouns  \\\n",
       "0  [Mills, College, Class, Greek, Greek, If, Gre...   \n",
       "1  [Honor, Elizabeth, Gurley, Flynn, Mr., Pettis,...   \n",
       "2  [Salt, Lake, City, Republican, Party, HIV, AID...   \n",
       "3  [Crisis, America, Hour, united, American, Civi...   \n",
       "4  [r., President, Americans, Legislative, Branch...   \n",
       "\n",
       "                                      Named_Entities  \n",
       "0  [DATE, NORP, NORP, NORP, DATE, PERSON, PERSON,...  \n",
       "1  [PERSON, PERSON, NORP, ORG, GPE, ORG, DATE, NO...  \n",
       "2  [DATE, GPE, ORG, TIME, CARDINAL, NORP, CARDINA...  \n",
       "3  [DATE, DATE, DATE, DATE, GPE, DATE, ORG, ORDIN...  \n",
       "4  [NORP, NORP, ORG, ORG, NORP, GPE, NORP, GPE, O...  "
      ]
     },
     "execution_count": 158,
     "metadata": {},
     "output_type": "execute_result"
    }
   ],
   "source": [
    "# Define function to extract named entities from doc objects\n",
    "def extract_named_entities(doc):\n",
    "    return [ent.label_ for ent in doc.ents]\n",
    "\n",
    "# Apply function to Doc column and store resulting named entities in new column\n",
    "women_speech['Named_Entities'] = women_speech['Doc'].apply(extract_named_entities)\n",
    "women_speech.head()"
   ]
  },
  {
   "cell_type": "code",
   "execution_count": 159,
   "id": "3eb44b2e-8057-4439-a398-21e6ae020833",
   "metadata": {},
   "outputs": [
    {
     "data": {
      "text/html": [
       "<div>\n",
       "<style scoped>\n",
       "    .dataframe tbody tr th:only-of-type {\n",
       "        vertical-align: middle;\n",
       "    }\n",
       "\n",
       "    .dataframe tbody tr th {\n",
       "        vertical-align: top;\n",
       "    }\n",
       "\n",
       "    .dataframe thead th {\n",
       "        text-align: right;\n",
       "    }\n",
       "</style>\n",
       "<table border=\"1\" class=\"dataframe\">\n",
       "  <thead>\n",
       "    <tr style=\"text-align: right;\">\n",
       "      <th></th>\n",
       "      <th>Title</th>\n",
       "      <th>Speaker</th>\n",
       "      <th>Transcript</th>\n",
       "      <th>Year</th>\n",
       "      <th>Doc</th>\n",
       "      <th>Tokens</th>\n",
       "      <th>Lemmas</th>\n",
       "      <th>POS</th>\n",
       "      <th>Proper_Nouns</th>\n",
       "      <th>Named_Entities</th>\n",
       "      <th>NE_Words</th>\n",
       "    </tr>\n",
       "  </thead>\n",
       "  <tbody>\n",
       "    <tr>\n",
       "      <th>0</th>\n",
       "      <td>Ursula K. Le Guin - A Left-Handed Commencemen...</td>\n",
       "      <td>Ursula K. Le Guin</td>\n",
       "      <td>I want to thank the Mills College Class of '83...</td>\n",
       "      <td>1983</td>\n",
       "      <td>(I, want, to, thank, the, Mills, College, Clas...</td>\n",
       "      <td>[I, want, to, thank, the, Mills, College, Clas...</td>\n",
       "      <td>[I, want, to, thank, the, Mills, College, Clas...</td>\n",
       "      <td>[(PRON, PRP), (VERB, VBP), (PART, TO), (VERB, ...</td>\n",
       "      <td>[Mills, College, Class, Greek, Greek, If, Gre...</td>\n",
       "      <td>[DATE, NORP, NORP, NORP, DATE, PERSON, PERSON,...</td>\n",
       "      <td>[(', 83), (Greek), (Greek), (Greek), (twelfth,...</td>\n",
       "    </tr>\n",
       "    <tr>\n",
       "      <th>1</th>\n",
       "      <td>Elizabeth Gurley Flynn -- Statement at the Sm...</td>\n",
       "      <td>Elizabeth Gurley Flynn</td>\n",
       "      <td>Your Honor, ladies and gentlemen, myname is El...</td>\n",
       "      <td>1952</td>\n",
       "      <td>(Your, Honor, ,, ladies, and, gentlemen, ,, my...</td>\n",
       "      <td>[Your, Honor, ,, ladies, and, gentlemen, ,, my...</td>\n",
       "      <td>[your, Honor, ,, lady, and, gentleman, ,, myna...</td>\n",
       "      <td>[(PRON, PRP$), (PROPN, NNP), (PUNCT, ,), (NOUN...</td>\n",
       "      <td>[Honor, Elizabeth, Gurley, Flynn, Mr., Pettis,...</td>\n",
       "      <td>[PERSON, PERSON, NORP, ORG, GPE, ORG, DATE, NO...</td>\n",
       "      <td>[(Elizabeth, Gurley, Flynn), (Pettis, Perry), ...</td>\n",
       "    </tr>\n",
       "    <tr>\n",
       "      <th>2</th>\n",
       "      <td>Mary Fisher -- 1992 Republican National Conve...</td>\n",
       "      <td>MaryFisher</td>\n",
       "      <td>Less than three months ago at platform hearing...</td>\n",
       "      <td>1992</td>\n",
       "      <td>(Less, than, three, months, ago, at, platform,...</td>\n",
       "      <td>[Less, than, three, months, ago, at, platform,...</td>\n",
       "      <td>[Less, than, three, month, ago, at, platform, ...</td>\n",
       "      <td>[(ADJ, JJR), (ADP, IN), (NUM, CD), (NOUN, NNS)...</td>\n",
       "      <td>[Salt, Lake, City, Republican, Party, HIV, AID...</td>\n",
       "      <td>[DATE, GPE, ORG, TIME, CARDINAL, NORP, CARDINA...</td>\n",
       "      <td>[(Less, than, three, months, ago), (Salt, Lake...</td>\n",
       "    </tr>\n",
       "    <tr>\n",
       "      <th>3</th>\n",
       "      <td>Carrie Chapman Catt - The Crisis</td>\n",
       "      <td>Carrie Chapman Catt</td>\n",
       "      <td>I have taken for my subject, \"The Crisis,\" bec...</td>\n",
       "      <td>1916</td>\n",
       "      <td>(I, have, taken, for, my, subject, ,, \", The, ...</td>\n",
       "      <td>[I, have, taken, for, my, subject, ,, \", The, ...</td>\n",
       "      <td>[I, have, take, for, my, subject, ,, \", the, C...</td>\n",
       "      <td>[(PRON, PRP), (AUX, VBP), (VERB, VBN), (ADP, I...</td>\n",
       "      <td>[Crisis, America, Hour, united, American, Civi...</td>\n",
       "      <td>[DATE, DATE, DATE, DATE, GPE, DATE, ORG, ORDIN...</td>\n",
       "      <td>[(today), (yesterday), (the, year, 1916), (the...</td>\n",
       "    </tr>\n",
       "    <tr>\n",
       "      <th>4</th>\n",
       "      <td>Margaret Chase Smith -- \"Declaration of Consc...</td>\n",
       "      <td>Margaret Chase Smith</td>\n",
       "      <td>r. President: I would like to speak briefly an...</td>\n",
       "      <td>1950</td>\n",
       "      <td>(r., President, :, I, would, like, to, speak, ...</td>\n",
       "      <td>[r., President, :, I, would, like, to, speak, ...</td>\n",
       "      <td>[r., President, :, I, would, like, to, speak, ...</td>\n",
       "      <td>[(PROPN, NNP), (PROPN, NNP), (PUNCT, :), (PRON...</td>\n",
       "      <td>[r., President, Americans, Legislative, Branch...</td>\n",
       "      <td>[NORP, NORP, ORG, ORG, NORP, GPE, NORP, GPE, O...</td>\n",
       "      <td>[(r.), (Americans), (the, Legislative, Branch)...</td>\n",
       "    </tr>\n",
       "  </tbody>\n",
       "</table>\n",
       "</div>"
      ],
      "text/plain": [
       "                                               Title                 Speaker  \\\n",
       "0   Ursula K. Le Guin - A Left-Handed Commencemen...       Ursula K. Le Guin   \n",
       "1   Elizabeth Gurley Flynn -- Statement at the Sm...  Elizabeth Gurley Flynn   \n",
       "2   Mary Fisher -- 1992 Republican National Conve...              MaryFisher   \n",
       "3                   Carrie Chapman Catt - The Crisis     Carrie Chapman Catt   \n",
       "4   Margaret Chase Smith -- \"Declaration of Consc...    Margaret Chase Smith   \n",
       "\n",
       "                                          Transcript  Year  \\\n",
       "0  I want to thank the Mills College Class of '83...  1983   \n",
       "1  Your Honor, ladies and gentlemen, myname is El...  1952   \n",
       "2  Less than three months ago at platform hearing...  1992   \n",
       "3  I have taken for my subject, \"The Crisis,\" bec...  1916   \n",
       "4  r. President: I would like to speak briefly an...  1950   \n",
       "\n",
       "                                                 Doc  \\\n",
       "0  (I, want, to, thank, the, Mills, College, Clas...   \n",
       "1  (Your, Honor, ,, ladies, and, gentlemen, ,, my...   \n",
       "2  (Less, than, three, months, ago, at, platform,...   \n",
       "3  (I, have, taken, for, my, subject, ,, \", The, ...   \n",
       "4  (r., President, :, I, would, like, to, speak, ...   \n",
       "\n",
       "                                              Tokens  \\\n",
       "0  [I, want, to, thank, the, Mills, College, Clas...   \n",
       "1  [Your, Honor, ,, ladies, and, gentlemen, ,, my...   \n",
       "2  [Less, than, three, months, ago, at, platform,...   \n",
       "3  [I, have, taken, for, my, subject, ,, \", The, ...   \n",
       "4  [r., President, :, I, would, like, to, speak, ...   \n",
       "\n",
       "                                              Lemmas  \\\n",
       "0  [I, want, to, thank, the, Mills, College, Clas...   \n",
       "1  [your, Honor, ,, lady, and, gentleman, ,, myna...   \n",
       "2  [Less, than, three, month, ago, at, platform, ...   \n",
       "3  [I, have, take, for, my, subject, ,, \", the, C...   \n",
       "4  [r., President, :, I, would, like, to, speak, ...   \n",
       "\n",
       "                                                 POS  \\\n",
       "0  [(PRON, PRP), (VERB, VBP), (PART, TO), (VERB, ...   \n",
       "1  [(PRON, PRP$), (PROPN, NNP), (PUNCT, ,), (NOUN...   \n",
       "2  [(ADJ, JJR), (ADP, IN), (NUM, CD), (NOUN, NNS)...   \n",
       "3  [(PRON, PRP), (AUX, VBP), (VERB, VBN), (ADP, I...   \n",
       "4  [(PROPN, NNP), (PROPN, NNP), (PUNCT, :), (PRON...   \n",
       "\n",
       "                                        Proper_Nouns  \\\n",
       "0  [Mills, College, Class, Greek, Greek, If, Gre...   \n",
       "1  [Honor, Elizabeth, Gurley, Flynn, Mr., Pettis,...   \n",
       "2  [Salt, Lake, City, Republican, Party, HIV, AID...   \n",
       "3  [Crisis, America, Hour, united, American, Civi...   \n",
       "4  [r., President, Americans, Legislative, Branch...   \n",
       "\n",
       "                                      Named_Entities  \\\n",
       "0  [DATE, NORP, NORP, NORP, DATE, PERSON, PERSON,...   \n",
       "1  [PERSON, PERSON, NORP, ORG, GPE, ORG, DATE, NO...   \n",
       "2  [DATE, GPE, ORG, TIME, CARDINAL, NORP, CARDINA...   \n",
       "3  [DATE, DATE, DATE, DATE, GPE, DATE, ORG, ORDIN...   \n",
       "4  [NORP, NORP, ORG, ORG, NORP, GPE, NORP, GPE, O...   \n",
       "\n",
       "                                            NE_Words  \n",
       "0  [(', 83), (Greek), (Greek), (Greek), (twelfth,...  \n",
       "1  [(Elizabeth, Gurley, Flynn), (Pettis, Perry), ...  \n",
       "2  [(Less, than, three, months, ago), (Salt, Lake...  \n",
       "3  [(today), (yesterday), (the, year, 1916), (the...  \n",
       "4  [(r.), (Americans), (the, Legislative, Branch)...  "
      ]
     },
     "execution_count": 159,
     "metadata": {},
     "output_type": "execute_result"
    }
   ],
   "source": [
    "# Define function to extract text tagged with named entities from doc objects\n",
    "def extract_named_entities(doc):\n",
    "    return [ent for ent in doc.ents]\n",
    "\n",
    "# Apply function to Doc column and store resulting text in new column\n",
    "women_speech['NE_Words'] = women_speech['Doc'].apply(extract_named_entities)\n",
    "women_speech.head()"
   ]
  },
  {
   "cell_type": "code",
   "execution_count": 172,
   "id": "c50d2baf-ed71-4767-88cb-9229cabeba1d",
   "metadata": {},
   "outputs": [],
   "source": [
    "# Save DataFrame as csv (in Google Drive)\n",
    "# Use this step only to save  csv to your computer's working directory\n",
    "women_speech.to_csv('women_speech_annotated.csv')"
   ]
  },
  {
   "cell_type": "markdown",
   "id": "8261555e-18cc-423b-b5ec-f48381f3b925",
   "metadata": {},
   "source": [
    "### ❓How frequently are different types of named entities mentioned in speeches? \n",
    "Which specific individuals (PERSON), organizations (ORG), nationalities or political groups (NORP), events (EVENT), and legal aspects (LAW) are most commonly referenced in these speeches? Are there any notable trends or patterns in the frequency of named entities over time? How do the frequencies of named entities vary across different female political leaders?"
   ]
  },
  {
   "cell_type": "markdown",
   "id": "96f21e7d-89d7-460a-8ed6-7907597a059e",
   "metadata": {},
   "source": [
    "The PERSON entities might reveal the prominent female figures discussed in the speeches, which allows us to understand the roles of influential women in American politics during that period.\n",
    "\n",
    "The ORG entities refer to the organizations and institutions mentioned in the speeches, which help to identify the political parties, advocacy groups, and other influential organizations that played a significant role in shaping the discourse and policies discussed by females.\n",
    "\n",
    "The NORP entities represent nationalities, ethnicities, or religious or political groups. It can provide insights into the diversity and inclusivity addressed in the speeches.\n",
    "\n",
    "The EVENT entities might highlight the significant historical events and political campaigns, which helps us understand the key historical issues related to gender equality.\n",
    "\n",
    "The LAW entities indicate the legal aspects in the speeches, providing insights into the efforts of female political leaders to aadvocate for female legal rights."
   ]
  },
  {
   "cell_type": "code",
   "execution_count": null,
   "id": "9693fa05-0f2a-4fbb-902a-2d9d6df1a8f7",
   "metadata": {},
   "outputs": [],
   "source": [
    "# Create new DataFrame for analysis purposes\n",
    "ner_analysis_df = women_speech[['Title','Year', \"Speaker\",'Named_Entities', 'NE_Words']]"
   ]
  },
  {
   "cell_type": "code",
   "execution_count": null,
   "id": "d292baa2-c9db-4e2f-93a0-260842fe82e7",
   "metadata": {},
   "outputs": [],
   "source": [
    "# Convert named entity lists to strings so we can count specific entities\n",
    "ner_analysis_df['Named_Entities'] = ner_analysis_df['Named_Entities'].apply(lambda x: ' '.join(x))\n",
    "\n",
    "# Get the number of each type of entity in each paper\n",
    "person_counts = ner_analysis_df['Named_Entities'].str.count('PERSON')\n",
    "institution_counts = ner_analysis_df['Named_Entities'].str.count('ORG')\n",
    "nation_politic_counts = ner_analysis_df['Named_Entities'].str.count('NORP')\n",
    "event_counts = ner_analysis_df['Named_Entities'].str.count('EVENT')\n",
    "law_counts = ner_analysis_df['Named_Entities'].str.count('LAW')\n",
    "\n",
    "\n",
    "# Append named entity counts to new DataFrame\n",
    "ner_counts_df = pd.DataFrame()\n",
    "ner_counts_df['Speaker'] = ner_analysis_df[\"Speaker\"]\n",
    "ner_counts_df['Year'] = ner_analysis_df[\"Year\"]\n",
    "ner_counts_df['PERSON_Counts'] = person_counts\n",
    "ner_counts_df['INSTITUTION_Counts'] = institution_counts\n",
    "ner_counts_df['NATION_Counts'] = nation_politic_counts\n",
    "ner_counts_df['EVENT_Counts'] = event_counts\n",
    "ner_counts_df['LAW_Counts'] = law_counts\n",
    "\n",
    "ner_counts_df"
   ]
  },
  {
   "cell_type": "code",
   "execution_count": null,
   "id": "8c2e51a1-1c60-4b25-83d9-c3c74cb76528",
   "metadata": {},
   "outputs": [],
   "source": [
    "# Calculate average usage of each named entity type\n",
    "average_ner_df = ner_counts_df.groupby(['Speaker']).mean()\n",
    "average_ner_df = average_ner_df.round(0)\n",
    "average_ner_df = average_ner_df.reset_index()\n",
    "average_ner_df\n",
    "\n",
    "# Use plotly to plot proper noun use per genre\n",
    "fig = px.bar(average_ner_df, x=\"Speaker\", y=[\"PERSON_Counts\", 'INSTITUTION_Counts', \"NATION_Counts\", 'EVENT_Counts', 'LAW_Counts'], title=\"Average Named Entity Usage Across Women Speeches\", barmode='group')\n",
    "fig.show()"
   ]
  },
  {
   "cell_type": "markdown",
   "id": "fb1df6e4-319f-41f9-8f0a-bc3594613d69",
   "metadata": {},
   "source": [
    "When comparing counts of named entities, longer speeches will generally have higher counts simply because they contain more text. However, this does not necessarily reflect the relative importance or emphasis placed on a particular named entity within a speech. Therefore, using ratios instead of counts allows for a more meaningful comparison of the frequency of named entities across speeches. By calculating ratios, we account for the length of each speech and normalize the entity counts accordingly. This allows us to compare the relative prominence of different named entities within each speech. "
   ]
  },
  {
   "cell_type": "code",
   "execution_count": null,
   "id": "602f9693-70fc-46be-8524-9d279ba32d2a",
   "metadata": {},
   "outputs": [],
   "source": [
    "# Get the length of speech\n",
    "speech_lengths = women_speech['Tokens'].apply(len)\n",
    "\n",
    "# Get the number of each type of entity in each paper\n",
    "person_counts = ner_analysis_df['Named_Entities'].str.count('PERSON')\n",
    "institution_counts = ner_analysis_df['Named_Entities'].str.count('ORG')\n",
    "nation_politic_counts = ner_analysis_df['Named_Entities'].str.count('NORP')\n",
    "event_counts = ner_analysis_df['Named_Entities'].str.count('EVENT')\n",
    "law_counts = ner_analysis_df['Named_Entities'].str.count('LAW')\n",
    "\n",
    "# Calculate entity ratios based on speech length\n",
    "person_ratios = person_counts / speech_lengths\n",
    "institution_ratios = institution_counts / speech_lengths\n",
    "nation_politic_ratios = nation_politic_counts / speech_lengths\n",
    "event_ratios = event_counts / speech_lengths\n",
    "law_ratios = law_counts / speech_lengths\n",
    "\n",
    "# Normalize entity ratios\n",
    "normalized_person_ratios = person_ratios / person_ratios.max()\n",
    "normalized_institution_ratios = institution_ratios / institution_ratios.max()\n",
    "normalized_nation_politic_ratios = nation_politic_ratios / nation_politic_ratios.max()\n",
    "normalized_event_ratios = event_ratios / event_ratios.max()\n",
    "normalized_law_ratios = law_ratios / law_ratios.max()\n",
    "\n",
    "# Append normalized ratios to DataFrame\n",
    "ner_counts_df['PERSON_Normalized_Ratios'] = normalized_person_ratios\n",
    "ner_counts_df['INSTITUTION_Normalized_Ratios'] = normalized_institution_ratios\n",
    "ner_counts_df['NATION_Normalized_Ratios'] = normalized_nation_politic_ratios\n",
    "ner_counts_df['EVENT_Normalized_Ratios'] = normalized_event_ratios\n",
    "ner_counts_df['LAW_Normalized_Ratios'] = normalized_law_ratios\n",
    "\n",
    "\n",
    "# Append named entity counts and ratios to new DataFrame\n",
    "ner_counts_df = pd.DataFrame()\n",
    "ner_counts_df['Speaker'] = ner_analysis_df[\"Speaker\"]\n",
    "ner_counts_df['Year'] = ner_analysis_df[\"Year\"]\n",
    "ner_counts_df['PERSON_Counts'] = person_counts\n",
    "ner_counts_df['PERSON_Ratios'] = normalized_person_ratios\n",
    "ner_counts_df['INSTITUTION_Counts'] = institution_counts\n",
    "ner_counts_df['INSTITUTION_Ratios'] = normalized_institution_ratios\n",
    "ner_counts_df['NATION_Counts'] = nation_politic_counts\n",
    "ner_counts_df['NATION_Ratios'] = normalized_nation_politic_ratios\n",
    "ner_counts_df['EVENT_Counts'] = event_counts\n",
    "ner_counts_df['EVENT_Ratios'] = normalized_event_ratios\n",
    "ner_counts_df['LAW_Counts'] = law_counts\n",
    "ner_counts_df['LAW_Ratios'] = normalized_law_ratios\n",
    "\n",
    "ner_counts_df"
   ]
  },
  {
   "cell_type": "code",
   "execution_count": null,
   "id": "8e064e7e-6821-4dec-a241-63972310d830",
   "metadata": {},
   "outputs": [],
   "source": [
    "fig = px.bar(ner_counts_df, x='Speaker', y=['PERSON_Ratios', 'INSTITUTION_Ratios', 'NATION_Ratios', 'EVENT_Ratios', 'LAW_Ratios'],\n",
    "                labels={'Speaker': 'Speaker', 'value': 'Ratio'}, title='Normalized Ratios of Entities by Speaker', barmode='group')\n",
    "fig.show()"
   ]
  },
  {
   "cell_type": "markdown",
   "id": "f8549203-f696-41ca-972f-f4ddeb99eae2",
   "metadata": {},
   "source": [
    "The PERSON and  INSTITUTION entity types were mentioned in most speeches but varied across different speakers. For example, speeches by Elizabeth Gurley Flynn had high counts and ratios for PERSON and INSTITUTION entities, indicating her focus on specific individuals and organizational dynamics. Other entity types also highly mentioned. Speeches by Barbara Charline Jordan have a high emphasis on EVENT entities, highlighting her engagement with significant events. Speeches by Margaret Chase Smith have a high emphasis on NATION entities, suggesting that she might have been discussing topics related to nationalities and political groups. LAW entity mentioned frequently in speeched by Eleanor Roosevelt and Barbara Charline Jordan, indicating their focus on legal issues. "
   ]
  },
  {
   "cell_type": "code",
   "execution_count": null,
   "id": "da8aadec-2796-4004-989e-95b47fd06f47",
   "metadata": {},
   "outputs": [],
   "source": [
    "fig = px.bar(ner_counts_df, x='Year', y=['PERSON_Ratios', 'INSTITUTION_Ratios', 'NATION_Ratios', 'EVENT_Ratios', 'LAW_Ratios'],\n",
    "                labels={'Year': 'Year', 'value': 'Ratio'}, title='Normalized Ratios of Entities by Year')\n",
    "fig.show()"
   ]
  },
  {
   "cell_type": "markdown",
   "id": "4e5d33e3-e465-4203-affb-737070eafed7",
   "metadata": {},
   "source": [
    "There has been a shift in the frequency of PERSON entity in speeches over time. While during the beginning of the 20th century, speeches frequently mentioned the entity type PERSON, since 1975, and particularly during the 1990s, the PERSON became the most mentioned. While during the beginning of the 20th century, speeches frequently mentioned the entity type PERSON, since 1975, and particularly during the 1990s, the PERSON became the most mentioned. The mention of NATION being most frequent in during the 1950s suggests that there was a particular focus on national matters during that time period. The 1950s marked a period of significant political changes. It was a time of post-World War II reconstruction and the beginning of the Cold War, which might lead to a greater emphasis on national identity, and political decisions."
   ]
  },
  {
   "cell_type": "markdown",
   "id": "35acce70-dde5-4882-8609-e3a6061da4bf",
   "metadata": {},
   "source": [
    "### Extract specific named entities "
   ]
  },
  {
   "cell_type": "code",
   "execution_count": null,
   "id": "1475bed2-7ea8-4384-bf61-f593898899bf",
   "metadata": {},
   "outputs": [],
   "source": [
    "# Define function to extract words tagged as \"PERSON\" named entities from doc objects\n",
    "def extract_person_named_entities(doc):\n",
    "    return [ent for ent in doc.ents if ent.label_ == 'PERSON']\n",
    "\n",
    "# Get all PERSON entity words and apply to new column of DataFrame\n",
    "ner_analysis_df['PERSON_Named_Entities'] = women_speech['Doc'].apply(extract_person_named_entities)\n",
    "\n",
    "\n",
    "# Make list of PERSON entities a string so we can count their frequencies\n",
    "ner_analysis_df['PERSON_Named_Entities'] = [', '.join(map(str, l)) for l in ner_analysis_df['PERSON_Named_Entities']]"
   ]
  },
  {
   "cell_type": "code",
   "execution_count": null,
   "id": "603eb3ff-0210-42ef-be25-b992b7f9687e",
   "metadata": {},
   "outputs": [],
   "source": [
    "# Define function to extract words tagged as \"NATION\" named entities from doc objects\n",
    "def extract_NATION_named_entities(doc):\n",
    "    return [ent for ent in doc.ents if ent.label_ == 'NORP']\n",
    "\n",
    "# Get all NATION entity words and apply to new column of DataFrame\n",
    "ner_analysis_df['NORP_Named_Entities'] = women_speech['Doc'].apply(extract_NATION_named_entities)\n",
    "\n",
    "\n",
    "# Make list of NATION entities a string so we can count their frequencies\n",
    "ner_analysis_df['NORP_Named_Entities'] = [', '.join(map(str, l)) for l in ner_analysis_df['NORP_Named_Entities']]"
   ]
  },
  {
   "cell_type": "code",
   "execution_count": null,
   "id": "eef795b5-d90a-4b91-a172-2f4fee63b5fe",
   "metadata": {},
   "outputs": [],
   "source": [
    "# Define function to extract words tagged as \"EVENT\" named entities from doc objects\n",
    "def extract_event_named_entities(doc):\n",
    "    return [ent for ent in doc.ents if ent.label_ == 'EVENT']\n",
    "\n",
    "# Get all EVENT entity words and apply to new column of DataFrame\n",
    "ner_analysis_df['EVENT_Named_Entities'] = women_speech['Doc'].apply(extract_event_named_entities)\n",
    "\n",
    "\n",
    "# Make list of EVENT entities a string so we can count their frequencies\n",
    "ner_analysis_df['EVENT_Named_Entities'] = [', '.join(map(str, l)) for l in ner_analysis_df['EVENT_Named_Entities']]"
   ]
  },
  {
   "cell_type": "code",
   "execution_count": null,
   "id": "d7f05853-4777-405c-8021-ac5dd3679a80",
   "metadata": {},
   "outputs": [],
   "source": [
    "# Define function to extract words tagged as \"LAW\" named entities from doc objects\n",
    "def extract_law_named_entities(doc):\n",
    "    return [ent for ent in doc.ents if ent.label_ == 'LAW']\n",
    "\n",
    "# Get all LAW entity words and apply to new column of DataFrame\n",
    "ner_analysis_df['LAW_Named_Entities'] = women_speech['Doc'].apply(extract_event_named_entities)\n",
    "\n",
    "\n",
    "# Make list of LAW entities a string so we can count their frequencies\n",
    "ner_analysis_df['LAW_Named_Entities'] = [', '.join(map(str, l)) for l in ner_analysis_df['LAW_Named_Entities']]"
   ]
  },
  {
   "cell_type": "code",
   "execution_count": null,
   "id": "c83cbf39-f7be-4d2f-9ea5-532471f04183",
   "metadata": {},
   "outputs": [],
   "source": [
    "ner_analysis_df.head(2)"
   ]
  },
  {
   "cell_type": "markdown",
   "id": "1f28f0f4-20a9-48de-a950-86447ab3bc80",
   "metadata": {},
   "source": [
    "### ❓What are most common words of specifc named entities mentioned in speeches by certain speakers or years? "
   ]
  },
  {
   "cell_type": "code",
   "execution_count": null,
   "id": "c57be08d-8703-47e9-8d7b-f9750ecb03b5",
   "metadata": {},
   "outputs": [],
   "source": [
    "# Search for only PERSON words in Elizabeth Gurley Flynn's speech\n",
    "person_word_counts_df = ner_analysis_df[(ner_analysis_df == 'Elizabeth Gurley Flynn').any(axis=1)]\n",
    "\n",
    "# Count the frequency of each word and append to list\n",
    "person_word_frequencies = person_word_counts_df.PERSON_Named_Entities.str.split(expand=True).stack().value_counts()\n",
    "\n",
    "# Get the most common words and their frequencies\n",
    "person_word_frequencies.head(10)"
   ]
  },
  {
   "cell_type": "code",
   "execution_count": null,
   "id": "f7dc87d2-48a5-47e8-8498-4f2ae8434094",
   "metadata": {},
   "outputs": [],
   "source": [
    "# Filter rows that contain the year 1917\n",
    "year_filtered_df = ner_analysis_df[ner_analysis_df['Year'] == 1917]\n",
    "\n",
    "# Count the frequency of each word in the filtered data and append to list\n",
    "person_word_frequencies = year_filtered_df.PERSON_Named_Entities.str.split(expand=True).stack().value_counts()\n",
    "\n",
    "# Get the most common words and their frequencies\n",
    "person_word_frequencies.head()"
   ]
  },
  {
   "cell_type": "code",
   "execution_count": null,
   "id": "2205691c-9199-4618-8d78-982bec3a5965",
   "metadata": {},
   "outputs": [],
   "source": [
    "# Filter rows that contain the year \"1991\"\n",
    "year_filtered_df = ner_analysis_df[ner_analysis_df['Year'] == 1991]\n",
    "\n",
    "# Count the frequency of each word in the filtered data and append to list\n",
    "person_word_frequencies = year_filtered_df.PERSON_Named_Entities.str.split(expand=True).stack().value_counts()\n",
    "\n",
    "# Get the most common words and their frequencies\n",
    "person_word_frequencies.head()"
   ]
  },
  {
   "cell_type": "code",
   "execution_count": null,
   "id": "6245d52d-135d-4495-878e-02f6f6746277",
   "metadata": {},
   "outputs": [],
   "source": [
    "# Filter rows that contain the year 1948\n",
    "year_filtered_df = ner_analysis_df[ner_analysis_df['Year'] == 1948]\n",
    "\n",
    "# Count the frequency of each word in the filtered data and append to list\n",
    "nation_word_frequencies = year_filtered_df.NORP_Named_Entities.str.split(expand=True).stack().value_counts()\n",
    "\n",
    "# Get the most common words and their frequencies\n",
    "nation_word_frequencies.head()"
   ]
  },
  {
   "cell_type": "markdown",
   "id": "ffa54a66-3aa8-4460-b662-b20d3786b247",
   "metadata": {},
   "source": [
    "\"Soviet\" appears the most frequently, suggesting that Soviet Union was mentioned frequently in the speeches from the year 1948. The words \"Communist,\" \"French,\" \"Nazi,\" and \"thetotalitarian\" also highly mentioned. This indicates that the year 1948 may have been a significant year in terms of political events related to Soviet Union, communism, and possibly specific countries like France and Germany (as indicated by \"French\" and \"Nazi\"). This was also a discussion of totalitarianism. "
   ]
  },
  {
   "cell_type": "code",
   "execution_count": null,
   "id": "02c5b0f5-2988-433f-ab78-227c4ff73c28",
   "metadata": {},
   "outputs": [],
   "source": [
    "# Search for only event words in speeches by Barbara Charline Jordan\n",
    "event_word_counts_df = ner_analysis_df[(ner_analysis_df == 'Barbara Charline Jordan').any(axis=1)]\n",
    "\n",
    "# Count the frequency of each word and append to list\n",
    "event_word_frequencies = event_word_counts_df.EVENT_Named_Entities.str.split(expand=True).stack().value_counts()\n",
    "\n",
    "# Get the most common words and their frequencies\n",
    "event_word_frequencies"
   ]
  },
  {
   "cell_type": "markdown",
   "id": "0f82e863-264e-4719-bfb7-9b4275be64c7",
   "metadata": {},
   "source": [
    "Watergate scandal and the Federalist papers were highly mentioned in speeches by Barbara Charline Jordan, indicating that she was actively engaged in discussing these significant political events. The Watergate scandal was a major political event that occurred in the early 1970s, related to President Richard Nixon's resignation. Federalist Papers were also mentioned frequently. These papers shaped the United States Constitution. This indicates that Jordan might used these historical documents to support her arguments."
   ]
  },
  {
   "cell_type": "markdown",
   "id": "3ba98c9d-75fa-4d33-8ea8-614fbbfea997",
   "metadata": {},
   "source": [
    "## Contextual analysis"
   ]
  },
  {
   "cell_type": "code",
   "execution_count": null,
   "id": "406f46ee-a333-4756-b1a9-df8ba5f5585e",
   "metadata": {},
   "outputs": [],
   "source": [
    "# Extract the first Doc object\n",
    "doc = women_speech['Doc'][8]\n",
    "\n",
    "# Visualize named entity tagging in a single paper\n",
    "displacy.render(doc, style='ent', jupyter=True)"
   ]
  },
  {
   "cell_type": "code",
   "execution_count": null,
   "id": "e48aeb70-f129-4b10-8432-8bdd5aa56f08",
   "metadata": {},
   "outputs": [],
   "source": []
  }
 ],
 "metadata": {
  "kernelspec": {
   "display_name": "Python 3 (ipykernel)",
   "language": "python",
   "name": "python3"
  },
  "language_info": {
   "codemirror_mode": {
    "name": "ipython",
    "version": 3
   },
   "file_extension": ".py",
   "mimetype": "text/x-python",
   "name": "python",
   "nbconvert_exporter": "python",
   "pygments_lexer": "ipython3",
   "version": "3.11.5"
  }
 },
 "nbformat": 4,
 "nbformat_minor": 5
}
